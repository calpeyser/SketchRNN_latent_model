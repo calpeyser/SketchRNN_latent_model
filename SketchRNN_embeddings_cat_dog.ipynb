{
 "cells": [
  {
   "cell_type": "code",
   "execution_count": 6,
   "metadata": {},
   "outputs": [],
   "source": [
    "# import the required libraries\n",
    "import numpy as np\n",
    "import time\n",
    "import random\n",
    "import cPickle\n",
    "import codecs\n",
    "import collections\n",
    "import os\n",
    "import math\n",
    "import json\n",
    "import tensorflow as tf\n",
    "from six.moves import xrange\n",
    "import pickle\n",
    "\n",
    "# libraries required for visualisation:\n",
    "from IPython.display import SVG, display\n",
    "import svgwrite # conda install -c omnia svgwrite=1.1.6\n",
    "import PIL\n",
    "from PIL import Image\n",
    "import matplotlib.pyplot as plt\n",
    "\n",
    "# set numpy output to something sensible\n",
    "np.set_printoptions(precision=8, edgeitems=6, linewidth=200, suppress=True)\n",
    "\n",
    "from magenta.models.sketch_rnn.sketch_rnn_train import *\n",
    "from magenta.models.sketch_rnn.model import *\n",
    "from magenta.models.sketch_rnn.utils import *\n",
    "from magenta.models.sketch_rnn.rnn import *"
   ]
  },
  {
   "cell_type": "code",
   "execution_count": 2,
   "metadata": {},
   "outputs": [
    {
     "name": "stdout",
     "output_type": "stream",
     "text": [
      "INFO:tensorflow:TensorFlow Version: 1.2.1\n"
     ]
    }
   ],
   "source": [
    "tf.logging.info(\"TensorFlow Version: %s\", tf.__version__)\n",
    "# little function that displays vector images and saves them to .svg\n",
    "def draw_strokes(data, factor=0.2, svg_filename = 'home/calpeyser/sketch/svg/sample.svg'):\n",
    "  tf.gfile.MakeDirs(os.path.dirname(svg_filename))\n",
    "  min_x, max_x, min_y, max_y = get_bounds(data, factor)\n",
    "  dims = (50 + max_x - min_x, 50 + max_y - min_y)\n",
    "  dwg = svgwrite.Drawing(svg_filename, size=dims)\n",
    "  dwg.add(dwg.rect(insert=(0, 0), size=dims,fill='white'))\n",
    "  lift_pen = 1\n",
    "  abs_x = 25 - min_x \n",
    "  abs_y = 25 - min_y\n",
    "  p = \"M%s,%s \" % (abs_x, abs_y)\n",
    "  command = \"m\"\n",
    "  for i in xrange(len(data)):\n",
    "    if (lift_pen == 1):\n",
    "      command = \"m\"\n",
    "    elif (command != \"l\"):\n",
    "      command = \"l\"\n",
    "    else:\n",
    "      command = \"\"\n",
    "    x = float(data[i,0])/factor\n",
    "    y = float(data[i,1])/factor\n",
    "    lift_pen = data[i, 2]\n",
    "    p += command+str(x)+\",\"+str(y)+\" \"\n",
    "  the_color = \"black\"\n",
    "  stroke_width = 1\n",
    "  dwg.add(dwg.path(p).stroke(the_color,stroke_width).fill(\"none\"))\n",
    "  dwg.save()\n",
    "  #display(SVG(dwg.tostring()))\n",
    "\n",
    "# generate a 2D grid of many vector drawings\n",
    "def make_grid_svg(s_list, grid_space=10.0, grid_space_x=16.0):\n",
    "  def get_start_and_end(x):\n",
    "    x = np.array(x)\n",
    "    x = x[:, 0:2]\n",
    "    x_start = x[0]\n",
    "    x_end = x.sum(axis=0)\n",
    "    x = x.cumsum(axis=0)\n",
    "    x_max = x.max(axis=0)\n",
    "    x_min = x.min(axis=0)\n",
    "    center_loc = (x_max+x_min)*0.5\n",
    "    return x_start-center_loc, x_end\n",
    "  x_pos = 0.0\n",
    "  y_pos = 0.0\n",
    "  result = [[x_pos, y_pos, 1]]\n",
    "  for sample in s_list:\n",
    "    s = sample[0]\n",
    "    grid_loc = sample[1]\n",
    "    grid_y = grid_loc[0]*grid_space+grid_space*0.5\n",
    "    grid_x = grid_loc[1]*grid_space_x+grid_space_x*0.5\n",
    "    start_loc, delta_pos = get_start_and_end(s)\n",
    "\n",
    "    loc_x = start_loc[0]\n",
    "    loc_y = start_loc[1]\n",
    "    new_x_pos = grid_x+loc_x\n",
    "    new_y_pos = grid_y+loc_y\n",
    "    result.append([new_x_pos-x_pos, new_y_pos-y_pos, 0])\n",
    "\n",
    "    result += s.tolist()\n",
    "    result[-1][2] = 1\n",
    "    x_pos = new_x_pos+delta_pos[0]\n",
    "    y_pos = new_y_pos+delta_pos[1]\n",
    "  return np.array(result)\n",
    "\n",
    "cat_model_dir = \"/home/calpeyser/checkpoints/cat/\"\n",
    "dog_model_dir = \"/home/calpeyser/checkpoints/dog/\"\n",
    "cat_data_dir = \"/home/calpeyser/sketch/data/cat/\"\n",
    "dog_data_dir = \"/home/calpeyser/sketch/data/dog/\"\n",
    "flam_model_dir = \"/home/calpeyser/sketch/models/flamingo/lstm_uncond\"\n",
    "flam_data_dir = \"/home/calpeyser/sketch/data/flamingo/\"\n"
   ]
  },
  {
   "cell_type": "code",
   "execution_count": 3,
   "metadata": {},
   "outputs": [
    {
     "name": "stdout",
     "output_type": "stream",
     "text": [
      "INFO:tensorflow:Loaded 70000/2500/2500 from extended_flamingo.npz\n",
      "INFO:tensorflow:Dataset combined: 75000 (70000/2500/2500), avg len 51\n",
      "INFO:tensorflow:model_params.max_seq_len 91.\n",
      "total images <= max_seq_len is 70000\n",
      "total images <= max_seq_len is 2500\n",
      "total images <= max_seq_len is 2500\n",
      "INFO:tensorflow:normalizing_scale_factor 44.1712.\n",
      "INFO:tensorflow:Model using gpu.\n",
      "INFO:tensorflow:Input dropout mode = 0.\n",
      "INFO:tensorflow:Output dropout mode = 0.\n",
      "INFO:tensorflow:Recurrent dropout mode = 0.\n",
      "INFO:tensorflow:Model using gpu.\n",
      "INFO:tensorflow:Input dropout mode = 0.\n",
      "INFO:tensorflow:Output dropout mode = 0.\n",
      "INFO:tensorflow:Recurrent dropout mode = 0.\n"
     ]
    }
   ],
   "source": [
    "\n",
    "[cat_train_set, cat_valid_set, cat_test_set, cat_hps_model, cat_eval_hps_model, cat_sample_hps_model] = load_env(cat_data_dir, cat_model_dir)\n",
    "cat_eval_model = Model(cat_eval_hps_model, reuse=False)\n",
    "cat_sample_model = Model(cat_sample_hps_model, reuse=True)\n",
    "[dog_train_set, dog_valid_set, dog_test_set, dog_hps_model, dog_eval_hps_model, dog_sample_hps_model] = load_env(dog_data_dir, dog_model_dir)\n",
    "dog_eval_model = Model(dog_eval_hps_model, reuse=True)\n",
    "dog_sample_model = Model(dog_sample_hps_model, reuse=True)\n",
    "\n",
    "\n",
    "sess = tf.Session()\n",
    "sess.run(tf.global_variables_initializer())"
   ]
  },
  {
   "cell_type": "code",
   "execution_count": 4,
   "metadata": {},
   "outputs": [],
   "source": [
    "def encode(eval_model, input_strokes, max_len=129):\n",
    "  strokes = to_big_strokes(input_strokes, max_len=max_len).tolist()\n",
    "  strokes.insert(0, [0, 0, 1, 0, 0])\n",
    "  seq_len = [len(input_strokes)]\n",
    "  #draw_strokes(to_normal_strokes(np.array(strokes)))\n",
    "  return sess.run(eval_model.batch_z, feed_dict={eval_model.input_data: [strokes], eval_model.sequence_lengths: seq_len})[0]\n",
    "def decode(eval_model, sample_model, z_input=None, draw_mode=True, temperature=0.1, factor=0.2):\n",
    "  z = None\n",
    "  if z_input is not None:\n",
    "    z = [z_input]\n",
    "  sample_strokes, m = sample(sess, sample_model, seq_len=eval_model.hps.max_seq_len, temperature=temperature, z=z)\n",
    "  strokes = to_normal_strokes(sample_strokes)\n",
    "  return strokes"
   ]
  },
  {
   "cell_type": "code",
   "execution_count": null,
   "metadata": {},
   "outputs": [],
   "source": [
    "load_checkpoint(sess, cat_model_dir)\n",
    "cat = cat_test_set.random_sample()\n",
    "print(cat.shape)\n",
    "encoding = encode(cat_eval_model, cat)\n",
    "decoding = decode(cat_eval_model, cat_sample_model, encoding)\n",
    "\n",
    "draw_strokes(cat)\n",
    "print(encoding)\n",
    "draw_strokes(decoding)\n",
    " "
   ]
  },
  {
   "cell_type": "code",
   "execution_count": 5,
   "metadata": {},
   "outputs": [
    {
     "name": "stdout",
     "output_type": "stream",
     "text": [
      "0\n",
      "100\n",
      "200\n",
      "300\n",
      "400\n",
      "500\n",
      "600\n",
      "700\n",
      "800\n",
      "900\n"
     ]
    }
   ],
   "source": [
    "# Generate dataset\n",
    "for i in range(1000):\n",
    "    draw_strokes(cat_train_set.strokes[i], svg_filename=\"/home/calpeyser/sketch/sketches/cat/\" + str(i) + \".svg\")\n",
    "    if (i % 100 == 0):\n",
    "        print(i)"
   ]
  },
  {
   "cell_type": "code",
   "execution_count": 26,
   "metadata": {},
   "outputs": [
    {
     "name": "stdout",
     "output_type": "stream",
     "text": [
      "INFO:tensorflow:Loading model /home/calpeyser/checkpoints/cat/vector-44500.\n",
      "INFO:tensorflow:Restoring parameters from /home/calpeyser/checkpoints/cat/vector-44500\n",
      "INFO:tensorflow:Loading model /home/calpeyser/checkpoints/dog/vector-39500.\n",
      "INFO:tensorflow:Restoring parameters from /home/calpeyser/checkpoints/dog/vector-39500\n"
     ]
    }
   ],
   "source": [
    "# Obtain traning data from manually labeled dataset\n",
    "labels = [(264,432),\n",
    "(278,441),\n",
    "(528,196),\n",
    "(517,311),\n",
    "(525,281),\n",
    "(642,441),\n",
    "(651,345),\n",
    "(531,383),\n",
    "(533,381),\n",
    "(618,432),\n",
    "(814,511),\n",
    "(839,378),\n",
    "(565,443),\n",
    "(553,505),\n",
    "(706,641),\n",
    "(913,0),\n",
    "(137,1),\n",
    "(251,2),\n",
    "(711,8),\n",
    "(243,230),\n",
    "(451,220),\n",
    "(832,632),\n",
    "(984,307),\n",
    "(944,352),\n",
    "(593,307),\n",
    "(21,389)]\n",
    "\n",
    "\"\"\"\n",
    "category_labels = {\n",
    "    \"cat\": {\n",
    "        \"no_features\": [3,4,17,23,65,66,106,152,205,236,239,240,304,322,325,344,369,381,382,394],\n",
    "        \"features\": [2,7,8,9,10,15,16,19,20,26,28,30,35,46,188,204,208,228,434,657],\n",
    "        \"body\": [12,21,177,112,332,659,714,697,0,1,129,696,552,659,692,781,787,833,866,944],\n",
    "    },\n",
    "    \"dog\": {\n",
    "        \"no_features\": [49,64,205,221,222,248,282,283,378,425,441,443,459,500,613,607,619,713,747,791],\n",
    "        \"features\": [3,26,41,73,92,167,177,196,311,329,383,398,587,639,689,743,787,792,829,877],\n",
    "        \"body\": [0,1,2,8,9,11,337,343,352,364,367,388,446,467,479,492,494,504,518,552],\n",
    "    }\n",
    "}\n",
    "\"\"\"\n",
    "category_labels = {\n",
    "    \"cat\": {\n",
    "        \"whiskers\": [16,25,34,51,53,80,82,130,156,192,291,292,305,327,333,375,417,422,440,478,489,577,594,654,704,898,940,957],\n",
    "        \"no_whiskers\": [3,4,17,19,23,29,33,65,66,90,106,114,152,186,218,228,253,278,279,283,284,288,290,295,296,335,338,334,360,369],\n",
    "    },\n",
    "    \"dog\": {\n",
    "        \"body\": [0,1,2,8,9,11,337,343,352,364,367,388,446,467,479,492,494,504,518,552],\n",
    "        \"face\": [49,64,205,221,222,248,282,283,378,425,3,26,41,73,92,167,177,196,311],\n",
    "    }\n",
    "}\n",
    "\n",
    "# load cat model, map sketches onto embeddings\n",
    "load_checkpoint(sess, cat_model_dir)\n",
    "labels = [(encode(cat_eval_model, cat_train_set.strokes[label[0]]), label[1]) for label in labels]\n",
    "\n",
    "category_labels[\"cat\"][\"whiskers\"] = [encode(cat_eval_model, cat_train_set.strokes[i]) for i in category_labels[\"cat\"][\"whiskers\"]]\n",
    "category_labels[\"cat\"][\"no_whiskers\"] = [encode(cat_eval_model, cat_train_set.strokes[i]) for i in category_labels[\"cat\"][\"no_whiskers\"]]\n",
    "\n",
    "\n",
    "# load dog model, map sketches onto embeddings\n",
    "load_checkpoint(sess, dog_model_dir)\n",
    "labels = [(label[0], encode(dog_eval_model, dog_train_set.strokes[label[1]], max_len=133)) for label in labels]\n",
    "\n",
    "category_labels[\"dog\"][\"face\"] = [encode(dog_eval_model, dog_train_set.strokes[i], max_len=133) for i in category_labels[\"dog\"][\"face\"]]\n",
    "category_labels[\"dog\"][\"body\"] = [encode(dog_eval_model, dog_train_set.strokes[i], max_len=133) for i in category_labels[\"dog\"][\"body\"]]\n"
   ]
  },
  {
   "cell_type": "code",
   "execution_count": 6,
   "metadata": {},
   "outputs": [
    {
     "name": "stdout",
     "output_type": "stream",
     "text": [
      "INFO:tensorflow:Loading model /home/calpeyser/checkpoints/cat/vector-44500.\n",
      "INFO:tensorflow:Restoring parameters from /home/calpeyser/checkpoints/cat/vector-44500\n"
     ]
    },
    {
     "ename": "KeyboardInterrupt",
     "evalue": "",
     "output_type": "error",
     "traceback": [
      "\u001b[0;31m---------------------------------------------------------------------------\u001b[0m",
      "\u001b[0;31mKeyboardInterrupt\u001b[0m                         Traceback (most recent call last)",
      "\u001b[0;32m<ipython-input-6-949510dfb8dd>\u001b[0m in \u001b[0;36m<module>\u001b[0;34m()\u001b[0m\n\u001b[1;32m      6\u001b[0m \u001b[0mload_checkpoint\u001b[0m\u001b[0;34m(\u001b[0m\u001b[0msess\u001b[0m\u001b[0;34m,\u001b[0m \u001b[0mcat_model_dir\u001b[0m\u001b[0;34m)\u001b[0m\u001b[0;34m\u001b[0m\u001b[0m\n\u001b[1;32m      7\u001b[0m \u001b[0;32mfor\u001b[0m \u001b[0mcat\u001b[0m \u001b[0;32min\u001b[0m \u001b[0mcategory_labels\u001b[0m\u001b[0;34m[\u001b[0m\u001b[0;34m\"cat\"\u001b[0m\u001b[0;34m]\u001b[0m\u001b[0;34m[\u001b[0m\u001b[0;34m\"no_features\"\u001b[0m\u001b[0;34m]\u001b[0m\u001b[0;34m:\u001b[0m\u001b[0;34m\u001b[0m\u001b[0m\n\u001b[0;32m----> 8\u001b[0;31m     \u001b[0mdecoding\u001b[0m \u001b[0;34m=\u001b[0m \u001b[0mdecode\u001b[0m\u001b[0;34m(\u001b[0m\u001b[0mcat_eval_model\u001b[0m\u001b[0;34m,\u001b[0m \u001b[0mcat_sample_model\u001b[0m\u001b[0;34m,\u001b[0m \u001b[0mcat\u001b[0m\u001b[0;34m)\u001b[0m\u001b[0;34m\u001b[0m\u001b[0m\n\u001b[0m\u001b[1;32m      9\u001b[0m     \u001b[0mcats\u001b[0m\u001b[0;34m.\u001b[0m\u001b[0mappend\u001b[0m\u001b[0;34m(\u001b[0m\u001b[0mdecoding\u001b[0m\u001b[0;34m)\u001b[0m\u001b[0;34m\u001b[0m\u001b[0m\n\u001b[1;32m     10\u001b[0m \u001b[0;34m\u001b[0m\u001b[0m\n",
      "\u001b[0;32m<ipython-input-4-67d3c4f1147d>\u001b[0m in \u001b[0;36mdecode\u001b[0;34m(eval_model, sample_model, z_input, draw_mode, temperature, factor)\u001b[0m\n\u001b[1;32m      9\u001b[0m   \u001b[0;32mif\u001b[0m \u001b[0mz_input\u001b[0m \u001b[0;32mis\u001b[0m \u001b[0;32mnot\u001b[0m \u001b[0mNone\u001b[0m\u001b[0;34m:\u001b[0m\u001b[0;34m\u001b[0m\u001b[0m\n\u001b[1;32m     10\u001b[0m     \u001b[0mz\u001b[0m \u001b[0;34m=\u001b[0m \u001b[0;34m[\u001b[0m\u001b[0mz_input\u001b[0m\u001b[0;34m]\u001b[0m\u001b[0;34m\u001b[0m\u001b[0m\n\u001b[0;32m---> 11\u001b[0;31m   \u001b[0msample_strokes\u001b[0m\u001b[0;34m,\u001b[0m \u001b[0mm\u001b[0m \u001b[0;34m=\u001b[0m \u001b[0msample\u001b[0m\u001b[0;34m(\u001b[0m\u001b[0msess\u001b[0m\u001b[0;34m,\u001b[0m \u001b[0msample_model\u001b[0m\u001b[0;34m,\u001b[0m \u001b[0mseq_len\u001b[0m\u001b[0;34m=\u001b[0m\u001b[0meval_model\u001b[0m\u001b[0;34m.\u001b[0m\u001b[0mhps\u001b[0m\u001b[0;34m.\u001b[0m\u001b[0mmax_seq_len\u001b[0m\u001b[0;34m,\u001b[0m \u001b[0mtemperature\u001b[0m\u001b[0;34m=\u001b[0m\u001b[0mtemperature\u001b[0m\u001b[0;34m,\u001b[0m \u001b[0mz\u001b[0m\u001b[0;34m=\u001b[0m\u001b[0mz\u001b[0m\u001b[0;34m)\u001b[0m\u001b[0;34m\u001b[0m\u001b[0m\n\u001b[0m\u001b[1;32m     12\u001b[0m   \u001b[0mstrokes\u001b[0m \u001b[0;34m=\u001b[0m \u001b[0mto_normal_strokes\u001b[0m\u001b[0;34m(\u001b[0m\u001b[0msample_strokes\u001b[0m\u001b[0;34m)\u001b[0m\u001b[0;34m\u001b[0m\u001b[0m\n\u001b[1;32m     13\u001b[0m   \u001b[0;32mreturn\u001b[0m \u001b[0mstrokes\u001b[0m\u001b[0;34m\u001b[0m\u001b[0m\n",
      "\u001b[0;32m/home/calpeyser/miniconda2/envs/magenta/lib/python2.7/site-packages/magenta/models/sketch_rnn/model.pyc\u001b[0m in \u001b[0;36msample\u001b[0;34m(sess, model, seq_len, temperature, greedy_mode, z)\u001b[0m\n\u001b[1;32m    430\u001b[0m         \u001b[0mmodel\u001b[0m\u001b[0;34m.\u001b[0m\u001b[0mpi\u001b[0m\u001b[0;34m,\u001b[0m \u001b[0mmodel\u001b[0m\u001b[0;34m.\u001b[0m\u001b[0mmu1\u001b[0m\u001b[0;34m,\u001b[0m \u001b[0mmodel\u001b[0m\u001b[0;34m.\u001b[0m\u001b[0mmu2\u001b[0m\u001b[0;34m,\u001b[0m \u001b[0mmodel\u001b[0m\u001b[0;34m.\u001b[0m\u001b[0msigma1\u001b[0m\u001b[0;34m,\u001b[0m \u001b[0mmodel\u001b[0m\u001b[0;34m.\u001b[0m\u001b[0msigma2\u001b[0m\u001b[0;34m,\u001b[0m \u001b[0mmodel\u001b[0m\u001b[0;34m.\u001b[0m\u001b[0mcorr\u001b[0m\u001b[0;34m,\u001b[0m\u001b[0;34m\u001b[0m\u001b[0m\n\u001b[1;32m    431\u001b[0m         \u001b[0mmodel\u001b[0m\u001b[0;34m.\u001b[0m\u001b[0mpen\u001b[0m\u001b[0;34m,\u001b[0m \u001b[0mmodel\u001b[0m\u001b[0;34m.\u001b[0m\u001b[0mfinal_state\u001b[0m\u001b[0;34m\u001b[0m\u001b[0m\n\u001b[0;32m--> 432\u001b[0;31m     ], feed)\n\u001b[0m\u001b[1;32m    433\u001b[0m \u001b[0;34m\u001b[0m\u001b[0m\n\u001b[1;32m    434\u001b[0m     \u001b[0;34m[\u001b[0m\u001b[0mo_pi\u001b[0m\u001b[0;34m,\u001b[0m \u001b[0mo_mu1\u001b[0m\u001b[0;34m,\u001b[0m \u001b[0mo_mu2\u001b[0m\u001b[0;34m,\u001b[0m \u001b[0mo_sigma1\u001b[0m\u001b[0;34m,\u001b[0m \u001b[0mo_sigma2\u001b[0m\u001b[0;34m,\u001b[0m \u001b[0mo_corr\u001b[0m\u001b[0;34m,\u001b[0m \u001b[0mo_pen\u001b[0m\u001b[0;34m,\u001b[0m \u001b[0mnext_state\u001b[0m\u001b[0;34m]\u001b[0m \u001b[0;34m=\u001b[0m \u001b[0mparams\u001b[0m\u001b[0;34m\u001b[0m\u001b[0m\n",
      "\u001b[0;32m/home/calpeyser/miniconda2/envs/magenta/lib/python2.7/site-packages/tensorflow/python/client/session.pyc\u001b[0m in \u001b[0;36mrun\u001b[0;34m(self, fetches, feed_dict, options, run_metadata)\u001b[0m\n\u001b[1;32m    787\u001b[0m     \u001b[0;32mtry\u001b[0m\u001b[0;34m:\u001b[0m\u001b[0;34m\u001b[0m\u001b[0m\n\u001b[1;32m    788\u001b[0m       result = self._run(None, fetches, feed_dict, options_ptr,\n\u001b[0;32m--> 789\u001b[0;31m                          run_metadata_ptr)\n\u001b[0m\u001b[1;32m    790\u001b[0m       \u001b[0;32mif\u001b[0m \u001b[0mrun_metadata\u001b[0m\u001b[0;34m:\u001b[0m\u001b[0;34m\u001b[0m\u001b[0m\n\u001b[1;32m    791\u001b[0m         \u001b[0mproto_data\u001b[0m \u001b[0;34m=\u001b[0m \u001b[0mtf_session\u001b[0m\u001b[0;34m.\u001b[0m\u001b[0mTF_GetBuffer\u001b[0m\u001b[0;34m(\u001b[0m\u001b[0mrun_metadata_ptr\u001b[0m\u001b[0;34m)\u001b[0m\u001b[0;34m\u001b[0m\u001b[0m\n",
      "\u001b[0;32m/home/calpeyser/miniconda2/envs/magenta/lib/python2.7/site-packages/tensorflow/python/client/session.pyc\u001b[0m in \u001b[0;36m_run\u001b[0;34m(self, handle, fetches, feed_dict, options, run_metadata)\u001b[0m\n\u001b[1;32m    998\u001b[0m     \u001b[0;32melse\u001b[0m\u001b[0;34m:\u001b[0m\u001b[0;34m\u001b[0m\u001b[0m\n\u001b[1;32m    999\u001b[0m       \u001b[0mresults\u001b[0m \u001b[0;34m=\u001b[0m \u001b[0;34m[\u001b[0m\u001b[0;34m]\u001b[0m\u001b[0;34m\u001b[0m\u001b[0m\n\u001b[0;32m-> 1000\u001b[0;31m     \u001b[0;32mreturn\u001b[0m \u001b[0mfetch_handler\u001b[0m\u001b[0;34m.\u001b[0m\u001b[0mbuild_results\u001b[0m\u001b[0;34m(\u001b[0m\u001b[0mself\u001b[0m\u001b[0;34m,\u001b[0m \u001b[0mresults\u001b[0m\u001b[0;34m)\u001b[0m\u001b[0;34m\u001b[0m\u001b[0m\n\u001b[0m\u001b[1;32m   1001\u001b[0m \u001b[0;34m\u001b[0m\u001b[0m\n\u001b[1;32m   1002\u001b[0m   \u001b[0;32mdef\u001b[0m \u001b[0mmake_callable\u001b[0m\u001b[0;34m(\u001b[0m\u001b[0mself\u001b[0m\u001b[0;34m,\u001b[0m \u001b[0mfetches\u001b[0m\u001b[0;34m,\u001b[0m \u001b[0mfeed_list\u001b[0m\u001b[0;34m=\u001b[0m\u001b[0mNone\u001b[0m\u001b[0;34m)\u001b[0m\u001b[0;34m:\u001b[0m\u001b[0;34m\u001b[0m\u001b[0m\n",
      "\u001b[0;32m/home/calpeyser/miniconda2/envs/magenta/lib/python2.7/site-packages/tensorflow/python/client/session.pyc\u001b[0m in \u001b[0;36mbuild_results\u001b[0;34m(self, session, tensor_values)\u001b[0m\n\u001b[1;32m    474\u001b[0m     \"\"\"\n\u001b[1;32m    475\u001b[0m     \u001b[0mfull_values\u001b[0m \u001b[0;34m=\u001b[0m \u001b[0;34m[\u001b[0m\u001b[0;34m]\u001b[0m\u001b[0;34m\u001b[0m\u001b[0m\n\u001b[0;32m--> 476\u001b[0;31m     \u001b[0;32massert\u001b[0m \u001b[0mlen\u001b[0m\u001b[0;34m(\u001b[0m\u001b[0mself\u001b[0m\u001b[0;34m.\u001b[0m\u001b[0m_final_fetches\u001b[0m\u001b[0;34m)\u001b[0m \u001b[0;34m==\u001b[0m \u001b[0mlen\u001b[0m\u001b[0;34m(\u001b[0m\u001b[0mtensor_values\u001b[0m\u001b[0;34m)\u001b[0m\u001b[0;34m\u001b[0m\u001b[0m\n\u001b[0m\u001b[1;32m    477\u001b[0m     \u001b[0mi\u001b[0m \u001b[0;34m=\u001b[0m \u001b[0;36m0\u001b[0m\u001b[0;34m\u001b[0m\u001b[0m\n\u001b[1;32m    478\u001b[0m     \u001b[0mj\u001b[0m \u001b[0;34m=\u001b[0m \u001b[0;36m0\u001b[0m\u001b[0;34m\u001b[0m\u001b[0m\n",
      "\u001b[0;31mKeyboardInterrupt\u001b[0m: "
     ]
    }
   ],
   "source": [
    "# Sanity check labels\n",
    "cats = []\n",
    "dogs = []\n",
    "\n",
    "# Decode cats\n",
    "load_checkpoint(sess, cat_model_dir)\n",
    "for cat in category_labels[\"cat\"][\"no_features\"]:\n",
    "    decoding = decode(cat_eval_model, cat_sample_model, cat)\n",
    "    cats.append(decoding)\n",
    "    \n",
    "# Decode dogs\n",
    "load_checkpoint(sess, dog_model_dir)\n",
    "for dog in category_labels[\"dog\"][\"no_features\"]:\n",
    "    decoding = decode(dog_eval_model, dog_sample_model, dog)\n",
    "    dogs.append(decoding)\n",
    "    \n",
    "for cat, dog in zip(cats, dogs):\n",
    "    draw_strokes(cat)\n",
    "    draw_strokes(dog)\n",
    "    print(\"---------\")\n"
   ]
  },
  {
   "cell_type": "code",
   "execution_count": 28,
   "metadata": {},
   "outputs": [
    {
     "name": "stdout",
     "output_type": "stream",
     "text": [
      "Example: 0, Cost: 1.6359671354293823 \n",
      "Example: 1000, Cost: 1.3007461177110673 \n",
      "Example: 2000, Cost: 1.0275475090742112 \n",
      "Example: 3000, Cost: 0.9483895733356476 \n",
      "Example: 4000, Cost: 0.9245936219096184 \n",
      "Example: 5000, Cost: 0.9168926807045936 \n",
      "Example: 6000, Cost: 0.913632543683052 \n",
      "Example: 7000, Cost: 0.9129218252301217 \n",
      "Example: 8000, Cost: 0.9170246350765229 \n",
      "Example: 9000, Cost: 0.9061343241333961 \n",
      "Example: 10000, Cost: 0.9098874117136002 \n",
      "Example: 11000, Cost: 0.9093554470539092 \n",
      "Example: 12000, Cost: 0.9073781830668449 \n",
      "Example: 13000, Cost: 0.9147624940276146 \n",
      "Example: 14000, Cost: 0.9151394242048263 \n",
      "Example: 15000, Cost: 0.9105708746910095 \n",
      "Example: 16000, Cost: 0.9134480924010276 \n",
      "Example: 17000, Cost: 0.9155975900888443 \n",
      "Example: 18000, Cost: 0.9246858736872673 \n",
      "Example: 19000, Cost: 0.9207450420260429 \n"
     ]
    }
   ],
   "source": [
    "# Train a linear model on the sketch labels\n",
    "STARTER_LEARNING_RATE = 0.04\n",
    "EXAMPLE_COUNT = 20000\n",
    "\n",
    "linear_graph = tf.Graph()\n",
    "with linear_graph.as_default():\n",
    "    global_step = tf.Variable(0, trainable=False)\n",
    "    learning_rate = tf.train.exponential_decay(STARTER_LEARNING_RATE, global_step, 10000, 0.96, staircase=True)\n",
    "\n",
    "\n",
    "    # TF graph input\n",
    "    X = tf.placeholder(\"float64\")\n",
    "    Y = tf.placeholder(\"float64\")\n",
    "\n",
    "    # TF weights\n",
    "    # Matrix version\n",
    "    #W = tf.Variable(np.random.rand(128, 128), name = \"linear_model_weight\")\n",
    "    W = tf.Variable(np.random.rand(128), name = \"linear_model_weight\")\n",
    "    b = tf.Variable(np.random.rand(128), name = \"linear_model_bias\")\n",
    "\n",
    "    # Matrix version\n",
    "    #prediction = tf.squeeze(tf.add(tf.matmul(tf.expand_dims(X, 0), W), b))\n",
    "    prediction = tf.add(tf.multiply(X, W), b)\n",
    "    #prediction = tf.multiply(X, W)\n",
    "    \n",
    "    #cost = tf.reduce_sum(tf.pow(prediction - Y, 2)/(2*len(labels)))\n",
    "    cost = tf.losses.mean_squared_error(Y, prediction)\n",
    "    optimizer = tf.train.GradientDescentOptimizer(learning_rate).minimize(cost, global_step=global_step)\n",
    "\n",
    "    init = tf.variables_initializer([W, b, global_step])\n",
    "\n",
    "linear_model_sess = tf.Session(graph=linear_graph)\n",
    "linear_model_sess.run(init)\n",
    "costs = []\n",
    "for example_num in range(EXAMPLE_COUNT):\n",
    "    idx = random.randint(0,1)\n",
    "    cat_category = [\"whiskers\", \"no_whiskers\"][idx] # choose a random category\n",
    "    dog_category = [\"body\", \"face\"][idx]\n",
    "    # Choose a cat and dog in the given category at random\n",
    "    cat = category_labels[\"cat\"][cat_category][random.randint(0, len(category_labels[\"cat\"][cat_category]) - 1)]\n",
    "    dog = category_labels[\"dog\"][dog_category][random.randint(0, len(category_labels[\"dog\"][dog_category]) - 1)]\n",
    "    \n",
    "    _, cost_ = linear_model_sess.run([optimizer, cost], feed_dict={X: dog, Y: cat})\n",
    "    costs.append(cost_)\n",
    "    \n",
    "    if (example_num % 1000) == 0:\n",
    "        cost_computed = sum(costs)/len(costs)\n",
    "        costs = []\n",
    "        print(\"Example: %s, Cost: %s \" % (example_num, cost_computed))\n",
    "\n",
    "#W_computed = linear_model_sess.run(W, feed_dict = {X: x, Y: y})\n",
    "#b_computed = linear_model_sess.run(b, feed_dict = {X: x, Y: y})\n",
    "#print(\"Results: W=%s, b=%s \" % (W_computed, b_computed))\n",
    "\n"
   ]
  },
  {
   "cell_type": "code",
   "execution_count": null,
   "metadata": {},
   "outputs": [],
   "source": [
    "print(labels[1][1].shape)"
   ]
  },
  {
   "cell_type": "code",
   "execution_count": 36,
   "metadata": {},
   "outputs": [
    {
     "name": "stdout",
     "output_type": "stream",
     "text": [
      "INFO:tensorflow:Loading model /home/calpeyser/checkpoints/dog/vector-39500.\n",
      "INFO:tensorflow:Restoring parameters from /home/calpeyser/checkpoints/dog/vector-39500\n"
     ]
    },
    {
     "data": {
      "image/svg+xml": [
       "<svg baseProfile=\"full\" height=\"86.6487086564\" version=\"1.1\" width=\"84.9592284113\" xmlns=\"http://www.w3.org/2000/svg\" xmlns:ev=\"http://www.w3.org/2001/xml-events\" xmlns:xlink=\"http://www.w3.org/1999/xlink\"><defs/><rect fill=\"white\" height=\"86.6487086564\" width=\"84.9592284113\" x=\"0\" y=\"0\"/><path d=\"M34.357117191,37.8660360724 m0.0,2.98907905817 l1.55951946974,6.75791800022 0.0,2.85911917686 l1.1696396023,5.97815811634 1.03967964649,2.07935929298 l1.68947950006,1.81943938136 2.07935929298,1.03967964649 l3.89879882336,0.259919911623 2.07935929298,-1.29959955812 l3.63887876272,-4.80851858854 1.03967964649,-2.07935929298 l1.03967964649,-4.80851858854 0.0,-5.97815811634 l-1.03967964649,-5.32835841179 -0.519839823246,-0.519839823246 m-17.6745545864,-4.67855840921 l-4.15871858597,5.5882781744 -3.63887876272,3.89879882336 l-1.29959955812,3.50891888142 -0.259919911623,3.24899882078 l1.03967964649,2.33927920461 1.29959955812,0.779759734869 l0.779759734869,0.0 1.03967964649,-1.29959955812 l0.519839823246,-2.07935929298 3.11903893948,-5.71823835373 l2.07935929298,-4.93847846985 m18.3243536949,-10.6567168236 l6.10811829567,9.09719705582 0.649799779058,3.89879882336 l-0.129959955812,1.29959955812 -0.909719690681,1.42955958843 l-0.649799779058,0.129959955812 -5.19839823246,-5.45831799507 m-18.1943941116,-4.67855840921 l2.33927920461,-2.07935929298 4.4186386466,-2.46923923492 l6.75791800022,-2.98907905817 5.84819793701,0.0 l3.76883894205,1.29959955812 \" fill=\"none\" stroke=\"black\" stroke-width=\"1\"/></svg>"
      ],
      "text/plain": [
       "<IPython.core.display.SVG object>"
      ]
     },
     "metadata": {},
     "output_type": "display_data"
    },
    {
     "data": {
      "image/svg+xml": [
       "<svg baseProfile=\"full\" height=\"75.9246324748\" version=\"1.1\" width=\"83.526112187\" xmlns=\"http://www.w3.org/2000/svg\" xmlns:ev=\"http://www.w3.org/2001/xml-events\" xmlns:xlink=\"http://www.w3.org/1999/xlink\"><defs/><rect fill=\"white\" height=\"75.9246324748\" width=\"83.526112187\" x=\"0\" y=\"0\"/><path d=\"M30.8072197023,27.6521469906 m-0.00827939773444,2.9292422533 l1.37443870306,6.98899805546 0.299362912774,2.5595703721 l0.500888340175,6.05507791042 1.30791798234,2.80742138624 l1.24550849199,1.24698117375 1.59903332591,0.684765130281 l2.92639762163,0.000429202591476 1.83299899101,-0.727849081159 l2.16074287891,-1.97430372238 1.74807727337,-3.02355706692 l1.70314878225,-6.37387573719 0.00132890432724,-7.01398909092 l-1.61952242255,-5.16727805138 -1.25238463283,-1.64377972484 m-11.7118239403,3.82327437401 l-1.61919206381,0.930459052324 -3.10766786337,3.46152096987 l-1.74883633852,3.27966094017 -1.43935725093,5.63460826874 l0.000811788559076,3.40809494257 0.601339191198,1.11957646906 l1.36810287833,0.514419302344 1.81833446026,-0.693567693233 l2.7865511179,-4.68369692564 1.64761900902,-5.92761695385 l0.778550282121,-4.38362181187 m11.6664242744,-2.71081894636 l2.05120965838,1.7084941268 4.19811069965,6.38876199722 l2.91711211205,2.17013239861 1.51464089751,-3.0530154705 l-0.688080787659,-2.79861062765 -6.90225243568,-4.67824697495 l-4.68989789486,-1.18960082531 m-6.20165765285,4.28480088711 l8.89865040779,-2.24664375186 4.40801292658,-1.40488356352 l4.10410910845,-1.48988723755 3.24842214584,-1.26987993717 \" fill=\"none\" stroke=\"black\" stroke-width=\"1\"/></svg>"
      ],
      "text/plain": [
       "<IPython.core.display.SVG object>"
      ]
     },
     "metadata": {},
     "output_type": "display_data"
    },
    {
     "name": "stdout",
     "output_type": "stream",
     "text": [
      "[-0.17004287  1.0632007  -0.42562956 -2.5077884  -0.4543007   1.2592939  -1.5345033  -0.8763803   0.66772604  0.17925927  0.24241959 -0.41415718  1.960595    1.2979765  -0.0912848   0.7070796\n",
      " -1.2698083  -0.34069228  1.7906183   1.4190719   0.05958739 -0.84739786 -1.2770425   0.5228816  -0.03796715  1.767975   -0.8996261  -0.55249935 -1.1121467  -1.6100472  -0.36529216 -1.4851567\n",
      " -0.14670372  0.5905113   1.5448061  -0.863067    1.748891   -0.66753453  0.9446664  -0.6081131   0.4662076  -0.99289745 -0.01435357  1.2988509  -0.5713644  -1.1524765   0.02176306  0.63930553\n",
      "  0.6157552  -1.1120036   0.13858253 -0.6919478  -0.5820037   0.00355811  1.3730636  -0.74187934  0.32739264 -1.8729683  -0.5684488   1.6518788   0.8916714  -0.8057381  -0.5354064  -0.39192018\n",
      " -0.5615386  -0.67149585 -0.30619866 -1.1707875  -1.1330644   0.7504291  -1.2979755   0.02891912  0.0990271  -0.16878918  0.4465235   1.4107416  -1.0400707   1.7997153   0.21565403  0.55318826\n",
      " -0.5548497  -0.8726244   0.28933597 -0.20284799 -1.02856    -0.5396471  -1.759387   -0.09826834  0.6506283  -1.791315    0.5261838  -0.18413445 -1.7596664   2.0411386   0.43441886 -0.04847032\n",
      " -0.14404348  0.24161795  0.01587949  0.8571595   0.8414518  -0.49030036  1.1581662  -0.09013955  1.3208134   0.7569996   0.4789242  -0.47910994  2.2478948   2.4116     -1.7801098   1.228384\n",
      "  0.10255146 -0.10563525 -0.5827589   0.02763551 -0.3316163   0.58681524 -0.2059927  -0.5575692   0.5896293   0.89791834  1.0035428  -1.8265383   1.416496   -0.3642652   0.15840282 -0.60750693]\n",
      "INFO:tensorflow:Loading model /home/calpeyser/checkpoints/cat/vector-44500.\n",
      "INFO:tensorflow:Restoring parameters from /home/calpeyser/checkpoints/cat/vector-44500\n"
     ]
    },
    {
     "data": {
      "image/svg+xml": [
       "<svg baseProfile=\"full\" height=\"68.2318909094\" version=\"1.1\" width=\"70.0830632448\" xmlns=\"http://www.w3.org/2000/svg\" xmlns:ev=\"http://www.w3.org/2001/xml-events\" xmlns:xlink=\"http://www.w3.org/1999/xlink\"><defs/><rect fill=\"white\" height=\"68.2318909094\" width=\"70.0830632448\" x=\"0\" y=\"0\"/><path d=\"M29.9245421961,33.2047350379 m-1.35754242539,-1.54575020075 l-1.2362010777,-0.348965786397 -0.835171863437,0.527655296028 l-0.372576788068,3.00357848406 0.973682850599,3.58108669519 l2.31702655554,2.45727524161 2.44655564427,1.78153574467 l1.33481964469,0.530796982348 3.97161871195,0.0399434147403 l3.31088870764,-2.010820508 2.60586947203,-3.4466534853 l0.608737580478,-2.0654155314 0.0969871878624,-3.06509077549 l-0.462230592966,-0.998965278268 -3.85914951563,-2.04892113805 l-5.06702184677,-0.203397534788 -3.84941756725,0.754068940878 l-1.26805663109,0.857617780566 m11.3513767719,-1.67154029012 l1.55341953039,-1.69544190168 2.89490669966,-2.63733118773 l-0.295738298446,4.84614610672 -0.832481458783,2.98055589199 m-15.6361997128,-3.41814428568 l-3.07699888945,-4.03042376041 -0.241644885391,1.74478933215 l1.43509536982,4.72779065371 1.20245657861,2.92218357325 m7.32732951641,2.20221951604 l5.93410253525,-1.55996635556 m-7.24005460739,1.61608874798 l0.73619119823,0.861795321107 0.957480594516,0.429306738079 l0.389467738569,-0.959940105677 m-3.55751574039,-1.93196699023 \" fill=\"none\" stroke=\"black\" stroke-width=\"1\"/></svg>"
      ],
      "text/plain": [
       "<IPython.core.display.SVG object>"
      ]
     },
     "metadata": {},
     "output_type": "display_data"
    }
   ],
   "source": [
    "# Lets do some predictions\n",
    "load_checkpoint(sess, dog_model_dir)\n",
    "dog = dog_train_set.strokes[205]\n",
    "draw_strokes(dog)\n",
    "encoding = encode(dog_eval_model, dog, max_len=133)\n",
    "draw_strokes(decode(dog_eval_model, dog_sample_model, encoding))\n",
    "print(encoding)\n",
    "predicted_encoding = linear_model_sess.run(prediction, feed_dict = {X: encoding})\n",
    "load_checkpoint(sess, cat_model_dir)\n",
    "decoding = decode(cat_eval_model, cat_sample_model, predicted_encoding)\n",
    "draw_strokes(decoding)\n"
   ]
  },
  {
   "cell_type": "code",
   "execution_count": null,
   "metadata": {},
   "outputs": [],
   "source": []
  }
 ],
 "metadata": {
  "kernelspec": {
   "display_name": "Python 2",
   "language": "python",
   "name": "python2"
  },
  "language_info": {
   "codemirror_mode": {
    "name": "ipython",
    "version": 2
   },
   "file_extension": ".py",
   "mimetype": "text/x-python",
   "name": "python",
   "nbconvert_exporter": "python",
   "pygments_lexer": "ipython2",
   "version": "2.7.14"
  }
 },
 "nbformat": 4,
 "nbformat_minor": 2
}
