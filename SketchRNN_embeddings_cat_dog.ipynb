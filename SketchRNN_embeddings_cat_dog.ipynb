{
 "cells": [
  {
   "cell_type": "code",
   "execution_count": 1,
   "metadata": {},
   "outputs": [],
   "source": [
    "# import the required libraries\n",
    "import numpy as np\n",
    "import time\n",
    "import random\n",
    "import cPickle\n",
    "import codecs\n",
    "import collections\n",
    "import os\n",
    "import math\n",
    "import json\n",
    "import tensorflow as tf\n",
    "from six.moves import xrange\n",
    "import pickle\n",
    "\n",
    "# libraries required for visualisation:\n",
    "from IPython.display import SVG, display\n",
    "import svgwrite # conda install -c omnia svgwrite=1.1.6\n",
    "import PIL\n",
    "from PIL import Image\n",
    "import matplotlib.pyplot as plt\n",
    "\n",
    "# set numpy output to something sensible\n",
    "np.set_printoptions(precision=8, edgeitems=6, linewidth=200, suppress=True)\n",
    "\n",
    "from magenta.models.sketch_rnn.sketch_rnn_train import *\n",
    "from magenta.models.sketch_rnn.model import *\n",
    "from magenta.models.sketch_rnn.utils import *\n",
    "from magenta.models.sketch_rnn.rnn import *"
   ]
  },
  {
   "cell_type": "code",
   "execution_count": 11,
   "metadata": {},
   "outputs": [
    {
     "name": "stdout",
     "output_type": "stream",
     "text": [
      "INFO:tensorflow:TensorFlow Version: 1.2.1\n"
     ]
    }
   ],
   "source": [
    "tf.logging.info(\"TensorFlow Version: %s\", tf.__version__)\n",
    "# little function that displays vector images and saves them to .svg\n",
    "def draw_strokes(data, factor=0.2, svg_filename = 'home/calpeyser/sketch/svg/sample.svg'):\n",
    "  tf.gfile.MakeDirs(os.path.dirname(svg_filename))\n",
    "  min_x, max_x, min_y, max_y = get_bounds(data, factor)\n",
    "  dims = (50 + max_x - min_x, 50 + max_y - min_y)\n",
    "  dwg = svgwrite.Drawing(svg_filename, size=dims)\n",
    "  dwg.add(dwg.rect(insert=(0, 0), size=dims,fill='white'))\n",
    "  lift_pen = 1\n",
    "  abs_x = 25 - min_x \n",
    "  abs_y = 25 - min_y\n",
    "  p = \"M%s,%s \" % (abs_x, abs_y)\n",
    "  command = \"m\"\n",
    "  for i in xrange(len(data)):\n",
    "    if (lift_pen == 1):\n",
    "      command = \"m\"\n",
    "    elif (command != \"l\"):\n",
    "      command = \"l\"\n",
    "    else:\n",
    "      command = \"\"\n",
    "    x = float(data[i,0])/factor\n",
    "    y = float(data[i,1])/factor\n",
    "    lift_pen = data[i, 2]\n",
    "    p += command+str(x)+\",\"+str(y)+\" \"\n",
    "  the_color = \"black\"\n",
    "  stroke_width = 1\n",
    "  dwg.add(dwg.path(p).stroke(the_color,stroke_width).fill(\"none\"))\n",
    "  dwg.save()\n",
    "  display(SVG(dwg.tostring()))\n",
    "\n",
    "# generate a 2D grid of many vector drawings\n",
    "def make_grid_svg(s_list, grid_space=10.0, grid_space_x=16.0):\n",
    "  def get_start_and_end(x):\n",
    "    x = np.array(x)\n",
    "    x = x[:, 0:2]\n",
    "    x_start = x[0]\n",
    "    x_end = x.sum(axis=0)\n",
    "    x = x.cumsum(axis=0)\n",
    "    x_max = x.max(axis=0)\n",
    "    x_min = x.min(axis=0)\n",
    "    center_loc = (x_max+x_min)*0.5\n",
    "    return x_start-center_loc, x_end\n",
    "  x_pos = 0.0\n",
    "  y_pos = 0.0\n",
    "  result = [[x_pos, y_pos, 1]]\n",
    "  for sample in s_list:\n",
    "    s = sample[0]\n",
    "    grid_loc = sample[1]\n",
    "    grid_y = grid_loc[0]*grid_space+grid_space*0.5\n",
    "    grid_x = grid_loc[1]*grid_space_x+grid_space_x*0.5\n",
    "    start_loc, delta_pos = get_start_and_end(s)\n",
    "\n",
    "    loc_x = start_loc[0]\n",
    "    loc_y = start_loc[1]\n",
    "    new_x_pos = grid_x+loc_x\n",
    "    new_y_pos = grid_y+loc_y\n",
    "    result.append([new_x_pos-x_pos, new_y_pos-y_pos, 0])\n",
    "\n",
    "    result += s.tolist()\n",
    "    result[-1][2] = 1\n",
    "    x_pos = new_x_pos+delta_pos[0]\n",
    "    y_pos = new_y_pos+delta_pos[1]\n",
    "  return np.array(result)\n",
    "\n",
    "cat_model_dir = \"/home/calpeyser/checkpoints/cat/\"\n",
    "dog_model_dir = \"/home/calpeyser/checkpoints/dog/\"\n",
    "cat_data_dir = \"/home/calpeyser/sketch/data/cat/\"\n",
    "dog_data_dir = \"/home/calpeyser/sketch/data/dog/\"\n",
    "flam_model_dir = \"/home/calpeyser/sketch/models/flamingo/lstm_uncond\"\n",
    "flam_data_dir = \"/home/calpeyser/sketch/data/flamingo/\"\n"
   ]
  },
  {
   "cell_type": "code",
   "execution_count": 3,
   "metadata": {},
   "outputs": [
    {
     "name": "stdout",
     "output_type": "stream",
     "text": [
      "INFO:tensorflow:Loaded 70000/2500/2500 from cat.npz\n",
      "INFO:tensorflow:Dataset combined: 75000 (70000/2500/2500), avg len 69\n",
      "INFO:tensorflow:model_params.max_seq_len 129.\n",
      "total images <= max_seq_len is 70000\n",
      "total images <= max_seq_len is 2500\n",
      "total images <= max_seq_len is 2500\n",
      "INFO:tensorflow:normalizing_scale_factor 43.1702.\n",
      "INFO:tensorflow:Model using gpu.\n",
      "INFO:tensorflow:Input dropout mode = 0.\n",
      "INFO:tensorflow:Output dropout mode = 0.\n",
      "INFO:tensorflow:Recurrent dropout mode = 0.\n",
      "INFO:tensorflow:Model using gpu.\n",
      "INFO:tensorflow:Input dropout mode = 0.\n",
      "INFO:tensorflow:Output dropout mode = 0.\n",
      "INFO:tensorflow:Recurrent dropout mode = 0.\n",
      "INFO:tensorflow:Loaded 70000/2500/2500 from dog.npz\n",
      "INFO:tensorflow:Dataset combined: 75000 (70000/2500/2500), avg len 75\n",
      "INFO:tensorflow:model_params.max_seq_len 133.\n",
      "total images <= max_seq_len is 70000\n",
      "total images <= max_seq_len is 2500\n",
      "total images <= max_seq_len is 2500\n",
      "INFO:tensorflow:normalizing_scale_factor 38.4734.\n",
      "INFO:tensorflow:Model using gpu.\n",
      "INFO:tensorflow:Input dropout mode = 0.\n",
      "INFO:tensorflow:Output dropout mode = 0.\n",
      "INFO:tensorflow:Recurrent dropout mode = 0.\n",
      "INFO:tensorflow:Model using gpu.\n",
      "INFO:tensorflow:Input dropout mode = 0.\n",
      "INFO:tensorflow:Output dropout mode = 0.\n",
      "INFO:tensorflow:Recurrent dropout mode = 0.\n"
     ]
    }
   ],
   "source": [
    "[cat_train_set, cat_valid_set, cat_test_set, cat_hps_model, cat_eval_hps_model, cat_sample_hps_model] = load_env(cat_data_dir, cat_model_dir)\n",
    "cat_eval_model = Model(cat_eval_hps_model, reuse=False)\n",
    "cat_sample_model = Model(cat_sample_hps_model, reuse=True)\n",
    "[dog_train_set, dog_valid_set, dog_test_set, dog_hps_model, dog_eval_hps_model, dog_sample_hps_model] = load_env(dog_data_dir, dog_model_dir)\n",
    "dog_eval_model = Model(dog_eval_hps_model, reuse=True)\n",
    "dog_sample_model = Model(dog_sample_hps_model, reuse=True)\n",
    "\n",
    "\n",
    "sess = tf.Session()\n",
    "sess.run(tf.global_variables_initializer())"
   ]
  },
  {
   "cell_type": "code",
   "execution_count": 20,
   "metadata": {},
   "outputs": [],
   "source": [
    "def encode(eval_model, input_strokes, max_len=129):\n",
    "  strokes = to_big_strokes(input_strokes, max_len=max_len).tolist()\n",
    "  strokes.insert(0, [0, 0, 1, 0, 0])\n",
    "  seq_len = [len(input_strokes)]\n",
    "  #draw_strokes(to_normal_strokes(np.array(strokes)))\n",
    "  return sess.run(eval_model.batch_z, feed_dict={eval_model.input_data: [strokes], eval_model.sequence_lengths: seq_len})[0]\n",
    "def decode(eval_model, sample_model, z_input=None, draw_mode=True, temperature=0.1, factor=0.2):\n",
    "  z = None\n",
    "  if z_input is not None:\n",
    "    z = [z_input]\n",
    "  sample_strokes, m = sample(sess, sample_model, seq_len=eval_model.hps.max_seq_len, temperature=temperature, z=z)\n",
    "  strokes = to_normal_strokes(sample_strokes)\n",
    "  return strokes"
   ]
  },
  {
   "cell_type": "code",
   "execution_count": 5,
   "metadata": {},
   "outputs": [
    {
     "name": "stdout",
     "output_type": "stream",
     "text": [
      "INFO:tensorflow:Loading model /home/calpeyser/checkpoints/cat/vector-47500.\n",
      "INFO:tensorflow:Restoring parameters from /home/calpeyser/checkpoints/cat/vector-47500\n",
      "(74, 3)\n",
      "[ 1.4599313   0.65149516  1.1183821  -0.60878444  1.3521897   0.11855504  1.6480156   0.6382079   1.1354936  -0.36940917 -1.1167897  -0.9457218   0.6131381  -0.19298363  2.4699497  -1.2040303\n",
      "  1.7374122  -0.37075922  1.577292   -0.02854326  0.7033927  -1.7714503  -0.8213583   1.3244804   0.20628504  0.44805786 -0.58115643  0.57862705  0.7134656  -0.4404264   0.4172904   1.4601276\n",
      " -0.0072885  -2.2187045  -1.1009058   0.01405858  0.47865894  0.13156521  0.85095453 -1.8364269  -0.54644173  0.17570168 -2.3392935  -0.94112766  1.0847248  -0.6018719  -0.9924684  -0.27448192\n",
      " -0.4424341   1.7577163  -0.560391   -0.5958836   1.3415551  -0.9036122  -0.8066884   0.1763548   0.7905827   1.2818584   1.769429    1.203796   -0.07239371  0.9895247   0.38958654 -0.36984605\n",
      " -0.9602379   0.5785717   1.3224053   0.22519371  0.22120614  1.0441906   0.9705677  -0.57927144 -0.66456014  0.8757837  -1.3095634  -0.8277013  -1.9885519   0.00255976  0.51143944 -0.61972594\n",
      "  1.0655398   0.4080335   0.19453333  0.9675915  -1.399564   -1.2907169  -1.2530255  -0.27056196  0.60010856  0.19840702  0.8074513   0.670381   -1.1563431   1.3378878   1.1251812  -2.428754\n",
      "  1.4221545   1.3462346   1.3930275   0.83017486 -0.6301683   0.6687121   0.820742    0.08883803 -3.0306985   0.20584849  0.23412088  0.7831166  -0.33044255  0.77479726 -1.28516    -2.1697493\n",
      " -0.5389543   0.9453245   2.5059948   0.3994767  -0.89998865  1.5244331  -0.6667315   0.2882069  -0.7881937   0.61231273 -1.6664243  -0.9698351   0.64077216 -0.71399397  1.5183818  -1.0550869 ]\n"
     ]
    }
   ],
   "source": [
    "load_checkpoint(sess, cat_model_dir)\n",
    "cat = cat_test_set.random_sample()\n",
    "print(cat.shape)\n",
    "encoding = encode(cat_eval_model, cat)\n",
    "decoding = decode(cat_eval_model, cat_sample_model, encoding)\n",
    "\n",
    "draw_strokes(cat)\n",
    "print(encoding)\n",
    "draw_strokes(decoding)\n",
    " "
   ]
  },
  {
   "cell_type": "code",
   "execution_count": null,
   "metadata": {},
   "outputs": [],
   "source": [
    "# Generate dataset\n",
    "for i in range(1000):\n",
    "    draw_strokes(cat_train_set.strokes[i], svg_filename=\"/home/calpeyser/sketch/sketches/cat/\" + str(i) + \".svg\")\n",
    "    if (i % 100 == 0):\n",
    "        print(i)"
   ]
  },
  {
   "cell_type": "code",
   "execution_count": 25,
   "metadata": {},
   "outputs": [
    {
     "name": "stdout",
     "output_type": "stream",
     "text": [
      "INFO:tensorflow:Loading model /home/calpeyser/checkpoints/cat/vector-47500.\n",
      "INFO:tensorflow:Restoring parameters from /home/calpeyser/checkpoints/cat/vector-47500\n",
      "INFO:tensorflow:Loading model /home/calpeyser/checkpoints/dog/vector-41500.\n",
      "INFO:tensorflow:Restoring parameters from /home/calpeyser/checkpoints/dog/vector-41500\n"
     ]
    }
   ],
   "source": [
    "# Obtain traning data from manually labeled dataset\n",
    "\"\"\"\n",
    "# Manually labeled pairs - not using these right now\n",
    "labels = [(264,432),\n",
    "(278,441),\n",
    "(528,196),\n",
    "(517,311),\n",
    "(525,281),\n",
    "(642,441),\n",
    "(651,345),\n",
    "(531,383),\n",
    "(533,381),\n",
    "(618,432),\n",
    "(814,511),\n",
    "(839,378),\n",
    "(565,443),\n",
    "(553,505),\n",
    "(706,641),\n",
    "(913,0),\n",
    "(137,1),\n",
    "(251,2),\n",
    "(711,8),\n",
    "(243,230),\n",
    "(451,220),\n",
    "(832,632),\n",
    "(984,307),\n",
    "(944,352),\n",
    "(593,307),\n",
    "(21,389)]\n",
    "\"\"\"\n",
    "\n",
    "DOG_NO_FEATURE_IND = [49,64,205,221,222,248,282,283,378,425,441,443,459,500,613,607,619,713,747,791]\n",
    "DOG_FEATURES_IND = [3,26,41,73,92,167,177,196,311,329,383,398,587,639,689,743,787,792,829,877]\n",
    "DOG_BODY_IND = [0,1,2,8,9,11,337,343,352,364,367,388,446,467,479,492,494,504,518,552]\n",
    "\n",
    "category_labels = {\n",
    "    \"cat\": {\n",
    "        \"no_features\": [3,4,17,23,65,66,106,152,205,236,239,240,304,322,325,344,369,381,382,394],\n",
    "        \"features\": [2,7,8,9,10,15,16,19,20,26,28,30,35,46,188,204,208,228,434,657],\n",
    "        \"body\": [12,21,177,112,332,659,714,697,0,1,129,696,552,659,692,781,787,833,866,944],\n",
    "    },\n",
    "    \"dog\": {\n",
    "        \"no_features\": DOG_NO_FEATURE_IND,\n",
    "        \"features\": DOG_FEATURES_IND,\n",
    "        \"body\": DOG_BODY_IND,\n",
    "    }\n",
    "}\n",
    "\"\"\"\n",
    "# An alternative possible labeling\n",
    "category_labels = {\n",
    "    \"cat\": {\n",
    "        \"whiskers\": [16,25,34,51,53,80,82,130,156,192,291,292,305,327,333,375,417,422,440,478,489,577,594,654,704,898,940,957],\n",
    "        \"no_whiskers\": [3,4,17,19,23,29,33,65,66,90,106,114,152,186,218,228,253,278,279,283,284,288,290,295,296,335,338,334,360,369],\n",
    "    },\n",
    "    \"dog\": {\n",
    "        \"body\": [0,1,2,8,9,11,337,343,352,364,367,388,446,467,479,492,494,504,518,552],\n",
    "        \"face\": [49,64,205,221,222,248,282,283,378,425,3,26,41,73,92,167,177,196,311],\n",
    "    }\n",
    "}\n",
    "\"\"\"\n",
    "\n",
    "\n",
    "# load cat model, map sketches onto embeddings\n",
    "load_checkpoint(sess, cat_model_dir)\n",
    "\n",
    "category_labels[\"cat\"][\"no_features\"] = [encode(cat_eval_model, cat_train_set.strokes[i]) for i in category_labels[\"cat\"][\"no_features\"]]\n",
    "category_labels[\"cat\"][\"features\"] = [encode(cat_eval_model, cat_train_set.strokes[i]) for i in category_labels[\"cat\"][\"features\"]]\n",
    "category_labels[\"cat\"][\"body\"] = [encode(cat_eval_model, cat_train_set.strokes[i]) for i in category_labels[\"cat\"][\"body\"]]\n",
    "\n",
    "\n",
    "# load dog model, map sketches onto embeddings\n",
    "load_checkpoint(sess, dog_model_dir)\n",
    "\n",
    "category_labels[\"dog\"][\"no_features\"] = [encode(dog_eval_model, dog_train_set.strokes[i], max_len=133) for i in category_labels[\"dog\"][\"no_features\"]]\n",
    "category_labels[\"dog\"][\"features\"] = [encode(dog_eval_model, dog_train_set.strokes[i], max_len=133) for i in category_labels[\"dog\"][\"features\"]]\n",
    "category_labels[\"dog\"][\"body\"] = [encode(dog_eval_model, dog_train_set.strokes[i], max_len=133) for i in category_labels[\"dog\"][\"body\"]]\n"
   ]
  },
  {
   "cell_type": "code",
   "execution_count": 12,
   "metadata": {},
   "outputs": [
    {
     "name": "stdout",
     "output_type": "stream",
     "text": [
      "INFO:tensorflow:Loading model /home/calpeyser/checkpoints/cat/vector-47500.\n",
      "INFO:tensorflow:Restoring parameters from /home/calpeyser/checkpoints/cat/vector-47500\n",
      "INFO:tensorflow:Loading model /home/calpeyser/checkpoints/dog/vector-41500.\n",
      "INFO:tensorflow:Restoring parameters from /home/calpeyser/checkpoints/dog/vector-41500\n"
     ]
    },
    {
     "data": {
      "image/svg+xml": [
       "<svg baseProfile=\"full\" height=\"68.6632689834\" version=\"1.1\" width=\"65.3234480228\" xmlns=\"http://www.w3.org/2000/svg\" xmlns:ev=\"http://www.w3.org/2001/xml-events\" xmlns:xlink=\"http://www.w3.org/1999/xlink\"><defs/><rect fill=\"white\" height=\"68.6632689834\" width=\"65.3234480228\" x=\"0\" y=\"0\"/><path d=\"M31.2774273753,32.6710911015 m-2.58158326149,-3.79480421543 l-3.69584411383,-1.5223300457 4.1852965951,6.90030276775 l3.06771755219,-1.97434410453 2.63432621956,-0.75015693903 l1.61022752523,0.000464260010631 2.00720712543,1.0148922354 l0.919302329421,1.12186074257 0.841224938631,2.31060147285 l0.0581457372755,2.43683874607 -0.76066441834,2.37146049738 l-1.59791529179,1.81055307388 -2.30348318815,1.06681972742 l-3.04900407791,1.9663166313e-05 -2.80443102121,-1.47390320897 l-1.6110651195,-1.99749007821 -0.533138364553,-5.49656152725 m7.47465848923,-4.46423530579 l1.63837254047,-3.0239161849 1.77978694439,-2.20716267824 l0.613885372877,1.93751499057 -0.0188859354239,5.35436689854 l-0.104493917897,1.32721215487 m-8.46308290958,2.44932636619 l-0.000798623441369,0.000258199979726 m5.21550476551,-0.0829550623894 l-0.000680297234794,-0.000246085910476 m-4.33017045259,1.2681889534 l-0.00128269821289,3.40222612749e-06 m3.21861565113,-0.55888324976 l-0.00048784451792,-5.23037942912e-05 m-2.75633871555,0.463671423495 l-0.000468750695291,0.000501923532283 m3.31609398127,-0.967387333512 l-0.000308892922476,-0.000389302404074 \" fill=\"none\" stroke=\"black\" stroke-width=\"1\"/></svg>"
      ],
      "text/plain": [
       "<IPython.core.display.SVG object>"
      ]
     },
     "metadata": {},
     "output_type": "display_data"
    },
    {
     "data": {
      "image/svg+xml": [
       "<svg baseProfile=\"full\" height=\"82.8079599584\" version=\"1.1\" width=\"88.1516556605\" xmlns=\"http://www.w3.org/2000/svg\" xmlns:ev=\"http://www.w3.org/2001/xml-events\" xmlns:xlink=\"http://www.w3.org/1999/xlink\"><defs/><rect fill=\"white\" height=\"82.8079599584\" width=\"88.1516556605\" x=\"0\" y=\"0\"/><path d=\"M31.4999331138,32.5605952437 m0.17285650596,5.90046823025 l2.8845974803,4.45703953505 3.23651492596,2.07800015807 l1.3847579062,1.91469073296 0.807654187083,3.01771730185 l0.78940756619,5.16006886959 1.5967091918,1.8931722641 l1.57714441419,0.826207622886 3.54673564434,-0.00186542631127 l1.6609300673,-0.653534382582 2.64674723148,-2.70778745413 l1.44885882735,-3.11053186655 1.02693617344,-9.0436065197 l2.02702850103,0.0154471199494 m-16.7199730873,-5.40850520134 l9.40639138222,0.205247364938 4.86509025097,-0.105469133705 l3.02394539118,-0.891762897372 2.36302644014,-2.58626431227 l1.81679397821,-3.50995928049 1.14999443293,-1.93385049701 l0.939575135708,1.17793172598 -0.0216568424366,9.89155888557 l-1.03883124888,2.51583784819 -1.63562729955,1.63448855281 l-1.86352655292,0.706500262022 -1.96376770735,-0.283190216869 l-1.71991944313,-4.52148377895 m-20.9093546867,-0.483209975064 l-1.96171417832,-1.94658383727 -2.76232719421,-2.86056935787 l-1.52737542987,-0.871924236417 -2.74755507708,-0.472526550293 m7.2234839201,3.10366183519 l-1.06215693057,-3.56835126877 -0.00129653970362,-3.80202770233 l1.05392701924,-1.65452376008 1.9005741179,-1.17564618587 l3.20519119501,-0.46545971185 \" fill=\"none\" stroke=\"black\" stroke-width=\"1\"/></svg>"
      ],
      "text/plain": [
       "<IPython.core.display.SVG object>"
      ]
     },
     "metadata": {},
     "output_type": "display_data"
    },
    {
     "name": "stdout",
     "output_type": "stream",
     "text": [
      "---------\n"
     ]
    },
    {
     "data": {
      "image/svg+xml": [
       "<svg baseProfile=\"full\" height=\"73.5761490739\" version=\"1.1\" width=\"70.3278306127\" xmlns=\"http://www.w3.org/2000/svg\" xmlns:ev=\"http://www.w3.org/2001/xml-events\" xmlns:xlink=\"http://www.w3.org/1999/xlink\"><defs/><rect fill=\"white\" height=\"73.5761490739\" width=\"70.3278306127\" x=\"0\" y=\"0\"/><path d=\"M42.4494503625,35.0446627751 m-4.00996655226,-2.4993622303 l-2.94308423996,-0.962286368012 -3.4367364645,-0.178928989917 l-1.8890209496,0.643185675144 -1.98680222034,1.41025155783 l-1.78601861,2.14248165488 -1.19415901601,2.55330592394 l-0.203662309796,5.69229722023 1.34188830853,2.01873078942 l2.46217370033,1.65391534567 3.54234367609,1.05789572001 l4.39166367054,-0.000240867539105 2.13728949428,-0.49345869571 l1.86889082193,-0.988551825285 2.12266534567,-2.04474180937 l0.884685888886,-1.61487072706 0.614219680429,-3.41843783855 l-0.897887945175,-5.01472651958 -0.846432968974,-1.01355351508 m-2.90565848351,-1.38684168458 l2.65095323324,-3.93131971359 2.58325964212,-3.66940587759 l0.377776548266,0.620778314769 -0.388296470046,7.07183480263 l-0.367758572102,3.17015081644 -0.34744028002,0.584095567465 m-12.8081595898,-4.32904839516 l-1.90696805716,-2.60700434446 -2.69280850887,-2.51679986715 l-1.60951703787,-0.572357773781 -0.115359080955,3.75286191702 l1.02382034063,4.80989605188 1.11819580197,2.28653177619 m5.61568021774,2.5080704689 l-0.000321617080772,-0.000184570599231 m6.00682973862,-0.922298878431 l0.000253956131928,-0.000242149744736 \" fill=\"none\" stroke=\"black\" stroke-width=\"1\"/></svg>"
      ],
      "text/plain": [
       "<IPython.core.display.SVG object>"
      ]
     },
     "metadata": {},
     "output_type": "display_data"
    },
    {
     "data": {
      "image/svg+xml": [
       "<svg baseProfile=\"full\" height=\"61.3201418519\" version=\"1.1\" width=\"64.8697879651\" xmlns=\"http://www.w3.org/2000/svg\" xmlns:ev=\"http://www.w3.org/2001/xml-events\" xmlns:xlink=\"http://www.w3.org/1999/xlink\"><defs/><rect fill=\"white\" height=\"61.3201418519\" width=\"64.8697879651\" x=\"0\" y=\"0\"/><path d=\"M32.7001832053,26.5570371039 m-0.11674258858,-0.685231015086 l-0.632760375738,-0.354787409306 -1.90746977925,-0.058759204112 l-3.91377568245,1.95075795054 -1.12943477929,1.67297303677 l5.67809638596e-05,2.23298937082 0.830890089273,1.09941601753 l2.20301702619,0.848221108317 2.06739485264,-0.0713836075738 m-0.921368375421,-4.8805180192 l-1.7592869699,4.29113954306 -0.136688984931,3.04119884968 l1.6472196579,0.67708812654 2.47291043401,-0.269501805305 l2.7359315753,-2.73803800344 m-2.84294694662,-7.89409220219 l4.30381864309,-0.418509840965 1.95958822966,0.543144792318 l1.48773834109,1.44131541252 0.821372643113,2.02353015542 l0.000140968713822,1.73792302608 -0.68836145103,1.38459503651 l-1.33511856198,0.898585096002 -2.26554334164,-0.00136435890454 l-1.10403992236,-0.638301968575 m-3.04369986057,-0.0186724029481 l-1.18797540665,0.921151563525 0.0429573096335,0.626473352313 l1.06353640556,0.204669144005 0.677801668644,-0.807713195682 l-0.716361626983,-0.200438946486 -0.540152639151,0.344362780452 l0.631835833192,0.141770038754 0.325338840485,-0.670024082065 l-0.601253323257,-0.115810716525 m-1.42692252994,-6.70996069908 l0.000280562016997,0.00147101934999 m3.59868973494,-0.27342479676 l0.000759732574807,0.000285404748865 \" fill=\"none\" stroke=\"black\" stroke-width=\"1\"/></svg>"
      ],
      "text/plain": [
       "<IPython.core.display.SVG object>"
      ]
     },
     "metadata": {},
     "output_type": "display_data"
    },
    {
     "name": "stdout",
     "output_type": "stream",
     "text": [
      "---------\n"
     ]
    },
    {
     "data": {
      "image/svg+xml": [
       "<svg baseProfile=\"full\" height=\"68.0081417688\" version=\"1.1\" width=\"66.6596837249\" xmlns=\"http://www.w3.org/2000/svg\" xmlns:ev=\"http://www.w3.org/2001/xml-events\" xmlns:xlink=\"http://www.w3.org/1999/xlink\"><defs/><rect fill=\"white\" height=\"68.0081417688\" width=\"66.6596837249\" x=\"0\" y=\"0\"/><path d=\"M33.5494444519,39.905824484 m-4.14674580097,-0.512491874397 l-1.24224238098,-0.296704508364 -1.03554405272,-1.03412479162 l-1.20086237788,-2.42727011442 0.382708460093,-3.36468964815 l0.920429676771,-1.1010877043 2.98504769802,-1.2506107986 l4.34879571199,-0.227857027203 3.04017573595,1.22984975576 l1.33327484131,1.10888242722 1.42185673118,2.2013117373 l0.434767454863,2.47195869684 -0.420419946313,2.31780856848 l-1.31708145142,1.92130297422 -2.0571526885,1.38546928763 l-2.64144599438,0.680570304394 -2.51897215843,-0.000245449773502 l-1.81863680482,-0.753889083862 -1.21623434126,-1.39649122953 m-2.44617238641,-8.8640165329 l-0.584349110723,-0.925725772977 -0.7706412673,-4.24292236567 l0.104020191357,-1.8248513341 0.593838877976,0.0211980869062 l3.25529932976,4.17054831982 1.33076071739,0.883720740676 m6.98657572269,-0.0843597576022 l1.68089583516,-2.4677528441 2.30795457959,-2.00202345848 l0.400338470936,0.556912906468 -0.197916273028,2.63793855906 l-1.07317462564,3.5238301754 -0.899389460683,1.77903562784 m-9.68794465065,0.916761159897 l0.462149940431,-0.540211237967 -0.0484031205997,-0.168850589544 \" fill=\"none\" stroke=\"black\" stroke-width=\"1\"/></svg>"
      ],
      "text/plain": [
       "<IPython.core.display.SVG object>"
      ]
     },
     "metadata": {},
     "output_type": "display_data"
    },
    {
     "data": {
      "image/svg+xml": [
       "<svg baseProfile=\"full\" height=\"76.3991236171\" version=\"1.1\" width=\"71.2919328223\" xmlns=\"http://www.w3.org/2000/svg\" xmlns:ev=\"http://www.w3.org/2001/xml-events\" xmlns:xlink=\"http://www.w3.org/1999/xlink\"><defs/><rect fill=\"white\" height=\"76.3991236171\" width=\"71.2919328223\" x=\"0\" y=\"0\"/><path d=\"M25.4591716862,27.5872924781 m-0.00605223583989,2.98594236374 l1.42969667912,7.04172968864 0.506992973387,2.66491621733 l1.07212856412,4.49142575264 1.53419792652,3.49000930786 l1.44913896918,1.72941997647 1.69605657458,0.9505995363 l3.96299749613,0.457788296044 3.08787882328,-0.930492579937 l2.56923645735,-2.22097352147 1.86470851302,-3.47998470068 l1.66578039527,-11.3012599945 -0.00111558714707,-3.81284981966 l-0.650013238192,-2.06365615129 -1.15001998842,-1.1964803189 l-3.42853844166,-1.3933545351 -4.1693136096,-7.19955278328e-05 m-7.97767162323,7.75767207146 l-1.25304311514,0.912620574236 -1.81514889002,3.24883639812 l-0.845707207918,2.86530405283 -0.00136112095788,3.19976359606 l1.18543997407,1.49822056293 3.14731419086,0.933801010251 l2.53527015448,-0.000383451224479 2.14751034975,-1.19580432773 l3.12960863113,-5.86217522621 -0.0970922224224,-4.60854619741 l-3.91290009022,-2.98672676086 -3.79470765591,-0.443518683314 m-0.807531028986,8.48584234715 l5.26429057121,-0.938584953547 6.69516563416,-1.98367163539 m-12.4881911278,-2.43928954005 l-1.03196442127,-0.449626557529 0.0986782554537,-1.7113097012 l2.82294362783,-3.11312496662 4.37898010015,-1.91969901323 l4.73183125257,-0.00131172899273 \" fill=\"none\" stroke=\"black\" stroke-width=\"1\"/></svg>"
      ],
      "text/plain": [
       "<IPython.core.display.SVG object>"
      ]
     },
     "metadata": {},
     "output_type": "display_data"
    },
    {
     "name": "stdout",
     "output_type": "stream",
     "text": [
      "---------\n"
     ]
    },
    {
     "data": {
      "image/svg+xml": [
       "<svg baseProfile=\"full\" height=\"69.2530259676\" version=\"1.1\" width=\"79.3808094412\" xmlns=\"http://www.w3.org/2000/svg\" xmlns:ev=\"http://www.w3.org/2001/xml-events\" xmlns:xlink=\"http://www.w3.org/1999/xlink\"><defs/><rect fill=\"white\" height=\"69.2530259676\" width=\"79.3808094412\" x=\"0\" y=\"0\"/><path d=\"M33.5752163827,32.3021286929 m-0.901461914182,-0.465153157711 l-1.36996731162,-0.0156286824495 -1.39748349786,0.276110433042 l-0.915362387896,0.801884904504 -0.757886618376,2.69511342049 l0.813302025199,3.29336255789 2.84188270569,2.59165555239 l6.01820349693,2.11384624243 5.52410900593,0.659449398518 l3.88226300478,0.000256605635514 3.00990462303,-0.629360973835 l2.15571209788,-1.07618935406 1.34102389216,-1.35744214058 l0.561353936791,-1.70035839081 -0.662136748433,-3.07500004768 l-2.40559339523,-2.35665291548 -4.98174309731,-2.41813778877 l-4.35438662767,-1.0568138957 -5.91973185539,-0.301115233451 l-1.3456633687,0.399849899113 -0.967369303107,0.914003700018 m-1.00026190281,-0.411634780467 l-4.55251067877,-4.04487431049 -2.06947416067,-1.66357263923 l-1.12193830311,-0.4757270962 0.120828738436,3.09784799814 l1.89745247364,4.9219751358 1.01073861122,1.22290641069 m19.6946787834,-2.50369012356 l2.00039535761,-2.73584097624 2.76140898466,-3.44521909952 l0.439251698554,0.517929904163 0.477699302137,5.10161757469 l0.108464639634,2.97904789448 -0.0864928588271,0.749335214496 m-14.1734993458,0.707024261355 l1.17917351425,-0.383892767131 0.728201344609,-0.378618426621 \" fill=\"none\" stroke=\"black\" stroke-width=\"1\"/></svg>"
      ],
      "text/plain": [
       "<IPython.core.display.SVG object>"
      ]
     },
     "metadata": {},
     "output_type": "display_data"
    },
    {
     "data": {
      "image/svg+xml": [
       "<svg baseProfile=\"full\" height=\"67.6353909232\" version=\"1.1\" width=\"67.0805270225\" xmlns=\"http://www.w3.org/2000/svg\" xmlns:ev=\"http://www.w3.org/2001/xml-events\" xmlns:xlink=\"http://www.w3.org/1999/xlink\"><defs/><rect fill=\"white\" height=\"67.6353909232\" width=\"67.0805270225\" x=\"0\" y=\"0\"/><path d=\"M31.48901862,28.7784318533 m-2.66934454441,-2.09237873554 l-1.82473093271,-0.908090621233 -0.843700394034,0.0375941209495 l-0.736930891871,1.40976473689 0.000782973147579,3.66191208363 l0.61392955482,2.44831353426 0.762828662992,0.857643261552 l1.38563975692,0.0829962920398 m5.81752598286,-6.20415329933 l0.62497459352,-1.45053580403 2.07342460752,-1.30534440279 l2.15662509203,-0.316153019667 1.66928753257,0.746474117041 l1.13962270319,1.85804054141 0.421573705971,2.5993642211 l-0.384549945593,2.5171855092 -1.10892578959,1.63437262177 l-2.4771246314,1.14399336278 -2.59062439203,-0.00115527138405 m-4.93872016668,-1.96334525943 l-0.948025435209,4.15799736977 -0.963897332549,3.04449379444 l-0.799399539828,1.12857468426 -1.40044748783,0.769395232201 l-0.953995808959,-0.168770998716 -0.514816492796,-0.925301983953 l0.979352816939,-3.03222566843 2.4355687201,-2.70453065634 m2.5860196352,0.544093251228 l-0.0489381141961,1.22383125126 0.25087878108,-0.0583798717707 l-0.0831765215844,-1.14269524813 m-1.67700648308,-3.23646366596 l-0.399399138987,0.913272872567 m-0.968513861299,-2.17970192432 l-0.56685000658,-0.164457149804 -0.000112445468403,-0.354979410768 m4.4103705883,-0.490410402417 l2.26196542382,-1.44870877266 \" fill=\"none\" stroke=\"black\" stroke-width=\"1\"/></svg>"
      ],
      "text/plain": [
       "<IPython.core.display.SVG object>"
      ]
     },
     "metadata": {},
     "output_type": "display_data"
    },
    {
     "name": "stdout",
     "output_type": "stream",
     "text": [
      "---------\n"
     ]
    },
    {
     "data": {
      "image/svg+xml": [
       "<svg baseProfile=\"full\" height=\"69.6829221956\" version=\"1.1\" width=\"69.1297326423\" xmlns=\"http://www.w3.org/2000/svg\" xmlns:ev=\"http://www.w3.org/2001/xml-events\" xmlns:xlink=\"http://www.w3.org/1999/xlink\"><defs/><rect fill=\"white\" height=\"69.6829221956\" width=\"69.1297326423\" x=\"0\" y=\"0\"/><path d=\"M31.6088198125,44.5307364501 m-1.86866477132,0.152185745537 l-1.96530297399,-0.670103132725 -1.33812382817,-1.31370604038 l-1.03772453964,-1.88453286886 -0.399003699422,-2.17444986105 l0.347881354392,-2.24833652377 1.17532111704,-1.84574618936 l1.96483001113,-1.47983133793 3.98383110762,-1.2694427371 l4.20938491821,0.26241902262 1.94009497762,0.785436481237 l1.58853456378,1.27237260342 1.08096301556,1.60195574164 l0.472441874444,2.16615363955 -0.269372556359,2.06644058228 l-1.11963018775,1.82409599423 -1.96663945913,1.46589785814 l-2.99078822136,1.04962445796 -4.10494506359,0.244681704789 l-1.97832390666,-0.544183813035 m9.47149097919,-13.0517327785 l4.81490671635,-5.01092433929 0.509751401842,1.05675786734 l-0.83025187254,6.06239557266 -0.489253588021,3.72317761183 m-12.8284478188,-4.7463336587 l-2.11235433817,-5.78271508217 -1.0361277312,-1.24229297042 l-1.18494108319,3.74338984489 -0.474749542773,5.14246165752 m7.19476461411,4.34281140566 l0.000175753648364,0.000225974508794 m2.3062415421,-0.284230075777 l-0.000420306678279,0.000103819938886 m-3.12202185392,-0.864241868258 l-0.000174388042069,0.000710088424967 \" fill=\"none\" stroke=\"black\" stroke-width=\"1\"/></svg>"
      ],
      "text/plain": [
       "<IPython.core.display.SVG object>"
      ]
     },
     "metadata": {},
     "output_type": "display_data"
    },
    {
     "data": {
      "image/svg+xml": [
       "<svg baseProfile=\"full\" height=\"65.6496390972\" version=\"1.1\" width=\"72.5495326519\" xmlns=\"http://www.w3.org/2000/svg\" xmlns:ev=\"http://www.w3.org/2001/xml-events\" xmlns:xlink=\"http://www.w3.org/1999/xlink\"><defs/><rect fill=\"white\" height=\"65.6496390972\" width=\"72.5495326519\" x=\"0\" y=\"0\"/><path d=\"M32.4639484775,25.6094898126 m-0.672473087907,0.291666910052 l-1.96454823017,4.06213074923 0.134557643905,7.42981255054 l1.56729966402,0.474743619561 3.20451378822,0.0044263683958 l3.38667005301,-0.691541954875 1.626419276,-0.950616374612 l1.26728802919,-1.67817771435 0.615341030061,-2.22913146019 l-0.000698661824572,-2.81835645437 -0.647542774677,-1.54653906822 l-3.79878371954,-2.55939394236 -2.28374123573,-0.398513041437 l-2.51737058163,1.48847891523e-05 m-0.895292386413,2.20860004425 l-1.40071347356,0.353935174644 -1.51166781783,1.24901786447 l-1.99755340815,3.47317248583 -0.929023176432,2.76523828506 l-0.646629408002,2.67638891935 0.460160411894,0.544239096344 l0.674402713776,-1.48575998082e-05 1.05684876442,-1.1840800941 l2.70396262407,-6.6994792223 1.08290702105,-1.44759774208 l1.13014817238,-0.493859834969 m7.82111942768,-2.20278412104 l1.63837879896,-0.750559940934 3.06267380714,0.225380919874 l1.18953615427,0.920616313815 1.13745301962,2.32105746865 l0.591941736639,3.49245160818 -0.000501405593241,4.91336107254 l-1.00073479116,2.9329302907 -1.20922736824,0.351610481739 l-1.21589742601,-0.954292491078 -0.824230164289,-1.67672634125 l-0.811483487487,-4.54904049635 -0.962193012238,-0.95455929637 l-2.0479939878,-0.458125695586 \" fill=\"none\" stroke=\"black\" stroke-width=\"1\"/></svg>"
      ],
      "text/plain": [
       "<IPython.core.display.SVG object>"
      ]
     },
     "metadata": {},
     "output_type": "display_data"
    },
    {
     "name": "stdout",
     "output_type": "stream",
     "text": [
      "---------\n"
     ]
    },
    {
     "data": {
      "image/svg+xml": [
       "<svg baseProfile=\"full\" height=\"77.0366065204\" version=\"1.1\" width=\"83.2521402463\" xmlns=\"http://www.w3.org/2000/svg\" xmlns:ev=\"http://www.w3.org/2001/xml-events\" xmlns:xlink=\"http://www.w3.org/1999/xlink\"><defs/><rect fill=\"white\" height=\"77.0366065204\" width=\"83.2521402463\" x=\"0\" y=\"0\"/><path d=\"M56.288604252,33.8175136968 m0.38495130837,-0.568522624671 l-0.249559041113,-0.598224252462 -2.67488896847,-1.13765113056 l-6.00647985935,-0.696446895599 -5.24907588959,0.319157131016 l-4.70817029476,1.26614421606 -3.90036404133,1.95837020874 l-3.04949164391,2.58975744247 -1.85069814324,2.88330644369 l-0.8129568398,4.88291889429 0.813678428531,2.72929787636 l0.95738068223,1.3692201674 1.61505252123,1.37056320906 l2.15875908732,1.04800373316 2.7537047863,0.632600262761 l5.16937613487,0.170598141849 5.72094976902,-1.08010224998 l4.29184496403,-1.72164469957 3.11383754015,-2.10266232491 l1.94162279367,-2.22777724266 1.04614421725,-2.45531946421 l0.203431490809,-4.07924324274 -0.959474593401,-2.96677052975 l-1.69969812036,-2.42375701666 -2.24292978644,-1.74546763301 l-2.62875676155,-0.968566685915 m-22.082221508,6.88226222992 l-3.34457248449,-8.88432383537 0.472897514701,-0.790990516543 l1.97927832603,0.911969393492 6.44857406616,4.63011056185 m17.4933600426,-2.217810601 l2.65518069267,-2.76014596224 3.75747829676,-3.03636670113 l0.445371307433,1.22548729181 -0.189910680056,3.74526560307 l-1.39142617583,6.77120447159 0.0606055511162,1.35007366538 \" fill=\"none\" stroke=\"black\" stroke-width=\"1\"/></svg>"
      ],
      "text/plain": [
       "<IPython.core.display.SVG object>"
      ]
     },
     "metadata": {},
     "output_type": "display_data"
    },
    {
     "data": {
      "image/svg+xml": [
       "<svg baseProfile=\"full\" height=\"72.1117232068\" version=\"1.1\" width=\"78.9259817079\" xmlns=\"http://www.w3.org/2000/svg\" xmlns:ev=\"http://www.w3.org/2001/xml-events\" xmlns:xlink=\"http://www.w3.org/1999/xlink\"><defs/><rect fill=\"white\" height=\"72.1117232068\" width=\"78.9259817079\" x=\"0\" y=\"0\"/><path d=\"M42.6630349385,30.4498882106 m-0.0859498139471,-0.655461624265 l-5.39116561413,-0.0775142200291 -2.46105924249,0.678759738803 l-1.16495348513,0.812839567661 -0.937199741602,1.28806039691 l-1.5972866118,6.60618007183 0.000121712764667,3.50605934858 l0.741761550307,1.7670930922 2.72492587566,2.24422633648 l1.98010623455,0.491592288017 3.20605009794,-7.12162454874e-05 l1.86257123947,-0.744712352753 2.9642033577,-2.74292618036 l2.06665292382,-4.44538712502 -0.000696452625562,-3.15538495779 l-0.5724080652,-1.72108888626 -1.05795279145,-1.3906276226 l-2.68893331289,-1.8514944613 m-8.73951137066,0.570190399885 l-1.5629145503,-1.53273373842 -2.04341396689,-1.57963901758 l-1.49240344763,-0.554357580841 -2.39560127258,0.171542260796 l-1.01797819138,1.54390364885 0.301012583077,4.29500341415 l2.3407740891,1.08561865985 3.26105684042,-2.24237903953 m13.5320436954,-2.66487449408 l0.778838098049,-1.97132021189 1.73621430993,-1.83727353811 l3.4708788991,-1.34371116757 2.08408325911,0.28840849176 l1.42107993364,1.51421621442 -0.398086830974,6.0867702961 l-3.52548927069,1.30159333348 -2.95460402966,-0.874854847789 l-1.8577606976,-0.651974603534 m-10.5057036877,2.40035757422 l-0.638331398368,-0.523729734123 -0.220138523728,-0.183422844857 \" fill=\"none\" stroke=\"black\" stroke-width=\"1\"/></svg>"
      ],
      "text/plain": [
       "<IPython.core.display.SVG object>"
      ]
     },
     "metadata": {},
     "output_type": "display_data"
    },
    {
     "name": "stdout",
     "output_type": "stream",
     "text": [
      "---------\n"
     ]
    },
    {
     "data": {
      "image/svg+xml": [
       "<svg baseProfile=\"full\" height=\"69.5322662033\" version=\"1.1\" width=\"69.128660101\" xmlns=\"http://www.w3.org/2000/svg\" xmlns:ev=\"http://www.w3.org/2001/xml-events\" xmlns:xlink=\"http://www.w3.org/1999/xlink\"><defs/><rect fill=\"white\" height=\"69.5322662033\" width=\"69.128660101\" x=\"0\" y=\"0\"/><path d=\"M36.8937087408,29.9497794174 m-2.83533841372,1.05752564967 l-4.05699640512,2.22394943237 -1.59467533231,1.70467317104 l-0.838080048561,2.13264361024 0.0487062241882,3.15354943275 l1.55708387494,2.19182059169 4.31282818317,1.83366015553 l4.45935755968,0.284664742649 2.06110984087,-0.400717481971 l1.70470505953,-0.962586030364 1.85314685106,-2.12534368038 l0.563103966415,-1.91243603826 -0.0714840181172,-3.51846367121 l-2.32387527823,-3.94247710705 -1.42567738891,-1.11054308712 l-1.9872482121,-0.632003620267 -2.0476333797,0.15646064654 m-5.24673581123,1.52445361018 l-0.296431705356,-1.10573641956 -0.717705711722,-4.32720541954 l-0.168531108648,-1.12854070961 2.2083042562,3.33759516478 l1.70537009835,2.61133730412 0.803471207619,0.471939407289 m6.18503987789,-0.692892819643 l1.14886581898,-2.51539766788 2.12230309844,-3.25970858335 l0.0138654862531,5.75900554657 -0.730117931962,3.33143889904 m-10.1898038387,3.05497765541 l-3.10256779194,0.244095809758 -2.40886822343,0.695094019175 l-1.5645955503,0.842189267278 -0.828083232045,0.950026214123 l-0.206520762295,1.04780517519 m7.73047149181,-6.13354086876 l0.000413247653341,0.000333639181918 \" fill=\"none\" stroke=\"black\" stroke-width=\"1\"/></svg>"
      ],
      "text/plain": [
       "<IPython.core.display.SVG object>"
      ]
     },
     "metadata": {},
     "output_type": "display_data"
    },
    {
     "data": {
      "image/svg+xml": [
       "<svg baseProfile=\"full\" height=\"89.5824171789\" version=\"1.1\" width=\"95.0621500704\" xmlns=\"http://www.w3.org/2000/svg\" xmlns:ev=\"http://www.w3.org/2001/xml-events\" xmlns:xlink=\"http://www.w3.org/1999/xlink\"><defs/><rect fill=\"white\" height=\"89.5824171789\" width=\"95.0621500704\" x=\"0\" y=\"0\"/><path d=\"M31.6936006024,34.0264806896 m-3.16373348236,3.75676393509 l-3.02191913128,5.5296599865 -0.507947988808,3.44928383827 l0.873368158937,2.40145534277 1.68011635542,1.11770391464 l1.64328068495,0.206134691834 2.05506801605,-0.713684111834 l1.82992637157,-1.69798627496 1.49639904499,-2.56869226694 l1.15222737193,-4.63043153286 m-2.16769188643,-0.163135137409 l0.238745715469,4.21284586191 0.947470515966,9.74922180176 l0.893432945013,2.85460650921 1.83416724205,2.85874933004 l2.73714780807,2.30021163821 3.36460620165,1.4054428041 l3.78789156675,0.487786158919 3.67415517569,-0.567227825522 l2.84568697214,-1.80775210261 5.49935877323,-9.6895211935 l2.04632341862,-14.5158493519 0.484724529088,-2.60803580284 l0.12475755997,0.72688177228 0.275626648217,6.4159566164 l0.804759338498,2.70018517971 1.05265066028,1.19401969016 l1.76027819514,0.447723977268 1.41634106636,-0.297385882586 l1.54461547732,-1.54315173626 1.16671614349,-2.73898154497 l-0.00113035857794,-4.94875282049 -0.854093581438,-2.24447667599 l-3.20755749941,-3.76439720392 -4.11169528961,-2.44414061308 l-8.39343309402,-2.43041411042 -9.78020250797,-1.46709755063 l-6.18521511555,0.00138415794936 -3.92377883196,0.780833959579 l-2.78914570808,1.36610135436 \" fill=\"none\" stroke=\"black\" stroke-width=\"1\"/></svg>"
      ],
      "text/plain": [
       "<IPython.core.display.SVG object>"
      ]
     },
     "metadata": {},
     "output_type": "display_data"
    },
    {
     "name": "stdout",
     "output_type": "stream",
     "text": [
      "---------\n"
     ]
    },
    {
     "data": {
      "image/svg+xml": [
       "<svg baseProfile=\"full\" height=\"77.2357128188\" version=\"1.1\" width=\"79.1695781052\" xmlns=\"http://www.w3.org/2000/svg\" xmlns:ev=\"http://www.w3.org/2001/xml-events\" xmlns:xlink=\"http://www.w3.org/1999/xlink\"><defs/><rect fill=\"white\" height=\"77.2357128188\" width=\"79.1695781052\" x=\"0\" y=\"0\"/><path d=\"M44.5147887617,31.8332184665 m-0.967790856957,-1.45180717111 l-6.21088147163,-0.234261658043 -4.66760694981,1.71570837498 l-3.39932203293,2.31856703758 -2.58681029081,2.92227208614 l-1.6823771596,3.45523476601 0.247589312494,7.61871874332 l2.22078531981,2.39335805178 3.07579219341,1.33787423372 l5.1012969017,0.326829887927 2.86503702402,-0.471408851445 l4.64839041233,-1.69477984309 3.65469366312,-2.26477310061 l2.63727158308,-2.52461344004 1.59455358982,-2.54932492971 l0.730457529426,-2.62369662523 -0.362370610237,-3.79339486361 l-1.60821959376,-2.32397228479 -3.52061808109,-2.4986474216 m-19.5743668079,5.50912559032 l-0.338294543326,-0.935110524297 0.228911712766,-1.87755510211 l1.16037391126,-4.33455318213 1.44135907292,-2.91319221258 l1.6560921073,-1.93981602788 0.618478357792,0.0545350415632 l0.868566855788,1.68562561274 1.92328587174,4.74960714579 l1.02661751211,1.02960176766 0.909903869033,0.128835150972 m9.22859609127,-1.05963476002 l3.5678678751,-3.19769948721 4.75539833307,-3.27110409737 l0.412128642201,1.8444673717 -1.06048874557,7.27093398571 l-0.17053687945,1.64466544986 -0.541055724025,1.78475886583 \" fill=\"none\" stroke=\"black\" stroke-width=\"1\"/></svg>"
      ],
      "text/plain": [
       "<IPython.core.display.SVG object>"
      ]
     },
     "metadata": {},
     "output_type": "display_data"
    },
    {
     "data": {
      "image/svg+xml": [
       "<svg baseProfile=\"full\" height=\"65.3286815933\" version=\"1.1\" width=\"69.7945393715\" xmlns=\"http://www.w3.org/2000/svg\" xmlns:ev=\"http://www.w3.org/2001/xml-events\" xmlns:xlink=\"http://www.w3.org/1999/xlink\"><defs/><rect fill=\"white\" height=\"65.3286815933\" width=\"69.7945393715\" x=\"0\" y=\"0\"/><path d=\"M32.0902071148,25.1201656074 m-4.24463182688,2.27874025702 l-2.40256503224,4.04489666224 -0.443010255694,3.7903791666 l0.490644127131,1.09919063747 1.38564378023,-0.0397727871314 l1.99029415846,-3.24094980955 1.25416994095,-1.73386052251 l1.10755160451,-0.110813565552 0.0401496794075,5.20525813103 l0.823396444321,3.03157955408 1.62385448813,0.883868262172 l1.75502836704,-0.000598890219408 1.51677668095,-1.04525640607 l0.973739326,-2.03132241964 0.257229339331,-3.97739738226 l0.775314196944,-0.33164832741 1.95373937488,4.44171190262 l1.70309975743,2.15287819505 1.55264824629,-0.664251670241 l0.591259859502,-2.48623386025 -0.00083417238784,-4.50098127127 l-4.16069746017,-5.14057338238 -5.46373903751,-1.7450080812 l-3.99854958057,0.000396415089199 -1.7005866766,0.822296589613 l-1.0815346241,1.40542179346 m4.38736319542,4.56123650074 l0.0783703196794,0.84793202579 0.525426231325,-0.34595835954 l-0.577571950853,-0.643845722079 -0.466032400727,0.179918557405 m3.8317579031,-0.230268482119 l-0.0792421493679,0.540368743241 0.319831334054,-0.345221608877 l-0.591796152294,-0.266637578607 m-2.82243311405,0.946257561445 l0.097441682592,1.3342538476 0.658220127225,0.28715390712 l0.591548606753,-0.369746461511 -0.000620298160356,-1.03995017707 \" fill=\"none\" stroke=\"black\" stroke-width=\"1\"/></svg>"
      ],
      "text/plain": [
       "<IPython.core.display.SVG object>"
      ]
     },
     "metadata": {},
     "output_type": "display_data"
    },
    {
     "name": "stdout",
     "output_type": "stream",
     "text": [
      "---------\n"
     ]
    },
    {
     "data": {
      "image/svg+xml": [
       "<svg baseProfile=\"full\" height=\"75.3412096971\" version=\"1.1\" width=\"67.3619448603\" xmlns=\"http://www.w3.org/2000/svg\" xmlns:ev=\"http://www.w3.org/2001/xml-events\" xmlns:xlink=\"http://www.w3.org/1999/xlink\"><defs/><rect fill=\"white\" height=\"75.3412096971\" width=\"67.3619448603\" x=\"0\" y=\"0\"/><path d=\"M29.41299133,34.6516937535 m-0.687113776803,-2.02808916569 l-1.84366077185,-3.34097087383 -1.44137829542,-1.67424038053 l-0.440838485956,3.69148522615 0.630960911512,5.75054645538 m3.84476512671,-2.67058193684 l1.8766464293,-1.21402315795 3.43652516603,-0.303994882852 m2.1995562315,-2.3353418328e-05 l2.726174891,-4.14488226175 2.6417902112,-3.71691942215 l-0.0342002487741,6.49805009365 -0.17186941579,4.25908893347 m-15.3797578812,1.52894005179 l-0.325619280338,2.15149730444 0.213139466941,5.42283594608 l1.29093423486,2.74073988199 2.13999852538,1.84018582106 l2.70824939013,0.899642705917 3.2670083642,0.00022895870643 l1.66149094701,-0.715573132038 2.38747060299,-2.39002630115 l1.45987540483,-2.88771092892 0.788805782795,-4.8005887866 l-0.364815592766,-3.47023248672 -0.584064759314,-1.01682953537 l-1.08943238854,-0.53827740252 m-10.9981477261,4.5031479001 l-0.341905876994,-1.14123120904 -0.202041920274,-3.35778415203 l1.39331296086,1.8382011354 0.565480180085,0.969664230943 m7.79127418995,-0.871225297451 l0.11224752292,-1.95426613092 0.861447304487,-1.8230253458 l0.552729330957,3.20276290178 -0.260775182396,1.39085799456 l-0.728644132614,0.497778952122 \" fill=\"none\" stroke=\"black\" stroke-width=\"1\"/></svg>"
      ],
      "text/plain": [
       "<IPython.core.display.SVG object>"
      ]
     },
     "metadata": {},
     "output_type": "display_data"
    },
    {
     "data": {
      "image/svg+xml": [
       "<svg baseProfile=\"full\" height=\"73.9827622031\" version=\"1.1\" width=\"82.9300083779\" xmlns=\"http://www.w3.org/2000/svg\" xmlns:ev=\"http://www.w3.org/2001/xml-events\" xmlns:xlink=\"http://www.w3.org/1999/xlink\"><defs/><rect fill=\"white\" height=\"73.9827622031\" width=\"82.9300083779\" x=\"0\" y=\"0\"/><path d=\"M33.6294126511,26.3965851443 m-2.97869682312,0.166341979057 l-4.1350787878,1.85322806239 -1.51563704014,2.09465146065 l0.297046694905,4.88029897213 1.10656760633,1.22439034283 l1.17092378438,-0.000374827286578 1.63085579872,-1.77352577448 l1.08243480325,-2.22937107086 0.787242352962,0.449702180922 l0.421680435538,2.23795548081 -0.691023394465,6.98974132538 l-0.666997954249,3.49045485258 -0.419751517475,2.08844542503 l0.538163855672,0.570488199592 2.91770547628,0.543750450015 l2.97650367022,-0.378809422255 1.93650960922,-1.25632181764 l1.54390528798,-2.97988533974 -0.66640175879,-7.02078342438 l-0.204779058695,-3.95465195179 5.79581022263,0.0214346055873 l4.24281477928,0.713048875332 1.78091138601,1.24563440681 l1.39312297106,1.56250819564 1.09787210822,2.37144842744 l1.32792115211,1.22978135943 1.76091656089,0.0280370330438 l0.949353352189,-0.610723905265 0.820700153708,-2.23362445831 l-0.000869833384058,-2.7132666111 -0.78356012702,-1.6029240191 l-3.48846465349,-3.81518870592 -2.562456429,-2.75507211685 l-1.85481712222,-1.04612737894 -3.53471755981,-0.787275955081 l-3.38456481695,0.00150478197611 -1.80628374219,0.814092755318 l-2.27109849453,1.17622226477 -1.80512696505,0.602565780282 \" fill=\"none\" stroke=\"black\" stroke-width=\"1\"/></svg>"
      ],
      "text/plain": [
       "<IPython.core.display.SVG object>"
      ]
     },
     "metadata": {},
     "output_type": "display_data"
    },
    {
     "name": "stdout",
     "output_type": "stream",
     "text": [
      "---------\n"
     ]
    },
    {
     "data": {
      "image/svg+xml": [
       "<svg baseProfile=\"full\" height=\"85.0316977847\" version=\"1.1\" width=\"83.8812236488\" xmlns=\"http://www.w3.org/2000/svg\" xmlns:ev=\"http://www.w3.org/2001/xml-events\" xmlns:xlink=\"http://www.w3.org/1999/xlink\"><defs/><rect fill=\"white\" height=\"85.0316977847\" width=\"83.8812236488\" x=\"0\" y=\"0\"/><path d=\"M43.6937753763,38.8981270764 m-1.52649357915,-0.526759289205 l-2.43712589145,0.0968628376722 -4.22383368015,1.27634763718 l-2.80432581902,1.81533366442 -2.67974376678,2.61566191912 l-2.08871513605,3.09239506721 -1.16495616734,3.16101282835 l-0.0532203074545,3.30763310194 1.11440956593,2.19474956393 l2.1448725462,1.8976894021 3.01181554794,1.4509062469 l3.28381150961,0.751737728715 4.33330208063,-3.31431692757e-05 l3.9739587903,-1.47565126419 1.7825615406,-1.52351230383 l1.22327812016,-2.07783386111 0.782340168953,-4.18341040611 l-0.857126191258,-5.36410570145 -1.5922293067,-3.28870505095 l-1.88534706831,-2.33281552792 -2.09432393312,-1.5016297996 l-2.31425136328,-0.739859044552 -2.26193934679,0.0515911262482 m-8.60908389091,5.69371819496 l-2.460899055,-12.1192371845 -1.29051074386,-6.17021381855 l6.35698139668,9.03745055199 3.35285007954,3.87647122145 l1.52352258563,1.14364996552 m7.19523072243,1.06400594115 l9.12134289742,-6.79741799831 6.3312959671,-3.44619601965 l-6.09418332577,10.9820842743 -5.22022724152,7.29981958866 l-1.29447281361,1.61273673177 m-11.1162507534,-2.85409361124 l-1.90283715725,1.00852631032 -2.95424193144,1.98740467429 \" fill=\"none\" stroke=\"black\" stroke-width=\"1\"/></svg>"
      ],
      "text/plain": [
       "<IPython.core.display.SVG object>"
      ]
     },
     "metadata": {},
     "output_type": "display_data"
    },
    {
     "data": {
      "image/svg+xml": [
       "<svg baseProfile=\"full\" height=\"66.8146317299\" version=\"1.1\" width=\"75.9524171172\" xmlns=\"http://www.w3.org/2000/svg\" xmlns:ev=\"http://www.w3.org/2001/xml-events\" xmlns:xlink=\"http://www.w3.org/1999/xlink\"><defs/><rect fill=\"white\" height=\"66.8146317299\" width=\"75.9524171172\" x=\"0\" y=\"0\"/><path d=\"M43.9769171891,25 m-7.55341827869,0.322706736624 l-3.22722822428,0.985118076205 -1.64055049419,1.38100430369 l-1.55314743519,2.64368891716 -0.70082873106,3.43057960272 l-0.000350434820575,3.58381569386 0.862094163895,1.91652879119 l2.6477855444,1.7612297833 3.99171888828,0.776874125004 l4.03757601976,-0.00107267536805 2.33850076795,-0.673582106829 l2.28524833918,-1.57569989562 1.50062978268,-2.31674998999 l0.625889599323,-4.09651070833 -2.9805329442,-5.96797645092 l-2.80551254749,-1.89167708158 m-11.6940736771,7.05488204956 l-2.63590961695,4.59335386753 -2.147321105,3.58599990606 l-0.327486805618,0.748529210687 0.578558556736,0.553589574993 l1.815636307,-1.16234526038 2.64176636934,-4.59070265293 l1.44234806299,-4.02047038078 m11.2434601784,-3.70589494705 l1.34316414595,1.37995898724 1.78728371859,1.92395240068 l1.73632204533,1.32733911276 1.56305477023,0.439210757613 l1.01759262383,-0.251820217818 0.782898887992,-1.17888942361 l0.000331450828526,-1.57731130719 -1.05406023562,-1.86355605721 l-2.29362860322,-1.67031109333 -4.38101351261,-0.54196767509 m-7.17837274075,5.25304973125 l4.88319892611e-05,0.00125044331071 m5.67147612572,0.300751645118 l0.000543096539332,0.000707257277099 \" fill=\"none\" stroke=\"black\" stroke-width=\"1\"/></svg>"
      ],
      "text/plain": [
       "<IPython.core.display.SVG object>"
      ]
     },
     "metadata": {},
     "output_type": "display_data"
    },
    {
     "name": "stdout",
     "output_type": "stream",
     "text": [
      "---------\n"
     ]
    },
    {
     "data": {
      "image/svg+xml": [
       "<svg baseProfile=\"full\" height=\"89.5890538394\" version=\"1.1\" width=\"80.0903268158\" xmlns=\"http://www.w3.org/2000/svg\" xmlns:ev=\"http://www.w3.org/2001/xml-events\" xmlns:xlink=\"http://www.w3.org/1999/xlink\"><defs/><rect fill=\"white\" height=\"89.5890538394\" width=\"80.0903268158\" x=\"0\" y=\"0\"/><path d=\"M43.4590150416,34.5471820422 m-1.72355994582,-1.66985750198 l-2.73924320936,-2.18769744039 -5.67766070366,-1.55307158828 l-3.34055662155,-0.238775815815 -2.50744372606,0.619738139212 l-0.743299201131,1.08694627881 0.335994362831,5.31474530697 m21.0754704475,-1.25816255808 l4.06193137169,-7.84403443336 1.77444279194,-1.81701242924 l0.551773570478,8.63133251667 0.563462637365,5.09075462818 m-7.3960095644,-3.62846553326 l0.426045507193,-2.53361731768 0.802581682801,-3.90780508518 m-19.4053173065,4.31196480989 l-1.24390415847,1.49244755507 -1.34865134954,2.57455229759 l-1.53476506472,5.28972029686 -0.390306562185,4.71918284893 l0.468316785991,4.40829396248 1.19501724839,3.81674140692 l2.92235553265,5.17529368401 2.81347692013,2.58994221687 l3.53007853031,1.55871555209 4.11181390285,-7.82480219641e-05 l2.37118959427,-0.769524425268 4.04138296843,-2.81309902668 l4.02141481638,-5.30805468559 2.1191047132,-10.4796183109 l-0.588452890515,-7.55503177643 -0.841032937169,-2.15100318193 m-20.805182457,3.30366194248 l0.875774174929,2.02854350209 1.49725303054,3.33769142628 l4.63263124228,3.39303016663 \" fill=\"none\" stroke=\"black\" stroke-width=\"1\"/></svg>"
      ],
      "text/plain": [
       "<IPython.core.display.SVG object>"
      ]
     },
     "metadata": {},
     "output_type": "display_data"
    },
    {
     "data": {
      "image/svg+xml": [
       "<svg baseProfile=\"full\" height=\"68.9013140968\" version=\"1.1\" width=\"77.7793879807\" xmlns=\"http://www.w3.org/2000/svg\" xmlns:ev=\"http://www.w3.org/2001/xml-events\" xmlns:xlink=\"http://www.w3.org/1999/xlink\"><defs/><rect fill=\"white\" height=\"68.9013140968\" width=\"77.7793879807\" x=\"0\" y=\"0\"/><path d=\"M32.1990480068,29.3929302267 m-0.0798681098968,6.47604942322 l-0.446332842112,5.20337164402 0.226955134422,1.02763496339 l0.775689780712,0.81005319953 2.56133913994,0.991274639964 l3.85340034962,-0.000128109822981 3.35832923651,-2.52580493689 l1.79136887193,-4.44523841143 0.411078929901,-3.77121627331 l-0.800881162286,-4.83285754919 -0.93836709857,-1.82718023658 l-1.3206115365,-1.12950772047 -3.29657644033,0.000463128199044 l-3.49492877722,2.06452012062 -2.39059656858,2.45376199484 l-1.26163944602,2.6241517067 m1.48325815797,-3.75536113977 l-0.924473553896,-0.641891956329 -1.45370006561,0.0612086849287 l-2.94014692307,1.71466648579 -1.47961512208,2.18351006508 l-0.831578150392,2.61358827353 -0.00115181122965,2.72406995296 l1.24623097479,0.44155228883 1.82161480188,-0.755274742842 l2.48142808676,-3.78459960222 m12.4771142006,-6.12207591534 l0.808321908116,-1.04761458933 2.63593584299,-1.14373899996 l2.64148443937,-0.000316614787153 1.81160464883,1.16575166583 l1.28427967429,2.1339187026 0.571373403072,2.59852349758 l-2.21592628691e-06,2.51502156258 -1.27919450402,1.00862450898 l-1.89140453935,-0.00104758291855 -2.98616826534,-2.62223541737 l-0.893672406673,-1.5737195313 m-6.46071255207,-1.84866562486 l0.000608373629802,0.00119335047202 \" fill=\"none\" stroke=\"black\" stroke-width=\"1\"/></svg>"
      ],
      "text/plain": [
       "<IPython.core.display.SVG object>"
      ]
     },
     "metadata": {},
     "output_type": "display_data"
    },
    {
     "name": "stdout",
     "output_type": "stream",
     "text": [
      "---------\n"
     ]
    },
    {
     "data": {
      "image/svg+xml": [
       "<svg baseProfile=\"full\" height=\"71.7672531027\" version=\"1.1\" width=\"68.4199605975\" xmlns=\"http://www.w3.org/2000/svg\" xmlns:ev=\"http://www.w3.org/2001/xml-events\" xmlns:xlink=\"http://www.w3.org/1999/xlink\"><defs/><rect fill=\"white\" height=\"71.7672531027\" width=\"68.4199605975\" x=\"0\" y=\"0\"/><path d=\"M30.2201359347,41.6916153487 m-1.82447507977,0.307234618813 l-1.36208370328,-0.313174650073 -1.2852229178,-1.20581634343 l-0.704755634069,-2.01970532537 -0.0435985997319,-2.62823462486 l0.726641863585,-2.55126595497 1.37531742454,-2.13110849261 l1.75157278776,-1.53411224484 2.10585832596,-0.947191640735 l3.48900854588,-0.4474055022 3.72672230005,1.79213270545 l3.01653832197,3.69848251343 0.999471098185,3.65738630295 l-0.134323677048,3.18395555019 -1.09867237508,2.50464975834 l-1.77861213684,1.73601552844 -3.04831504822,1.46285831928 l-2.61567920446,0.510937236249 -2.26876884699,-0.127193592489 l-1.89842447639,-0.786029994488 -1.47714570165,-1.3954885304 l-0.855433046818,-1.88565224409 -0.194932557642,-2.21770465374 m1.22346065938,-8.64306628704 l-0.860290974379,-0.913975015283 -0.754427984357,-1.73816174269 l-0.805592611432,-3.25658917427 0.696403309703,0.0758454110473 l3.15251708031,3.7907025218 1.78454011679,1.26972526312 m8.53595852852,-0.689330324531 l3.2153403759,-5.25033473969 0.411228500307,1.13823883235 l-0.399003513157,4.42877978086 -0.859546810389,2.39972189069 \" fill=\"none\" stroke=\"black\" stroke-width=\"1\"/></svg>"
      ],
      "text/plain": [
       "<IPython.core.display.SVG object>"
      ]
     },
     "metadata": {},
     "output_type": "display_data"
    },
    {
     "data": {
      "image/svg+xml": [
       "<svg baseProfile=\"full\" height=\"71.2007770481\" version=\"1.1\" width=\"88.0273080617\" xmlns=\"http://www.w3.org/2000/svg\" xmlns:ev=\"http://www.w3.org/2001/xml-events\" xmlns:xlink=\"http://www.w3.org/1999/xlink\"><defs/><rect fill=\"white\" height=\"71.2007770481\" width=\"88.0273080617\" x=\"0\" y=\"0\"/><path d=\"M34.2716285537,46.2007770481 m-0.164241995662,-1.25340282917 l-2.10884585977,-2.84032404423 -0.594306439161,-2.30908468366 l0.424147471786,-4.57013219595 1.30991280079,-1.76584124565 l3.83682519197,-1.9019305706 7.54209160805,-0.985441654921 l2.90408432484,7.96560107119e-05 1.43772661686,0.486304424703 l1.41974449158,1.33750215173 0.584492199123,1.37512683868 l-0.000851391523611,3.01034361124 -1.3746997714,1.63924783468 l-3.8835683465,1.87302216887 -6.10773742199,1.50162577629 l-5.52293002605,-0.00193080602912 m0.0904843583703,-6.88756167889 l-2.2635281086,-3.25945228338 -3.06748092175,-2.4937479198 l-2.80036628246,0.274679083377 -0.932581052184,2.16559022665 l0.45921228826,6.48182272911 1.52056887746,1.31840273738 l2.24171549082,0.000615373573964 1.68759703636,-2.2817312181 l0.721519812942,-2.21173599362 0.895802676678,-0.695672258735 l1.7270372808,0.000345769367414 m15.5241584778,-3.15113604069 l0.683930143714,-1.6616012156 2.54563212395,-2.89461255074 l3.57757896185,-1.50014624 2.91244357824,0.00208160403417 l2.15424656868,0.960019007325 1.37586474419,1.73449665308 l-0.000721171600162,2.76389032602 -1.67232319713,1.7489336431 l-4.51136946678,1.4971318841 -4.03882235289,0.618771612644 l-2.75829106569,-0.147522101179 \" fill=\"none\" stroke=\"black\" stroke-width=\"1\"/></svg>"
      ],
      "text/plain": [
       "<IPython.core.display.SVG object>"
      ]
     },
     "metadata": {},
     "output_type": "display_data"
    },
    {
     "name": "stdout",
     "output_type": "stream",
     "text": [
      "---------\n"
     ]
    },
    {
     "data": {
      "image/svg+xml": [
       "<svg baseProfile=\"full\" height=\"80.5883688818\" version=\"1.1\" width=\"72.1630201489\" xmlns=\"http://www.w3.org/2000/svg\" xmlns:ev=\"http://www.w3.org/2001/xml-events\" xmlns:xlink=\"http://www.w3.org/1999/xlink\"><defs/><rect fill=\"white\" height=\"80.5883688818\" width=\"72.1630201489\" x=\"0\" y=\"0\"/><path d=\"M31.3026440889,34.094418526 m1.23632408679,-1.1344165355 l2.87445425987,-0.322746410966 2.10936516523,0.29440889135 l1.93413987756,0.996534004807 4.80825871229,5.21935105324 l2.16568350792,4.52052295208 0.732150450349,3.929656744 l-0.390458144248,3.08298885822 -0.821147933602,1.3787856698 l-1.55856341124,1.34888797998 -3.50785791874,1.56712055206 l-3.23246151209,0.612856596708 -3.80853384733,-0.000280175663647 l-2.89885431528,-0.842992290854 -2.36236274242,-1.43983528018 l-1.84042021632,-1.98395088315 -1.19707666337,-2.46023803949 l-0.545283444226,-3.01947236061 0.382182821631,-4.95103925467 l1.31913483143,-2.96653389931 1.88054800034,-2.14952632785 l3.19949865341,-1.90266042948 m-4.69934403896,2.59909152985 l-1.30371466279,-7.34869062901 -0.0940304994583,-4.12224084139 l3.33361685276,2.75614053011 3.6587241292,4.18070614338 m6.3761138916,1.007155478 l5.11765658855,-7.70461559296 0.562206506729,2.04678192735 l0.146043095738,8.50379765034 m-14.0015685558,4.44760710001 l-0.000150388696056,0.000390830464312 m8.07038366795,-0.401320159435 l-0.000404788588639,3.95299730371e-05 m-6.19551062584,4.84056264162 l-0.682595446706,0.000451446721854 \" fill=\"none\" stroke=\"black\" stroke-width=\"1\"/></svg>"
      ],
      "text/plain": [
       "<IPython.core.display.SVG object>"
      ]
     },
     "metadata": {},
     "output_type": "display_data"
    },
    {
     "data": {
      "image/svg+xml": [
       "<svg baseProfile=\"full\" height=\"64.6510136873\" version=\"1.1\" width=\"65.3046025336\" xmlns=\"http://www.w3.org/2000/svg\" xmlns:ev=\"http://www.w3.org/2001/xml-events\" xmlns:xlink=\"http://www.w3.org/1999/xlink\"><defs/><rect fill=\"white\" height=\"64.6510136873\" width=\"65.3046025336\" x=\"0\" y=\"0\"/><path d=\"M25.8590698242,27.6002125139 m2.21488043666,-0.674518942833 m2.83725738525,0.287255365402 l-2.17966645956,0.815817713737 -2.9690939188,1.82081535459 l-0.762447267771,1.88468232751 1.79646685719,0.852126404643 m4.31793034077,-5.77491104603 l0.246107056737,0.0304291048087 0.984046161175,0.870133563876 l0.939440429211,1.44695416093 0.829111710191,1.78102016449 l0.478222556412,1.21573209763 0.196235179901,1.0667398572 l-0.51198747009,0.897992402315 -2.074906528,0.156039418653 m-4.04633492231,-8.64882230759 l2.16225296259,-0.627698153257 4.23929840326,0.078908726573 l2.8187930584,1.13568298519 1.76423430443,1.90923154354 l1.16569243371,3.85433018208 m-10.3111124039,1.181813851 l-0.682364851236,4.32954609394 -0.404718853533,1.2953171134 l0.021011037752,0.866183191538 0.594039969146,-0.000816866013338 l1.65725082159,-2.99057841301 m1.30146577954,-1.48823648691 l-0.765566900373,2.79185861349 -0.626815780997,0.213222187012 l-1.56638368964,-0.834161713719 -0.523375235498,-0.558161176741 m-0.565856508911,-1.95317178965 l-0.146408919245,1.92404523492 0.727386027575,1.05657488108 l1.68888926506,-0.071660708636 1.252797544,-1.74833491445 l-0.000575831472815,-1.81682780385 \" fill=\"none\" stroke=\"black\" stroke-width=\"1\"/></svg>"
      ],
      "text/plain": [
       "<IPython.core.display.SVG object>"
      ]
     },
     "metadata": {},
     "output_type": "display_data"
    },
    {
     "name": "stdout",
     "output_type": "stream",
     "text": [
      "---------\n"
     ]
    },
    {
     "data": {
      "image/svg+xml": [
       "<svg baseProfile=\"full\" height=\"75.7573818648\" version=\"1.1\" width=\"74.7730704676\" xmlns=\"http://www.w3.org/2000/svg\" xmlns:ev=\"http://www.w3.org/2001/xml-events\" xmlns:xlink=\"http://www.w3.org/1999/xlink\"><defs/><rect fill=\"white\" height=\"75.7573818648\" width=\"74.7730704676\" x=\"0\" y=\"0\"/><path d=\"M32.2725341842,35.419036285 m-2.08698481321,-0.0913530960679 l-2.52486824989,1.52572244406 -0.887834504247,3.19197684526 l0.245076995343,2.93646037579 1.08151115477,2.18977943063 l1.66592612863,1.99485182762 2.09615722299,1.63009911776 l2.60344564915,1.19857989252 4.16159301996,0.762228742242 l4.59579199553,-0.574156977236 3.6671641469,-2.33029335737 l1.276704669,-2.87915289402 0.0940029881895,-3.09984445572 l-0.781790986657,-2.5701162219 -1.50356188416,-2.23394781351 l-2.17157498002,-1.83386921883 -2.77859330177,-1.27719134092 l-3.29411745071,-0.593270808458 -3.28606694937,0.0531583232805 l-2.66980856657,0.711747854948 -1.96374624968,1.19499914348 m-3.59344691038,3.06725502014 l-0.418588668108,-1.39949128032 -0.798924639821,-7.18990027905 l0.886945873499,-0.26078319177 4.53986257315,3.71217310429 l2.97412484884,1.6160236299 m8.48345816135,-0.998560339212 l2.81067609787,-3.81218969822 3.52244466543,-4.03679430485 l1.46543473005,-1.02317675948 0.0901235174388,2.14301079512 l-2.09823250771,7.10163414478 -0.34169010818,1.67725086212 l-0.040005161427,0.817291513085 -0.218510702252,0.645703449845 \" fill=\"none\" stroke=\"black\" stroke-width=\"1\"/></svg>"
      ],
      "text/plain": [
       "<IPython.core.display.SVG object>"
      ]
     },
     "metadata": {},
     "output_type": "display_data"
    },
    {
     "data": {
      "image/svg+xml": [
       "<svg baseProfile=\"full\" height=\"65.4528705031\" version=\"1.1\" width=\"64.3070948517\" xmlns=\"http://www.w3.org/2000/svg\" xmlns:ev=\"http://www.w3.org/2001/xml-events\" xmlns:xlink=\"http://www.w3.org/1999/xlink\"><defs/><rect fill=\"white\" height=\"65.4528705031\" width=\"64.3070948517\" x=\"0\" y=\"0\"/><path d=\"M30.2326214314,28.7433241121 m-0.714991390705,-2.4582259357 l-0.778170526028,-0.402852334082 -0.69369956851,0.24049801752 l-1.21632754803,2.16725632548 -1.82943239808,7.3296636343 l0.000161257230502,3.13875943422 0.525353886187,0.374318286777 l1.26963809133,-0.485374182463 1.73572599888,-4.28689271212 l0.375097505748,2.08027377725 0.644497945905,3.37273955345 l1.28802150488,0.639382526278 1.74250021577,-0.410159267485 l0.77972561121,-0.958027616143 0.719040855765,-3.07357490063 l1.47313669324,3.17943662405 1.01998947561,0.873278155923 l1.23220488429,-0.316835306585 0.600371658802,-0.948558077216 l0.406267084181,-3.32422286272 -0.0010429941176,-3.96162331104 l0.496405176818,-2.29379445314 -0.0291660311632,-2.23909959197 l-0.756452977657,-1.2825961411 -3.8529458642,-0.697093755007 l-2.21883565187,1.25466272235 -1.96985825896,1.5153503418 l-0.941690355539,1.10708676279 m2.32344940305,4.24722075462 l0.000147207601913,0.000721505348338 m1.70345142484,-0.377299040556 l0.000276441314782,0.000952205664362 m-2.00476408005,1.6915024817 l-2.54293740909e-05,0.00170743980561 m-0.888782665133,-0.0527623062953 l-0.000239572018472,0.00211393024074 m0.133358603343,0.176600906998 l0.000218100885832,0.00211511709495 \" fill=\"none\" stroke=\"black\" stroke-width=\"1\"/></svg>"
      ],
      "text/plain": [
       "<IPython.core.display.SVG object>"
      ]
     },
     "metadata": {},
     "output_type": "display_data"
    },
    {
     "name": "stdout",
     "output_type": "stream",
     "text": [
      "---------\n"
     ]
    },
    {
     "data": {
      "image/svg+xml": [
       "<svg baseProfile=\"full\" height=\"74.5418769587\" version=\"1.1\" width=\"67.5126079249\" xmlns=\"http://www.w3.org/2000/svg\" xmlns:ev=\"http://www.w3.org/2001/xml-events\" xmlns:xlink=\"http://www.w3.org/1999/xlink\"><defs/><rect fill=\"white\" height=\"74.5418769587\" width=\"67.5126079249\" x=\"0\" y=\"0\"/><path d=\"M40.6379558332,37.5562336762 m-3.85051876307,-2.16121301055 l-3.0208298564,-0.772715508938 -1.79766759276,0.399877056479 l-3.1131696701,2.17913582921 -1.55012458563,1.76748976111 l-1.27411708236,2.14332893491 -0.803616121411,2.32525855303 l-0.227912161499,2.30195313692 0.418126992881,1.94126188755 l1.18234634399,1.18290327489 1.63245886564,0.620927587152 l2.14970812201,0.0574357807636 2.52860069275,-0.713299289346 l2.71590828896,-1.58892184496 3.67410749197,-3.4500670433 l2.03831583261,-2.92728662491 0.747320502996,-2.19946146011 l-0.00317748985253,-1.57649695873 -0.590394549072,-1.14106014371 l-1.27218559384,-0.850637033582 -1.89234152436,-0.331598073244 m-9.8834913969,2.5097116828 l-0.55850468576,-1.54322773218 -0.128076542169,-2.48701065779 l0.336953252554,-4.47884261608 0.454528667033,-1.3712747395 l0.579442828894,0.0942910928279 2.70315259695,6.17080509663 l1.07041075826,1.15319512784 m5.51858723164,-0.234556142241 l0.242763534188,-3.37885707617 1.11552350223,-3.43748539686 l1.36016368866,-2.28844240308 0.906263515353,-0.471354722977 l0.466096997261,2.7326631546 -0.496640726924,8.79608631134 l0.103362705559,1.32196500897 \" fill=\"none\" stroke=\"black\" stroke-width=\"1\"/></svg>"
      ],
      "text/plain": [
       "<IPython.core.display.SVG object>"
      ]
     },
     "metadata": {},
     "output_type": "display_data"
    },
    {
     "data": {
      "image/svg+xml": [
       "<svg baseProfile=\"full\" height=\"64.245158562\" version=\"1.1\" width=\"73.2665669173\" xmlns=\"http://www.w3.org/2000/svg\" xmlns:ev=\"http://www.w3.org/2001/xml-events\" xmlns:xlink=\"http://www.w3.org/1999/xlink\"><defs/><rect fill=\"white\" height=\"64.245158562\" width=\"73.2665669173\" x=\"0\" y=\"0\"/><path d=\"M38.2781366145,25.7089705302 m-0.655536428094,-0.503472089767 l-3.51974397898,0.122694568709 -0.606969222426,0.652606785297 l-1.55332654715,6.12580001354 -0.0874716416001,2.673586905 l0.450709424913,1.32868021727 1.86344668269,1.87238648534 l3.27671140432,0.720773860812 2.86206036806,-0.000272272427537 l1.46981745958,-1.56780466437 0.528910309076,-2.44125053287 l-0.00133635272505,-3.85219246149 -2.07122907043,-4.51298475266 l-1.23857825994,-1.26532718539 m-5.00618755817,-0.0621954072267 l-1.57689616084,0.0205374672078 -0.93909047544,0.656279250979 l-2.45179310441,3.27581167221 -2.39633753896,5.27407705784 l-1.52343586087,3.94776076078 -0.101860063151,1.06579594314 l1.29536643624,-0.518456362188 2.21651792526,-3.5843577981 l1.88988372684,-4.44244593382 1.48767471313,-1.42792254686 l1.29723668098,-0.420451387763 m7.02964782715,-2.5460267067 l2.25858315825,1.07857711613 2.44791388512,2.15377151966 l1.78709924221,3.06162089109 1.44390046597,4.04142558575 l0.112742856145,1.06225162745 -0.304145459086,0.906387791038 l-1.22158825397,0.640522614121 -1.5270678699,-0.421252325177 l-1.19116619229,-1.15029744804 -1.8032862246,-3.99230271578 l-1.49767056108,-4.45480972528 m-7.09826052189,0.142304860055 l0.0007781390741,0.00251585734077 \" fill=\"none\" stroke=\"black\" stroke-width=\"1\"/></svg>"
      ],
      "text/plain": [
       "<IPython.core.display.SVG object>"
      ]
     },
     "metadata": {},
     "output_type": "display_data"
    },
    {
     "name": "stdout",
     "output_type": "stream",
     "text": [
      "---------\n"
     ]
    },
    {
     "data": {
      "image/svg+xml": [
       "<svg baseProfile=\"full\" height=\"75.1825834578\" version=\"1.1\" width=\"70.0043133489\" xmlns=\"http://www.w3.org/2000/svg\" xmlns:ev=\"http://www.w3.org/2001/xml-events\" xmlns:xlink=\"http://www.w3.org/1999/xlink\"><defs/><rect fill=\"white\" height=\"75.1825834578\" width=\"70.0043133489\" x=\"0\" y=\"0\"/><path d=\"M30.7646181993,33.7140831118 m-1.06232605875,0.450739786029 l-2.90136665106,2.8303527832 -1.69475391507,3.70009332895 l-0.106171574444,2.92147099972 1.31391271949,3.07582467794 l3.61764341593,2.92199611664 2.95465320349,0.568022653461 l1.84621185064,-0.17568629235 1.99230372906,-0.849658548832 l1.97194710374,-1.54269084334 2.5419780612,-3.25202852488 l1.47870093584,-3.32697063684 0.384317673743,-4.12603437901 l-1.45257368684,-1.99600473046 -2.29200854897,-1.2625874579 l-4.53084528446,-0.768603757024 -4.03377473354,0.749523118138 m-2.64649391174,1.93990066648 l-0.682855993509,-1.38425424695 -0.394111424685,-2.20557525754 l0.00766042910982,-4.31669294834 0.664866343141,-2.59449720383 l0.603421851993,-0.070722415112 1.56159564853,2.54466712475 l2.19050258398,4.71030831337 0.910658016801,1.03299960494 m6.52021944523,0.496121309698 l5.17687559128,-6.15769445896 0.299508329481,1.19473941624 l-0.966525897384,6.12677395344 -1.17229901254,3.93493175507 m-11.7439115047,0.217268113047 l-0.00100406788988,0.00130621992867 m6.27483189106,-0.39881426841 l-0.000647072811262,0.000128031388158 m-5.34564316273,1.09064616263 l-0.000145744643305,0.000668956708978 \" fill=\"none\" stroke=\"black\" stroke-width=\"1\"/></svg>"
      ],
      "text/plain": [
       "<IPython.core.display.SVG object>"
      ]
     },
     "metadata": {},
     "output_type": "display_data"
    },
    {
     "data": {
      "image/svg+xml": [
       "<svg baseProfile=\"full\" height=\"82.2175560609\" version=\"1.1\" width=\"85.1425830647\" xmlns=\"http://www.w3.org/2000/svg\" xmlns:ev=\"http://www.w3.org/2001/xml-events\" xmlns:xlink=\"http://www.w3.org/1999/xlink\"><defs/><rect fill=\"white\" height=\"82.2175560609\" width=\"85.1425830647\" x=\"0\" y=\"0\"/><path d=\"M34.6477604427,31.4594299436 m3.96674543619,19.9911940098 l0.663845911622,1.23618245125 3.05230915546,3.15880715847 l1.52890607715,1.02455966175 1.57129481435,0.347382836044 l2.83942371607,-0.000508417542733 1.91648244858,-0.696298778057 l3.64813417196,-3.13536465168 3.63472372293,-5.60171484947 l2.67281532288,-11.0764241219 0.000141844830068,-3.97889822721 l-0.63627935946,-1.87906682491 -6.71600103378,-4.14124459028 l-16.6092884541,-0.225317329168 -5.15005230904,1.20113648474 l-3.28332155943,2.25015997887 -2.24607244134,3.1959566474 l-0.501567907631,2.45798498392 0.510045848787,2.14714929461 l0.996411368251,0.910360217094 1.92171886563,0.463866367936 l2.42461562157,-0.498394034803 2.59190618992,-2.36747473478 m3.29522252083,-8.32284510136 l-0.45960329473,-0.497487224638 -1.07844665647,-0.0579189881682 l-3.08191806078,1.32580265403 -1.41341969371,2.31823727489 l-0.565467178822,2.82657653093 0.651287660003,2.56334006786 l2.74737238884,0.985556915402 4.78423804045,0.000450293991889 l4.36561465263,-2.77862042189 2.3935572803,-3.49744737148 l0.537120513618,-2.97794431448 -0.507402196527,-1.14038616419 l-2.06457331777,-1.50942623615 -5.22470593452,-0.481351390481 m-1.84246748686,7.30183839798 l-2.34862551093,0.353968217969 \" fill=\"none\" stroke=\"black\" stroke-width=\"1\"/></svg>"
      ],
      "text/plain": [
       "<IPython.core.display.SVG object>"
      ]
     },
     "metadata": {},
     "output_type": "display_data"
    },
    {
     "name": "stdout",
     "output_type": "stream",
     "text": [
      "---------\n"
     ]
    },
    {
     "data": {
      "image/svg+xml": [
       "<svg baseProfile=\"full\" height=\"77.4479826633\" version=\"1.1\" width=\"80.5890809372\" xmlns=\"http://www.w3.org/2000/svg\" xmlns:ev=\"http://www.w3.org/2001/xml-events\" xmlns:xlink=\"http://www.w3.org/1999/xlink\"><defs/><rect fill=\"white\" height=\"77.4479826633\" width=\"80.5890809372\" x=\"0\" y=\"0\"/><path d=\"M42.6875309274,52.4479826633 m-5.2070838213,-0.149379158393 l-4.57315772772,-1.39914467931 -3.44584912062,-1.62810266018 l-2.39867776632,-1.91562771797 -1.48743197322,-2.22216740251 l-0.575330518186,-2.59113043547 0.300776697695,-2.68722385168 l2.312964499,-3.89856904745 2.98014611006,-2.38306999207 l5.68518877029,-2.19611823559 8.13657402992,-0.284290425479 l4.98802870512,1.40024513006 2.19292417169,1.14347912371 l1.77445858717,1.57922878861 1.22254617512,1.90925508738 l0.995473191142,3.34889322519 -0.200195480138,3.06737720966 l-1.27798035741,2.56843924522 -2.3453040421,2.25526064634 l-3.1112191081,1.61295741796 -4.6575447917,1.2363409996 l-4.25051659346,0.72205722332 m-11.3004457951,-16.6706931591 l-1.37998566031,-4.78665709496 -0.813972651958,-3.27461332083 l3.38176250458,1.61709517241 3.40642243624,2.39337742329 l1.91186740994,1.01273842156 m13.6703836918,-0.420336984098 l0.586296655238,-1.95979997516 1.78766772151,-3.04499089718 l1.18998579681,-1.13481320441 1.64462849498,-0.667999535799 l0.572552531958,1.26226365566 0.0180780899245,2.71518349648 l-0.631583631039,2.40424439311 -1.05786979198,2.50869333744 \" fill=\"none\" stroke=\"black\" stroke-width=\"1\"/></svg>"
      ],
      "text/plain": [
       "<IPython.core.display.SVG object>"
      ]
     },
     "metadata": {},
     "output_type": "display_data"
    },
    {
     "data": {
      "image/svg+xml": [
       "<svg baseProfile=\"full\" height=\"68.7822262943\" version=\"1.1\" width=\"83.2963901013\" xmlns=\"http://www.w3.org/2000/svg\" xmlns:ev=\"http://www.w3.org/2001/xml-events\" xmlns:xlink=\"http://www.w3.org/1999/xlink\"><defs/><rect fill=\"white\" height=\"68.7822262943\" width=\"83.2963901013\" x=\"0\" y=\"0\"/><path d=\"M33.7816549897,35.7763089066 m2.13286355138,-3.75129699707 l5.41945874691,-5.83780229092 2.27476254106,-1.18556194007 l3.20972770452,-0.00164767858223 1.58714026213,0.797412022948 l2.9581964016,3.77783596516 1.15034691989,4.19786036015 l-0.00092968934041,4.11456257105 -0.823279097676,1.85705795884 l-1.6854326427,1.81707039475 -3.32698762417,1.724678725 l-2.76001900434,0.49574829638 -3.41982662678,-0.000385748608096 l-1.78677052259,-0.562576539814 -1.4256106317,-1.08593277633 l-0.989210084081,-1.5829987824 -0.460125617683,-2.01636850834 l0.302494689822,-4.29722040892 0.387355387211,-0.939657390118 m1.6355766356,-2.09662377834 l-3.76031547785,-2.51612097025 -5.45481145382,-0.718882158399 l-1.76538750529,1.13497793674 -1.59917086363,2.31618374586 l-0.581700988114,4.69810932875 1.88185915351,3.40288281441 l2.47785568237,0.78903593123 2.75521099567,-0.401046797633 l2.83222913742,-2.370223701 m18.1148684025,-9.44645285606 l2.55913645029,-1.2687574327 1.57416015863,0.499179288745 l1.10107012093,2.1207459271 -0.610329248011,8.96791517735 l-1.19318306446,2.21078529954 -1.5809930861,1.429708004 l-2.45933160186,0.79094402492 -1.41671866179,-0.801801458001 l-0.870529189706,-1.36980131269 m-8.49011957645,-3.30437958241 l0.0889211613685,2.1600201726 \" fill=\"none\" stroke=\"black\" stroke-width=\"1\"/></svg>"
      ],
      "text/plain": [
       "<IPython.core.display.SVG object>"
      ]
     },
     "metadata": {},
     "output_type": "display_data"
    },
    {
     "name": "stdout",
     "output_type": "stream",
     "text": [
      "---------\n"
     ]
    },
    {
     "data": {
      "image/svg+xml": [
       "<svg baseProfile=\"full\" height=\"99.5167159289\" version=\"1.1\" width=\"90.1701742783\" xmlns=\"http://www.w3.org/2000/svg\" xmlns:ev=\"http://www.w3.org/2001/xml-events\" xmlns:xlink=\"http://www.w3.org/1999/xlink\"><defs/><rect fill=\"white\" height=\"99.5167159289\" width=\"90.1701742783\" x=\"0\" y=\"0\"/><path d=\"M27.407258004,40.0691138208 m-0.691522657871,6.73769831657 l0.283147804439,8.68723928928 1.70126512647,5.29223918915 l2.83681631088,5.06015956402 3.37923705578,3.97528886795 l5.35740196705,3.5319212079 7.69211351871,1.16305567324 l5.87846696377,-1.60125628114 4.64772671461,-3.87680858374 l2.96969681978,-4.23452794552 2.04631641507,-4.56172704697 l1.46101132035,-6.8049031496 0.201238915324,-5.02366483212 l-0.603573061526,-4.0674239397 -1.24801903963,-3.26923847198 l-3.04029643536,-4.15463745594 -3.20697546005,-2.5438144803 l-3.52565467358,-1.46728381515 -6.35880053043,-0.93561090529 l-6.64101183414,1.14075750113 -6.01964354515,2.43432343006 l-3.41128706932,2.45878174901 -0.863808095455,1.09147131443 l-1.06750912964,2.28127360344 m25.9939956665,-10.8559501171 l4.39410984516,-5.52647650242 1.06959059834,9.01800513268 l1.02584205568,6.52632594109 m-33.9509153366,-7.5522595644 l-2.71621823311,-7.01323151588 4.26465511322,8.48896145821 l6.31307661533,10.2592909336 m11.5782320499,5.68676412106 l8.88324856758,-0.271420665085 2.12586864829,-0.1144151669 l0.392888784409,0.0839993543923 -0.7484190166,0.695742666721 l-4.87911641598,4.04266893864 -6.58838927746,3.38473170996 \" fill=\"none\" stroke=\"black\" stroke-width=\"1\"/></svg>"
      ],
      "text/plain": [
       "<IPython.core.display.SVG object>"
      ]
     },
     "metadata": {},
     "output_type": "display_data"
    },
    {
     "data": {
      "image/svg+xml": [
       "<svg baseProfile=\"full\" height=\"86.1333996989\" version=\"1.1\" width=\"93.6482390016\" xmlns=\"http://www.w3.org/2000/svg\" xmlns:ev=\"http://www.w3.org/2001/xml-events\" xmlns:xlink=\"http://www.w3.org/1999/xlink\"><defs/><rect fill=\"white\" height=\"86.1333996989\" width=\"93.6482390016\" x=\"0\" y=\"0\"/><path d=\"M36.3680351581,32.3981093302 m-1.87351226807,2.55381673574 l-4.23366338015,3.53196620941 -2.89057910442,3.5862249136 l-2.3700556159,5.6218367815 -0.000224789600907,2.50000298023 l1.8785661459,1.12679377198 3.24837803841,0.00190397127881 l5.19054293633,-2.41844385862 5.61597108841,-3.23108583689 l5.11736512184,-3.89687865973 m7.26506829262,-4.31926757097 l4.22263920307,12.1528482437 2.50113070011,5.49249768257 l3.81019115448,5.39082229137 1.78042545915,0.642252713442 l1.81308448315,-0.718264058232 1.20487637818,-5.54438531399 l-0.000517774024047,-6.79350972176 -5.228048563,-8.90765786171 l-7.36910879612,-4.49357539415 -8.90071332455,-0.808291584253 l-4.78095829487,0.423149950802 -4.16109293699,1.30598887801 l-2.28500247002,1.672231704 -3.18522334099,4.29756730795 l-2.94792145491,9.89821314812 -0.653476119041,2.54025399685 l-0.136773344129,2.28942260146 0.754068493843,1.41293182969 l2.63941735029,1.16092197597 2.9056841135,-0.256832521409 l2.73814946413,-1.75287380815 2.34074950218,-2.97158867121 l2.45991617441,-6.29266500473 m-8.25425386429,-12.477222681 l0.210776310414,-5.63712596893 1.12857982516,-2.3475523293 l2.59840935469,-2.13253617287 13.4300148487,1.75895646214 l2.12507739663,3.98557186127 1.06623500586,4.39508885145 l0.418818593025,5.96871852875 \" fill=\"none\" stroke=\"black\" stroke-width=\"1\"/></svg>"
      ],
      "text/plain": [
       "<IPython.core.display.SVG object>"
      ]
     },
     "metadata": {},
     "output_type": "display_data"
    },
    {
     "name": "stdout",
     "output_type": "stream",
     "text": [
      "---------\n"
     ]
    },
    {
     "data": {
      "image/svg+xml": [
       "<svg baseProfile=\"full\" height=\"82.264375829\" version=\"1.1\" width=\"83.347769063\" xmlns=\"http://www.w3.org/2000/svg\" xmlns:ev=\"http://www.w3.org/2001/xml-events\" xmlns:xlink=\"http://www.w3.org/1999/xlink\"><defs/><rect fill=\"white\" height=\"82.264375829\" width=\"83.347769063\" x=\"0\" y=\"0\"/><path d=\"M40.795898065,33.7918995021 m-3.4033754468,0.0229261303321 l-2.81589031219,0.529840476811 -4.5643645525,2.12754413486 l-4.33193236589,5.40547370911 -0.680335387588,2.84069746733 l0.118955578655,4.96380448341 0.712298676372,1.83736667037 l1.73068225384,2.21302449703 2.53871560097,1.7745308578 l2.85310864449,1.14380344748 3.31095218658,0.613464452326 l5.37181675434,-4.95722770211e-05 7.1037119627,-2.05383390188 l5.40626764297,-3.30918848515 2.03310638666,-2.21128970385 l1.38457402587,-2.52312928438 0.783579349518,-4.34108614922 l-0.281996931881,-3.22901010513 -1.15051448345,-2.52122551203 l-1.88305035233,-2.16440916061 -2.47580826283,-1.67357698083 l-3.09306263924,-1.17276787758 -3.59505087137,-0.596195720136 l-3.70291829109,-0.0174663262442 -3.1706520915,0.674688518047 m-9.81110394001,4.088357687 l-0.590763129294,-1.41789421439 -0.996678471565,-7.26621389389 l0.665978714824,-0.465937592089 1.01158067584,0.559500157833 l4.55532848835,4.61013227701 1.62687033415,1.05795994401 l1.22871272266,0.225092209876 m14.2905211449,-1.72934725881 l5.58338105679,-6.78748488426 0.810586959124,1.17191940546 l-0.0153352180496,7.01817333698 0.160639733076,3.63403052092 \" fill=\"none\" stroke=\"black\" stroke-width=\"1\"/></svg>"
      ],
      "text/plain": [
       "<IPython.core.display.SVG object>"
      ]
     },
     "metadata": {},
     "output_type": "display_data"
    },
    {
     "data": {
      "image/svg+xml": [
       "<svg baseProfile=\"full\" height=\"93.8876940124\" version=\"1.1\" width=\"90.4015551507\" xmlns=\"http://www.w3.org/2000/svg\" xmlns:ev=\"http://www.w3.org/2001/xml-events\" xmlns:xlink=\"http://www.w3.org/1999/xlink\"><defs/><rect fill=\"white\" height=\"93.8876940124\" width=\"90.4015551507\" x=\"0\" y=\"0\"/><path d=\"M25,42.0156005025 m0.0972731504589,-2.39828631282 l3.7490233779,-7.44058072567 3.24198037386,-6.74583852291 l2.01208055019,-0.430894941092 2.47069180012,10.9500777721 l0.759607329965,2.80649393797 1.58916637301,-3.70485931635 l3.06933552027,-5.29050290585 1.72851070762,-1.29943355918 l1.68774589896,2.01423481107 2.41437643766,8.99571597576 l2.61154919863,3.96205544472 2.02426299453,1.24743312597 l5.85721075535,0.281094480306 2.78136253357,-0.678005069494 l4.182266891,-4.57620024681 0.125111257657,-0.146884173155 l-2.58845239878,13.8856303692 -4.68879520893,10.6005823612 l-1.9613198936,2.31833606958 -4.10215884447,2.04509526491 l-5.40812373161,0.47682967037 -1.58255591989,-0.656523406506 l-2.14933231473,-9.55455422401 0.27150252834,-6.08543813229 l0.379502885044,-2.01547011733 m1.44882872701,11.7191302776 l1.28460079432,2.73908764124 1.61446407437,1.44881308079 l2.86149442196,1.05987675488 3.39020550251,0.19967418164 l3.26130509377,-0.715127885342 2.97027945518,-1.6491098702 l2.33132481575,-2.38554567099 1.45574375987,-2.96334415674 m-15.2731847763,-8.6907184124 l0.00127388295368,0.00139248149935 m7.90126562119,-0.871799960732 l-6.642176686e-05,0.000780564223533 m-6.46296560764,5.64226269722 l-0.000426448350481,0.000871773227118 \" fill=\"none\" stroke=\"black\" stroke-width=\"1\"/></svg>"
      ],
      "text/plain": [
       "<IPython.core.display.SVG object>"
      ]
     },
     "metadata": {},
     "output_type": "display_data"
    },
    {
     "name": "stdout",
     "output_type": "stream",
     "text": [
      "---------\n"
     ]
    },
    {
     "data": {
      "image/svg+xml": [
       "<svg baseProfile=\"full\" height=\"75.6860915013\" version=\"1.1\" width=\"68.6927081365\" xmlns=\"http://www.w3.org/2000/svg\" xmlns:ev=\"http://www.w3.org/2001/xml-events\" xmlns:xlink=\"http://www.w3.org/1999/xlink\"><defs/><rect fill=\"white\" height=\"75.6860915013\" width=\"68.6927081365\" x=\"0\" y=\"0\"/><path d=\"M33.5836101044,50.5607931432 m-3.805154562,-1.35342761874 l-2.95250564814,-2.97925084829 -1.39572784305,-2.57716447115 l-0.352671332657,-4.27532196045 1.71639412642,-5.02266705036 l2.09028601646,-1.74983426929 3.69764089584,-1.27622678876 l4.01064902544,0.0279672513716 1.94612175226,0.670117661357 l2.61902719736,1.89905375242 1.18551820517,1.44370824099 l0.923408046365,2.18214452267 0.426112152636,2.65800386667 l-0.102029414847,2.7883887291 -0.761252865195,2.58567303419 l-1.40559494495,2.15137198567 -1.94011211395,1.51606380939 l-2.49122738838,0.890087634325 -2.71397948265,0.546610876918 l-2.18864142895,-0.157558489591 -0.860043689609,-0.644449740648 m-5.33177256584,-15.5149388313 l-0.598077811301,-5.91265380383 -0.299976430833,-3.45649063587 l0.61529956758,0.0531185604632 3.63889157772,5.3619903326 l1.90487653017,1.82181879878 m7.59390413761,-0.52882310003 l1.01885810494,-2.65120118856 1.91649913788,-3.06322365999 l1.16301164031,-0.976996645331 0.477837845683,0.411949269474 l0.238742399961,2.90310353041 -0.341419689357,4.48584079742 l-0.0283222738653,1.18948660791 -0.578872263432,1.06172017753 \" fill=\"none\" stroke=\"black\" stroke-width=\"1\"/></svg>"
      ],
      "text/plain": [
       "<IPython.core.display.SVG object>"
      ]
     },
     "metadata": {},
     "output_type": "display_data"
    },
    {
     "data": {
      "image/svg+xml": [
       "<svg baseProfile=\"full\" height=\"72.4034568667\" version=\"1.1\" width=\"75.2240481228\" xmlns=\"http://www.w3.org/2000/svg\" xmlns:ev=\"http://www.w3.org/2001/xml-events\" xmlns:xlink=\"http://www.w3.org/1999/xlink\"><defs/><rect fill=\"white\" height=\"72.4034568667\" width=\"75.2240481228\" x=\"0\" y=\"0\"/><path d=\"M35.2653728612,28.6330767645 m-0.13544773683,-1.5702149272 l-1.51410624385,-2.06176668406 -3.26647669077,-0.00109515327495 l-1.66727334261,2.45421424508 -1.5576761961,8.09500694275 l-0.0973140262067,3.1780949235 m1.733956635,-7.91710793972 l-1.62682577968,7.58793592453 -0.115523189306,4.74838942289 l0.497468747199,1.98498561978 m3.79893124104,-11.9086945057 l0.382075458765,2.52568632364 0.837998017669,3.49736779928 l1.22958049178,3.17961722612 2.30590894818,3.61379802227 m0.963112339377,-13.0141627789 l2.79831498861,1.87019214034 2.61732399464,3.00324767828 l2.6623865962,7.10382401943 0.763088166714,2.4010618031 m-4.25802946091,-14.7279620171 l0.503559932113,-0.663810744882 2.06956654787,-1.69968768954 l2.23789080977,-1.2535482645 1.51971966028,-0.332224927843 l1.21404409409,0.599048323929 0.822940245271,1.79709911346 l0.239481013268,4.22823518515 -1.01573176682,1.490329355 l-1.82096004486,1.01222805679 m-2.6359757781,-6.23676657677 l-0.516738146544,-0.368464812636 -1.65540680289,-0.916166752577 l-1.17581248283,-0.0649642804638 m-11.6297769547,-1.35767474771 l-1.76249742508,-0.765091627836 -2.65448302031,-1.33197128773 l-0.356665700674,-0.115392534062 0.781654641032,0.441716611385 l6.76675081253,2.62425094843 \" fill=\"none\" stroke=\"black\" stroke-width=\"1\"/></svg>"
      ],
      "text/plain": [
       "<IPython.core.display.SVG object>"
      ]
     },
     "metadata": {},
     "output_type": "display_data"
    },
    {
     "name": "stdout",
     "output_type": "stream",
     "text": [
      "---------\n"
     ]
    }
   ],
   "source": [
    "# Sanity check labels\n",
    "cats = []\n",
    "dogs = []\n",
    "\n",
    "# Decode cats\n",
    "load_checkpoint(sess, cat_model_dir)\n",
    "for cat in category_labels[\"cat\"][\"no_features\"]:\n",
    "    decoding = decode(cat_eval_model, cat_sample_model, cat)\n",
    "    cats.append(decoding)\n",
    "    \n",
    "# Decode dogs\n",
    "load_checkpoint(sess, dog_model_dir)\n",
    "for dog in category_labels[\"dog\"][\"no_features\"]:\n",
    "    decoding = decode(dog_eval_model, dog_sample_model, dog)\n",
    "    dogs.append(decoding)\n",
    "    \n",
    "for cat, dog in zip(cats, dogs):\n",
    "    draw_strokes(cat)\n",
    "    draw_strokes(dog)\n",
    "    print(\"---------\")\n"
   ]
  },
  {
   "cell_type": "code",
   "execution_count": 39,
   "metadata": {},
   "outputs": [
    {
     "name": "stdout",
     "output_type": "stream",
     "text": [
      "(128,)\n"
     ]
    }
   ],
   "source": [
    "# Compute average variance across data\n",
    "all_data = []\n",
    "all_data.extend(category_labels[\"cat\"][\"no_features\"])\n",
    "all_data.extend(category_labels[\"cat\"][\"features\"])\n",
    "all_data.extend(category_labels[\"cat\"][\"body\"])\n",
    "all_data.extend(category_labels[\"dog\"][\"no_features\"])\n",
    "all_data.extend(category_labels[\"dog\"][\"features\"])\n",
    "all_data.extend(category_labels[\"dog\"][\"body\"])\n",
    "\n",
    "\n",
    "variances = np.var(all_data, axis=0)\n",
    "print(variances.shape)\n"
   ]
  },
  {
   "cell_type": "code",
   "execution_count": 40,
   "metadata": {},
   "outputs": [
    {
     "name": "stdout",
     "output_type": "stream",
     "text": [
      "Example: 0, Cost: 2.09010648727417 \n",
      "Example: 1000, Cost: 1.6624650794267655 \n",
      "Example: 2000, Cost: 1.158080113351345 \n",
      "Example: 3000, Cost: 1.0017779984474182 \n",
      "Example: 4000, Cost: 0.9559418302178383 \n",
      "Example: 5000, Cost: 0.938061214864254 \n",
      "Example: 6000, Cost: 0.9329511366486549 \n",
      "Example: 7000, Cost: 0.9257610821127892 \n",
      "Example: 8000, Cost: 0.9240656213760376 \n",
      "Example: 9000, Cost: 0.9265393778085709 \n",
      "Example: 10000, Cost: 0.923055458009243 \n",
      "Example: 11000, Cost: 0.9280023540258407 \n",
      "Example: 12000, Cost: 0.9218076238632202 \n",
      "Example: 13000, Cost: 0.9269023779034614 \n",
      "Example: 14000, Cost: 0.9252893818616867 \n",
      "Example: 15000, Cost: 0.9281752435564995 \n",
      "Example: 16000, Cost: 0.9171215321421623 \n",
      "Example: 17000, Cost: 0.9258781738877296 \n",
      "Example: 18000, Cost: 0.9211657215356827 \n",
      "Example: 19000, Cost: 0.9253408387303352 \n"
     ]
    }
   ],
   "source": [
    "# Train a linear model on the sketch labels\n",
    "STARTER_LEARNING_RATE = 0.04\n",
    "EXAMPLE_COUNT = 20000\n",
    "\n",
    "linear_graph = tf.Graph()\n",
    "with linear_graph.as_default():\n",
    "    global_step = tf.Variable(0, trainable=False)\n",
    "    learning_rate = tf.train.exponential_decay(STARTER_LEARNING_RATE, global_step, 4000, 0.96, staircase=True)\n",
    "\n",
    "    # Constant - MSE weights\n",
    "    MSE_weight = tf.constant(variances)\n",
    "    \n",
    "    # TF graph input\n",
    "    X = tf.placeholder(\"float64\")\n",
    "    Y = tf.placeholder(\"float64\")\n",
    "\n",
    "    # TF weights\n",
    "    W_x_to_y = tf.Variable(np.random.rand(128), name = \"linear_model_weight_x_to_y\")\n",
    "    b_x_to_y = tf.Variable(np.random.rand(128), name = \"linear_model_bias_x_to_y\")\n",
    "    W_y_to_x = tf.Variable(np.random.rand(128), name = \"linear_model_weight_y_to_x\")\n",
    "    b_y_to_x = tf.Variable(np.random.rand(128), name = \"linear_model_bias_y_to_x\")\n",
    "\n",
    "    prediction_x_to_y = tf.add(tf.multiply(X, W_x_to_y), b_x_to_y)\n",
    "    prediction_y_to_x = tf.add(tf.multiply(X, W_y_to_x), b_y_to_x)\n",
    "    \n",
    "    cost = tf.losses.mean_squared_error(Y, prediction_x_to_y, weights=MSE_weight) + tf.losses.mean_squared_error(X, prediction_y_to_x, weights=MSE_weight)\n",
    "    optimizer = tf.train.GradientDescentOptimizer(learning_rate).minimize(cost, global_step=global_step)\n",
    "\n",
    "    init = tf.variables_initializer([W_x_to_y, b_x_to_y, W_y_to_x, b_y_to_x, global_step])\n",
    "\n",
    "linear_model_sess = tf.Session(graph=linear_graph)\n",
    "linear_model_sess.run(init)\n",
    "costs = []\n",
    "for example_num in range(EXAMPLE_COUNT):\n",
    "    category = [\"features\", \"no_features\", \"body\"][random.randint(0,2)] # choose a random category\n",
    "    # Choose a cat and dog in the given category at random\n",
    "    cat = category_labels[\"cat\"][category][random.randint(0, len(category_labels[\"cat\"][category]) - 1)]\n",
    "    dog = category_labels[\"dog\"][category][random.randint(0, len(category_labels[\"dog\"][category]) - 1)]\n",
    "    \n",
    "    _, cost_ = linear_model_sess.run([optimizer, cost], feed_dict={X: dog, Y: cat})\n",
    "    costs.append(cost_)\n",
    "    \n",
    "    if (example_num % 1000) == 0:\n",
    "        cost_computed = sum(costs)/len(costs)\n",
    "        costs = []\n",
    "        print(\"Example: %s, Cost: %s \" % (example_num, cost_computed))\n",
    "\n"
   ]
  },
  {
   "cell_type": "code",
   "execution_count": 42,
   "metadata": {},
   "outputs": [
    {
     "name": "stdout",
     "output_type": "stream",
     "text": [
      "49\n",
      "INFO:tensorflow:Loading model /home/calpeyser/checkpoints/dog/vector-41500.\n",
      "INFO:tensorflow:Restoring parameters from /home/calpeyser/checkpoints/dog/vector-41500\n"
     ]
    },
    {
     "data": {
      "image/svg+xml": [
       "<svg baseProfile=\"full\" height=\"89.377867654\" version=\"1.1\" width=\"98.9949047565\" xmlns=\"http://www.w3.org/2000/svg\" xmlns:ev=\"http://www.w3.org/2001/xml-events\" xmlns:xlink=\"http://www.w3.org/1999/xlink\"><defs/><rect fill=\"white\" height=\"89.377867654\" width=\"98.9949047565\" x=\"0\" y=\"0\"/><path d=\"M33.8372777402,38.3858761936 m0.129959955812,5.84819793701 l2.46923923492,4.4186386466 3.11903893948,1.81943938136 l1.94939941168,2.59919911623 0.0,3.11903893948 l1.1696396023,4.4186386466 1.03967964649,1.42955958843 l1.1696396023,0.779759734869 3.50891888142,1.29959955812 l3.24899882078,0.259919911623 2.07935929298,-0.649799779058 l0.779759734869,-1.03967964649 1.1696396023,-9.22715723515 l4.2886787653,-0.129959955812 2.72915899754,-0.909719690681 l0.519839823246,-3.76883894205 -0.389879867435,-12.086275816 l0.389879867435,-0.259919911623 m-0.389879867435,-0.779759734869 l5.97815811634,7.14779794216 3.76883894205,1.94939941168 l1.03967964649,0.0 0.389879867435,-0.649799779058 l-0.259919911623,-4.67855840921 -0.389879867435,-1.55951946974 l-2.2093193233,-3.76883894205 -1.42955958843,-1.68947950006 l-2.72915899754,-2.33927920461 -5.19839823246,-2.98907905817 m-28.7211513519,10.9166359901 l-0.519839823246,-0.129959955812 -2.98907905817,2.85911917686 l-3.37895900011,1.94939941168 m-1.1696396023,-0.259919911623 l0.389879867435,-4.4186386466 1.55951946974,-4.02875870466 l1.42955958843,-2.59919911623 4.02875870466,-4.2886787653 l4.2886787653,-1.94939941168 0.519839823246,0.0 \" fill=\"none\" stroke=\"black\" stroke-width=\"1\"/></svg>"
      ],
      "text/plain": [
       "<IPython.core.display.SVG object>"
      ]
     },
     "metadata": {},
     "output_type": "display_data"
    },
    {
     "name": "stdout",
     "output_type": "stream",
     "text": [
      "INFO:tensorflow:Loading model /home/calpeyser/checkpoints/cat/vector-47500.\n",
      "INFO:tensorflow:Restoring parameters from /home/calpeyser/checkpoints/cat/vector-47500\n"
     ]
    },
    {
     "data": {
      "image/svg+xml": [
       "<svg baseProfile=\"full\" height=\"67.7985285724\" version=\"1.1\" width=\"67.9722729884\" xmlns=\"http://www.w3.org/2000/svg\" xmlns:ev=\"http://www.w3.org/2001/xml-events\" xmlns:xlink=\"http://www.w3.org/1999/xlink\"><defs/><rect fill=\"white\" height=\"67.7985285724\" width=\"67.9722729884\" x=\"0\" y=\"0\"/><path d=\"M30.7670802064,32.2854462209 m-1.20101548731,-0.573140755296 l-1.16815857589,0.224022772163 -1.06170251966,1.00109651685 l-0.525046736002,3.02635282278 0.777418836951,2.45236217976 l2.77732402086,3.10540258884 1.39067038894,0.781302452087 l3.67308974266,0.495683774352 2.94418036938,-0.895717740059 l2.6074808836,-2.35324218869 0.937190130353,-1.66026994586 l0.662696510553,-3.05736511946 -0.737748295069,-3.00358265638 l-0.974856838584,-0.901198685169 -4.9809139967,-1.21941827238 l-4.61430996656,-1.97942063096e-05 -1.76769211888,1.11250981688 m9.49313879013,-1.27034679055 l1.18752643466,-2.04402878881 2.28775411844,-2.50584840775 l0.498167090118,1.50508761406 -0.309385992587,5.12583613396 l-0.274749901146,1.40307128429 m-13.6345553398,-3.190074265 l-3.2608166337,-4.08650130033 -0.492765121162,1.58116668463 l0.973281562328,4.49134111404 0.960664600134,2.67570585012 m5.71290254593,2.13260605931 l2.28533178568,0.268414840102 2.243514359,-0.673081353307 m-4.23213809729,-0.804352611303 l0.29097719118,1.12877778709 0.544271431863,0.440245009959 l1.67333424091,-0.217628739774 \" fill=\"none\" stroke=\"black\" stroke-width=\"1\"/></svg>"
      ],
      "text/plain": [
       "<IPython.core.display.SVG object>"
      ]
     },
     "metadata": {},
     "output_type": "display_data"
    },
    {
     "name": "stdout",
     "output_type": "stream",
     "text": [
      "------------------\n",
      "64\n",
      "INFO:tensorflow:Loading model /home/calpeyser/checkpoints/dog/vector-41500.\n",
      "INFO:tensorflow:Restoring parameters from /home/calpeyser/checkpoints/dog/vector-41500\n"
     ]
    },
    {
     "data": {
      "image/svg+xml": [
       "<svg baseProfile=\"full\" height=\"63.5158357769\" version=\"1.1\" width=\"66.6348745674\" xmlns=\"http://www.w3.org/2000/svg\" xmlns:ev=\"http://www.w3.org/2001/xml-events\" xmlns:xlink=\"http://www.w3.org/1999/xlink\"><defs/><rect fill=\"white\" height=\"63.5158357769\" width=\"66.6348745674\" x=\"0\" y=\"0\"/><path d=\"M32.5376775861,26.0396796465 m-0.129959955812,-0.649799779058 l-0.649799779058,-0.389879867435 -1.55951946974,0.0 l-3.50891888142,2.07935929298 -1.68947950006,1.94939941168 l0.0,2.07935929298 0.519839823246,0.649799779058 l3.63887876272,-0.259919911623 1.29959955812,-1.03967964649 m0.259919911623,0.0 l-2.85911917686,3.76883894205 -0.129959955812,2.46923923492 l1.03967964649,1.55951946974 2.98907905817,0.259919911623 l5.71823835373,-3.63887876272 0.259919911623,-0.519839823246 m0.259919911623,-7.92755723 l0.779759734869,-0.389879867435 0.779759734869,0.389879867435 l1.55951946974,1.94939941168 0.519839823246,1.81943938136 l0.0,2.07935929298 -0.519839823246,0.779759734869 l-1.81943938136,-0.259919911623 -1.81943938136,-2.07935929298 m-6.75791800022,5.45831799507 l-0.779759734869,0.0 0.0,0.649799779058 l0.779759734869,0.129959955812 0.259919911623,-0.779759734869 l-0.779759734869,-0.519839823246 -0.779759734869,0.0 l-0.259919911623,0.779759734869 0.129959955812,0.779759734869 l1.42955958843,0.129959955812 -0.519839823246,-1.03967964649 m1.55951946974,-6.10811829567 l0.0,0.0 m3.11903893948,0.779759734869 l0.0,0.0 \" fill=\"none\" stroke=\"black\" stroke-width=\"1\"/></svg>"
      ],
      "text/plain": [
       "<IPython.core.display.SVG object>"
      ]
     },
     "metadata": {},
     "output_type": "display_data"
    },
    {
     "name": "stdout",
     "output_type": "stream",
     "text": [
      "INFO:tensorflow:Loading model /home/calpeyser/checkpoints/cat/vector-47500.\n",
      "INFO:tensorflow:Restoring parameters from /home/calpeyser/checkpoints/cat/vector-47500\n"
     ]
    },
    {
     "data": {
      "image/svg+xml": [
       "<svg baseProfile=\"full\" height=\"68.1602428108\" version=\"1.1\" width=\"67.596165929\" xmlns=\"http://www.w3.org/2000/svg\" xmlns:ev=\"http://www.w3.org/2001/xml-events\" xmlns:xlink=\"http://www.w3.org/1999/xlink\"><defs/><rect fill=\"white\" height=\"68.1602428108\" width=\"67.596165929\" x=\"0\" y=\"0\"/><path d=\"M30.2125815488,33.1775800305 m-1.11156240106,-0.681961402297 l-1.08885467052,0.185976140201 -0.955505743623,0.971504896879 l-0.457532592118,3.22084873915 0.872746556997,2.49124661088 l3.02418619394,3.07643443346 1.41127794981,0.718606114388 l3.23010534048,7.24766778148e-06 3.17185461521,-1.11617140472 l2.58279591799,-2.14258804917 0.874340161681,-1.53656318784 l0.544875115156,-3.0552110076 -1.30263462663,-3.49698215723 l-1.1356625706,-0.932480692863 -8.098706007,-1.17283344269 l-2.63489127159,1.02781005204 -0.501537397504,0.784756615758 m10.0759863853,-2.09841534495 l1.08054086566,-1.8041600287 2.36128240824,-2.61740416288 l0.440480150282,0.50674829632 -0.16339533031,5.27359008789 l-0.25744067505,1.92159503698 m-13.24421525,-2.89966195822 l-3.60566139221,-3.67875039577 -0.325453281403,2.00122728944 l0.950227603316,4.23122227192 0.962277054787,2.39081099629 m6.25569105148,1.42254918814 l2.16542780399,0.344600006938 2.13984325528,-0.473396219313 m-4.28018480539,-0.738032907248 l0.265161525458,1.31571382284 0.528909303248,0.203509721905 l1.06653735042,-1.56059354544 \" fill=\"none\" stroke=\"black\" stroke-width=\"1\"/></svg>"
      ],
      "text/plain": [
       "<IPython.core.display.SVG object>"
      ]
     },
     "metadata": {},
     "output_type": "display_data"
    },
    {
     "name": "stdout",
     "output_type": "stream",
     "text": [
      "------------------\n",
      "205\n",
      "INFO:tensorflow:Loading model /home/calpeyser/checkpoints/dog/vector-41500.\n",
      "INFO:tensorflow:Restoring parameters from /home/calpeyser/checkpoints/dog/vector-41500\n"
     ]
    },
    {
     "data": {
      "image/svg+xml": [
       "<svg baseProfile=\"full\" height=\"86.6487086564\" version=\"1.1\" width=\"84.9592284113\" xmlns=\"http://www.w3.org/2000/svg\" xmlns:ev=\"http://www.w3.org/2001/xml-events\" xmlns:xlink=\"http://www.w3.org/1999/xlink\"><defs/><rect fill=\"white\" height=\"86.6487086564\" width=\"84.9592284113\" x=\"0\" y=\"0\"/><path d=\"M34.357117191,37.8660360724 m0.0,2.98907905817 l1.55951946974,6.75791800022 0.0,2.85911917686 l1.1696396023,5.97815811634 1.03967964649,2.07935929298 l1.68947950006,1.81943938136 2.07935929298,1.03967964649 l3.89879882336,0.259919911623 2.07935929298,-1.29959955812 l3.63887876272,-4.80851858854 1.03967964649,-2.07935929298 l1.03967964649,-4.80851858854 0.0,-5.97815811634 l-1.03967964649,-5.32835841179 -0.519839823246,-0.519839823246 m-17.6745545864,-4.67855840921 l-4.15871858597,5.5882781744 -3.63887876272,3.89879882336 l-1.29959955812,3.50891888142 -0.259919911623,3.24899882078 l1.03967964649,2.33927920461 1.29959955812,0.779759734869 l0.779759734869,0.0 1.03967964649,-1.29959955812 l0.519839823246,-2.07935929298 3.11903893948,-5.71823835373 l2.07935929298,-4.93847846985 m18.3243536949,-10.6567168236 l6.10811829567,9.09719705582 0.649799779058,3.89879882336 l-0.129959955812,1.29959955812 -0.909719690681,1.42955958843 l-0.649799779058,0.129959955812 -5.19839823246,-5.45831799507 m-18.1943941116,-4.67855840921 l2.33927920461,-2.07935929298 4.4186386466,-2.46923923492 l6.75791800022,-2.98907905817 5.84819793701,0.0 l3.76883894205,1.29959955812 \" fill=\"none\" stroke=\"black\" stroke-width=\"1\"/></svg>"
      ],
      "text/plain": [
       "<IPython.core.display.SVG object>"
      ]
     },
     "metadata": {},
     "output_type": "display_data"
    },
    {
     "name": "stdout",
     "output_type": "stream",
     "text": [
      "INFO:tensorflow:Loading model /home/calpeyser/checkpoints/cat/vector-47500.\n",
      "INFO:tensorflow:Restoring parameters from /home/calpeyser/checkpoints/cat/vector-47500\n"
     ]
    },
    {
     "data": {
      "image/svg+xml": [
       "<svg baseProfile=\"full\" height=\"67.9351747036\" version=\"1.1\" width=\"68.0404029787\" xmlns=\"http://www.w3.org/2000/svg\" xmlns:ev=\"http://www.w3.org/2001/xml-events\" xmlns:xlink=\"http://www.w3.org/1999/xlink\"><defs/><rect fill=\"white\" height=\"67.9351747036\" width=\"68.0404029787\" x=\"0\" y=\"0\"/><path d=\"M30.5515766516,32.2664736409 m-1.22193075716,-0.65666474402 l-1.20195843279,0.283743124455 -1.05770073831,1.15395076573 l-0.511794425547,3.10746818781 0.835206508636,2.56459563971 l2.5702676177,2.70735830069 2.74360060692,1.50823667645 l2.52370387316,1.31118429181e-05 2.93494254351,-1.22570969164 l2.75645911694,-2.36103877425 0.956381112337,-1.66171774268 l0.562004297972,-3.00727337599 -1.49680972099,-3.31484377384 l-1.22059591115,-0.892114117742 -5.47675430775,-1.00064240396 l-3.78718793392,0.665040686727 -0.733172446489,0.695381760597 m9.17461574078,-1.34735450149 l1.27069041133,-2.01756924391 2.49833792448,-2.46733352542 l0.370521247387,1.54354900122 -0.632388070226,5.00516653061 l-0.473197102547,1.42828390002 m-13.349416256,-3.05994480848 l-3.22764337063,-3.97460967302 -0.357758179307,2.0126144588 l0.970362648368,4.16780292988 1.03958114982,2.67621904612 m5.84241867065,1.57363340259 l2.03380972147,0.426237471402 2.20674872398,-0.375093407929 l1.80684790015,-1.12880930305 m-7.06740677357,-0.173814706504 l-0.702811032534,0.999659001827 -0.7027233392,1.4358972013 l0.626646727324,-0.560016110539 \" fill=\"none\" stroke=\"black\" stroke-width=\"1\"/></svg>"
      ],
      "text/plain": [
       "<IPython.core.display.SVG object>"
      ]
     },
     "metadata": {},
     "output_type": "display_data"
    },
    {
     "name": "stdout",
     "output_type": "stream",
     "text": [
      "------------------\n",
      "221\n",
      "INFO:tensorflow:Loading model /home/calpeyser/checkpoints/dog/vector-41500.\n",
      "INFO:tensorflow:Restoring parameters from /home/calpeyser/checkpoints/dog/vector-41500\n"
     ]
    },
    {
     "data": {
      "image/svg+xml": [
       "<svg baseProfile=\"full\" height=\"67.0247546583\" version=\"1.1\" width=\"68.9741536975\" xmlns=\"http://www.w3.org/2000/svg\" xmlns:ev=\"http://www.w3.org/2001/xml-events\" xmlns:xlink=\"http://www.w3.org/1999/xlink\"><defs/><rect fill=\"white\" height=\"67.0247546583\" width=\"68.9741536975\" x=\"0\" y=\"0\"/><path d=\"M31.4979977906,28.8987986743 m-2.59919911623,-2.07935929298 l-1.81943938136,-0.909719690681 -0.779759734869,0.129959955812 l-0.649799779058,0.649799779058 -0.649799779058,3.76883894205 l0.259919911623,3.24899882078 0.649799779058,1.03967964649 l0.909719690681,0.259919911623 1.55951946974,-1.1696396023 m8.70731711388,-8.05751740932 l1.68947950006,-0.779759734869 2.59919911623,0.0 l2.07935929298,1.55951946974 0.519839823246,2.72915899754 l-0.129959955812,1.94939941168 -0.649799779058,1.68947950006 l-1.81943938136,1.1696396023 -2.46923923492,-0.129959955812 l-2.07935929298,-2.59919911623 m0.129959955812,1.1696396023 l0.649799779058,4.2886787653 0.0,2.46923923492 l-1.68947950006,2.46923923492 -1.94939941168,0.259919911623 l-2.33927920461,-0.519839823246 -1.94939941168,-1.1696396023 l-1.42955958843,-1.42955958843 -0.389879867435,-1.03967964649 m3.76883894205,1.03967964649 l1.03967964649,0.389879867435 -1.42955958843,0.0 l0.649799779058,-0.259919911623 1.03967964649,0.129959955812 m1.1696396023,-8.05751740932 l0.0,-0.129959955812 m-4.02875870466,-0.129959955812 l0.0,0.0 m0.259919911623,-3.37895900011 l1.81943938136,-1.03967964649 5.06843864918,-0.389879867435 \" fill=\"none\" stroke=\"black\" stroke-width=\"1\"/></svg>"
      ],
      "text/plain": [
       "<IPython.core.display.SVG object>"
      ]
     },
     "metadata": {},
     "output_type": "display_data"
    },
    {
     "name": "stdout",
     "output_type": "stream",
     "text": [
      "INFO:tensorflow:Loading model /home/calpeyser/checkpoints/cat/vector-47500.\n",
      "INFO:tensorflow:Restoring parameters from /home/calpeyser/checkpoints/cat/vector-47500\n"
     ]
    },
    {
     "data": {
      "image/svg+xml": [
       "<svg baseProfile=\"full\" height=\"67.5087558478\" version=\"1.1\" width=\"67.737816833\" xmlns=\"http://www.w3.org/2000/svg\" xmlns:ev=\"http://www.w3.org/2001/xml-events\" xmlns:xlink=\"http://www.w3.org/1999/xlink\"><defs/><rect fill=\"white\" height=\"67.5087558478\" width=\"67.737816833\" x=\"0\" y=\"0\"/><path d=\"M29.5555376261,32.1605206055 m-1.12775817513,-0.611928664148 l-1.11297935247,0.176738835871 -1.00844524801,0.952371880412 l-0.403993166983,3.08764874935 0.902350097895,2.47623309493 l2.80853033066,2.84333914518 2.60070294142,1.42381921411 l2.50918775797,1.29865611598e-05 3.01487624645,-1.38582587242 l2.68813073635,-2.53448724747 0.803072378039,-1.55160591006 l0.446516312659,-2.90516763926 -1.53656318784,-2.88312762976 l-1.19032472372,-0.798582062125 -5.3696256876,-0.990300625563 l-3.78284424543,0.507664978504 -0.74078887701,0.711322128773 m9.77315843105,-1.03720739484 l1.06884121895,-1.93978950381 2.40387737751,-2.70164906979 l0.436358042061,0.523429550231 -0.20801205188,5.84918618202 l-0.509325675666,1.85355693102 m-13.3590948582,-3.46642106771 l-3.22758883238,-3.81491422653 -0.433795414865,0.407402701676 l0.152652431279,4.61904913187 0.69531455636,3.1341317296 m6.06728196144,2.68199086189 l2.18454241753,0.542913712561 2.20026314259,-0.387264601886 l1.62971958518,-1.18088327348 m-5.67250430584,-0.46127256006 l-0.595910362899,0.951839238405 -0.629020407796,1.4401461184 l0.944314077497,-1.22041113675 \" fill=\"none\" stroke=\"black\" stroke-width=\"1\"/></svg>"
      ],
      "text/plain": [
       "<IPython.core.display.SVG object>"
      ]
     },
     "metadata": {},
     "output_type": "display_data"
    },
    {
     "name": "stdout",
     "output_type": "stream",
     "text": [
      "------------------\n",
      "222\n",
      "INFO:tensorflow:Loading model /home/calpeyser/checkpoints/dog/vector-41500.\n",
      "INFO:tensorflow:Restoring parameters from /home/calpeyser/checkpoints/dog/vector-41500\n"
     ]
    },
    {
     "data": {
      "image/svg+xml": [
       "<svg baseProfile=\"full\" height=\"66.1150343716\" version=\"1.1\" width=\"72.2231525183\" xmlns=\"http://www.w3.org/2000/svg\" xmlns:ev=\"http://www.w3.org/2001/xml-events\" xmlns:xlink=\"http://www.w3.org/1999/xlink\"><defs/><rect fill=\"white\" height=\"66.1150343716\" width=\"72.2231525183\" x=\"0\" y=\"0\"/><path d=\"M33.3174371719,29.2886781693 m-0.779759734869,0.259919911623 l-1.81943938136,3.76883894205 -0.129959955812,5.84819793701 l1.68947950006,1.68947950006 4.15871858597,0.259919911623 l2.2093193233,-0.649799779058 1.68947950006,-1.81943938136 l1.29959955812,-2.59919911623 0.0,-2.33927920461 l-0.129959955812,-1.03967964649 -2.07935929298,-3.50891888142 l-1.42955958843,-1.03967964649 -3.50891888142,-0.259919911623 l-1.29959955812,1.03967964649 -0.909719690681,1.81943938136 m0.129959955812,-2.46923923492 l-2.59919911623,-0.259919911623 -2.07935929298,1.03967964649 l-1.03967964649,1.42955958843 -1.42955958843,3.89879882336 l-0.259919911623,2.07935929298 0.0,3.76883894205 l0.649799779058,0.519839823246 0.909719690681,-0.129959955812 l2.72915899754,-3.24899882078 1.68947950006,-3.89879882336 l1.1696396023,-0.519839823246 m8.31743717194,-4.54859852791 l3.11903893948,-3.11903893948 1.42955958843,-0.259919911623 l0.779759734869,0.519839823246 0.389879867435,0.909719690681 l1.03967964649,5.84819793701 0.0,5.19839823246 l-0.649799779058,1.55951946974 -1.42955958843,1.42955958843 l-1.42955958843,-0.259919911623 -0.779759734869,-0.909719690681 l-1.94939941168,-2.85911917686 -0.129959955812,-1.03967964649 \" fill=\"none\" stroke=\"black\" stroke-width=\"1\"/></svg>"
      ],
      "text/plain": [
       "<IPython.core.display.SVG object>"
      ]
     },
     "metadata": {},
     "output_type": "display_data"
    },
    {
     "name": "stdout",
     "output_type": "stream",
     "text": [
      "INFO:tensorflow:Loading model /home/calpeyser/checkpoints/cat/vector-47500.\n",
      "INFO:tensorflow:Restoring parameters from /home/calpeyser/checkpoints/cat/vector-47500\n"
     ]
    },
    {
     "data": {
      "image/svg+xml": [
       "<svg baseProfile=\"full\" height=\"68.7435009506\" version=\"1.1\" width=\"68.9991760626\" xmlns=\"http://www.w3.org/2000/svg\" xmlns:ev=\"http://www.w3.org/2001/xml-events\" xmlns:xlink=\"http://www.w3.org/1999/xlink\"><defs/><rect fill=\"white\" height=\"68.7435009506\" width=\"68.9991760626\" x=\"0\" y=\"0\"/><path d=\"M28.8906958234,33.9540883236 m-0.655688717961,-0.851805582643 l-0.774130672216,-0.0491361971945 -0.712992921472,0.746080875397 l-0.4046651721,2.95410215855 1.09287679195,3.26302349567 l2.75233894587,2.45635196567 2.78238803148,1.27079591155 l2.49629274011,-0.000145303911268 3.0447781086,-1.42706573009 l2.64949023724,-2.51447409391 0.992462337017,-2.34207600355 l0.196057427675,-3.17542314529 -0.450642071664,-1.06443427503 l-2.20000207424,-1.57187700272 -9.44315433502,-1.2478993088 l-1.58681675792,0.581369586289 -0.861364081502,1.13980546594 m-0.0821173284203,-0.632633194327 l-1.61479532719,-4.10693794489 -1.11101098359,-1.78205132484 l3.9298120141,3.15173834562 2.32514977455,1.87999144197 m7.24040985107,-0.422489084303 l2.27924644947,-2.57865875959 2.98316717148,-2.63024061918 l0.241390801966,1.4659743011 -1.13132536411,6.10188782215 l-0.8152923733,2.0985545218 m-11.193035841,2.45972469449 l1.286149472,0.913195982575 m-1.65880858898,-0.413892269135 l0.493121743202,0.971014425159 1.22984558344,0.541083626449 l2.94292628765,-0.953140184283 1.56852647662,-2.52206027508 \" fill=\"none\" stroke=\"black\" stroke-width=\"1\"/></svg>"
      ],
      "text/plain": [
       "<IPython.core.display.SVG object>"
      ]
     },
     "metadata": {},
     "output_type": "display_data"
    },
    {
     "name": "stdout",
     "output_type": "stream",
     "text": [
      "------------------\n",
      "248\n",
      "INFO:tensorflow:Loading model /home/calpeyser/checkpoints/dog/vector-41500.\n",
      "INFO:tensorflow:Restoring parameters from /home/calpeyser/checkpoints/dog/vector-41500\n"
     ]
    },
    {
     "data": {
      "image/svg+xml": [
       "<svg baseProfile=\"full\" height=\"73.5227523744\" version=\"1.1\" width=\"78.0713513494\" xmlns=\"http://www.w3.org/2000/svg\" xmlns:ev=\"http://www.w3.org/2001/xml-events\" xmlns:xlink=\"http://www.w3.org/1999/xlink\"><defs/><rect fill=\"white\" height=\"73.5227523744\" width=\"78.0713513494\" x=\"0\" y=\"0\"/><path d=\"M39.8154354841,33.8372768462 m0.0,-0.649799779058 l-5.5882781744,-0.129959955812 -1.94939941168,0.389879867435 l-0.909719690681,0.649799779058 -1.94939941168,3.89879882336 l-0.519839823246,2.98907905817 0.0,4.80851858854 l1.55951946974,2.2093193233 1.03967964649,0.389879867435 l5.97815811634,0.129959955812 1.68947950006,-0.129959955812 l1.29959955812,-0.649799779058 2.33927920461,-2.2093193233 l1.42955958843,-2.72915899754 0.519839823246,-6.75791800022 l-1.29959955812,-4.4186386466 -0.649799779058,-0.909719690681 l-1.03967964649,-0.129959955812 m-9.22715723515,1.68947950006 l-1.68947950006,-1.55951946974 -2.2093193233,-0.779759734869 l-2.2093193233,0.909719690681 -0.519839823246,0.649799779058 l-0.649799779058,1.55951946974 -0.259919911623,2.46923923492 l0.779759734869,0.519839823246 5.06843864918,-0.519839823246 m8.31743717194,-2.2093193233 l5.06843864918,-6.23807787895 1.29959955812,-1.1696396023 l2.72915899754,-0.909719690681 3.76883894205,1.94939941168 l1.03967964649,1.29959955812 0.0,6.8878775835 l-3.89879882336,0.259919911623 -3.76883894205,-0.909719690681 l-2.72915899754,0.0 m-10.3967964649,3.37895900011 l2.2093193233,0.0 -2.33927920461,-0.779759734869 \" fill=\"none\" stroke=\"black\" stroke-width=\"1\"/></svg>"
      ],
      "text/plain": [
       "<IPython.core.display.SVG object>"
      ]
     },
     "metadata": {},
     "output_type": "display_data"
    },
    {
     "name": "stdout",
     "output_type": "stream",
     "text": [
      "INFO:tensorflow:Loading model /home/calpeyser/checkpoints/cat/vector-47500.\n",
      "INFO:tensorflow:Restoring parameters from /home/calpeyser/checkpoints/cat/vector-47500\n"
     ]
    },
    {
     "data": {
      "image/svg+xml": [
       "<svg baseProfile=\"full\" height=\"67.8645073911\" version=\"1.1\" width=\"67.581622079\" xmlns=\"http://www.w3.org/2000/svg\" xmlns:ev=\"http://www.w3.org/2001/xml-events\" xmlns:xlink=\"http://www.w3.org/1999/xlink\"><defs/><rect fill=\"white\" height=\"67.8645073911\" width=\"67.581622079\" x=\"0\" y=\"0\"/><path d=\"M28.8159016892,33.3486482976 m-0.536026880145,-0.831186175346 l-0.669787153602,-0.122417714447 -0.662305876613,0.588117875159 l-0.296050570905,2.83906310797 1.1688426882,3.54598402977 l3.13007771969,2.34853416681 2.87176549435,1.1477638036 l2.29818060994,-0.000277413982985 2.55762934685,-1.34434357285 l2.72010326385,-2.74833917618 1.00562907755,-2.45331779122 l0.177662670612,-3.2192209363 -0.470618419349,-0.971339792013 l-4.06150788069,-2.09817036986 -5.5015963316,-0.480444505811 l-3.29002529383,0.791298598051 -0.761413276196,0.751295462251 m10.1160514355,-1.70859739184 l1.03541456163,-1.82990819216 2.31354042888,-2.55314230919 l0.449911095202,0.502245090902 -0.044051874429,5.49085140228 l-0.180657766759,1.60884290934 m-13.6307191849,-2.98805296421 l-3.32013845444,-3.81869852543 -0.235811118037,2.18104481697 l1.09868519008,4.25877332687 m5.56769788265,4.36536967754 l1.94885864854,0.408330596983 2.32904970646,-0.238723419607 l1.41066357493,-0.78539185226 m-5.06612300873,-1.30627036095 l-0.249780081213,1.01830556989 0.431625805795,0.743551775813 l1.77347525954,-0.507598333061 \" fill=\"none\" stroke=\"black\" stroke-width=\"1\"/></svg>"
      ],
      "text/plain": [
       "<IPython.core.display.SVG object>"
      ]
     },
     "metadata": {},
     "output_type": "display_data"
    },
    {
     "name": "stdout",
     "output_type": "stream",
     "text": [
      "------------------\n",
      "282\n",
      "INFO:tensorflow:Loading model /home/calpeyser/checkpoints/dog/vector-41500.\n",
      "INFO:tensorflow:Restoring parameters from /home/calpeyser/checkpoints/dog/vector-41500\n"
     ]
    },
    {
     "data": {
      "image/svg+xml": [
       "<svg baseProfile=\"full\" height=\"88.8580275327\" version=\"1.1\" width=\"97.9552244395\" xmlns=\"http://www.w3.org/2000/svg\" xmlns:ev=\"http://www.w3.org/2001/xml-events\" xmlns:xlink=\"http://www.w3.org/1999/xlink\"><defs/><rect fill=\"white\" height=\"88.8580275327\" width=\"97.9552244395\" x=\"0\" y=\"0\"/><path d=\"M31.6279578209,27.2093196958 m-3.11903893948,3.76883894205 l-2.98907905817,5.5882781744 -0.519839823246,3.37895900011 l0.779759734869,1.81943938136 2.2093193233,1.81943938136 l1.03967964649,0.0 1.42955958843,-0.909719690681 l1.1696396023,-1.1696396023 4.67855840921,-6.75791800022 l0.519839823246,-0.129959955812 m0.0,-0.389879867435 l0.389879867435,1.68947950006 -0.129959955812,3.24899882078 l-1.55951946974,9.35711681843 0.0,5.5882781744 l1.29959955812,4.02875870466 2.85911917686,3.24899882078 l2.2093193233,1.03967964649 13.6457955837,1.42955958843 l3.24899882078,-0.259919911623 1.29959955812,-0.779759734869 l1.29959955812,-3.63887876272 1.42955958843,-14.8154354095 l-0.129959955812,-5.84819793701 0.259919911623,-3.76883894205 l0.909719690681,2.07935929298 2.33927920461,2.59919911623 l2.85911917686,1.81943938136 1.55951946974,0.519839823246 l1.55951946974,-1.55951946974 0.779759734869,-3.11903893948 l-0.259919911623,-3.63887876272 -0.779759734869,-2.2093193233 l-4.15871858597,-3.63887876272 -2.72915899754,0.0 l-11.5664362907,-2.2093193233 -10.6567168236,-0.389879867435 l-7.66763746738,1.29959955812 -2.98907905817,0.909719690681 l0.0,0.259919911623 \" fill=\"none\" stroke=\"black\" stroke-width=\"1\"/></svg>"
      ],
      "text/plain": [
       "<IPython.core.display.SVG object>"
      ]
     },
     "metadata": {},
     "output_type": "display_data"
    },
    {
     "name": "stdout",
     "output_type": "stream",
     "text": [
      "INFO:tensorflow:Loading model /home/calpeyser/checkpoints/cat/vector-47500.\n",
      "INFO:tensorflow:Restoring parameters from /home/calpeyser/checkpoints/cat/vector-47500\n"
     ]
    },
    {
     "data": {
      "image/svg+xml": [
       "<svg baseProfile=\"full\" height=\"67.3512261317\" version=\"1.1\" width=\"67.9375135526\" xmlns=\"http://www.w3.org/2000/svg\" xmlns:ev=\"http://www.w3.org/2001/xml-events\" xmlns:xlink=\"http://www.w3.org/1999/xlink\"><defs/><rect fill=\"white\" height=\"67.3512261317\" width=\"67.9375135526\" x=\"0\" y=\"0\"/><path d=\"M29.6204723977,32.7559968273 m-0.776944831014,-0.765387266874 l-0.862868204713,0.0492955138907 -0.800656527281,0.830186232924 l-0.326877348125,3.07522326708 1.36654227972,3.35438579321 l2.72396534681,2.43876114488 1.36463388801,0.612764619291 l3.11307430267,-0.000208388391911 3.27185064554,-1.18189021945 l2.67108947039,-2.36871019006 0.939173549414,-2.30928763747 l0.130270067602,-3.3144941926 -0.506264418364,-1.07263550162 l-3.71329933405,-2.26826474071 -5.08036732674,-0.544679388404 l-3.20961892605,0.932647660375 -0.644823014736,0.725230872631 m9.62921857834,-1.4683458209 l1.05418734252,-1.86716780066 2.47267827392,-2.61342078447 l0.50207734108,1.25772565603 -0.334533341229,5.17603874207 l-0.207375064492,1.53362795711 m-13.6657583714,-3.34632813931 l-3.36913257837,-3.94823431969 -0.360714197159,2.14228078723 l1.05755463243,4.29541051388 0.992706641555,2.4608053267 m5.34519970417,1.73876047134 l2.21711903811,0.224003046751 2.43242263794,-0.36399397999 m-3.82849395275,-0.432907566428 l0.43448176235,0.9962888062 0.437343008816,0.31866248697 l0.246832221746,-1.25421211123 \" fill=\"none\" stroke=\"black\" stroke-width=\"1\"/></svg>"
      ],
      "text/plain": [
       "<IPython.core.display.SVG object>"
      ]
     },
     "metadata": {},
     "output_type": "display_data"
    },
    {
     "name": "stdout",
     "output_type": "stream",
     "text": [
      "------------------\n",
      "283\n",
      "INFO:tensorflow:Loading model /home/calpeyser/checkpoints/dog/vector-41500.\n",
      "INFO:tensorflow:Restoring parameters from /home/calpeyser/checkpoints/dog/vector-41500\n"
     ]
    },
    {
     "data": {
      "image/svg+xml": [
       "<svg baseProfile=\"full\" height=\"64.4255549461\" version=\"1.1\" width=\"70.4037132859\" xmlns=\"http://www.w3.org/2000/svg\" xmlns:ev=\"http://www.w3.org/2001/xml-events\" xmlns:xlink=\"http://www.w3.org/1999/xlink\"><defs/><rect fill=\"white\" height=\"64.4255549461\" width=\"70.4037132859\" x=\"0\" y=\"0\"/><path d=\"M32.0178376883,25.1299592108 m-4.15871858597,2.2093193233 l-2.46923923492,4.2886787653 -0.389879867435,3.76883894205 l0.129959955812,0.649799779058 0.649799779058,0.129959955812 l0.909719690681,-1.94939941168 4.54859852791,-4.67855840921 l0.519839823246,0.779759734869 -0.519839823246,4.67855840921 l0.129959955812,3.37895900011 0.519839823246,0.649799779058 l1.55951946974,0.389879867435 2.33927920461,0.0 l1.42955958843,-0.909719690681 0.519839823246,-1.03967964649 l-0.519839823246,-8.31743717194 0.779759734869,-0.129959955812 l2.2093193233,1.03967964649 3.63887876272,4.54859852791 l0.519839823246,1.42955958843 0.0,2.46923923492 l1.03967964649,-2.2093193233 0.0,-5.19839823246 l-0.649799779058,-1.29959955812 -3.24899882078,-2.59919911623 l-5.06843864918,-2.07935929298 -5.45831799507,-0.129959955812 m1.55951946974,3.76883894205 l0.0,0.0 m0.649799779058,0.519839823246 l-0.389879867435,-1.42955958843 -0.649799779058,0.259919911623 l0.389879867435,0.649799779058 0.779759734869,0.259919911623 m2.85911917686,-0.519839823246 l-0.779759734869,0.0 -0.389879867435,0.649799779058 l0.0,0.649799779058 0.779759734869,0.0 l0.129959955812,-0.649799779058 \" fill=\"none\" stroke=\"black\" stroke-width=\"1\"/></svg>"
      ],
      "text/plain": [
       "<IPython.core.display.SVG object>"
      ]
     },
     "metadata": {},
     "output_type": "display_data"
    },
    {
     "name": "stdout",
     "output_type": "stream",
     "text": [
      "INFO:tensorflow:Loading model /home/calpeyser/checkpoints/cat/vector-47500.\n",
      "INFO:tensorflow:Restoring parameters from /home/calpeyser/checkpoints/cat/vector-47500\n"
     ]
    },
    {
     "data": {
      "image/svg+xml": [
       "<svg baseProfile=\"full\" height=\"67.4310046062\" version=\"1.1\" width=\"67.5974689983\" xmlns=\"http://www.w3.org/2000/svg\" xmlns:ev=\"http://www.w3.org/2001/xml-events\" xmlns:xlink=\"http://www.w3.org/1999/xlink\"><defs/><rect fill=\"white\" height=\"67.4310046062\" width=\"67.5974689983\" x=\"0\" y=\"0\"/><path d=\"M30.9251734428,31.6026662476 m-1.48984670639,-0.471851266921 l-1.29314675927,0.276721846312 -1.08383052051,1.10395543277 l-0.464201532304,3.27644884586 0.325553826988,1.39145776629 l2.92097687721,3.75546276569 1.30716472864,0.848717913032 l3.65823477507,0.647425055504 3.11876446009,-0.834047719836 l2.65483826399,-2.2264200449 1.02112561464,-1.54001817107 l0.768978595734,-2.92792588472 -0.48526559025,-2.24592447281 l-2.12603539228,-2.09181636572 -7.75003731251,-1.52553543448 l-1.41341865063,0.377926938236 -0.994997918606,1.0040037334 m8.78200829029,-0.928982943296 l1.35623857379,-2.00096443295 2.44562834501,-2.49129980803 l0.413563586771,0.560366697609 -0.308278892189,5.60195446014 l-0.380055084825,1.84194356203 m-13.2976770401,-3.17383140326 l-3.43258917332,-4.11204040051 -0.178868807852,2.33598962426 l1.09769485891,4.16814625263 1.06139548123,2.28327617049 m5.32800376415,1.57062277198 l1.9484834373,0.293934196234 2.17107906938,-0.535200424492 m-4.18285638094,-0.205177627504 l0.44402461499,1.22898854315 0.439182035625,0.168224703521 l0.844928920269,-1.52598753572 \" fill=\"none\" stroke=\"black\" stroke-width=\"1\"/></svg>"
      ],
      "text/plain": [
       "<IPython.core.display.SVG object>"
      ]
     },
     "metadata": {},
     "output_type": "display_data"
    },
    {
     "name": "stdout",
     "output_type": "stream",
     "text": [
      "------------------\n",
      "378\n",
      "INFO:tensorflow:Loading model /home/calpeyser/checkpoints/dog/vector-41500.\n",
      "INFO:tensorflow:Restoring parameters from /home/calpeyser/checkpoints/dog/vector-41500\n"
     ]
    },
    {
     "data": {
      "image/svg+xml": [
       "<svg baseProfile=\"full\" height=\"72.8729528934\" version=\"1.1\" width=\"80.8005100489\" xmlns=\"http://www.w3.org/2000/svg\" xmlns:ev=\"http://www.w3.org/2001/xml-events\" xmlns:xlink=\"http://www.w3.org/1999/xlink\"><defs/><rect fill=\"white\" height=\"72.8729528934\" width=\"80.8005100489\" x=\"0\" y=\"0\"/><path d=\"M33.5773572326,27.2093193233 m-2.98907905817,0.129959955812 l-4.15871858597,2.07935929298 -1.42955958843,1.29959955812 l0.0,5.97815811634 0.519839823246,1.29959955812 l2.98907905817,0.259919911623 1.03967964649,-0.519839823246 l0.649799779058,-0.649799779058 0.129959955812,-2.07935929298 l0.909719690681,-2.07935929298 2.33927920461,-2.46923923492 l0.0,1.55951946974 -0.649799779058,1.29959955812 l-0.259919911623,8.57735753059 -0.519839823246,2.98907905817 l4.15871858597,1.55951946974 4.93847846985,0.519839823246 l1.94939941168,0.909719690681 3.37895900011,-0.389879867435 l1.94939941168,-1.68947950006 1.1696396023,-2.07935929298 l0.259919911623,-6.75791800022 -1.1696396023,-1.94939941168 l-2.72915899754,-2.85911917686 -2.98907905817,-0.779759734869 l3.11903893948,-0.129959955812 1.55951946974,0.909719690681 l3.24899882078,4.4186386466 0.649799779058,0.519839823246 l1.29959955812,0.0 1.94939941168,-1.68947950006 l0.909719690681,-2.72915899754 0.0,-2.33927920461 l-0.649799779058,-1.94939941168 -1.68947950006,-1.94939941168 l-4.15871858597,-1.42955958843 -4.02875870466,0.259919911623 l-4.93847846985,1.94939941168 -2.07935929298,0.0 l-3.24899882078,-0.779759734869 \" fill=\"none\" stroke=\"black\" stroke-width=\"1\"/></svg>"
      ],
      "text/plain": [
       "<IPython.core.display.SVG object>"
      ]
     },
     "metadata": {},
     "output_type": "display_data"
    },
    {
     "name": "stdout",
     "output_type": "stream",
     "text": [
      "INFO:tensorflow:Loading model /home/calpeyser/checkpoints/cat/vector-47500.\n",
      "INFO:tensorflow:Restoring parameters from /home/calpeyser/checkpoints/cat/vector-47500\n"
     ]
    },
    {
     "data": {
      "image/svg+xml": [
       "<svg baseProfile=\"full\" height=\"67.8506979905\" version=\"1.1\" width=\"67.7420171723\" xmlns=\"http://www.w3.org/2000/svg\" xmlns:ev=\"http://www.w3.org/2001/xml-events\" xmlns:xlink=\"http://www.w3.org/1999/xlink\"><defs/><rect fill=\"white\" height=\"67.8506979905\" width=\"67.7420171723\" x=\"0\" y=\"0\"/><path d=\"M29.4445071742,32.0711059123 m-0.858089402318,-0.769581794739 l-0.938836410642,0.0771773792803 -0.894855707884,0.83681114018 l-0.498856529593,3.20757359266 1.15035519004,3.43812018633 l1.81267738342,1.8958555162 3.0349034071,1.60448864102 l2.99276173115,0.489147417247 1.57064422965,-0.31113602221 l4.4780048728,-3.70451956987 0.923727676272,-1.66882023215 l0.499976687133,-2.91041523218 -0.665248334408,-1.76338866353 l-1.50737762451,-1.38180345297 -3.83545637131,-1.30275577307 l-5.25536954403,0.0893838144839 -2.27645009756,1.03826738894 m9.49155271053,-1.1223269999 l1.27854779363,-2.15976029634 2.35734194517,-2.6534229517 l0.437556393445,1.40655249357 -0.23859700188,5.14901459217 l-0.270778927952,1.3397949934 m-13.6446475983,-3.27227652073 l-3.22976261377,-4.04671162367 -0.358231030405,2.18965902925 l0.846055448055,4.28953111172 0.949246808887,2.26800620556 m5.12142300606,1.98768615723 l2.20578402281,0.450312122703 2.42262050509,-0.53012676537 m-4.22752588987,-0.193689372391 l0.596064031124,1.12058013678 0.495217479765,0.217343866825 l0.612049922347,-1.55686125159 \" fill=\"none\" stroke=\"black\" stroke-width=\"1\"/></svg>"
      ],
      "text/plain": [
       "<IPython.core.display.SVG object>"
      ]
     },
     "metadata": {},
     "output_type": "display_data"
    },
    {
     "name": "stdout",
     "output_type": "stream",
     "text": [
      "------------------\n",
      "425\n",
      "INFO:tensorflow:Loading model /home/calpeyser/checkpoints/dog/vector-41500.\n",
      "INFO:tensorflow:Restoring parameters from /home/calpeyser/checkpoints/dog/vector-41500\n"
     ]
    },
    {
     "data": {
      "image/svg+xml": [
       "<svg baseProfile=\"full\" height=\"66.8947953731\" version=\"1.1\" width=\"77.0316709578\" xmlns=\"http://www.w3.org/2000/svg\" xmlns:ev=\"http://www.w3.org/2001/xml-events\" xmlns:xlink=\"http://www.w3.org/1999/xlink\"><defs/><rect fill=\"white\" height=\"66.8947953731\" width=\"77.0316709578\" x=\"0\" y=\"0\"/><path d=\"M44.7539138794,26.0396806151 m-7.66763746738,0.259919911623 l-3.37895900011,1.03967964649 -1.42955958843,0.909719690681 l-1.81943938136,2.98907905817 -1.03967964649,3.11903893948 l-0.259919911623,3.63887876272 1.55951946974,2.46923923492 l1.68947950006,0.779759734869 3.24899882078,0.649799779058 l5.45831799507,0.0 3.50891888142,-1.1696396023 l1.68947950006,-1.1696396023 1.1696396023,-3.37895900011 l-0.389879867435,-5.32835841179 -0.909719690681,-1.29959955812 l-1.29959955812,-0.519839823246 m-11.9563162327,-1.68947950006 l-5.19839823246,11.1765563488 -0.909719690681,1.29959955812 l-1.29959955812,0.259919911623 -0.519839823246,-0.909719690681 l0.129959955812,-5.06843864918 4.15871858597,-5.06843864918 l3.37895900011,-1.94939941168 m12.086275816,-1.29959955812 l0.649799779058,0.519839823246 0.519839823246,2.07935929298 l1.1696396023,1.94939941168 1.81943938136,1.29959955812 l1.94939941168,0.0 0.779759734869,-0.909719690681 l0.389879867435,-0.909719690681 0.0,-1.55951946974 l-0.389879867435,-0.649799779058 -4.02875870466,-2.46923923492 l-3.76883894205,-0.129959955812 m-11.4364767075,7.5376778841 l0.649799779058,0.259919911623 m10.2668368816,-1.1696396023 l0.0,0.0 \" fill=\"none\" stroke=\"black\" stroke-width=\"1\"/></svg>"
      ],
      "text/plain": [
       "<IPython.core.display.SVG object>"
      ]
     },
     "metadata": {},
     "output_type": "display_data"
    },
    {
     "name": "stdout",
     "output_type": "stream",
     "text": [
      "INFO:tensorflow:Loading model /home/calpeyser/checkpoints/cat/vector-47500.\n",
      "INFO:tensorflow:Restoring parameters from /home/calpeyser/checkpoints/cat/vector-47500\n"
     ]
    },
    {
     "data": {
      "image/svg+xml": [
       "<svg baseProfile=\"full\" height=\"67.5333900102\" version=\"1.1\" width=\"67.8194281459\" xmlns=\"http://www.w3.org/2000/svg\" xmlns:ev=\"http://www.w3.org/2001/xml-events\" xmlns:xlink=\"http://www.w3.org/1999/xlink\"><defs/><rect fill=\"white\" height=\"67.5333900102\" width=\"67.8194281459\" x=\"0\" y=\"0\"/><path d=\"M29.2638966069,32.3951879055 m-0.812157988548,-0.748993828893 l-0.880938544869,0.0664751417935 -0.817017629743,0.883063748479 l-0.397427529097,3.10008704662 1.24555855989,3.31871420145 l2.63590723276,2.30125114322 2.71865427494,1.21760465205 l2.75363475084,-4.86247563458e-05 2.86171764135,-1.40045061707 l2.58198827505,-2.6972720027 0.770843550563,-1.70922368765 l0.377086438239,-2.98556119204 -0.405226573348,-1.08005605638 l-3.99888724089,-2.32334256172 -4.80470716953,-0.586338303983 l-3.31028848886,0.60377381742 -1.06932334602,0.797691866755 m10.2257990837,-1.52796685696 l1.19237244129,-2.03336790204 2.24457427859,-2.59122788906 l0.443369522691,0.536177493632 -0.199744664133,5.70986151695 l-0.340181626379,1.70562535524 m-13.5676252842,-3.31410288811 l-3.47596824169,-3.71432095766 -0.235908329487,1.79751783609 l0.959194749594,4.45099294186 1.00760743022,2.40218669176 m5.47219753265,2.24367618561 l2.15107053518,0.406140312552 2.43839800358,-0.455159917474 l1.76422297955,-1.21132872999 m-7.08889245987,-0.69990195334 l-0.196107514203,1.09684355557 0.327299907804,0.241143349558 l1.54838472605,-0.990027487278 \" fill=\"none\" stroke=\"black\" stroke-width=\"1\"/></svg>"
      ],
      "text/plain": [
       "<IPython.core.display.SVG object>"
      ]
     },
     "metadata": {},
     "output_type": "display_data"
    },
    {
     "name": "stdout",
     "output_type": "stream",
     "text": [
      "------------------\n",
      "441\n",
      "INFO:tensorflow:Loading model /home/calpeyser/checkpoints/dog/vector-41500.\n",
      "INFO:tensorflow:Restoring parameters from /home/calpeyser/checkpoints/dog/vector-41500\n"
     ]
    },
    {
     "data": {
      "image/svg+xml": [
       "<svg baseProfile=\"full\" height=\"69.2340738326\" version=\"1.1\" width=\"75.6021112204\" xmlns=\"http://www.w3.org/2000/svg\" xmlns:ev=\"http://www.w3.org/2001/xml-events\" xmlns:xlink=\"http://www.w3.org/1999/xlink\"><defs/><rect fill=\"white\" height=\"69.2340738326\" width=\"75.6021112204\" x=\"0\" y=\"0\"/><path d=\"M29.1587185115,30.198398754 m0.0,6.49799764156 l-0.519839823246,5.19839823246 0.129959955812,0.779759734869 l0.779759734869,0.779759734869 1.55951946974,0.779759734869 l7.01783776283,0.0 1.68947950006,-1.03967964649 l2.72915899754,-4.2886787653 0.909719690681,-3.63887876272 l-0.129959955812,-4.2886787653 -1.68947950006,-2.98907905817 l-2.07935929298,-0.909719690681 -4.67855840921,0.0 l-2.46923923492,1.03967964649 -0.519839823246,0.649799779058 l-1.29959955812,3.89879882336 -0.129959955812,1.94939941168 l-1.55951946974,2.72915899754 m2.46923923492,-8.31743717194 l-0.259919911623,-1.81943938136 -0.909719690681,-1.55951946974 l-0.909719690681,-0.519839823246 -2.72915899754,-0.129959955812 l-1.42955958843,2.85911917686 -0.129959955812,3.89879882336 l0.779759734869,1.42955958843 2.72915899754,0.0 l2.72915899754,-2.46923923492 m12.086275816,-3.24899882078 l1.29959955812,-0.909719690681 4.02875870466,0.259919911623 l1.68947950006,1.94939941168 0.259919911623,2.2093193233 l-0.259919911623,0.649799779058 -1.81943938136,1.29959955812 l-2.72915899754,0.129959955812 -0.909719690681,-0.519839823246 l-1.81943938136,-3.24899882078 m0.129959955812,-2.46923923492 l0.0,0.0 \" fill=\"none\" stroke=\"black\" stroke-width=\"1\"/></svg>"
      ],
      "text/plain": [
       "<IPython.core.display.SVG object>"
      ]
     },
     "metadata": {},
     "output_type": "display_data"
    },
    {
     "name": "stdout",
     "output_type": "stream",
     "text": [
      "INFO:tensorflow:Loading model /home/calpeyser/checkpoints/cat/vector-47500.\n",
      "INFO:tensorflow:Restoring parameters from /home/calpeyser/checkpoints/cat/vector-47500\n"
     ]
    },
    {
     "data": {
      "image/svg+xml": [
       "<svg baseProfile=\"full\" height=\"68.7921444885\" version=\"1.1\" width=\"68.7834259495\" xmlns=\"http://www.w3.org/2000/svg\" xmlns:ev=\"http://www.w3.org/2001/xml-events\" xmlns:xlink=\"http://www.w3.org/1999/xlink\"><defs/><rect fill=\"white\" height=\"68.7921444885\" width=\"68.7834259495\" x=\"0\" y=\"0\"/><path d=\"M29.7445658594,33.5899378639 m-1.11080311239,-0.617142319679 l-1.03647604585,0.144028430805 -0.894806981087,0.91804176569 l-0.430374145508,3.23194921017 0.936091169715,2.40795537829 l2.81007379293,2.84234642982 1.42821833491,0.743532180786 l3.54798257351,0.531495548785 3.07944923639,-0.913707688451 l2.58128553629,-2.46783971786 0.849315822124,-1.63432464004 l0.645066052675,-3.12987297773 -0.873250067234,-3.19354653358 l-1.00281730294,-0.894714146852 -5.41792035103,-1.19417533278 l-4.66090649366,0.571203716099 -0.96475854516,0.735285431147 m-1.16604946554,0.119053777307 l-1.98068156838,-4.04702365398 -1.08320429921,-1.77745938301 l3.70298504829,2.78639763594 2.46126487851,1.95662990212 m7.04645752907,-0.483358353376 l2.20356956124,-2.52387315035 3.1964713335,-2.70081937313 l0.172677598894,1.63016572595 -1.11611127853,5.94860732555 l-0.74389718473,1.94511786103 m-10.6000185013,2.5530654192 l1.01950958371,0.791629776359 0.217232257128,-0.151473525912 m-2.17357292771,-2.48664081097 l0.415058918297,0.923698619008 0.247668754309,0.326419100165 l0.759799703956,-0.403323769569 \" fill=\"none\" stroke=\"black\" stroke-width=\"1\"/></svg>"
      ],
      "text/plain": [
       "<IPython.core.display.SVG object>"
      ]
     },
     "metadata": {},
     "output_type": "display_data"
    },
    {
     "name": "stdout",
     "output_type": "stream",
     "text": [
      "------------------\n",
      "443\n",
      "INFO:tensorflow:Loading model /home/calpeyser/checkpoints/dog/vector-41500.\n",
      "INFO:tensorflow:Restoring parameters from /home/calpeyser/checkpoints/dog/vector-41500\n"
     ]
    },
    {
     "data": {
      "image/svg+xml": [
       "<svg baseProfile=\"full\" height=\"68.3243538439\" version=\"1.1\" width=\"85.8689489961\" xmlns=\"http://www.w3.org/2000/svg\" xmlns:ev=\"http://www.w3.org/2001/xml-events\" xmlns:xlink=\"http://www.w3.org/1999/xlink\"><defs/><rect fill=\"white\" height=\"68.3243538439\" width=\"85.8689489961\" x=\"0\" y=\"0\"/><path d=\"M36.4364771545,43.3243538439 m-0.259919911623,-1.29959955812 l-1.81943938136,-2.98907905817 -0.909719690681,-3.50891888142 l0.259919911623,-2.33927920461 1.1696396023,-1.55951946974 l4.93847846985,-2.33927920461 2.33927920461,-0.389879867435 l7.66763746738,0.0 1.42955958843,0.519839823246 l0.779759734869,0.779759734869 0.909719690681,2.72915899754 l-0.129959955812,1.29959955812 -1.68947950006,2.46923923492 l-3.37895900011,1.94939941168 -11.8263566494,3.89879882336 l0.519839823246,-1.68947950006 m1.68947950006,-12.4761557579 l-0.519839823246,-1.29959955812 -5.71823835373,-1.55951946974 l-3.89879882336,0.0 -1.55951946974,2.07935929298 l-1.42955958843,4.67855840921 0.0,3.50891888142 l1.03967964649,1.03967964649 2.46923923492,-0.129959955812 l2.33927920461,-4.02875870466 1.42955958843,-1.29959955812 l4.93847846985,-1.03967964649 m11.0465967655,-1.55951946974 l0.389879867435,-0.779759734869 3.24899882078,-1.29959955812 l2.2093193233,-1.68947950006 5.06843864918,0.0 l0.649799779058,0.389879867435 1.03967964649,2.33927920461 l-0.129959955812,4.80851858854 -3.76883894205,-3.76883894205 l-1.68947950006,-0.649799779058 -2.98907905817,-0.129959955812 l-2.33927920461,1.03967964649 \" fill=\"none\" stroke=\"black\" stroke-width=\"1\"/></svg>"
      ],
      "text/plain": [
       "<IPython.core.display.SVG object>"
      ]
     },
     "metadata": {},
     "output_type": "display_data"
    },
    {
     "name": "stdout",
     "output_type": "stream",
     "text": [
      "INFO:tensorflow:Loading model /home/calpeyser/checkpoints/cat/vector-47500.\n",
      "INFO:tensorflow:Restoring parameters from /home/calpeyser/checkpoints/cat/vector-47500\n"
     ]
    },
    {
     "data": {
      "image/svg+xml": [
       "<svg baseProfile=\"full\" height=\"67.237496376\" version=\"1.1\" width=\"67.2820932977\" xmlns=\"http://www.w3.org/2000/svg\" xmlns:ev=\"http://www.w3.org/2001/xml-events\" xmlns:xlink=\"http://www.w3.org/1999/xlink\"><defs/><rect fill=\"white\" height=\"67.237496376\" width=\"67.2820932977\" x=\"0\" y=\"0\"/><path d=\"M29.0425379947,32.594455116 m-0.85489012301,-0.726061761379 l-0.884535461664,0.0575124099851 -0.815888047218,0.852843523026 l-0.338644087315,3.21492671967 1.69470191002,2.76736289263 l2.2566087544,2.16055929661 2.78586089611,1.31583049893 l2.71322011948,6.76805893818e-05 3.08072388172,-1.61549985409 l2.59248256683,-2.83065438271 0.663722679019,-1.66697382927 l0.169358942658,-2.83043503761 -0.480277016759,-1.04629904032 l-2.3895521462,-1.5380333364 -7.41213619709,-1.25653922558 l-2.8713285923,0.695205926895 -0.499327555299,0.65193168819 m9.89711821079,-1.17287524045 l1.10013648868,-1.98617249727 2.2953748703,-2.64115154743 l0.536825209856,1.64498314261 -0.278482791036,4.81266200542 l-0.340418107808,1.46329447627 m-13.219691515,-3.14660698175 l-3.18079203367,-4.08917486668 -0.262708850205,2.53086000681 l0.82482971251,4.19268041849 m5.72186768055,3.88944864273 l1.80355444551,0.748492330313 2.44132235646,-0.172169376165 l1.58035516739,-1.22923076153 m-4.78228002787,-0.74326954782 l-0.423686280847,0.835035294294 -0.353149622679,0.961948856711 l-0.587256513536,-0.0562599347904 \" fill=\"none\" stroke=\"black\" stroke-width=\"1\"/></svg>"
      ],
      "text/plain": [
       "<IPython.core.display.SVG object>"
      ]
     },
     "metadata": {},
     "output_type": "display_data"
    },
    {
     "name": "stdout",
     "output_type": "stream",
     "text": [
      "------------------\n",
      "459\n",
      "INFO:tensorflow:Loading model /home/calpeyser/checkpoints/dog/vector-41500.\n",
      "INFO:tensorflow:Restoring parameters from /home/calpeyser/checkpoints/dog/vector-41500\n"
     ]
    },
    {
     "data": {
      "image/svg+xml": [
       "<svg baseProfile=\"full\" height=\"67.28467457\" version=\"1.1\" width=\"64.815435186\" xmlns=\"http://www.w3.org/2000/svg\" xmlns:ev=\"http://www.w3.org/2001/xml-events\" xmlns:xlink=\"http://www.w3.org/1999/xlink\"><defs/><rect fill=\"white\" height=\"67.28467457\" width=\"64.815435186\" x=\"0\" y=\"0\"/><path d=\"M29.8085187376,26.1696394533 m2.2093193233,-0.649799779058 l2.46923923492,0.0 m-5.06843864918,0.779759734869 l-2.46923923492,-0.259919911623 -1.94939941168,4.2886787653 l0.519839823246,2.33927920461 1.1696396023,0.389879867435 l1.03967964649,-0.909719690681 0.909719690681,-1.94939941168 m5.97815811634,-4.67855840921 l0.389879867435,-0.519839823246 2.33927920461,0.0 l0.649799779058,0.389879867435 1.68947950006,3.11903893948 l0.129959955812,2.59919911623 -0.649799779058,0.779759734869 l-1.81943938136,-0.519839823246 -1.68947950006,-1.1696396023 m-7.79759764671,1.03967964649 l0.0,1.68947950006 1.81943938136,4.2886787653 l1.68947950006,1.1696396023 2.72915899754,0.259919911623 l1.81943938136,-4.93847846985 0.0,-3.37895900011 m-5.19839823246,5.71823835373 l1.68947950006,0.0 0.389879867435,0.519839823246 l-1.68947950006,0.649799779058 -0.129959955812,-1.03967964649 m0.909719690681,2.2093193233 l-2.59919911623,1.94939941168 -2.85911917686,1.1696396023 l0.0,0.649799779058 0.649799779058,0.129959955812 l1.42955958843,0.0 3.37895900011,-1.29959955812 l1.1696396023,-2.59919911623 m-5.06843864918,-5.97815811634 l0.779759734869,0.259919911623 \" fill=\"none\" stroke=\"black\" stroke-width=\"1\"/></svg>"
      ],
      "text/plain": [
       "<IPython.core.display.SVG object>"
      ]
     },
     "metadata": {},
     "output_type": "display_data"
    },
    {
     "name": "stdout",
     "output_type": "stream",
     "text": [
      "INFO:tensorflow:Loading model /home/calpeyser/checkpoints/cat/vector-47500.\n",
      "INFO:tensorflow:Restoring parameters from /home/calpeyser/checkpoints/cat/vector-47500\n"
     ]
    },
    {
     "data": {
      "image/svg+xml": [
       "<svg baseProfile=\"full\" height=\"67.9161247916\" version=\"1.1\" width=\"69.1695595905\" xmlns=\"http://www.w3.org/2000/svg\" xmlns:ev=\"http://www.w3.org/2001/xml-events\" xmlns:xlink=\"http://www.w3.org/1999/xlink\"><defs/><rect fill=\"white\" height=\"67.9161247916\" width=\"69.1695595905\" x=\"0\" y=\"0\"/><path d=\"M30.8104643226,32.4233798057 m-1.05792328715,-0.665177926421 l-1.07428766787,0.219778958708 -0.914327353239,1.04158081114 l-0.435659997165,3.29313099384 0.910097137094,2.32536688447 l2.70069956779,2.72488057613 2.82416075468,1.55318468809 l2.35579073429,-4.06361959904e-05 2.97220796347,-1.30043998361 l2.78936475515,-2.49280139804 0.859768465161,-1.50452539325 l0.5989735201,-2.98622220755 -1.36427089572,-3.34559470415 l-1.19419641793,-0.883766114712 -5.63407242298,-1.06037460268 l-3.82332086563,0.71403503418 -0.759476274252,0.720468610525 m9.44884955883,-1.45006641746 l1.13456279039,-1.72866597772 2.5880753994,-2.598131001 l0.434079803526,1.39650702477 -0.598557367921,5.07309317589 l-0.29413420707,2.35282063484 m-13.8469350338,-3.95720809698 l-3.33844184875,-4.20228838921 -1.09149113297,-0.547334179282 l0.344910360873,4.34218347073 0.958348140121,4.36458736658 m6.23569905758,2.2683031857 l2.18103006482,0.809057056904 2.04833745956,-0.378484688699 l1.5510186553,-1.33456900716 m-5.25206029415,-0.301397498697 l-0.320182591677,0.954383462667 0.259185712785,0.570079572499 l1.05171307921,-0.652183070779 \" fill=\"none\" stroke=\"black\" stroke-width=\"1\"/></svg>"
      ],
      "text/plain": [
       "<IPython.core.display.SVG object>"
      ]
     },
     "metadata": {},
     "output_type": "display_data"
    },
    {
     "name": "stdout",
     "output_type": "stream",
     "text": [
      "------------------\n",
      "500\n",
      "INFO:tensorflow:Loading model /home/calpeyser/checkpoints/dog/vector-41500.\n",
      "INFO:tensorflow:Restoring parameters from /home/calpeyser/checkpoints/dog/vector-41500\n"
     ]
    },
    {
     "data": {
      "image/svg+xml": [
       "<svg baseProfile=\"full\" height=\"65.5951952189\" version=\"1.1\" width=\"66.3749544322\" xmlns=\"http://www.w3.org/2000/svg\" xmlns:ev=\"http://www.w3.org/2001/xml-events\" xmlns:xlink=\"http://www.w3.org/1999/xlink\"><defs/><rect fill=\"white\" height=\"65.5951952189\" width=\"66.3749544322\" x=\"0\" y=\"0\"/><path d=\"M29.808518365,27.8591194749 m-0.779759734869,-2.46923923492 l-0.909719690681,-0.259919911623 -0.649799779058,0.0 l-1.55951946974,2.59919911623 -0.909719690681,4.02875870466 l0.259919911623,7.66763746738 0.649799779058,0.259919911623 l1.1696396023,-0.909719690681 0.909719690681,-2.72915899754 l0.129959955812,-1.68947950006 1.03967964649,4.15871858597 l0.909719690681,1.29959955812 0.909719690681,0.519839823246 l3.11903893948,0.259919911623 0.649799779058,-0.519839823246 l1.03967964649,-2.07935929298 0.779759734869,-3.37895900011 l0.779759734869,2.72915899754 1.29959955812,1.81943938136 l1.81943938136,-0.259919911623 0.909719690681,-2.72915899754 l0.0,-3.76883894205 -1.81943938136,-7.01783776283 l-0.649799779058,-0.389879867435 -1.42955958843,0.129959955812 l-2.07935929298,3.89879882336 -2.85911917686,-1.68947950006 l-2.46923923492,0.259919911623 -0.259919911623,0.909719690681 m1.55951946974,3.50891888142 l0.0,0.0 m3.63887876272,0.259919911623 l0.0,0.0 m-3.89879882336,3.50891888142 l0.259919911623,0.779759734869 0.779759734869,0.519839823246 m-1.03967964649,-5.97815811634 l0.0,0.0 m3.37895900011,0.779759734869 l0.0,0.0 \" fill=\"none\" stroke=\"black\" stroke-width=\"1\"/></svg>"
      ],
      "text/plain": [
       "<IPython.core.display.SVG object>"
      ]
     },
     "metadata": {},
     "output_type": "display_data"
    },
    {
     "name": "stdout",
     "output_type": "stream",
     "text": [
      "INFO:tensorflow:Loading model /home/calpeyser/checkpoints/cat/vector-47500.\n",
      "INFO:tensorflow:Restoring parameters from /home/calpeyser/checkpoints/cat/vector-47500\n"
     ]
    },
    {
     "data": {
      "image/svg+xml": [
       "<svg baseProfile=\"full\" height=\"69.0513800457\" version=\"1.1\" width=\"68.2063135318\" xmlns=\"http://www.w3.org/2000/svg\" xmlns:ev=\"http://www.w3.org/2001/xml-events\" xmlns:xlink=\"http://www.w3.org/1999/xlink\"><defs/><rect fill=\"white\" height=\"69.0513800457\" width=\"68.2063135318\" x=\"0\" y=\"0\"/><path d=\"M29.9815799668,32.9186926782 m-1.29308149219,-0.55557101965 l-1.2459885329,0.280611813068 -1.08542002738,1.14093750715 l-0.519383624196,3.22960138321 0.761003494263,2.30753958225 l2.5559040904,2.85986661911 2.77837991714,1.56378597021 l2.88652420044,0.305915512145 2.96887278557,-1.17742061615 l2.88678854704,-2.58393615484 0.879755839705,-1.60792633891 l0.547672621906,-2.97843724489 -0.553373508155,-2.79507219791 l-0.87899312377,-0.967861190438 -8.91077578068,-1.58662736416 l-2.67887562513,0.58797057718 -0.517143048346,0.615376010537 m-0.866363123059,0.320239253342 l-1.67059764266,-4.46114629507 -1.02648593485,-1.76360532641 l4.02098864317,2.99972832203 2.3193448782,1.99628040195 m6.50144696236,-0.346489436924 l2.37730890512,-2.70125806332 2.69900381565,-2.60119438171 l0.288220327348,1.46237671375 -0.995804667473,6.12205922604 l-0.986247882247,3.10626924038 m-10.6476318836,1.70492619276 l0.944704785943,0.908383801579 0.389110669494,-0.199248995632 m-2.12087526917,-2.60776728392 l0.393990166485,0.836583673954 0.529800690711,0.265640355647 l2.2237418592,-1.02441728115 \" fill=\"none\" stroke=\"black\" stroke-width=\"1\"/></svg>"
      ],
      "text/plain": [
       "<IPython.core.display.SVG object>"
      ]
     },
     "metadata": {},
     "output_type": "display_data"
    },
    {
     "name": "stdout",
     "output_type": "stream",
     "text": [
      "------------------\n",
      "613\n",
      "INFO:tensorflow:Loading model /home/calpeyser/checkpoints/dog/vector-41500.\n",
      "INFO:tensorflow:Restoring parameters from /home/calpeyser/checkpoints/dog/vector-41500\n"
     ]
    },
    {
     "data": {
      "image/svg+xml": [
       "<svg baseProfile=\"full\" height=\"64.9453949183\" version=\"1.1\" width=\"75.9919919074\" xmlns=\"http://www.w3.org/2000/svg\" xmlns:ev=\"http://www.w3.org/2001/xml-events\" xmlns:xlink=\"http://www.w3.org/1999/xlink\"><defs/><rect fill=\"white\" height=\"64.9453949183\" width=\"75.9919919074\" x=\"0\" y=\"0\"/><path d=\"M40.0753552467,26.4295592159 m-0.649799779058,-0.519839823246 l-3.37895900011,0.0 -0.519839823246,0.649799779058 l-0.519839823246,5.32835841179 -1.94939941168,2.2093193233 l-0.259919911623,2.72915899754 2.46923923492,2.2093193233 l2.07935929298,0.909719690681 4.80851858854,-0.129959955812 l1.1696396023,-1.03967964649 0.519839823246,-1.29959955812 l0.259919911623,-2.59919911623 -1.68947950006,-3.24899882078 l-0.129959955812,-4.02875870466 -1.68947950006,-1.29959955812 m-4.67855840921,-0.389879867435 l-2.33927920461,-0.909719690681 -2.46923923492,0.129959955812 l-1.42955958843,0.779759734869 -2.46923923492,7.14779794216 l-2.2093193233,4.02875870466 0.0,0.649799779058 l0.649799779058,0.389879867435 1.29959955812,0.0 l1.29959955812,-1.1696396023 6.75791800022,-8.96723687649 m4.54859852791,-1.81943938136 l2.85911917686,-0.649799779058 2.59919911623,0.0 l2.2093193233,1.29959955812 2.2093193233,2.59919911623 l1.42955958843,3.11903893948 0.129959955812,3.76883894205 l-0.649799779058,1.42955958843 -0.649799779058,0.389879867435 l-2.07935929298,-1.03967964649 -1.94939941168,-2.07935929298 l-2.2093193233,-6.10811829567 -1.94939941168,-1.42955958843 m-4.80851858854,3.63887876272 l0.0,-0.129959955812 \" fill=\"none\" stroke=\"black\" stroke-width=\"1\"/></svg>"
      ],
      "text/plain": [
       "<IPython.core.display.SVG object>"
      ]
     },
     "metadata": {},
     "output_type": "display_data"
    },
    {
     "name": "stdout",
     "output_type": "stream",
     "text": [
      "INFO:tensorflow:Loading model /home/calpeyser/checkpoints/cat/vector-47500.\n",
      "INFO:tensorflow:Restoring parameters from /home/calpeyser/checkpoints/cat/vector-47500\n"
     ]
    },
    {
     "data": {
      "image/svg+xml": [
       "<svg baseProfile=\"full\" height=\"68.0719442576\" version=\"1.1\" width=\"67.4244654994\" xmlns=\"http://www.w3.org/2000/svg\" xmlns:ev=\"http://www.w3.org/2001/xml-events\" xmlns:xlink=\"http://www.w3.org/1999/xlink\"><defs/><rect fill=\"white\" height=\"68.0719442576\" width=\"67.4244654994\" x=\"0\" y=\"0\"/><path d=\"M29.0197986062,33.2907412251 m-0.520837157965,-0.917786881328 l-0.695004761219,-0.0510718068108 -0.741469562054,0.806627571583 l-0.313756167889,2.99084931612 1.14492073655,3.47627729177 l2.90742248297,2.37390860915 2.61254072189,1.10239893198 l2.57481276989,-0.000172062209458 2.97168135643,-1.4826503396 l2.40154728293,-2.61200875044 0.755247324705,-1.76932945848 l0.307561866939,-3.09717774391 -1.60914987326,-2.695350945 l-1.32813289762,-0.787478461862 -9.17765259743,-1.01092934608 l-1.39555290341,0.53301345557 -0.82526922226,1.12543471158 m10.6396198273,-2.02820315957 l0.81592425704,-1.60578861833 2.32428699732,-2.64130353928 l0.450002029538,0.510619394481 -0.0157813890837,5.23473203182 l-0.112185133621,1.75135061145 m-13.6171388626,-3.00735980272 l-3.4655085206,-3.88745039701 -0.107927210629,2.29442432523 l1.13483592868,4.33472692966 m6.49775803089,4.41927969456 l2.03494623303,0.455427877605 2.20775559545,-0.462556891143 l-0.815277770162,0.126902740449 m-2.80696719885,-1.75499767065 l1.09031267464,0.998155102134 0.387918688357,0.39029031992 l-0.586679726839,-0.972435921431 \" fill=\"none\" stroke=\"black\" stroke-width=\"1\"/></svg>"
      ],
      "text/plain": [
       "<IPython.core.display.SVG object>"
      ]
     },
     "metadata": {},
     "output_type": "display_data"
    },
    {
     "name": "stdout",
     "output_type": "stream",
     "text": [
      "------------------\n",
      "607\n",
      "INFO:tensorflow:Loading model /home/calpeyser/checkpoints/dog/vector-41500.\n",
      "INFO:tensorflow:Restoring parameters from /home/calpeyser/checkpoints/dog/vector-41500\n"
     ]
    },
    {
     "data": {
      "image/svg+xml": [
       "<svg baseProfile=\"full\" height=\"83.9195482433\" version=\"1.1\" width=\"99.6447044611\" xmlns=\"http://www.w3.org/2000/svg\" xmlns:ev=\"http://www.w3.org/2001/xml-events\" xmlns:xlink=\"http://www.w3.org/1999/xlink\"><defs/><rect fill=\"white\" height=\"83.9195482433\" width=\"99.6447044611\" x=\"0\" y=\"0\"/><path d=\"M36.8263553828,33.1874772161 m4.80851858854,21.703312397 l0.779759734869,1.29959955812 3.37895900011,2.33927920461 l1.68947950006,0.389879867435 2.46923923492,0.0 l3.50891888142,-0.779759734869 2.33927920461,-1.1696396023 l2.85911917686,-2.72915899754 2.85911917686,-7.14779794216 l1.94939941168,-9.35711681843 0.649799779058,-5.45831799507 l-0.389879867435,-0.649799779058 -0.779759734869,-0.259919911623 l-13.9057159424,-0.389879867435 -5.84819793701,2.33927920461 l-2.72915899754,-0.129959955812 m-5.45831799507,-3.24899882078 l-2.98907905817,1.03967964649 -3.11903893948,2.2093193233 l-2.72915899754,3.76883894205 -1.1696396023,3.37895900011 l1.42955958843,0.649799779058 3.37895900011,0.0 l1.55951946974,-0.779759734869 1.42955958843,-1.68947950006 l1.29959955812,-2.85911917686 0.259919911623,-2.72915899754 l1.55951946974,-2.46923923492 1.03967964649,-0.909719690681 m27.1616315842,1.03967964649 l4.2886787653,4.67855840921 4.15871858597,6.36803805828 l0.649799779058,0.0 1.03967964649,-1.55951946974 l0.389879867435,-4.67855840921 -0.779759734869,-2.59919911623 l-2.2093193233,-3.63887876272 -4.15871858597,-2.85911917686 l-3.11903893948,-1.29959955812 -0.649799779058,0.259919911623 m-18.8441944122,12.2162365913 \" fill=\"none\" stroke=\"black\" stroke-width=\"1\"/></svg>"
      ],
      "text/plain": [
       "<IPython.core.display.SVG object>"
      ]
     },
     "metadata": {},
     "output_type": "display_data"
    },
    {
     "name": "stdout",
     "output_type": "stream",
     "text": [
      "INFO:tensorflow:Loading model /home/calpeyser/checkpoints/cat/vector-47500.\n",
      "INFO:tensorflow:Restoring parameters from /home/calpeyser/checkpoints/cat/vector-47500\n"
     ]
    },
    {
     "data": {
      "image/svg+xml": [
       "<svg baseProfile=\"full\" height=\"67.3942791995\" version=\"1.1\" width=\"67.6348925196\" xmlns=\"http://www.w3.org/2000/svg\" xmlns:ev=\"http://www.w3.org/2001/xml-events\" xmlns:xlink=\"http://www.w3.org/1999/xlink\"><defs/><rect fill=\"white\" height=\"67.3942791995\" width=\"67.6348925196\" x=\"0\" y=\"0\"/><path d=\"M28.8283536397,32.5732508533 m-0.666408836842,-0.784115716815 l-0.770720615983,0.0241845939308 -0.751933157444,0.768023356795 l-0.366843752563,2.98520684242 1.19561471045,3.34466993809 l2.87453919649,2.45171695948 2.80528068542,1.0313423723 l2.29734286666,-0.000152694847202 2.78256237507,-1.39901459217 l2.71148234606,-2.79932707548 0.781111270189,-1.75863012671 l0.296385511756,-3.05012792349 -1.6851811111,-2.55901247263 l-1.30909338593,-0.722044855356 -5.89215636253,-0.771264061332 l-3.72653275728,0.858803242445 -0.707892552018,0.714634135365 m9.91998910904,-1.46418064833 l1.03778146207,-1.75824686885 2.50543802977,-2.68571525812 l0.475773848593,1.44567012787 -0.379791408777,4.97828960419 l-0.249799694866,1.09405919909 m-13.5649240017,-3.08488696814 l-3.22346180677,-4.15140897036 -0.216915607452,2.56140351295 l0.985258072615,4.22582477331 0.958141461015,2.18294218183 m5.66124677658,1.70444563031 l2.09864199162,0.450155958533 2.09014028311,-0.441775508225 m-3.78633648157,-1.26092284918 l0.440309718251,1.24572478235 0.458826906979,0.196470059454 l0.321558043361,-1.40622407198 \" fill=\"none\" stroke=\"black\" stroke-width=\"1\"/></svg>"
      ],
      "text/plain": [
       "<IPython.core.display.SVG object>"
      ]
     },
     "metadata": {},
     "output_type": "display_data"
    },
    {
     "name": "stdout",
     "output_type": "stream",
     "text": [
      "------------------\n",
      "619\n",
      "INFO:tensorflow:Loading model /home/calpeyser/checkpoints/dog/vector-41500.\n",
      "INFO:tensorflow:Restoring parameters from /home/calpeyser/checkpoints/dog/vector-41500\n"
     ]
    },
    {
     "data": {
      "image/svg+xml": [
       "<svg baseProfile=\"full\" height=\"73.2628329098\" version=\"1.1\" width=\"80.1507106423\" xmlns=\"http://www.w3.org/2000/svg\" xmlns:ev=\"http://www.w3.org/2001/xml-events\" xmlns:xlink=\"http://www.w3.org/1999/xlink\"><defs/><rect fill=\"white\" height=\"73.2628329098\" width=\"80.1507106423\" x=\"0\" y=\"0\"/><path d=\"M32.0178373903,36.8263559788 m2.2093193233,-3.63887876272 l5.5882781744,-5.71823835373 1.55951946974,-0.909719690681 l4.2886787653,-0.259919911623 2.46923923492,1.29959955812 l1.03967964649,1.42955958843 0.519839823246,1.94939941168 l0.0,4.2886787653 -2.07935929298,6.62795782089 l-2.98907905817,1.68947950006 -1.29959955812,0.129959955812 l-0.909719690681,1.42955958843 -1.29959955812,1.03967964649 l-1.94939941168,0.519839823246 -4.02875870466,-2.46923923492 l-1.29959955812,-2.59919911623 -1.68947950006,-1.42955958843 l-0.519839823246,-2.98907905817 1.29959955812,-2.07935929298 m7.5376778841,-8.70731711388 l-2.07935929298,-1.29959955812 -1.29959955812,-0.129959955812 l-7.40771770477,2.33927920461 -2.46923923492,1.81943938136 l-2.2093193233,4.4186386466 0.0,2.2093193233 l2.59919911623,1.42955958843 5.5882781744,-2.2093193233 m15.5951952934,-8.05751740932 l3.37895900011,1.55951946974 1.1696396023,1.03967964649 l1.68947950006,5.71823835373 0.129959955812,3.63887876272 l-3.37895900011,7.14779794216 -1.1696396023,1.42955958843 l-1.29959955812,0.779759734869 -0.649799779058,-0.129959955812 l-1.55951946974,-2.46923923492 -0.129959955812,-3.37895900011 m-2.2093193233,-7.01783776283 l0.0,0.0 \" fill=\"none\" stroke=\"black\" stroke-width=\"1\"/></svg>"
      ],
      "text/plain": [
       "<IPython.core.display.SVG object>"
      ]
     },
     "metadata": {},
     "output_type": "display_data"
    },
    {
     "name": "stdout",
     "output_type": "stream",
     "text": [
      "INFO:tensorflow:Loading model /home/calpeyser/checkpoints/cat/vector-47500.\n",
      "INFO:tensorflow:Restoring parameters from /home/calpeyser/checkpoints/cat/vector-47500\n"
     ]
    },
    {
     "data": {
      "image/svg+xml": [
       "<svg baseProfile=\"full\" height=\"68.1879572402\" version=\"1.1\" width=\"67.4209246412\" xmlns=\"http://www.w3.org/2000/svg\" xmlns:ev=\"http://www.w3.org/2001/xml-events\" xmlns:xlink=\"http://www.w3.org/1999/xlink\"><defs/><rect fill=\"white\" height=\"68.1879572402\" width=\"67.4209246412\" x=\"0\" y=\"0\"/><path d=\"M26.9783063792,33.5750009719 m-0.555265061557,-0.923208370805 l-0.680292323232,-0.0288767390884 -0.635505244136,0.797145441175 l-0.107243750244,3.26428979635 1.40017747879,3.30873638391 l3.00348460674,2.21983402967 2.79783636332,0.975035727024 l2.29496747255,-0.000281950378849 2.65916019678,-1.41506671906 l2.55242645741,-2.68322169781 0.807210057974,-1.73878893256 l0.26577077806,-4.09213244915 -0.539509095252,-1.09636485577 l-2.49602660537,-1.62105843425 -9.70496237278,-1.15912660956 l-1.48397564888,0.712918564677 -0.847392752767,1.27882793546 l-0.16200389713,1.64421513677 m0.913380011916,-2.29908168316 l-1.28945559263,-4.19312685728 2.97447711229,1.83809190989 l2.07682490349,1.39306858182 m7.64490962029,-0.153695084155 l1.88980549574,-2.28648334742 2.42092341185,-2.31665074825 l0.242896638811,1.40561908484 -0.967290475965,5.91131746769 l-0.606532469392,1.88962161541 m-11.6201841831,1.89112782478 l0.977439582348,0.982938632369 0.31042220071,0.040864427574 m-1.18142716587,-2.4169164896 l0.569967851043,0.760997235775 0.4149646312,0.410267487168 l1.40205785632,-0.52733592689 \" fill=\"none\" stroke=\"black\" stroke-width=\"1\"/></svg>"
      ],
      "text/plain": [
       "<IPython.core.display.SVG object>"
      ]
     },
     "metadata": {},
     "output_type": "display_data"
    },
    {
     "name": "stdout",
     "output_type": "stream",
     "text": [
      "------------------\n",
      "713\n",
      "INFO:tensorflow:Loading model /home/calpeyser/checkpoints/dog/vector-41500.\n",
      "INFO:tensorflow:Restoring parameters from /home/calpeyser/checkpoints/dog/vector-41500\n"
     ]
    },
    {
     "data": {
      "image/svg+xml": [
       "<svg baseProfile=\"full\" height=\"87.1685481071\" version=\"1.1\" width=\"104.063341916\" xmlns=\"http://www.w3.org/2000/svg\" xmlns:ev=\"http://www.w3.org/2001/xml-events\" xmlns:xlink=\"http://www.w3.org/1999/xlink\"><defs/><rect fill=\"white\" height=\"87.1685481071\" width=\"104.063341916\" x=\"0\" y=\"0\"/><path d=\"M35.5267565697,31.2380772829 m-1.81943938136,2.46923923492 l-4.2886787653,3.50891888142 -3.24899882078,3.76883894205 l-1.1696396023,4.54859852791 0.0,2.98907905817 l0.519839823246,1.42955958843 5.19839823246,0.259919911623 l2.85911917686,-0.779759734869 9.22715723515,-6.8878775835 l2.46923923492,-2.85911917686 m22.6130318642,-7.27775752544 l1.81943938136,0.649799779058 3.24899882078,2.98907905817 l4.80851858854,6.10811829567 1.29959955812,4.67855840921 l0.0,5.84819793701 -1.94939941168,1.55951946974 l-6.36803805828,0.129959955812 -4.67855840921,-6.23807787895 l-2.72915899754,-5.19839823246 0.389879867435,14.0356755257 l-1.68947950006,2.85911917686 -3.76883894205,1.55951946974 l-2.85911917686,0.649799779058 -4.67855840921,0.129959955812 l-2.59919911623,-0.779759734869 -2.46923923492,-1.68947950006 l-2.2093193233,-4.2886787653 -0.909719690681,-5.45831799507 l0.129959955812,-6.36803805828 1.29959955812,-5.06843864918 m-8.31743717194,-6.23807787895 l3.11903893948,-4.15871858597 2.72915899754,-1.55951946974 l4.54859852791,-1.29959955812 11.3065159321,-0.259919911623 l5.32835841179,0.779759734869 1.81943938136,0.649799779058 l4.2886787653,3.50891888142 1.03967964649,3.50891888142 m-17.8045141697,11.5664362907 \" fill=\"none\" stroke=\"black\" stroke-width=\"1\"/></svg>"
      ],
      "text/plain": [
       "<IPython.core.display.SVG object>"
      ]
     },
     "metadata": {},
     "output_type": "display_data"
    },
    {
     "name": "stdout",
     "output_type": "stream",
     "text": [
      "INFO:tensorflow:Loading model /home/calpeyser/checkpoints/cat/vector-47500.\n",
      "INFO:tensorflow:Restoring parameters from /home/calpeyser/checkpoints/cat/vector-47500\n"
     ]
    },
    {
     "data": {
      "image/svg+xml": [
       "<svg baseProfile=\"full\" height=\"67.6916692033\" version=\"1.1\" width=\"67.9056048766\" xmlns=\"http://www.w3.org/2000/svg\" xmlns:ev=\"http://www.w3.org/2001/xml-events\" xmlns:xlink=\"http://www.w3.org/1999/xlink\"><defs/><rect fill=\"white\" height=\"67.6916692033\" width=\"67.9056048766\" x=\"0\" y=\"0\"/><path d=\"M29.7677433118,31.9905841257 m-0.854017958045,-0.70963896811 l-0.926258042455,0.0893938634545 -0.936433970928,0.864375308156 l-0.449179857969,3.14890921116 1.26661881804,3.57479929924 l0.962638631463,1.11969038844 3.98697316647,2.19225153327 l3.00845623016,0.421304441988 1.43694549799,-0.34919500351 l3.4072715044,-2.79070079327 1.505843997,-2.4567347765 l0.729003548622,-3.24333548546 -0.55039614439,-1.67508423328 l-1.43715068698,-1.25800713897 -5.88236808777,-1.55673608184 l-4.39553946257,0.373704023659 -0.861873775721,0.744357407093 m9.37638163567,-0.905777439475 l0.961742401123,-1.83108210564 2.34416291118,-2.74307757616 l0.44323861599,0.510820560157 -0.15274439007,5.36863863468 l-0.368663445115,1.90573334694 m-13.447510004,-3.36602896452 l-3.49634230137,-3.98139417171 -0.43854214251,1.65454134345 l0.922315120697,4.63380903006 0.872303247452,2.81243920326 m5.64912378788,2.10751771927 l2.25198507309,0.355188436806 2.42697894573,-0.527562089264 l1.45400285721,-1.14730253816 m-5.84403455257,-0.764125064015 l-0.610619559884,1.19304157794 0.396267175674,0.141829121858 l0.308633279055,-1.02657213807 \" fill=\"none\" stroke=\"black\" stroke-width=\"1\"/></svg>"
      ],
      "text/plain": [
       "<IPython.core.display.SVG object>"
      ]
     },
     "metadata": {},
     "output_type": "display_data"
    },
    {
     "name": "stdout",
     "output_type": "stream",
     "text": [
      "------------------\n",
      "747\n",
      "INFO:tensorflow:Loading model /home/calpeyser/checkpoints/dog/vector-41500.\n",
      "INFO:tensorflow:Restoring parameters from /home/calpeyser/checkpoints/dog/vector-41500\n"
     ]
    },
    {
     "data": {
      "image/svg+xml": [
       "<svg baseProfile=\"full\" height=\"93.2766671479\" version=\"1.1\" width=\"83.1397888064\" xmlns=\"http://www.w3.org/2000/svg\" xmlns:ev=\"http://www.w3.org/2001/xml-events\" xmlns:xlink=\"http://www.w3.org/1999/xlink\"><defs/><rect fill=\"white\" height=\"93.2766671479\" width=\"83.1397888064\" x=\"0\" y=\"0\"/><path d=\"M26.4295589924,44.1041140258 m0.129959955812,-2.2093193233 l3.76883894205,-7.40771770477 2.46923923492,-5.97815811634 l2.2093193233,-3.50891888142 1.03967964649,15.0753557682 l1.55951946974,7.14779794216 0.0,-0.779759734869 l1.68947950006,-3.11903893948 2.07935929298,-2.33927920461 l3.50891888142,0.259919911623 3.24899882078,2.33927920461 l4.67855840921,-14.9453949928 1.68947950006,-2.72915899754 l0.909719690681,-0.389879867435 0.649799779058,2.33927920461 l0.389879867435,6.49799764156 1.68947950006,11.1765563488 m-31.5802693367,-3.50891888142 l-1.55951946974,9.8769569397 0.259919911623,4.54859852791 l2.85911917686,3.11903893948 3.11903893948,1.68947950006 l4.67855840921,4.4186386466 3.11903893948,1.42955958843 l3.89879882336,1.03967964649 3.63887876272,0.129959955812 l1.03967964649,-1.03967964649 1.1696396023,-3.11903893948 l0.779759734869,-8.44739735126 1.1696396023,-1.81943938136 l1.68947950006,-1.1696396023 2.2093193233,-2.72915899754 l1.55951946974,-4.02875870466 m-20.2737545967,5.71823835373 l-0.129959955812,-0.259919911623 m10.2668368816,-2.33927920461 l0.129959955812,0.0 m-5.97815811634,8.83727729321 l0.0,-0.129959955812 m-2.33927920461,0.129959955812 l0.0,-0.129959955812 \" fill=\"none\" stroke=\"black\" stroke-width=\"1\"/></svg>"
      ],
      "text/plain": [
       "<IPython.core.display.SVG object>"
      ]
     },
     "metadata": {},
     "output_type": "display_data"
    },
    {
     "name": "stdout",
     "output_type": "stream",
     "text": [
      "INFO:tensorflow:Loading model /home/calpeyser/checkpoints/cat/vector-47500.\n",
      "INFO:tensorflow:Restoring parameters from /home/calpeyser/checkpoints/cat/vector-47500\n"
     ]
    },
    {
     "data": {
      "image/svg+xml": [
       "<svg baseProfile=\"full\" height=\"68.4599809349\" version=\"1.1\" width=\"67.9802341014\" xmlns=\"http://www.w3.org/2000/svg\" xmlns:ev=\"http://www.w3.org/2001/xml-events\" xmlns:xlink=\"http://www.w3.org/1999/xlink\"><defs/><rect fill=\"white\" height=\"68.4599809349\" width=\"67.9802341014\" x=\"0\" y=\"0\"/><path d=\"M29.6338534355,32.5154105388 m-1.0368873924,-0.687312036753 l-1.05410762131,0.194167960435 -0.944932103157,0.997280851007 l-0.299409106374,3.34715306759 1.39729559422,3.47033619881 l1.01108968258,1.10914736986 4.0401032567,2.11254477501 l2.8863760829,0.40125221014 2.54577994347,-0.942797958851 l2.60041832924,-2.6116630435 1.02791912854,-1.8132288754 l0.746005922556,-3.34424346685 -1.01797401905,-2.85333573818 l-1.0734911263,-0.864304155111 -5.64033210278,-1.20090194046 l-4.48420673609,0.352809801698 -0.964051485062,0.676893293858 m9.57340478897,-1.15753829479 l1.31259724498,-2.10164949298 2.29954600334,-2.60002106428 l0.421236380935,0.583263412118 -0.331458635628,5.70722460747 l-0.424204804003,1.6478420794 m-13.6389374733,-3.42113435268 l-3.20133984089,-3.8139051199 -0.384293347597,1.97768256068 l0.783218443394,4.26988840103 0.871201530099,2.62861639261 m5.99980950356,1.9139097631 l2.06460878253,0.480191111565 2.20895752311,-0.398101881146 l1.31886854768,-1.13655522466 m-5.87815701962,-0.529921017587 l-0.481971241534,0.809844955802 -0.357419885695,1.42764061689 l1.2238163501,-0.341846309602 \" fill=\"none\" stroke=\"black\" stroke-width=\"1\"/></svg>"
      ],
      "text/plain": [
       "<IPython.core.display.SVG object>"
      ]
     },
     "metadata": {},
     "output_type": "display_data"
    },
    {
     "name": "stdout",
     "output_type": "stream",
     "text": [
      "------------------\n",
      "791\n",
      "INFO:tensorflow:Loading model /home/calpeyser/checkpoints/dog/vector-41500.\n",
      "INFO:tensorflow:Restoring parameters from /home/calpeyser/checkpoints/dog/vector-41500\n"
     ]
    },
    {
     "data": {
      "image/svg+xml": [
       "<svg baseProfile=\"full\" height=\"74.1725520045\" version=\"1.1\" width=\"76.7717514187\" xmlns=\"http://www.w3.org/2000/svg\" xmlns:ev=\"http://www.w3.org/2001/xml-events\" xmlns:xlink=\"http://www.w3.org/1999/xlink\"><defs/><rect fill=\"white\" height=\"74.1725520045\" width=\"76.7717514187\" x=\"0\" y=\"0\"/><path d=\"M34.7469969839,28.3789588511 m-0.259919911623,-1.55951946974 l-1.42955958843,-1.81943938136 -2.59919911623,0.0 l-2.2093193233,1.42955958843 -2.85911917686,5.45831799507 l-0.389879867435,7.79759764671 0.649799779058,2.07935929298 m4.80851858854,-8.18747758865 l-2.33927920461,6.75791800022 -1.29959955812,0.779759734869 l0.909719690681,-2.33927920461 m2.85911917686,-4.4186386466 l-0.519839823246,6.62795782089 0.649799779058,3.37895900011 l3.63887876272,3.63887876272 2.2093193233,0.909719690681 m0.909719690681,0.0 l7.27775752544,0.259919911623 2.07935929298,-0.779759734869 l1.42955958843,-2.07935929298 0.519839823246,-1.94939941168 l0.129959955812,-8.44739735126 m-0.129959955812,-6.36803805828 l0.779759734869,-1.94939941168 0.779759734869,-0.259919911623 l0.519839823246,0.649799779058 0.129959955812,6.10811829567 l0.779759734869,4.15871858597 -0.389879867435,0.909719690681 m-1.1696396023,-1.68947950006 l-0.519839823246,0.649799779058 0.909719690681,1.1696396023 m-0.519839823246,-1.1696396023 l-0.649799779058,-1.29959955812 -2.98907905817,-2.85911917686 l-2.07935929298,-0.389879867435 -6.49799764156,-2.72915899754 l-2.59919911623,-0.259919911623 m0.0,-1.94939941168 l5.71823835373,1.03967964649 4.2886787653,0.129959955812 \" fill=\"none\" stroke=\"black\" stroke-width=\"1\"/></svg>"
      ],
      "text/plain": [
       "<IPython.core.display.SVG object>"
      ]
     },
     "metadata": {},
     "output_type": "display_data"
    },
    {
     "name": "stdout",
     "output_type": "stream",
     "text": [
      "INFO:tensorflow:Loading model /home/calpeyser/checkpoints/cat/vector-47500.\n",
      "INFO:tensorflow:Restoring parameters from /home/calpeyser/checkpoints/cat/vector-47500\n"
     ]
    },
    {
     "data": {
      "image/svg+xml": [
       "<svg baseProfile=\"full\" height=\"67.9412527755\" version=\"1.1\" width=\"67.7112119831\" xmlns=\"http://www.w3.org/2000/svg\" xmlns:ev=\"http://www.w3.org/2001/xml-events\" xmlns:xlink=\"http://www.w3.org/1999/xlink\"><defs/><rect fill=\"white\" height=\"67.9412527755\" width=\"67.7112119831\" x=\"0\" y=\"0\"/><path d=\"M29.459879715,32.2472786903 m-1.09710998833,-0.622167699039 l-1.09414935112,0.237917415798 -0.937867537141,1.07812859118 l-0.337764024734,3.21149617434 0.997449606657,2.43017464876 l2.66447931528,2.62038528919 2.83318310976,1.46258220077 l2.93655604124,0.275457464159 2.71849006414,-1.18977084756 l2.7889752388,-2.77502030134 0.893809422851,-1.73279583454 l0.543647743762,-3.03362250328 -1.40975564718,-2.88305014372 l-1.24801792204,-0.848826393485 -5.63096821308,-0.914737656713 l-4.10072922707,0.606279335916 -0.899369567633,0.714828073978 m9.84507381916,-1.37461587787 l0.941176265478,-1.82976469398 2.39921689034,-2.6801559329 l0.445006228983,0.520086362958 -0.0874783657491,5.2886980772 l-0.452835746109,2.0666475594 m-13.3959698677,-3.16560596228 l-3.32040518522,-4.08846884966 -0.454522818327,1.81474879384 l0.255567524582,4.2577290535 0.61679020524,1.42200708389 m6.57418072224,3.41933429241 l2.18740403652,0.584772117436 2.35185459256,-0.527614876628 l1.31750553846,-1.04052223265 m-6.56829714775,-0.690240412951 l-0.478333607316,1.16703793406 0.72211407125,0.0719953048974 l-0.00114148060675,-1.06268666685 \" fill=\"none\" stroke=\"black\" stroke-width=\"1\"/></svg>"
      ],
      "text/plain": [
       "<IPython.core.display.SVG object>"
      ]
     },
     "metadata": {},
     "output_type": "display_data"
    },
    {
     "name": "stdout",
     "output_type": "stream",
     "text": [
      "------------------\n"
     ]
    }
   ],
   "source": [
    "# Lets do some predictions - we'll start with \"no_features\"\n",
    "def convert(dog_ind):\n",
    "    load_checkpoint(sess, dog_model_dir)\n",
    "    dog = dog_train_set.strokes[dog_ind]\n",
    "    draw_strokes(dog)\n",
    "    encoding = encode(dog_eval_model, dog, max_len=133)\n",
    "    #draw_strokes(decode(dog_eval_model, dog_sample_model, encoding))\n",
    "    predicted_encoding = linear_model_sess.run(prediction_x_to_y, feed_dict = {X: encoding})\n",
    "    load_checkpoint(sess, cat_model_dir)\n",
    "    decoding = decode(cat_eval_model, cat_sample_model, predicted_encoding)\n",
    "    draw_strokes(decoding)\n",
    "    print \"------------------\"\n",
    "\n",
    "for i in DOG_NO_FEATURE_IND:\n",
    "    print(i)\n",
    "    convert(i)"
   ]
  },
  {
   "cell_type": "code",
   "execution_count": 31,
   "metadata": {},
   "outputs": [
    {
     "name": "stdout",
     "output_type": "stream",
     "text": [
      "3\n",
      "INFO:tensorflow:Loading model /home/calpeyser/checkpoints/dog/vector-41500.\n",
      "INFO:tensorflow:Restoring parameters from /home/calpeyser/checkpoints/dog/vector-41500\n"
     ]
    },
    {
     "data": {
      "image/svg+xml": [
       "<svg baseProfile=\"full\" height=\"65.4652354866\" version=\"1.1\" width=\"75.6021119654\" xmlns=\"http://www.w3.org/2000/svg\" xmlns:ev=\"http://www.w3.org/2001/xml-events\" xmlns:xlink=\"http://www.w3.org/1999/xlink\"><defs/><rect fill=\"white\" height=\"65.4652354866\" width=\"75.6021119654\" x=\"0\" y=\"0\"/><path d=\"M29.0287589282,26.9493997842 m-0.519839823246,2.59919911623 l0.0,3.50891888142 0.519839823246,2.07935929298 l2.72915899754,4.2886787653 1.55951946974,1.03967964649 l7.40771770477,-0.129959955812 2.59919911623,-1.03967964649 l1.29959955812,-1.55951946974 0.779759734869,-1.42955958843 l-1.68947950006,-3.89879882336 -0.909719690681,-5.32835841179 m-14.0356755257,-0.649799779058 l-1.29959955812,0.129959955812 -1.03967964649,1.03967964649 l-1.42955958843,6.49799764156 0.0,1.94939941168 l0.649799779058,0.389879867435 1.94939941168,-0.259919911623 l0.259919911623,-0.909719690681 m15.2053153515,-8.83727729321 l1.29959955812,-0.129959955812 4.02875870466,1.29959955812 l1.55951946974,0.649799779058 0.649799779058,1.29959955812 l-1.94939941168,5.19839823246 -2.59919911623,-0.909719690681 l-1.42955958843,-1.55951946974 m-1.94939941168,-6.8878775835 l-9.09719705582,-0.389879867435 -2.85911917686,1.03967964649 l-2.07935929298,1.29959955812 -0.129959955812,0.519839823246 m4.54859852791,0.519839823246 l0.259919911623,1.42955958843 m4.2886787653,-1.68947950006 l0.0,0.0 m0.779759734869,-0.129959955812 l0.0,1.55951946974 m-2.85911917686,1.94939941168 l-0.129959955812,0.519839823246 \" fill=\"none\" stroke=\"black\" stroke-width=\"1\"/></svg>"
      ],
      "text/plain": [
       "<IPython.core.display.SVG object>"
      ]
     },
     "metadata": {},
     "output_type": "display_data"
    },
    {
     "name": "stdout",
     "output_type": "stream",
     "text": [
      "INFO:tensorflow:Loading model /home/calpeyser/checkpoints/cat/vector-47500.\n",
      "INFO:tensorflow:Restoring parameters from /home/calpeyser/checkpoints/cat/vector-47500\n"
     ]
    },
    {
     "data": {
      "image/svg+xml": [
       "<svg baseProfile=\"full\" height=\"67.7968847825\" version=\"1.1\" width=\"67.8966404125\" xmlns=\"http://www.w3.org/2000/svg\" xmlns:ev=\"http://www.w3.org/2001/xml-events\" xmlns:xlink=\"http://www.w3.org/1999/xlink\"><defs/><rect fill=\"white\" height=\"67.7968847825\" width=\"67.8966404125\" x=\"0\" y=\"0\"/><path d=\"M29.3506318703,33.0657778474 m-0.882196053863,-0.675491467118 l-0.889108628035,0.0444028060883 -0.760975256562,0.644968301058 l-0.36683049053,2.86800205708 1.26048743725,3.44242691994 l2.68120259047,2.30067238212 2.91166573763,1.10612593591 l2.52168744802,-0.000224493323913 2.89297103882,-1.48951902986 l2.56968706846,-2.63612985611 0.7799243927,-1.69302225113 l0.368460379541,-2.9784822464 -1.57964453101,-2.75338232517 l-1.27243503928,-0.793990492821 -5.46072423458,-0.872698426247 l-4.12818163633,0.93687325716 -0.786900296807,0.779697671533 m9.73664343357,-1.80414766073 l0.984930172563,-1.86523064971 2.47097730637,-2.62662827969 l0.494367703795,1.38942152262 -0.424108169973,5.06494283676 l-0.401272550225,1.6816586256 m-13.4019768238,-3.30939233303 l-3.43224316835,-4.20432031155 -0.23703970015,2.38162443042 l0.862873122096,4.43999618292 0.999181941152,2.23497703671 m5.76723814011,1.62972897291 l1.89147695899,0.297547541559 2.30384767056,-0.610458552837 m-4.33640927076,0.21975511685 l0.799774304032,0.958523601294 0.537702403963,-0.00453304237453 l0.701700598001,-1.31474047899 \" fill=\"none\" stroke=\"black\" stroke-width=\"1\"/></svg>"
      ],
      "text/plain": [
       "<IPython.core.display.SVG object>"
      ]
     },
     "metadata": {},
     "output_type": "display_data"
    },
    {
     "name": "stdout",
     "output_type": "stream",
     "text": [
      "26\n",
      "INFO:tensorflow:Loading model /home/calpeyser/checkpoints/dog/vector-41500.\n",
      "INFO:tensorflow:Restoring parameters from /home/calpeyser/checkpoints/dog/vector-41500\n"
     ]
    },
    {
     "data": {
      "image/svg+xml": [
       "<svg baseProfile=\"full\" height=\"67.284674719\" version=\"1.1\" width=\"65.5951949954\" xmlns=\"http://www.w3.org/2000/svg\" xmlns:ev=\"http://www.w3.org/2001/xml-events\" xmlns:xlink=\"http://www.w3.org/1999/xlink\"><defs/><rect fill=\"white\" height=\"67.284674719\" width=\"65.5951949954\" x=\"0\" y=\"0\"/><path d=\"M29.808518365,25.1299593598 m-1.1696396023,0.389879867435 l-1.1696396023,1.1696396023 -2.33927920461,8.57735753059 l-0.129959955812,2.85911917686 0.389879867435,0.649799779058 l0.649799779058,-0.129959955812 1.55951946974,-2.07935929298 m2.07935929298,-10.3967964649 l2.33927920461,-1.03967964649 3.37895900011,-0.129959955812 l1.94939941168,1.29959955812 1.42955958843,1.81943938136 l1.03967964649,1.94939941168 0.779759734869,2.85911917686 l0.0,3.89879882336 -0.649799779058,1.55951946974 l-1.03967964649,0.649799779058 -0.779759734869,-0.129959955812 l-1.03967964649,-1.03967964649 -0.909719690681,-1.81943938136 m-8.31743717194,0.779759734869 l1.55951946974,4.2886787653 0.519839823246,0.649799779058 l1.81943938136,0.519839823246 1.81943938136,-1.03967964649 l1.68947950006,-2.2093193233 0.909719690681,-3.24899882078 m-7.27775752544,-5.97815811634 l-0.519839823246,2.72915899754 0.0,4.4186386466 l0.649799779058,2.46923923492 m6.75791800022,-9.61703717709 l0.389879867435,2.72915899754 -0.259919911623,5.5882781744 m-4.80851858854,-4.54859852791 l0.0,0.0 m-1.03967964649,-0.129959955812 l1.1696396023,0.0 m1.42955958843,0.779759734869 l1.03967964649,0.0 \" fill=\"none\" stroke=\"black\" stroke-width=\"1\"/></svg>"
      ],
      "text/plain": [
       "<IPython.core.display.SVG object>"
      ]
     },
     "metadata": {},
     "output_type": "display_data"
    },
    {
     "name": "stdout",
     "output_type": "stream",
     "text": [
      "INFO:tensorflow:Loading model /home/calpeyser/checkpoints/cat/vector-47500.\n",
      "INFO:tensorflow:Restoring parameters from /home/calpeyser/checkpoints/cat/vector-47500\n"
     ]
    },
    {
     "data": {
      "image/svg+xml": [
       "<svg baseProfile=\"full\" height=\"67.9140576516\" version=\"1.1\" width=\"67.7954595163\" xmlns=\"http://www.w3.org/2000/svg\" xmlns:ev=\"http://www.w3.org/2001/xml-events\" xmlns:xlink=\"http://www.w3.org/1999/xlink\"><defs/><rect fill=\"white\" height=\"67.9140576516\" width=\"67.7954595163\" x=\"0\" y=\"0\"/><path d=\"M29.4212764502,32.8055810351 m-0.864642038941,-0.681070014834 l-0.886101052165,0.171285159886 -0.783516541123,0.879442989826 l-0.321421809494,2.96877264977 1.47463589907,3.31400305033 l2.82897382975,2.36128389835 2.88682132959,1.09475888312 l2.21010655165,-6.22664083494e-05 2.9543659091,-1.45406618714 l2.74623215199,-2.7371931076 0.783319026232,-1.61498725414 l0.345409810543,-2.82480925322 -1.48763328791,-2.8965446353 l-1.25869974494,-0.813789591193 -8.77807080746,-1.02542363107 l-2.59905874729,0.900818631053 -0.485963486135,0.713893845677 m10.7272899151,-1.88955679536 l0.61996165663,-1.61547079682 2.13619410992,-2.65686661005 l0.638659968972,1.12067103386 0.0993193127215,4.73229289055 l-0.150931589305,1.96809604764 m-13.6735701561,-3.2693618536 l-3.30266386271,-4.05724078417 -0.280292797834,2.19877108932 l0.830649361014,4.29445147514 0.964905396104,2.54750728607 m5.87221443653,1.79932296276 l1.92340984941,0.42390845716 2.22683027387,-0.350417271256 l1.71287924051,-1.039461568 m-6.86896324158,-0.0970147829503 l-0.452213212848,0.795860886574 -0.49951877445,1.62959650159 l0.94153098762,-1.35635375977 \" fill=\"none\" stroke=\"black\" stroke-width=\"1\"/></svg>"
      ],
      "text/plain": [
       "<IPython.core.display.SVG object>"
      ]
     },
     "metadata": {},
     "output_type": "display_data"
    },
    {
     "name": "stdout",
     "output_type": "stream",
     "text": [
      "41\n",
      "INFO:tensorflow:Loading model /home/calpeyser/checkpoints/dog/vector-41500.\n",
      "INFO:tensorflow:Restoring parameters from /home/calpeyser/checkpoints/dog/vector-41500\n"
     ]
    },
    {
     "data": {
      "image/svg+xml": [
       "<svg baseProfile=\"full\" height=\"66.894794926\" version=\"1.1\" width=\"70.4037132859\" xmlns=\"http://www.w3.org/2000/svg\" xmlns:ev=\"http://www.w3.org/2001/xml-events\" xmlns:xlink=\"http://www.w3.org/1999/xlink\"><defs/><rect fill=\"white\" height=\"66.894794926\" width=\"70.4037132859\" x=\"0\" y=\"0\"/><path d=\"M31.1081181467,25 m-1.68947950006,0.129959955812 l-1.68947950006,0.779759734869 -1.68947950006,1.68947950006 l-1.03967964649,3.37895900011 0.129959955812,3.76883894205 l2.2093193233,0.0 1.55951946974,-2.2093193233 l0.519839823246,-2.07935929298 0.389879867435,6.75791800022 l1.1696396023,2.33927920461 0.779759734869,0.909719690681 l3.37895900011,1.29959955812 1.68947950006,0.129959955812 l0.909719690681,-0.389879867435 2.72915899754,-5.5882781744 l0.519839823246,-4.93847846985 0.649799779058,3.63887876272 l2.33927920461,0.649799779058 0.779759734869,-0.259919911623 l0.259919911623,-0.779759734869 0.389879867435,-3.63887876272 l-2.72915899754,-2.33927920461 -3.89879882336,-1.55951946974 l-3.76883894205,-0.519839823246 -5.97815811634,0.0 m4.4186386466,5.97815811634 l0.649799779058,0.0 m3.11903893948,0.0 l1.1696396023,0.0 m-4.4186386466,3.63887876272 l-0.649799779058,0.0 0.389879867435,0.779759734869 l2.59919911623,0.389879867435 1.29959955812,-1.03967964649 l-0.259919911623,-0.649799779058 -3.50891888142,0.259919911623 l1.81943938136,0.779759734869 1.55951946974,-0.909719690681 l-0.649799779058,0.129959955812 0.779759734869,0.129959955812 \" fill=\"none\" stroke=\"black\" stroke-width=\"1\"/></svg>"
      ],
      "text/plain": [
       "<IPython.core.display.SVG object>"
      ]
     },
     "metadata": {},
     "output_type": "display_data"
    },
    {
     "name": "stdout",
     "output_type": "stream",
     "text": [
      "INFO:tensorflow:Loading model /home/calpeyser/checkpoints/cat/vector-47500.\n",
      "INFO:tensorflow:Restoring parameters from /home/calpeyser/checkpoints/cat/vector-47500\n"
     ]
    },
    {
     "data": {
      "image/svg+xml": [
       "<svg baseProfile=\"full\" height=\"68.638786902\" version=\"1.1\" width=\"67.6020830683\" xmlns=\"http://www.w3.org/2000/svg\" xmlns:ev=\"http://www.w3.org/2001/xml-events\" xmlns:xlink=\"http://www.w3.org/1999/xlink\"><defs/><rect fill=\"white\" height=\"68.638786902\" width=\"67.6020830683\" x=\"0\" y=\"0\"/><path d=\"M29.4081840292,32.8660202821 m-1.3162329793,-0.450927205384 l-1.16925738752,0.337248556316 -0.955985188484,1.00492589176 l-0.487289428711,3.13904285431 0.767914950848,2.27674603462 l2.70142793655,2.89066553116 1.47218808532,0.872742384672 l4.13587063551,0.70232257247 2.97704190016,-1.0376740247 l1.40779927373,-1.18431888521 1.8388427794,-2.79357612133 l1.03025563061,-3.77379924059 -0.474231280386,-1.67123913765 l-2.07337766886,-1.629678756 -4.20741796494,-0.994381085038 l-4.54164773226,0.341094881296 -1.02749727666,0.703429505229 m-1.83017641306,0.00313695025397 l-1.72653242946,-4.26170676947 -0.92987947166,-1.90493553877 l3.8028627634,3.31845223904 2.30855330825,1.9054274261 m6.27705931664,-0.398754365742 l2.15839147568,-2.50302493572 2.78148263693,-2.75723904371 l0.273733567446,1.57052323222 -0.972746387124,5.94122469425 l-0.654383152723,1.86800643802 m-11.1793708801,2.38373115659 l1.04174420238,0.809632390738 0.324280932546,0.0826405268162 m-0.841440558434,-2.37813428044 l0.574878007174,0.830574184656 0.368341170251,0.532078146935 l1.103496328,-0.50356797874 \" fill=\"none\" stroke=\"black\" stroke-width=\"1\"/></svg>"
      ],
      "text/plain": [
       "<IPython.core.display.SVG object>"
      ]
     },
     "metadata": {},
     "output_type": "display_data"
    },
    {
     "name": "stdout",
     "output_type": "stream",
     "text": [
      "73\n",
      "INFO:tensorflow:Loading model /home/calpeyser/checkpoints/dog/vector-41500.\n",
      "INFO:tensorflow:Restoring parameters from /home/calpeyser/checkpoints/dog/vector-41500\n"
     ]
    },
    {
     "data": {
      "image/svg+xml": [
       "<svg baseProfile=\"full\" height=\"73.2628323138\" version=\"1.1\" width=\"69.8838740587\" xmlns=\"http://www.w3.org/2000/svg\" xmlns:ev=\"http://www.w3.org/2001/xml-events\" xmlns:xlink=\"http://www.w3.org/1999/xlink\"><defs/><rect fill=\"white\" height=\"73.2628323138\" width=\"69.8838740587\" x=\"0\" y=\"0\"/><path d=\"M37.6061157882,37.7360764146 m-1.55951946974,0.649799779058 l-0.649799779058,0.779759734869 0.649799779058,0.519839823246 l1.55951946974,-1.03967964649 -1.1696396023,-0.519839823246 l-0.779759734869,0.389879867435 0.779759734869,0.389879867435 l0.649799779058,-0.259919911623 -0.259919911623,-0.129959955812 m-5.19839823246,-5.32835841179 l0.259919911623,1.68947950006 m3.24899882078,-2.59919911623 l0.129959955812,1.94939941168 m6.75791800022,4.02875870466 l0.0,0.649799779058 -1.29959955812,0.779759734869 l-2.2093193233,0.129959955812 -1.29959955812,-0.649799779058 l0.129959955812,1.68947950006 -0.389879867435,0.649799779058 l-1.55951946974,0.649799779058 -1.29959955812,0.0 m-1.68947950006,-16.7648351192 l-0.649799779058,-0.389879867435 -1.94939941168,0.0 l-1.94939941168,1.42955958843 -1.55951946974,1.94939941168 l-1.03967964649,4.15871858597 -0.259919911623,6.62795782089 l1.68947950006,3.24899882078 2.07935929298,1.81943938136 l6.75791800022,4.02875870466 3.76883894205,-0.129959955812 l4.2886787653,-4.15871858597 1.29959955812,-3.50891888142 l-0.129959955812,-5.32835841179 -2.2093193233,-5.19839823246 l-1.81943938136,-1.94939941168 -5.06843864918,-2.33927920461 l-3.63887876272,-0.389879867435 \" fill=\"none\" stroke=\"black\" stroke-width=\"1\"/></svg>"
      ],
      "text/plain": [
       "<IPython.core.display.SVG object>"
      ]
     },
     "metadata": {},
     "output_type": "display_data"
    },
    {
     "name": "stdout",
     "output_type": "stream",
     "text": [
      "INFO:tensorflow:Loading model /home/calpeyser/checkpoints/cat/vector-47500.\n",
      "INFO:tensorflow:Restoring parameters from /home/calpeyser/checkpoints/cat/vector-47500\n"
     ]
    },
    {
     "data": {
      "image/svg+xml": [
       "<svg baseProfile=\"full\" height=\"67.7072043575\" version=\"1.1\" width=\"67.625178555\" xmlns=\"http://www.w3.org/2000/svg\" xmlns:ev=\"http://www.w3.org/2001/xml-events\" xmlns:xlink=\"http://www.w3.org/1999/xlink\"><defs/><rect fill=\"white\" height=\"67.7072043575\" width=\"67.625178555\" x=\"0\" y=\"0\"/><path d=\"M29.4978249911,33.0746113367 m-0.792253017426,-0.710896551609 l-0.898743718863,0.119050517678 -0.805790126324,0.845356434584 l-0.319918692112,3.12544971704 1.38631537557,3.36494058371 l2.66691684723,2.29082554579 1.42063975334,0.597866773605 l3.33324223757,-8.69340874488e-05 3.39251220226,-1.29784584045 l2.31246143579,-2.35187619925 0.76133929193,-1.663954705 l0.388837270439,-3.15821379423 -1.38288289309,-3.01409035921 l-1.21923357248,-0.881482809782 -5.70649266243,-0.99424906075 l-3.93638461828,0.842212736607 -0.903938263655,0.809172987938 m9.91485238075,-1.414462924 l1.0021392256,-1.96334794164 2.07604795694,-2.61897951365 l0.437687151134,0.558954142034 -0.0587451923639,5.32190620899 l-0.329416170716,1.88699111342 m-13.549759388,-3.06299090385 l-3.22279244661,-4.03320133686 -0.464465357363,1.88845142722 l0.913010016084,4.25851941109 0.899321585894,2.42530241609 m5.82349777222,2.4159874022 l2.27375000715,0.502099245787 2.49248072505,-0.339740552008 l1.38031408191,-1.01018458605 m-6.64348840714,-0.912890583277 l-0.647835284472,0.965286418796 -0.874074622989,1.65598988533 l1.20288655162,-1.56531363726 \" fill=\"none\" stroke=\"black\" stroke-width=\"1\"/></svg>"
      ],
      "text/plain": [
       "<IPython.core.display.SVG object>"
      ]
     },
     "metadata": {},
     "output_type": "display_data"
    },
    {
     "name": "stdout",
     "output_type": "stream",
     "text": [
      "92\n",
      "INFO:tensorflow:Loading model /home/calpeyser/checkpoints/dog/vector-41500.\n",
      "INFO:tensorflow:Restoring parameters from /home/calpeyser/checkpoints/dog/vector-41500\n"
     ]
    },
    {
     "data": {
      "image/svg+xml": [
       "<svg baseProfile=\"full\" height=\"68.4543139488\" version=\"1.1\" width=\"71.1834730208\" xmlns=\"http://www.w3.org/2000/svg\" xmlns:ev=\"http://www.w3.org/2001/xml-events\" xmlns:xlink=\"http://www.w3.org/1999/xlink\"><defs/><rect fill=\"white\" height=\"68.4543139488\" width=\"71.1834730208\" x=\"0\" y=\"0\"/><path d=\"M31.887877807,35.1368765533 m0.519839823246,5.32835841179 l1.03967964649,2.07935929298 0.779759734869,0.779759734869 l4.54859852791,0.129959955812 1.29959955812,-1.81943938136 l1.42955958843,-4.02875870466 0.519839823246,-5.5882781744 m-11.5664362907,-4.02875870466 l-2.98907905817,1.42955958843 -0.909719690681,1.29959955812 l-1.29959955812,5.06843864918 -0.259919911623,4.15871858597 l0.779759734869,0.389879867435 0.909719690681,-0.519839823246 l4.02875870466,-3.50891888142 1.1696396023,-3.37895900011 m-2.72915899754,-6.36803805828 l1.1696396023,-0.909719690681 2.72915899754,-0.649799779058 l6.23807787895,0.259919911623 2.72915899754,2.33927920461 l3.76883894205,5.45831799507 0.389879867435,6.10811829567 l-0.909719690681,1.42955958843 -0.649799779058,0.129959955812 l-1.29959955812,-0.389879867435 -1.81943938136,-2.72915899754 l-0.649799779058,-2.46923923492 0.0,-1.68947950006 m-6.23807787895,4.4186386466 l1.94939941168,0.0 0.389879867435,-0.649799779058 l1.42955958843,0.519839823246 0.519839823246,-0.649799779058 l-0.129959955812,-0.649799779058 m-1.94939941168,0.0 l-0.779759734869,-1.42955958843 0.0,-0.909719690681 l0.649799779058,-0.129959955812 0.519839823246,0.779759734869 \" fill=\"none\" stroke=\"black\" stroke-width=\"1\"/></svg>"
      ],
      "text/plain": [
       "<IPython.core.display.SVG object>"
      ]
     },
     "metadata": {},
     "output_type": "display_data"
    },
    {
     "name": "stdout",
     "output_type": "stream",
     "text": [
      "INFO:tensorflow:Loading model /home/calpeyser/checkpoints/cat/vector-47500.\n",
      "INFO:tensorflow:Restoring parameters from /home/calpeyser/checkpoints/cat/vector-47500\n"
     ]
    },
    {
     "data": {
      "image/svg+xml": [
       "<svg baseProfile=\"full\" height=\"67.5354167859\" version=\"1.1\" width=\"67.7402693219\" xmlns=\"http://www.w3.org/2000/svg\" xmlns:ev=\"http://www.w3.org/2001/xml-events\" xmlns:xlink=\"http://www.w3.org/1999/xlink\"><defs/><rect fill=\"white\" height=\"67.5354167859\" width=\"67.7402693219\" x=\"0\" y=\"0\"/><path d=\"M29.6975557692,32.6244073029 m-1.11536435783,-0.559195056558 l-1.03669092059,0.261498987675 -0.877539590001,0.913235098124 l-0.350429750979,3.09204190969 1.47679060698,3.35995435715 l2.44372576475,2.24724844098 1.33160114288,0.596225745976 l3.68808299303,-4.56015777672e-05 3.10378074646,-1.36231318116 l1.41302749515,-1.19979582727 1.62669822574,-2.67514556646 l0.48419341445,-4.16180968285 -0.943667218089,-1.45895406604 l-2.72367596626,-1.44509360194 -4.79571193457,-0.627807229757 l-3.49826216698,0.799320563674 -0.721449479461,0.73730379343 m9.36782062054,-1.40496820211 l1.20262213051,-2.00427055359 2.56043225527,-2.73183763027 l0.406729541719,1.67099192739 -0.537912137806,5.09800612926 l-0.246822405607,1.0887940228 m-13.120714426,-3.0412954092 l-3.57322007418,-4.1731569171 -0.261600278318,2.14616447687 l0.946905016899,4.46600914001 0.943953618407,2.38156870008 m5.4025810957,1.35049730539 l1.97413250804,0.346022583544 1.8899422884,-0.321153141558 l1.73691138625,-0.764922946692 m-6.41416072845,-0.010769397486 l-0.48241276294,0.888365805149 -0.659051239491,1.26075804234 l-0.0492814229801,-0.175078250468 \" fill=\"none\" stroke=\"black\" stroke-width=\"1\"/></svg>"
      ],
      "text/plain": [
       "<IPython.core.display.SVG object>"
      ]
     },
     "metadata": {},
     "output_type": "display_data"
    },
    {
     "name": "stdout",
     "output_type": "stream",
     "text": [
      "167\n",
      "INFO:tensorflow:Loading model /home/calpeyser/checkpoints/dog/vector-41500.\n",
      "INFO:tensorflow:Restoring parameters from /home/calpeyser/checkpoints/dog/vector-41500\n"
     ]
    },
    {
     "data": {
      "image/svg+xml": [
       "<svg baseProfile=\"full\" height=\"69.6239536256\" version=\"1.1\" width=\"76.6417911649\" xmlns=\"http://www.w3.org/2000/svg\" xmlns:ev=\"http://www.w3.org/2001/xml-events\" xmlns:xlink=\"http://www.w3.org/1999/xlink\"><defs/><rect fill=\"white\" height=\"69.6239536256\" width=\"76.6417911649\" x=\"0\" y=\"0\"/><path d=\"M30.1983982325,29.5485988259 m-1.42955958843,0.519839823246 l-2.72915899754,5.5882781744 -1.03967964649,-3.37895900011 l0.0,-2.2093193233 0.779759734869,-3.37895900011 l2.2093193233,-0.909719690681 5.5882781744,-0.779759734869 m14.1656351089,0.909719690681 l1.68947950006,0.519839823246 1.94939941168,1.29959955812 l0.259919911623,7.40771770477 -1.42955958843,-2.33927920461 l-2.72915899754,-3.11903893948 -1.03967964649,-0.389879867435 l-1.81943938136,0.129959955812 m-13.775755167,-0.649799779058 l-0.129959955812,6.23807787895 1.42955958843,5.45831799507 l4.54859852791,3.89879882336 4.4186386466,0.259919911623 l1.81943938136,-2.33927920461 1.68947950006,-4.02875870466 l0.779759734869,-7.01783776283 m2.72915899754,-5.5882781744 l-7.14779794216,-0.129959955812 -5.97815811634,0.389879867435 l-2.07935929298,-0.909719690681 m2.46923923492,4.93847846985 l0.129959955812,0.649799779058 0.129959955812,-1.03967964649 m3.24899882078,0.519839823246 l0.649799779058,-0.519839823246 -0.129959955812,0.649799779058 l-0.519839823246,0.259919911623 m-1.42955958843,7.27775752544 l-2.59919911623,-2.07935929298 -0.129959955812,-0.649799779058 l1.03967964649,-0.779759734869 3.50891888142,0.129959955812 l-1.03967964649,2.85911917686 \" fill=\"none\" stroke=\"black\" stroke-width=\"1\"/></svg>"
      ],
      "text/plain": [
       "<IPython.core.display.SVG object>"
      ]
     },
     "metadata": {},
     "output_type": "display_data"
    },
    {
     "name": "stdout",
     "output_type": "stream",
     "text": [
      "INFO:tensorflow:Loading model /home/calpeyser/checkpoints/cat/vector-47500.\n",
      "INFO:tensorflow:Restoring parameters from /home/calpeyser/checkpoints/cat/vector-47500\n"
     ]
    },
    {
     "data": {
      "image/svg+xml": [
       "<svg baseProfile=\"full\" height=\"68.6107031256\" version=\"1.1\" width=\"67.8867661208\" xmlns=\"http://www.w3.org/2000/svg\" xmlns:ev=\"http://www.w3.org/2001/xml-events\" xmlns:xlink=\"http://www.w3.org/1999/xlink\"><defs/><rect fill=\"white\" height=\"68.6107031256\" width=\"67.8867661208\" x=\"0\" y=\"0\"/><path d=\"M30.2533022687,32.8309762105 m-1.45272955298,-0.405394397676 l-1.26996159554,0.326465591788 -1.03606313467,0.961356386542 l-0.60004349798,3.11887800694 0.316072180867,1.50305971503 l3.04915070534,3.91755491495 1.40372186899,0.833615884185 l3.52781116962,0.524190813303 3.04949373007,-0.801369249821 l2.64444947243,-2.1796245873 0.980887338519,-1.48825198412 l0.834709405899,-2.99745738506 -0.697434395552,-3.52625697851 l-0.931399166584,-0.93049749732 -5.10870695114,-1.41467317939 l-4.36555296183,0.475609749556 -0.941907986999,0.74575163424 m-1.67125031352,0.363061651587 l-1.89505726099,-4.55628186464 -1.08949132264,-1.62616789341 l4.02784496546,3.20102006197 2.2172562778,1.92326575518 m6.33455038071,-0.507762804627 l2.22681894898,-2.50281631947 2.72597491741,-2.78825223446 l0.354320630431,0.634083747864 -0.781684219837,6.57501518726 l-0.607873015106,2.1393699944 m-10.8574473858,2.32905209064 l0.917664319277,0.973773002625 0.398405194283,-0.423008389771 m-1.64229422808,-1.81898802519 l0.433564409614,1.11347429454 0.5840100348,0.231159273535 l1.90128445625,-1.56040981412 \" fill=\"none\" stroke=\"black\" stroke-width=\"1\"/></svg>"
      ],
      "text/plain": [
       "<IPython.core.display.SVG object>"
      ]
     },
     "metadata": {},
     "output_type": "display_data"
    },
    {
     "name": "stdout",
     "output_type": "stream",
     "text": [
      "177\n",
      "INFO:tensorflow:Loading model /home/calpeyser/checkpoints/dog/vector-41500.\n",
      "INFO:tensorflow:Restoring parameters from /home/calpeyser/checkpoints/dog/vector-41500\n"
     ]
    },
    {
     "data": {
      "image/svg+xml": [
       "<svg baseProfile=\"full\" height=\"69.2340739071\" version=\"1.1\" width=\"67.9344744235\" xmlns=\"http://www.w3.org/2000/svg\" xmlns:ev=\"http://www.w3.org/2001/xml-events\" xmlns:xlink=\"http://www.w3.org/1999/xlink\"><defs/><rect fill=\"white\" height=\"69.2340739071\" width=\"67.9344744235\" x=\"0\" y=\"0\"/><path d=\"M27.8591191024,35.6567168236 m0.0,1.29959955812 l-1.42955958843,2.59919911623 0.0,2.07935929298 l0.259919911623,0.909719690681 1.03967964649,1.1696396023 l2.2093193233,0.519839823246 3.89879882336,0.0 l0.909719690681,-0.649799779058 3.24899882078,-4.4186386466 l0.0,-1.68947950006 m-10.7866764069,-12.3461961746 l0.0,5.06843864918 -2.2093193233,5.84819793701 l0.259919911623,1.81943938136 0.389879867435,0.389879867435 m2.07935929298,-13.2559156418 l0.0,0.0 m0.259919911623,2.2093193233 l1.29959955812,-1.42955958843 1.03967964649,-0.259919911623 l5.71823835373,-0.129959955812 m0.519839823246,-0.389879867435 l3.37895900011,0.0 1.42955958843,4.67855840921 l1.55951946974,10.1368772984 -1.42955958843,0.519839823246 l-2.2093193233,-0.519839823246 m-10.6567168236,-1.55951946974 l1.55951946974,0.0 0.519839823246,1.81943938136 l0.779759734869,0.519839823246 1.55951946974,-1.1696396023 l0.129959955812,-0.909719690681 -1.55951946974,-0.259919911623 m3.76883894205,-6.23807787895 l-0.519839823246,3.11903893948 0.649799779058,-0.129959955812 l0.649799779058,-1.1696396023 m-5.45831799507,-1.29959955812 l0.0,1.68947950006 \" fill=\"none\" stroke=\"black\" stroke-width=\"1\"/></svg>"
      ],
      "text/plain": [
       "<IPython.core.display.SVG object>"
      ]
     },
     "metadata": {},
     "output_type": "display_data"
    },
    {
     "name": "stdout",
     "output_type": "stream",
     "text": [
      "INFO:tensorflow:Loading model /home/calpeyser/checkpoints/cat/vector-47500.\n",
      "INFO:tensorflow:Restoring parameters from /home/calpeyser/checkpoints/cat/vector-47500\n"
     ]
    },
    {
     "data": {
      "image/svg+xml": [
       "<svg baseProfile=\"full\" height=\"67.9769304208\" version=\"1.1\" width=\"67.9932427593\" xmlns=\"http://www.w3.org/2000/svg\" xmlns:ev=\"http://www.w3.org/2001/xml-events\" xmlns:xlink=\"http://www.w3.org/1999/xlink\"><defs/><rect fill=\"white\" height=\"67.9769304208\" width=\"67.9932427593\" x=\"0\" y=\"0\"/><path d=\"M29.9559029005,32.1512364224 m-1.12502418458,-0.468935407698 l-1.0395565629,0.278563145548 -0.899298340082,0.944097042084 l-0.455832406878,2.94436663389 0.810719504952,2.45016679168 l2.88419365883,3.00681918859 2.72720962763,1.42295137048 l2.91508972645,0.24766523391 2.72659063339,-1.23349241912 l2.58347660303,-2.564894557 0.915314629674,-1.67632162571 l0.584957711399,-3.01953911781 -1.14986740053,-3.05675834417 l-1.13800346851,-0.890572890639 -3.3464500308,-0.85043489933 l-5.35862863064,0.251943338662 -2.33065739274,1.05473056436 m10.0324463844,-1.42310485244 l1.08528874815,-2.02850729227 2.16963246465,-2.53997832537 l0.445738583803,1.64256677032 -0.509254597127,4.86999243498 l-0.40002066642,1.42422825098 m-13.5862767696,-3.10845315456 l-3.25363814831,-4.28870201111 -0.244052577764,2.71759212017 l1.16251699626,4.12036895752 1.0803745687,2.23889231682 m5.22019326687,1.60168468952 l2.31764987111,0.313235558569 1.91005215049,-0.516208782792 m-3.6505740881,-0.319935679436 l0.591821782291,1.18671014905 0.468361563981,0.0806904584169 l0.327952131629,-2.62970596552 \" fill=\"none\" stroke=\"black\" stroke-width=\"1\"/></svg>"
      ],
      "text/plain": [
       "<IPython.core.display.SVG object>"
      ]
     },
     "metadata": {},
     "output_type": "display_data"
    },
    {
     "name": "stdout",
     "output_type": "stream",
     "text": [
      "196\n",
      "INFO:tensorflow:Loading model /home/calpeyser/checkpoints/dog/vector-41500.\n",
      "INFO:tensorflow:Restoring parameters from /home/calpeyser/checkpoints/dog/vector-41500\n"
     ]
    },
    {
     "data": {
      "image/svg+xml": [
       "<svg baseProfile=\"full\" height=\"71.8332732469\" version=\"1.1\" width=\"77.8114308417\" xmlns=\"http://www.w3.org/2000/svg\" xmlns:ev=\"http://www.w3.org/2001/xml-events\" xmlns:xlink=\"http://www.w3.org/1999/xlink\"><defs/><rect fill=\"white\" height=\"71.8332732469\" width=\"77.8114308417\" x=\"0\" y=\"0\"/><path d=\"M45.1437927783,27.9890792072 m-1.68947950006,-1.29959955812 l-2.72915899754,-0.389879867435 -3.24899882078,0.0 l-5.19839823246,1.29959955812 -1.42955958843,1.29959955812 l-0.519839823246,1.42955958843 0.129959955812,7.14779794216 l2.85911917686,5.19839823246 3.89879882336,3.11903893948 l3.37895900011,1.03967964649 4.15871858597,0.0 l2.33927920461,-9.8769569397 0.0,-3.37895900011 l-0.649799779058,-4.02875870466 -1.81943938136,-3.37895900011 m1.68947950006,2.33927920461 l-0.649799779058,-1.55951946974 0.129959955812,-0.649799779058 l1.94939941168,-1.1696396023 2.07935929298,-0.129959955812 l1.68947950006,2.33927920461 1.03967964649,5.19839823246 l0.259919911623,4.15871858597 -2.07935929298,-1.42955958843 l-3.24899882078,-0.779759734869 m-17.4146342278,-3.89879882336 l-1.42955958843,-0.259919911623 -1.68947950006,1.55951946974 l-1.94939941168,6.8878775835 0.129959955812,2.46923923492 l0.649799779058,1.29959955812 2.07935929298,0.0 l0.909719690681,-1.42955958843 1.03967964649,-4.02875870466 m3.50891888142,-4.67855840921 l0.259919911623,0.519839823246 m8.57735753059,-1.1696396023 l0.519839823246,0.519839823246 m-2.85911917686,6.10811829567 l0.649799779058,-0.129959955812 \" fill=\"none\" stroke=\"black\" stroke-width=\"1\"/></svg>"
      ],
      "text/plain": [
       "<IPython.core.display.SVG object>"
      ]
     },
     "metadata": {},
     "output_type": "display_data"
    },
    {
     "name": "stdout",
     "output_type": "stream",
     "text": [
      "INFO:tensorflow:Loading model /home/calpeyser/checkpoints/cat/vector-47500.\n",
      "INFO:tensorflow:Restoring parameters from /home/calpeyser/checkpoints/cat/vector-47500\n"
     ]
    },
    {
     "data": {
      "image/svg+xml": [
       "<svg baseProfile=\"full\" height=\"67.6821561158\" version=\"1.1\" width=\"68.1453773566\" xmlns=\"http://www.w3.org/2000/svg\" xmlns:ev=\"http://www.w3.org/2001/xml-events\" xmlns:xlink=\"http://www.w3.org/1999/xlink\"><defs/><rect fill=\"white\" height=\"67.6821561158\" width=\"68.1453773566\" x=\"0\" y=\"0\"/><path d=\"M29.337927904,32.4274506519 m-0.998426675797,-0.541160106659 l-0.978028923273,0.258487295359 -0.852318331599,0.910096764565 l-0.334881097078,3.13870191574 0.908839926124,2.31704413891 l3.01715224981,2.91306078434 2.73036777973,1.25839859247 l2.41445437074,7.60791681387e-05 3.02842319012,-1.49514168501 l2.70469546318,-2.71620243788 0.763815715909,-1.62631958723 l0.312516391277,-2.92266428471 -1.66781425476,-2.93509602547 l-1.2457716465,-0.800762027502 -3.74738156796,-0.747426226735 l-4.65506613255,0.669682398438 -2.20341950655,1.3164421916 m10.6084132195,-1.99665129185 l1.10442176461,-1.8707215786 2.46527478099,-2.55729556084 l0.432182736695,1.63531199098 -0.580576956272,5.01551568508 l-0.2116108872,2.21368461847 m-13.6548793316,-3.98995280266 l-3.37644010782,-4.13166582584 -0.321870073676,2.23515808582 l0.962637066841,4.47391778231 0.887943282723,2.36891001463 m5.39496123791,1.61965563893 l2.00608670712,0.221881680191 2.15211704373,-0.516814216971 l1.64102211595,-0.781053751707 m-5.92668652534,-0.256575755775 l-0.575049743056,1.06391072273 -0.927793756127,1.39146491885 l1.49125352502,-1.43850848079 \" fill=\"none\" stroke=\"black\" stroke-width=\"1\"/></svg>"
      ],
      "text/plain": [
       "<IPython.core.display.SVG object>"
      ]
     },
     "metadata": {},
     "output_type": "display_data"
    },
    {
     "name": "stdout",
     "output_type": "stream",
     "text": [
      "311\n",
      "INFO:tensorflow:Loading model /home/calpeyser/checkpoints/dog/vector-41500.\n",
      "INFO:tensorflow:Restoring parameters from /home/calpeyser/checkpoints/dog/vector-41500\n"
     ]
    },
    {
     "data": {
      "image/svg+xml": [
       "<svg baseProfile=\"full\" height=\"82.6199486107\" version=\"1.1\" width=\"70.013833493\" xmlns=\"http://www.w3.org/2000/svg\" xmlns:ev=\"http://www.w3.org/2001/xml-events\" xmlns:xlink=\"http://www.w3.org/1999/xlink\"><defs/><rect fill=\"white\" height=\"82.6199486107\" width=\"70.013833493\" x=\"0\" y=\"0\"/><path d=\"M26.9493994117,40.2053145319 m-0.779759734869,4.67855840921 l0.0,5.84819793701 1.1696396023,2.59919911623 l3.24899882078,2.33927920461 3.37895900011,1.68947950006 l5.19839823246,0.259919911623 3.37895900011,-1.1696396023 l1.29959955812,-1.03967964649 0.649799779058,-1.29959955812 l0.259919911623,-1.94939941168 0.0,-8.70731711388 l-0.519839823246,-6.49799764156 0.129959955812,-6.62795782089 l0.649799779058,-4.54859852791 -1.1696396023,1.03967964649 l-4.67855840921,7.79759764671 -0.649799779058,0.519839823246 l-4.93847846985,-3.24899882078 -4.54859852791,-6.8878775835 l-2.59919911623,7.79759764671 -1.42955958843,6.62795782089 l0.0,0.649799779058 1.42955958843,0.389879867435 m6.10811829567,5.45831799507 l3.89879882336,0.909719690681 1.94939941168,-0.779759734869 l0.0,-1.29959955812 -2.59919911623,1.1696396023 l-2.59919911623,0.389879867435 -0.649799779058,-0.129959955812 l-0.389879867435,-0.649799779058 -0.259919911623,-1.55951946974 m-1.68947950006,-5.06843864918 l1.29959955812,0.0 m6.75791800022,-0.649799779058 l2.07935929298,0.0 m-8.57735753059,12.3461961746 l3.89879882336,1.55951946974 3.24899882078,0.0 l1.55951946974,-0.389879867435 \" fill=\"none\" stroke=\"black\" stroke-width=\"1\"/></svg>"
      ],
      "text/plain": [
       "<IPython.core.display.SVG object>"
      ]
     },
     "metadata": {},
     "output_type": "display_data"
    },
    {
     "name": "stdout",
     "output_type": "stream",
     "text": [
      "INFO:tensorflow:Loading model /home/calpeyser/checkpoints/cat/vector-47500.\n",
      "INFO:tensorflow:Restoring parameters from /home/calpeyser/checkpoints/cat/vector-47500\n"
     ]
    },
    {
     "data": {
      "image/svg+xml": [
       "<svg baseProfile=\"full\" height=\"67.2358378023\" version=\"1.1\" width=\"67.8037502244\" xmlns=\"http://www.w3.org/2000/svg\" xmlns:ev=\"http://www.w3.org/2001/xml-events\" xmlns:xlink=\"http://www.w3.org/1999/xlink\"><defs/><rect fill=\"white\" height=\"67.2358378023\" width=\"67.8037502244\" x=\"0\" y=\"0\"/><path d=\"M30.2613932267,31.9187847711 m-1.13670185208,-0.569825023413 l-1.03062823415,0.189599972218 -0.884857028723,0.857119187713 l-0.498582348228,2.98072129488 0.81167973578,2.27417260408 l2.75985866785,2.79344916344 2.83210277557,1.54803976417 l2.79616206884,0.243776068091 1.36704549193,-0.424158759415 l3.47349911928,-2.88440316916 1.12266890705,-1.81607276201 l0.70055320859,-3.13921570778 -0.58762114495,-1.67605355382 l-1.47965788841,-1.23048044741 -3.92783403397,-1.16397447884 l-4.93800610304,0.143430121243 -2.41264119744,1.12668804824 m9.86204147339,-1.57188907266 l1.23350016773,-2.18799188733 2.0507016778,-2.41171613336 l0.429073534906,1.40431284904 -0.277614556253,5.26948392391 l-0.324935205281,1.36545300484 m-13.7285649776,-3.18124741316 l-3.28370273113,-4.6110829711 -0.188932754099,2.4992261827 l1.25077918172,4.40846920013 0.925969406962,2.46726199985 m5.15232563019,1.50688737631 l2.10511490703,0.402551740408 2.03895926476,-0.383120104671 m-3.37521523237,-0.163823161274 l0.340974777937,1.06969922781 0.741344988346,0.557927899063 l0.847996547818,-1.25411987305 \" fill=\"none\" stroke=\"black\" stroke-width=\"1\"/></svg>"
      ],
      "text/plain": [
       "<IPython.core.display.SVG object>"
      ]
     },
     "metadata": {},
     "output_type": "display_data"
    },
    {
     "name": "stdout",
     "output_type": "stream",
     "text": [
      "329\n",
      "INFO:tensorflow:Loading model /home/calpeyser/checkpoints/dog/vector-41500.\n",
      "INFO:tensorflow:Restoring parameters from /home/calpeyser/checkpoints/dog/vector-41500\n"
     ]
    },
    {
     "data": {
      "image/svg+xml": [
       "<svg baseProfile=\"full\" height=\"65.5951950699\" version=\"1.1\" width=\"78.7211506069\" xmlns=\"http://www.w3.org/2000/svg\" xmlns:ev=\"http://www.w3.org/2001/xml-events\" xmlns:xlink=\"http://www.w3.org/1999/xlink\"><defs/><rect fill=\"white\" height=\"65.5951950699\" width=\"78.7211506069\" x=\"0\" y=\"0\"/><path d=\"M37.4761565775,26.1696396768 m-3.37895900011,-0.129959955812 l-2.07935929298,1.42955958843 -1.68947950006,2.72915899754 l0.129959955812,2.85911917686 1.68947950006,3.89879882336 l1.81943938136,1.81943938136 5.45831799507,1.81943938136 l3.37895900011,0.0 1.29959955812,-1.03967964649 l0.779759734869,-1.42955958843 0.389879867435,-2.33927920461 l0.129959955812,-4.80851858854 -0.389879867435,-1.81943938136 l-1.55951946974,-2.33927920461 -2.46923923492,-1.68947950006 l-2.33927920461,-0.129959955812 -1.29959955812,0.389879867435 m-2.85911917686,-0.129959955812 l-0.649799779058,0.129959955812 -1.42955958843,1.68947950006 l-6.10811829567,5.32835841179 -1.29959955812,1.81943938136 l0.0,2.33927920461 1.1696396023,1.55951946974 l2.07935929298,0.129959955812 2.72915899754,-1.42955958843 m12.3461961746,-10.006916523 l7.27775752544,2.46923923492 2.2093193233,1.81943938136 l0.909719690681,2.07935929298 -0.129959955812,2.98907905817 l-0.779759734869,1.29959955812 -3.63887876272,0.259919911623 l-3.89879882336,-1.68947950006 m-10.2668368816,-5.71823835373 l0.129959955812,0.0 m4.54859852791,-0.649799779058 l0.519839823246,-0.129959955812 m-2.07935929298,4.67855840921 l0.649799779058,-0.259919911623 \" fill=\"none\" stroke=\"black\" stroke-width=\"1\"/></svg>"
      ],
      "text/plain": [
       "<IPython.core.display.SVG object>"
      ]
     },
     "metadata": {},
     "output_type": "display_data"
    },
    {
     "name": "stdout",
     "output_type": "stream",
     "text": [
      "INFO:tensorflow:Loading model /home/calpeyser/checkpoints/cat/vector-47500.\n",
      "INFO:tensorflow:Restoring parameters from /home/calpeyser/checkpoints/cat/vector-47500\n"
     ]
    },
    {
     "data": {
      "image/svg+xml": [
       "<svg baseProfile=\"full\" height=\"68.0415733932\" version=\"1.1\" width=\"67.8713656962\" xmlns=\"http://www.w3.org/2000/svg\" xmlns:ev=\"http://www.w3.org/2001/xml-events\" xmlns:xlink=\"http://www.w3.org/1999/xlink\"><defs/><rect fill=\"white\" height=\"68.0415733932\" width=\"67.8713656962\" x=\"0\" y=\"0\"/><path d=\"M29.0534125641,33.2131700631 m-0.667366236448,-0.777614489198 l-0.730426982045,-0.0146892305929 -0.695408508182,0.666838362813 l-0.424266122282,2.79216259718 1.29556149244,3.54878753424 l2.88868606091,2.49823331833 2.70269185305,1.11468523741 l2.49368458986,-0.000144991163324 2.71934241056,-1.37154683471 l2.64764904976,-2.66993075609 0.832826718688,-1.68475717306 l0.431413725019,-2.95705705881 -1.52749478817,-2.85652816296 l-1.23430252075,-0.782642960548 -5.97877085209,-0.967243313789 l-3.9057931304,0.643471628428 -0.80487690866,0.706851258874 m9.99608635902,-1.49084478617 l0.904688239098,-1.82330682874 2.37024158239,-2.7878934145 l0.503787100315,1.42159804702 -0.238593071699,5.03006875515 l-0.339085012674,1.42140045762 m-13.5647344589,-3.17042946815 l-3.52378606796,-4.10174578428 -0.205167084932,2.42052569985 l0.932262018323,4.28292930126 0.872225910425,1.32303372025 m5.39184749126,2.47998610139 l2.22674101591,0.553035661578 2.2205966711,-0.406556241214 m-3.77094268799,-0.519046336412 l0.495443455875,1.03158898652 0.404151044786,0.20628945902 l-0.0871372688562,-1.24399498105 \" fill=\"none\" stroke=\"black\" stroke-width=\"1\"/></svg>"
      ],
      "text/plain": [
       "<IPython.core.display.SVG object>"
      ]
     },
     "metadata": {},
     "output_type": "display_data"
    },
    {
     "name": "stdout",
     "output_type": "stream",
     "text": [
      "383\n",
      "INFO:tensorflow:Loading model /home/calpeyser/checkpoints/dog/vector-41500.\n",
      "INFO:tensorflow:Restoring parameters from /home/calpeyser/checkpoints/dog/vector-41500\n"
     ]
    },
    {
     "data": {
      "image/svg+xml": [
       "<svg baseProfile=\"full\" height=\"63.9057153463\" version=\"1.1\" width=\"68.7142334133\" xmlns=\"http://www.w3.org/2000/svg\" xmlns:ev=\"http://www.w3.org/2001/xml-events\" xmlns:xlink=\"http://www.w3.org/1999/xlink\"><defs/><rect fill=\"white\" height=\"63.9057153463\" width=\"68.7142334133\" x=\"0\" y=\"0\"/><path d=\"M33.4473970532,26.9493994862 m-3.37895900011,-0.129959955812 l-1.94939941168,0.909719690681 -0.779759734869,5.84819793701 l1.42955958843,2.07935929298 1.55951946974,1.29959955812 l2.33927920461,1.03967964649 3.24899882078,0.649799779058 l2.85911917686,-0.129959955812 2.72915899754,-2.46923923492 l1.55951946974,-3.11903893948 0.649799779058,-2.59919911623 l-0.129959955812,-2.07935929298 -0.519839823246,-0.649799779058 l-3.50891888142,-1.81943938136 -6.62795782089,-0.779759734869 m-1.81943938136,9.09719705582 l0.649799779058,0.649799779058 1.94939941168,0.129959955812 l0.519839823246,-3.37895900011 0.0,1.94939941168 l0.389879867435,0.649799779058 1.55951946974,-0.129959955812 m-1.68947950006,-2.59919911623 l-0.519839823246,0.0 m-2.72915899754,-2.2093193233 l0.519839823246,0.0 m5.71823835373,0.259919911623 l0.259919911623,0.649799779058 0.389879867435,-0.389879867435 m-7.27775752544,-2.59919911623 l-2.59919911623,-1.29959955812 -1.29959955812,0.0 l-0.779759734869,1.29959955812 -0.909719690681,4.15871858597 l-0.259919911623,3.37895900011 1.55951946974,0.519839823246 l0.0,3.24899882078 0.649799779058,0.519839823246 l1.29959955812,-0.129959955812 2.46923923492,-2.2093193233 \" fill=\"none\" stroke=\"black\" stroke-width=\"1\"/></svg>"
      ],
      "text/plain": [
       "<IPython.core.display.SVG object>"
      ]
     },
     "metadata": {},
     "output_type": "display_data"
    },
    {
     "name": "stdout",
     "output_type": "stream",
     "text": [
      "INFO:tensorflow:Loading model /home/calpeyser/checkpoints/cat/vector-47500.\n",
      "INFO:tensorflow:Restoring parameters from /home/calpeyser/checkpoints/cat/vector-47500\n"
     ]
    },
    {
     "data": {
      "image/svg+xml": [
       "<svg baseProfile=\"full\" height=\"68.1123390249\" version=\"1.1\" width=\"67.1452382579\" xmlns=\"http://www.w3.org/2000/svg\" xmlns:ev=\"http://www.w3.org/2001/xml-events\" xmlns:xlink=\"http://www.w3.org/1999/xlink\"><defs/><rect fill=\"white\" height=\"68.1123390249\" width=\"67.1452382579\" x=\"0\" y=\"0\"/><path d=\"M29.3030543998,32.9399574934 m-0.87337076664,-0.647880584002 l-0.868246406317,0.0554393045604 -0.81462405622,0.717194229364 l-0.499190948904,2.82316535711 1.26541823149,3.50638002157 l2.63523668051,2.48593181372 2.72396147251,1.23215138912 l2.65111356974,-2.76616583506e-05 2.73260354996,-1.37646391988 l2.68881917,-2.61726737022 0.801306813955,-1.65206342936 l0.358167998493,-2.93878614902 -1.49961769581,-2.73965984583 l-1.1988851428,-0.826644003391 -5.72061240673,-0.999369993806 l-3.76756221056,0.728342309594 -0.721064209938,0.708049833775 m8.84192824364,-1.74763813615 l1.27175971866,-1.98982745409 2.38078191876,-2.66098320484 l0.454260334373,1.78951129317 -0.210457202047,5.03431499004 m-13.08193326,-1.97061493993 l-2.59452223778,-3.64855885506 -1.08496792614,-0.745428428054 l-0.173357632011,3.26254338026 0.774869397283,4.38751846552 m6.56449556351,3.10083866119 l2.15860873461,0.950832366943 2.10604131222,-0.331323072314 l1.35338395834,-1.31331965327 m-5.40216267109,-1.38432055712 l-0.101859951392,1.10143177211 0.276414379478,0.238869637251 l-0.0830663740635,-1.0302940011 \" fill=\"none\" stroke=\"black\" stroke-width=\"1\"/></svg>"
      ],
      "text/plain": [
       "<IPython.core.display.SVG object>"
      ]
     },
     "metadata": {},
     "output_type": "display_data"
    },
    {
     "name": "stdout",
     "output_type": "stream",
     "text": [
      "398\n",
      "INFO:tensorflow:Loading model /home/calpeyser/checkpoints/dog/vector-41500.\n",
      "INFO:tensorflow:Restoring parameters from /home/calpeyser/checkpoints/dog/vector-41500\n"
     ]
    },
    {
     "data": {
      "image/svg+xml": [
       "<svg baseProfile=\"full\" height=\"70.5336733907\" version=\"1.1\" width=\"75.7320716977\" xmlns=\"http://www.w3.org/2000/svg\" xmlns:ev=\"http://www.w3.org/2001/xml-events\" xmlns:xlink=\"http://www.w3.org/1999/xlink\"><defs/><rect fill=\"white\" height=\"70.5336733907\" width=\"75.7320716977\" x=\"0\" y=\"0\"/><path d=\"M31.2380779535,26.6894794255 m-1.68947950006,0.909719690681 l-3.63887876272,4.2886787653 -0.909719690681,2.59919911623 l0.129959955812,3.89879882336 1.81943938136,1.68947950006 l1.55951946974,0.259919911623 0.779759734869,-0.389879867435 l4.54859852791,-6.36803805828 -0.909719690681,2.33927920461 l0.129959955812,5.97815811634 1.03967964649,1.55951946974 l2.33927920461,1.81943938136 0.909719690681,0.259919911623 l2.85911917686,-0.129959955812 2.46923923492,-1.55951946974 l1.1696396023,-1.29959955812 1.1696396023,-4.02875870466 l0.129959955812,-4.67855840921 0.649799779058,1.55951946974 l1.55951946974,1.42955958843 2.85911917686,0.259919911623 l0.519839823246,-1.68947950006 0.0,-3.50891888142 l-2.85911917686,-4.02875870466 -1.94939941168,-1.42955958843 l-9.61703717709,-1.42955958843 -5.19839823246,0.519839823246 m2.85911917686,2.46923923492 l0.0,1.94939941168 m5.32835841179,-0.519839823246 l0.129959955812,1.42955958843 0.129959955812,-0.519839823246 m-4.2886787653,6.62795782089 l0.389879867435,1.42955958843 0.649799779058,0.519839823246 l0.649799779058,0.259919911623 1.03967964649,-1.1696396023 l0.0,1.68947950006 0.779759734869,0.779759734869 l1.29959955812,-0.129959955812 \" fill=\"none\" stroke=\"black\" stroke-width=\"1\"/></svg>"
      ],
      "text/plain": [
       "<IPython.core.display.SVG object>"
      ]
     },
     "metadata": {},
     "output_type": "display_data"
    },
    {
     "name": "stdout",
     "output_type": "stream",
     "text": [
      "INFO:tensorflow:Loading model /home/calpeyser/checkpoints/cat/vector-47500.\n",
      "INFO:tensorflow:Restoring parameters from /home/calpeyser/checkpoints/cat/vector-47500\n"
     ]
    },
    {
     "data": {
      "image/svg+xml": [
       "<svg baseProfile=\"full\" height=\"68.4311023541\" version=\"1.1\" width=\"67.7821374126\" xmlns=\"http://www.w3.org/2000/svg\" xmlns:ev=\"http://www.w3.org/2001/xml-events\" xmlns:xlink=\"http://www.w3.org/1999/xlink\"><defs/><rect fill=\"white\" height=\"68.4311023541\" width=\"67.7821374126\" x=\"0\" y=\"0\"/><path d=\"M29.2653543502,33.046514038 m-1.22660070658,-0.530072264373 l-1.09096929431,0.236626118422 -0.89358150959,0.88411487639 l-0.502049215138,3.20589929819 0.387702770531,1.40874817967 l3.06504577398,3.85399997234 1.43184885383,0.856954306364 l3.41284662485,0.468317829072 3.02177280188,-0.867148712277 l2.63608008623,-2.17578604817 1.03163607419,-1.54680982232 l0.836207717657,-3.02171945572 -0.704606324434,-3.2878741622 l-0.963565781713,-0.982180535793 -4.91819113493,-1.37059003115 l-4.54430550337,0.307948831469 -1.02755218744,0.64831726253 m-1.70222699642,0.634010285139 l-1.6528879106,-4.06940966845 -0.861958488822,-2.00129345059 l3.56041818857,3.01517665386 2.28307232261,2.0023034513 m6.68003201485,-0.381076596677 l2.33520269394,-2.76922404766 2.72737056017,-2.56574630737 l0.196041632444,1.55477881432 -1.11054465175,6.02969646454 m-10.5315244198,3.30558091402 l0.883989036083,1.00366413593 0.51162570715,-0.142862983048 l0.0290067843162,-1.85256883502 m-2.26927578449,-1.21551886201 l0.133809708059,0.92279329896 0.454738438129,0.630301237106 l1.85319975019,0.457487180829 \" fill=\"none\" stroke=\"black\" stroke-width=\"1\"/></svg>"
      ],
      "text/plain": [
       "<IPython.core.display.SVG object>"
      ]
     },
     "metadata": {},
     "output_type": "display_data"
    },
    {
     "name": "stdout",
     "output_type": "stream",
     "text": [
      "587\n",
      "INFO:tensorflow:Loading model /home/calpeyser/checkpoints/dog/vector-41500.\n",
      "INFO:tensorflow:Restoring parameters from /home/calpeyser/checkpoints/dog/vector-41500\n"
     ]
    },
    {
     "data": {
      "image/svg+xml": [
       "<svg baseProfile=\"full\" height=\"70.1437935233\" version=\"1.1\" width=\"66.5049147606\" xmlns=\"http://www.w3.org/2000/svg\" xmlns:ev=\"http://www.w3.org/2001/xml-events\" xmlns:xlink=\"http://www.w3.org/1999/xlink\"><defs/><rect fill=\"white\" height=\"70.1437935233\" width=\"66.5049147606\" x=\"0\" y=\"0\"/><path d=\"M27.5991993397,32.2777576745 m-0.129959955812,-0.909719690681 l0.519839823246,-1.29959955812 1.03967964649,-1.29959955812 l0.779759734869,-1.94939941168 0.649799779058,0.259919911623 l1.94939941168,3.89879882336 2.59919911623,0.909719690681 l1.94939941168,-0.519839823246 3.11903893948,-6.36803805828 l0.779759734869,1.1696396023 0.0,4.93847846985 l0.649799779058,3.76883894205 -0.259919911623,4.4186386466 l-5.19839823246,5.45831799507 -2.07935929298,0.389879867435 l-2.07935929298,-1.1696396023 -6.10811829567,-6.23807787895 l-0.779759734869,-2.59919911623 1.42955958843,-3.50891888142 m4.4186386466,3.63887876272 l-0.909719690681,1.42955958843 -0.259919911623,-0.649799779058 l0.389879867435,-0.649799779058 0.649799779058,-0.259919911623 l0.519839823246,0.519839823246 m3.37895900011,-0.649799779058 l-0.389879867435,1.29959955812 0.519839823246,0.649799779058 l0.649799779058,-0.519839823246 m-1.55951946974,2.85911917686 l-0.129959955812,-0.129959955812 m0.259919911623,0.259919911623 l0.0,1.94939941168 -0.779759734869,1.29959955812 l-1.29959955812,0.519839823246 -0.909719690681,-1.94939941168 m2.72915899754,-1.29959955812 l0.519839823246,2.07935929298 1.03967964649,1.03967964649 l1.29959955812,-0.259919911623 1.55951946974,-1.68947950006 \" fill=\"none\" stroke=\"black\" stroke-width=\"1\"/></svg>"
      ],
      "text/plain": [
       "<IPython.core.display.SVG object>"
      ]
     },
     "metadata": {},
     "output_type": "display_data"
    },
    {
     "name": "stdout",
     "output_type": "stream",
     "text": [
      "INFO:tensorflow:Loading model /home/calpeyser/checkpoints/cat/vector-47500.\n",
      "INFO:tensorflow:Restoring parameters from /home/calpeyser/checkpoints/cat/vector-47500\n"
     ]
    },
    {
     "data": {
      "image/svg+xml": [
       "<svg baseProfile=\"full\" height=\"68.0452323705\" version=\"1.1\" width=\"67.4300483428\" xmlns=\"http://www.w3.org/2000/svg\" xmlns:ev=\"http://www.w3.org/2001/xml-events\" xmlns:xlink=\"http://www.w3.org/1999/xlink\"><defs/><rect fill=\"white\" height=\"68.0452323705\" width=\"67.4300483428\" x=\"0\" y=\"0\"/><path d=\"M30.3250643797,32.5310995872 m-1.36688858271,-0.482166111469 l-1.16811104119,0.297252293676 -0.988326892257,0.94106413424 l-0.45884270221,3.03200870752 0.827879682183,2.47697606683 l2.78823196888,2.92748093605 2.73151487112,1.32147684693 l2.58781939745,3.99094733439e-05 2.80298858881,-1.32014349103 l2.6410895586,-2.52780258656 0.849231034517,-1.66787683964 l0.471610464156,-2.98863649368 -1.51686817408,-2.97158181667 l-1.20138682425,-0.828149020672 -5.46282827854,-0.976161137223 l-3.49118620157,0.735633000731 -0.755019038916,0.801322832704 m8.81024539471,-1.65359422565 l1.03883914649,-1.90140604973 2.51731723547,-2.74683654308 l0.447674356401,1.61081627011 -0.240622591227,5.11716961861 l-0.421871691942,1.43547311425 m-12.9897677898,-3.01705002785 l-3.58114480972,-4.30698096752 -0.196641460061,2.5379344821 l1.08649834991,4.35017675161 0.951382443309,2.2924181819 m5.65494596958,1.78081601858 l1.86363980174,0.32796882093 1.78313151002,-0.299262516201 l1.33913293481,-0.815230384469 m-5.95418274403,-1.24093912542 l-0.32735709101,0.951705574989 0.386435799301,0.649978742003 l1.44545853138,-0.963707342744 \" fill=\"none\" stroke=\"black\" stroke-width=\"1\"/></svg>"
      ],
      "text/plain": [
       "<IPython.core.display.SVG object>"
      ]
     },
     "metadata": {},
     "output_type": "display_data"
    },
    {
     "name": "stdout",
     "output_type": "stream",
     "text": [
      "639\n",
      "INFO:tensorflow:Loading model /home/calpeyser/checkpoints/dog/vector-41500.\n",
      "INFO:tensorflow:Restoring parameters from /home/calpeyser/checkpoints/dog/vector-41500\n"
     ]
    },
    {
     "data": {
      "image/svg+xml": [
       "<svg baseProfile=\"full\" height=\"70.4037139565\" version=\"1.1\" width=\"79.5009100437\" xmlns=\"http://www.w3.org/2000/svg\" xmlns:ev=\"http://www.w3.org/2001/xml-events\" xmlns:xlink=\"http://www.w3.org/1999/xlink\"><defs/><rect fill=\"white\" height=\"70.4037139565\" width=\"79.5009100437\" x=\"0\" y=\"0\"/><path d=\"M43.8441933692,25.5198401958 m-6.36803805828,0.0 l-4.80851858854,0.779759734869 -1.55951946974,2.59919911623 l-1.03967964649,2.98907905817 -0.649799779058,4.80851858854 l1.42955958843,4.80851858854 1.42955958843,2.07935929298 l2.33927920461,1.81943938136 7.01783776283,0.0 l3.50891888142,-2.33927920461 2.85911917686,-3.76883894205 l0.909719690681,-6.8878775835 -0.779759734869,-3.76883894205 l-0.519839823246,-1.55951946974 -1.1696396023,-1.1696396023 l-0.909719690681,-0.519839823246 -1.81943938136,0.0 m-11.3065159321,0.909719690681 l-2.07935929298,0.0 -2.59919911623,2.33927920461 l-1.94939941168,3.50891888142 -0.779759734869,4.02875870466 l0.779759734869,2.59919911623 1.42955958843,0.909719690681 l2.2093193233,-0.779759734869 m18.3243536949,-13.9057159424 l4.15871858597,0.779759734869 1.81943938136,2.98907905817 l0.779759734869,5.06843864918 -0.129959955812,0.519839823246 l-2.72915899754,0.909719690681 m-11.5664362907,0.0 l-2.85911917686,0.0 -0.519839823246,0.259919911623 l0.389879867435,0.649799779058 4.15871858597,0.259919911623 m-1.68947950006,0.0 l0.0,4.54859852791 m-2.72915899754,1.03967964649 l5.71823835373,0.0 0.649799779058,-0.909719690681 \" fill=\"none\" stroke=\"black\" stroke-width=\"1\"/></svg>"
      ],
      "text/plain": [
       "<IPython.core.display.SVG object>"
      ]
     },
     "metadata": {},
     "output_type": "display_data"
    },
    {
     "name": "stdout",
     "output_type": "stream",
     "text": [
      "INFO:tensorflow:Loading model /home/calpeyser/checkpoints/cat/vector-47500.\n",
      "INFO:tensorflow:Restoring parameters from /home/calpeyser/checkpoints/cat/vector-47500\n"
     ]
    },
    {
     "data": {
      "image/svg+xml": [
       "<svg baseProfile=\"full\" height=\"67.1396211861\" version=\"1.1\" width=\"67.4032391049\" xmlns=\"http://www.w3.org/2000/svg\" xmlns:ev=\"http://www.w3.org/2001/xml-events\" xmlns:xlink=\"http://www.w3.org/1999/xlink\"><defs/><rect fill=\"white\" height=\"67.1396211861\" width=\"67.4032391049\" x=\"0\" y=\"0\"/><path d=\"M28.4731050022,32.6876225555 m-0.743272155523,-0.7299541682 l-0.744605660439,0.0662529561669 -0.657987892628,0.710459724069 l-0.234684627503,2.92251825333 1.91329941154,2.8466629982 l2.49696925282,2.35191583633 2.94052988291,1.28414303064 l2.88556993008,-0.0157207204029 2.49700531363,-1.61528468132 l2.45322242379,-2.98085063696 0.64933180809,-1.76845252514 l0.208464916795,-2.91505038738 -0.498005002737,-1.04290246964 l-4.39179003239,-2.13401600718 -5.16831278801,-0.339188165963 l-3.09981673956,0.936257392168 -0.626951679587,0.74626557529 m10.1760077477,-1.5499958396 l1.10140152276,-1.93485870957 2.34088808298,-2.52582401037 l0.432870388031,0.511691458523 -0.241513904184,5.6210654974 l-0.354670286179,1.48129925132 m-13.2913553715,-3.20200830698 l-3.33690524101,-4.09908592701 -0.178794302046,2.32014104724 l1.02016247809,4.21648949385 0.968499332666,2.48860359192 m5.44534027576,1.76160335541 l1.99219822884,0.389674417675 2.28432551026,-0.505737215281 m-4.20161783695,-0.437196865678 l0.652074068785,1.32060602307 0.518849343061,-0.0871117040515 l0.489784739912,-2.4357829988 \" fill=\"none\" stroke=\"black\" stroke-width=\"1\"/></svg>"
      ],
      "text/plain": [
       "<IPython.core.display.SVG object>"
      ]
     },
     "metadata": {},
     "output_type": "display_data"
    },
    {
     "name": "stdout",
     "output_type": "stream",
     "text": [
      "689\n",
      "INFO:tensorflow:Loading model /home/calpeyser/checkpoints/dog/vector-41500.\n",
      "INFO:tensorflow:Restoring parameters from /home/calpeyser/checkpoints/dog/vector-41500\n"
     ]
    },
    {
     "data": {
      "image/svg+xml": [
       "<svg baseProfile=\"full\" height=\"70.4037135094\" version=\"1.1\" width=\"68.5842741281\" xmlns=\"http://www.w3.org/2000/svg\" xmlns:ev=\"http://www.w3.org/2001/xml-events\" xmlns:xlink=\"http://www.w3.org/1999/xlink\"><defs/><rect fill=\"white\" height=\"70.4037135094\" width=\"68.5842741281\" x=\"0\" y=\"0\"/><path d=\"M34.357117191,29.6785586327 m-2.2093193233,-0.129959955812 l-5.06843864918,2.59919911623 -0.649799779058,2.59919911623 l-0.129959955812,6.62795782089 0.389879867435,1.68947950006 l1.29959955812,1.94939941168 1.29959955812,0.389879867435 l2.59919911623,-0.129959955812 2.46923923492,-0.909719690681 l1.68947950006,-1.42955958843 0.389879867435,-2.07935929298 l0.129959955812,-10.6567168236 -0.519839823246,-1.42955958843 l-0.649799779058,-0.259919911623 -2.98907905817,0.259919911623 m-4.67855840921,1.55951946974 l-1.29959955812,-0.129959955812 -0.649799779058,-0.649799779058 l-0.779759734869,-2.98907905817 0.0,-0.649799779058 l0.649799779058,-0.389879867435 1.94939941168,-0.259919911623 l0.779759734869,0.389879867435 1.55951946974,3.89879882336 m4.02875870466,-1.29959955812 l6.75791800022,-3.24899882078 0.909719690681,0.0 l1.55951946974,0.909719690681 0.389879867435,2.33927920461 l-1.03967964649,1.29959955812 -2.2093193233,1.55951946974 l-2.46923923492,0.0 -0.649799779058,0.389879867435 m-7.27775752544,2.85911917686 l-0.259919911623,0.389879867435 m4.80851858854,-1.42955958843 l-0.259919911623,0.129959955812 m-4.15871858597,7.5376778841 l0.779759734869,-2.2093193233 1.1696396023,-0.779759734869 l1.03967964649,2.46923923492 \" fill=\"none\" stroke=\"black\" stroke-width=\"1\"/></svg>"
      ],
      "text/plain": [
       "<IPython.core.display.SVG object>"
      ]
     },
     "metadata": {},
     "output_type": "display_data"
    },
    {
     "name": "stdout",
     "output_type": "stream",
     "text": [
      "INFO:tensorflow:Loading model /home/calpeyser/checkpoints/cat/vector-47500.\n",
      "INFO:tensorflow:Restoring parameters from /home/calpeyser/checkpoints/cat/vector-47500\n"
     ]
    },
    {
     "data": {
      "image/svg+xml": [
       "<svg baseProfile=\"full\" height=\"68.0090020069\" version=\"1.1\" width=\"67.3732039705\" xmlns=\"http://www.w3.org/2000/svg\" xmlns:ev=\"http://www.w3.org/2001/xml-events\" xmlns:xlink=\"http://www.w3.org/1999/xlink\"><defs/><rect fill=\"white\" height=\"68.0090020069\" width=\"67.3732039705\" x=\"0\" y=\"0\"/><path d=\"M28.968606852,33.94432608 m-0.701652467251,-0.748288929462 l-0.760660916567,0.00504834926687 -0.633188858628,0.640326738358 l-0.306571163237,2.98784613609 1.28792926669,3.1992828846 l3.00535559654,2.3869548738 1.58521980047,0.593505874276 l3.25954794884,-0.000244475249929 3.07216525078,-1.42346158624 l2.36625090241,-2.44590610266 0.70613257587,-1.60899356008 l0.367668196559,-2.97957807779 -1.39893755317,-2.96123325825 l-1.16923227906,-0.836627036333 -5.75364172459,-0.977861583233 l-4.13976758718,0.882407054305 -0.848680213094,0.806582942605 m9.65120255947,-1.89209863544 l1.06160975993,-1.91783934832 2.32943430543,-2.65414834023 l0.424413718283,0.583935119212 -0.119191613048,5.59091627598 l-0.215727891773,1.71543836594 m-13.1497240067,-3.08830052614 l-3.55858296156,-3.78268748522 -0.329977497458,2.03820064664 l1.14829875529,4.56057757139 0.997282341123,2.3699451983 m5.73712348938,1.48258581758 l2.15186536312,0.471038110554 2.06681191921,-0.516475401819 m-4.73281502724,-0.888583287597 l0.544266663492,1.131240502 0.579129830003,0.369478464127 l1.0119599849,-1.04467831552 \" fill=\"none\" stroke=\"black\" stroke-width=\"1\"/></svg>"
      ],
      "text/plain": [
       "<IPython.core.display.SVG object>"
      ]
     },
     "metadata": {},
     "output_type": "display_data"
    },
    {
     "name": "stdout",
     "output_type": "stream",
     "text": [
      "743\n",
      "INFO:tensorflow:Loading model /home/calpeyser/checkpoints/dog/vector-41500.\n",
      "INFO:tensorflow:Restoring parameters from /home/calpeyser/checkpoints/dog/vector-41500\n"
     ]
    },
    {
     "data": {
      "image/svg+xml": [
       "<svg baseProfile=\"full\" height=\"71.5733536333\" version=\"1.1\" width=\"72.4830735475\" xmlns=\"http://www.w3.org/2000/svg\" xmlns:ev=\"http://www.w3.org/2001/xml-events\" xmlns:xlink=\"http://www.w3.org/1999/xlink\"><defs/><rect fill=\"white\" height=\"71.5733536333\" width=\"72.4830735475\" x=\"0\" y=\"0\"/><path d=\"M29.6785584837,33.9672377706 m0.0,7.92755723 l1.29959955812,3.76883894205 1.1696396023,0.909719690681 l2.98907905817,0.0 2.46923923492,-1.29959955812 l2.33927920461,-2.46923923492 1.42955958843,-3.50891888142 l0.779759734869,-3.24899882078 0.0,-1.81943938136 l-2.07935929298,-5.06843864918 -2.07935929298,-1.55951946974 l-4.4186386466,0.519839823246 -2.46923923492,0.909719690681 l-0.909719690681,0.779759734869 -1.42955958843,2.72915899754 l0.0,3.24899882078 m1.94939941168,-7.14779794216 l-2.72915899754,-3.63887876272 -2.85911917686,6.62795782089 l-0.129959955812,2.33927920461 0.519839823246,0.129959955812 l5.06843864918,-4.4186386466 m10.5267572403,0.129959955812 l0.909719690681,-1.68947950006 1.81943938136,-1.81943938136 l0.519839823246,0.519839823246 3.11903893948,8.57735753059 l-2.2093193233,0.649799779058 -1.03967964649,-2.98907905817 l-0.389879867435,-0.519839823246 -1.55951946974,-0.649799779058 m-8.44739735126,8.70731711388 l0.389879867435,-1.29959955812 0.519839823246,-0.129959955812 l0.389879867435,0.779759734869 -0.909719690681,0.259919911623 m3.50891888142,-7.92755723 l0.129959955812,0.649799779058 m-6.49799764156,0.0 l0.649799779058,-0.649799779058 0.129959955812,1.1696396023 \" fill=\"none\" stroke=\"black\" stroke-width=\"1\"/></svg>"
      ],
      "text/plain": [
       "<IPython.core.display.SVG object>"
      ]
     },
     "metadata": {},
     "output_type": "display_data"
    },
    {
     "name": "stdout",
     "output_type": "stream",
     "text": [
      "INFO:tensorflow:Loading model /home/calpeyser/checkpoints/cat/vector-47500.\n",
      "INFO:tensorflow:Restoring parameters from /home/calpeyser/checkpoints/cat/vector-47500\n"
     ]
    },
    {
     "data": {
      "image/svg+xml": [
       "<svg baseProfile=\"full\" height=\"67.8897352889\" version=\"1.1\" width=\"67.7219420485\" xmlns=\"http://www.w3.org/2000/svg\" xmlns:ev=\"http://www.w3.org/2001/xml-events\" xmlns:xlink=\"http://www.w3.org/1999/xlink\"><defs/><rect fill=\"white\" height=\"67.8897352889\" width=\"67.7219420485\" x=\"0\" y=\"0\"/><path d=\"M29.9368188716,32.2875989601 m-1.09771952033,-0.556679181755 l-1.03882819414,0.280053988099 -0.894079431891,0.996873602271 l-0.415574647486,2.9657921195 1.33663266897,3.55447679758 l1.06211408973,1.13171212375 3.78239542246,1.8164524436 l3.15031856298,0.413454435766 1.47223651409,-0.344888940454 l3.36845368147,-2.82002866268 1.36633589864,-2.35112190247 l0.66011801362,-3.25577974319 -0.620971359313,-1.75629690289 l-2.34937831759,-1.7178209126 -4.38635259867,-0.89021936059 l-4.0902453661,0.4011137411 -2.11548283696,1.18834070861 m9.72240626812,-1.69135853648 l1.06973290443,-2.09584489465 2.27579057217,-2.55582988262 l0.527220852673,1.45702779293 -0.1889234595,5.18271923065 l-0.326048210263,1.46616518497 m-13.6347007751,-3.14727365971 l-3.17093849182,-4.10044550896 -0.401331111789,2.20826566219 l1.0567855835,4.45928633213 0.920739099383,2.44213789701 m5.5386942625,1.41925126314 l2.10581347346,0.285608228296 2.22337976098,-0.443162359297 m-3.80033135414,-0.192628856748 l0.659973695874,1.1504342407 0.446599237621,0.336296483874 l0.264672674239,-1.22631661594 \" fill=\"none\" stroke=\"black\" stroke-width=\"1\"/></svg>"
      ],
      "text/plain": [
       "<IPython.core.display.SVG object>"
      ]
     },
     "metadata": {},
     "output_type": "display_data"
    },
    {
     "name": "stdout",
     "output_type": "stream",
     "text": [
      "787\n",
      "INFO:tensorflow:Loading model /home/calpeyser/checkpoints/dog/vector-41500.\n",
      "INFO:tensorflow:Restoring parameters from /home/calpeyser/checkpoints/dog/vector-41500\n"
     ]
    },
    {
     "data": {
      "image/svg+xml": [
       "<svg baseProfile=\"full\" height=\"71.3134334981\" version=\"1.1\" width=\"73.3927927166\" xmlns=\"http://www.w3.org/2000/svg\" xmlns:ev=\"http://www.w3.org/2001/xml-events\" xmlns:xlink=\"http://www.w3.org/1999/xlink\"><defs/><rect fill=\"white\" height=\"71.3134334981\" width=\"73.3927927166\" x=\"0\" y=\"0\"/><path d=\"M28.8987988234,28.1190387905 m-2.46923923492,3.76883894205 l-1.42955958843,5.32835841179 0.0,6.10811829567 l0.519839823246,2.2093193233 0.909719690681,0.779759734869 l5.19839823246,-12.8660356998 0.389879867435,-2.85911917686 l-1.03967964649,-2.07935929298 -2.72915899754,-0.389879867435 m16.8947947025,-1.55951946974 l1.68947950006,3.76883894205 1.42955958843,6.8878775835 l0.129959955812,2.72915899754 -0.779759734869,3.63887876272 l-0.909719690681,0.649799779058 -2.85911917686,-5.19839823246 l-0.389879867435,-4.4186386466 0.779759734869,-6.62795782089 l0.649799779058,-2.46923923492 m-13.6457955837,7.27775752544 l0.519839823246,2.72915899754 1.29959955812,3.37895900011 l1.55951946974,1.68947950006 1.81943938136,1.03967964649 l2.46923923492,0.779759734869 2.07935929298,-0.129959955812 l1.42955958843,-1.03967964649 1.1696396023,-1.81943938136 m-13.2559156418,-9.8769569397 l0.909719690681,-2.2093193233 1.29959955812,-1.42955958843 l5.45831799507,-0.909719690681 3.24899882078,0.389879867435 l1.1696396023,0.649799779058 0.909719690681,1.42955958843 l0.259919911623,2.07935929298 m-8.70731711388,-0.779759734869 l0.0,1.81943938136 m4.2886787653,-1.42955958843 l0.259919911623,2.46923923492 -0.259919911623,-1.55951946974 \" fill=\"none\" stroke=\"black\" stroke-width=\"1\"/></svg>"
      ],
      "text/plain": [
       "<IPython.core.display.SVG object>"
      ]
     },
     "metadata": {},
     "output_type": "display_data"
    },
    {
     "name": "stdout",
     "output_type": "stream",
     "text": [
      "INFO:tensorflow:Loading model /home/calpeyser/checkpoints/cat/vector-47500.\n",
      "INFO:tensorflow:Restoring parameters from /home/calpeyser/checkpoints/cat/vector-47500\n"
     ]
    },
    {
     "data": {
      "image/svg+xml": [
       "<svg baseProfile=\"full\" height=\"67.3565147817\" version=\"1.1\" width=\"67.987191854\" xmlns=\"http://www.w3.org/2000/svg\" xmlns:ev=\"http://www.w3.org/2001/xml-events\" xmlns:xlink=\"http://www.w3.org/1999/xlink\"><defs/><rect fill=\"white\" height=\"67.3565147817\" width=\"67.987191854\" x=\"0\" y=\"0\"/><path d=\"M29.8770312127,32.1447801135 m-1.12636432052,-0.506576411426 l-1.05117931962,0.330157130957 -0.853511765599,1.05657331645 l-0.33753361553,3.06721329689 1.03365249932,2.21546933055 l2.89403170347,2.76180744171 2.99825757742,1.28708124161 l2.33602255583,9.32147997901e-06 2.90717035532,-1.46084204316 l2.56424427032,-2.60939180851 0.80405652523,-1.67206510901 l0.367145054042,-2.88584262133 -1.58391788602,-2.72808820009 l-1.25770956278,-0.773303508759 -6.05576217175,-0.916693210602 l-3.51498901844,0.782255977392 -1.50952383876,1.17035344243 m10.908074379,-1.82145342231 l0.9374024719,-1.89202874899 2.19493001699,-2.54941552877 l0.455664731562,0.512520633638 -0.0670890789479,5.20428180695 l-0.350855514407,2.00539052486 m-14.1557013988,-3.11473459005 l-2.9928907752,-4.02999788523 -0.420655086637,1.62099003792 l1.02721348405,4.29506778717 0.985470637679,2.8022134304 m6.07011139393,2.61255741119 l2.00238361955,0.450845770538 2.25756302476,-0.503457598388 l1.57803848386,-1.24171189964 m-6.26806199551,-0.836832076311 l-0.486767850816,1.05278536677 0.220817327499,0.731414481997 l1.53398573399,-0.846046060324 \" fill=\"none\" stroke=\"black\" stroke-width=\"1\"/></svg>"
      ],
      "text/plain": [
       "<IPython.core.display.SVG object>"
      ]
     },
     "metadata": {},
     "output_type": "display_data"
    },
    {
     "name": "stdout",
     "output_type": "stream",
     "text": [
      "792\n",
      "INFO:tensorflow:Loading model /home/calpeyser/checkpoints/dog/vector-41500.\n",
      "INFO:tensorflow:Restoring parameters from /home/calpeyser/checkpoints/dog/vector-41500\n"
     ]
    },
    {
     "data": {
      "image/svg+xml": [
       "<svg baseProfile=\"full\" height=\"74.4324716181\" version=\"1.1\" width=\"72.3531129956\" xmlns=\"http://www.w3.org/2000/svg\" xmlns:ev=\"http://www.w3.org/2001/xml-events\" xmlns:xlink=\"http://www.w3.org/1999/xlink\"><defs/><rect fill=\"white\" height=\"74.4324716181\" width=\"72.3531129956\" x=\"0\" y=\"0\"/><path d=\"M43.3243540674,25.1299599558 m-3.11903893948,-0.129959955812 l-4.93847846985,0.649799779058 -4.4186386466,1.55951946974 l-2.72915899754,2.07935929298 -1.42955958843,1.68947950006 l-0.909719690681,1.94939941168 -0.779759734869,4.02875870466 l0.0,4.4186386466 0.519839823246,1.81943938136 l1.29959955812,1.68947950006 12.7360761166,0.0 l1.94939941168,-2.59919911623 1.03967964649,-3.37895900011 l0.389879867435,-7.27775752544 -0.779759734869,-3.11903893948 m-9.8769569397,9.74699676037 l1.55951946974,2.59919911623 1.29959955812,1.29959955812 l1.42955958843,-0.389879867435 2.46923923492,-2.07935929298 m-6.36803805828,-2.07935929298 l-1.1696396023,1.29959955812 -4.02875870466,1.55951946974 l3.50891888142,-1.1696396023 0.519839823246,-1.94939941168 l-0.649799779058,-1.29959955812 4.15871858597,-0.259919911623 l-1.29959955812,0.909719690681 -0.649799779058,1.29959955812 m8.18747758865,-11.4364767075 l1.29959955812,-0.519839823246 0.649799779058,0.389879867435 l1.94939941168,3.89879882336 1.29959955812,4.67855840921 l0.909719690681,7.66763746738 -0.129959955812,4.67855840921 l-0.909719690681,2.07935929298 -2.07935929298,-0.259919911623 l-1.42955958843,-1.1696396023 -1.1696396023,-2.33927920461 l-0.129959955812,-1.29959955812 \" fill=\"none\" stroke=\"black\" stroke-width=\"1\"/></svg>"
      ],
      "text/plain": [
       "<IPython.core.display.SVG object>"
      ]
     },
     "metadata": {},
     "output_type": "display_data"
    },
    {
     "name": "stdout",
     "output_type": "stream",
     "text": [
      "INFO:tensorflow:Loading model /home/calpeyser/checkpoints/cat/vector-47500.\n",
      "INFO:tensorflow:Restoring parameters from /home/calpeyser/checkpoints/cat/vector-47500\n"
     ]
    },
    {
     "data": {
      "image/svg+xml": [
       "<svg baseProfile=\"full\" height=\"68.2613698528\" version=\"1.1\" width=\"67.5663083047\" xmlns=\"http://www.w3.org/2000/svg\" xmlns:ev=\"http://www.w3.org/2001/xml-events\" xmlns:xlink=\"http://www.w3.org/1999/xlink\"><defs/><rect fill=\"white\" height=\"68.2613698528\" width=\"67.5663083047\" x=\"0\" y=\"0\"/><path d=\"M29.3146335706,33.0702575617 m-0.875482335687,-0.705960839987 l-0.864952206612,0.191139113158 -0.772800147533,0.930921882391 l-0.277884937823,3.18152666092 1.02647893131,2.51073509455 l2.86983221769,2.79747486115 2.65702456236,1.28527551889 l2.54275351763,-6.84843416821e-05 2.72303909063,-1.4004984498 l2.83177018166,-2.72053986788 0.819659978151,-1.67423114181 l0.416649580002,-2.90185272694 -1.50272607803,-2.86190450191 l-1.21146611869,-0.834053978324 -5.95140278339,-1.19272209704 l-4.00137215853,0.732952654362 -0.787526443601,0.733330845833 m9.6653175354,-1.51765480638 l1.17883451283,-2.04371914268 2.32406035066,-2.58040815592 l0.441867485642,0.565479062498 -0.213557519019,5.67472398281 l-0.363729037344,1.83859318495 m-13.0897367001,-3.2846185565 l-3.48430246115,-3.81849765778 -0.414982587099,2.01659500599 l1.0099619627,4.36457544565 0.943115130067,2.34049275517 m6.0837328434,1.98017790914 l2.05153599381,0.470776893198 2.13605135679,-0.508773326874 m-4.56549882889,-0.827985107899 l0.426780842245,1.14412747324 0.963410064578,0.592786446214 l1.07538871467,-1.4146989584 \" fill=\"none\" stroke=\"black\" stroke-width=\"1\"/></svg>"
      ],
      "text/plain": [
       "<IPython.core.display.SVG object>"
      ]
     },
     "metadata": {},
     "output_type": "display_data"
    },
    {
     "name": "stdout",
     "output_type": "stream",
     "text": [
      "829\n",
      "INFO:tensorflow:Loading model /home/calpeyser/checkpoints/dog/vector-41500.\n",
      "INFO:tensorflow:Restoring parameters from /home/calpeyser/checkpoints/dog/vector-41500\n"
     ]
    },
    {
     "data": {
      "image/svg+xml": [
       "<svg baseProfile=\"full\" height=\"64.9453952163\" version=\"1.1\" width=\"73.5227526724\" xmlns=\"http://www.w3.org/2000/svg\" xmlns:ev=\"http://www.w3.org/2001/xml-events\" xmlns:xlink=\"http://www.w3.org/1999/xlink\"><defs/><rect fill=\"white\" height=\"64.9453952163\" width=\"73.5227526724\" x=\"0\" y=\"0\"/><path d=\"M33.3174373955,25 m9.8769569397,0.259919911623 l1.94939941168,0.389879867435 1.29959955812,0.779759734869 l1.42955958843,2.07935929298 0.649799779058,5.19839823246 l-1.1696396023,1.29959955812 -1.42955958843,0.259919911623 l-1.1696396023,-0.909719690681 -0.389879867435,-1.1696396023 m-11.4364767075,-7.92755723 l-4.15871858597,0.129959955812 -2.33927920461,1.42955958843 l-0.909719690681,1.55951946974 -0.519839823246,2.98907905817 l0.259919911623,3.37895900011 1.29959955812,0.909719690681 l2.72915899754,0.519839823246 0.649799779058,-0.129959955812 l0.779759734869,-2.2093193233 m0.0,0.649799779058 l-0.129959955812,2.07935929298 0.649799779058,1.29959955812 l1.1696396023,1.03967964649 7.92755723,1.03967964649 l1.29959955812,-0.649799779058 1.55951946974,-1.94939941168 l0.779759734869,-3.89879882336 m-2.33927920461,-1.94939941168 l0.0,0.0 m-0.519839823246,-1.42955958843 l-0.389879867435,0.779759734869 m-7.79759764671,-0.909719690681 l0.0,1.42955958843 m4.54859852791,2.98907905817 l0.129959955812,2.72915899754 1.03967964649,1.1696396023 m-1.94939941168,-1.81943938136 l-1.42955958843,1.42955958843 -1.42955958843,0.389879867435 m3.63887876272,-4.93847846985 l-0.649799779058,0.389879867435 \" fill=\"none\" stroke=\"black\" stroke-width=\"1\"/></svg>"
      ],
      "text/plain": [
       "<IPython.core.display.SVG object>"
      ]
     },
     "metadata": {},
     "output_type": "display_data"
    },
    {
     "name": "stdout",
     "output_type": "stream",
     "text": [
      "INFO:tensorflow:Loading model /home/calpeyser/checkpoints/cat/vector-47500.\n",
      "INFO:tensorflow:Restoring parameters from /home/calpeyser/checkpoints/cat/vector-47500\n"
     ]
    },
    {
     "data": {
      "image/svg+xml": [
       "<svg baseProfile=\"full\" height=\"68.4280343659\" version=\"1.1\" width=\"67.6129829139\" xmlns=\"http://www.w3.org/2000/svg\" xmlns:ev=\"http://www.w3.org/2001/xml-events\" xmlns:xlink=\"http://www.w3.org/1999/xlink\"><defs/><rect fill=\"white\" height=\"68.4280343659\" width=\"67.6129829139\" x=\"0\" y=\"0\"/><path d=\"M28.5380639881,33.4660194375 m-0.806002765894,-0.68231895566 l-0.847543179989,0.118379965425 -0.733972489834,0.78464910388 l-0.412079803646,2.86140799522 1.28639698029,3.54599654675 l2.5208863616,2.22543030977 2.65626907349,1.10846996307 l2.53919184208,-0.000138574096127 2.84516006708,-1.40708580613 l2.62238055468,-2.50934064388 0.804613381624,-1.58623293042 l0.426077768207,-2.97512739897 -1.47424176335,-2.91205346584 l-1.224726215,-0.813597887754 -8.89648556709,-1.00483328104 l-1.55089333653,0.522421225905 -1.52117028832,1.58677622676 m0.369773544371,-1.12703502178 l-1.35047703981,-4.25796121359 -0.791221112013,-1.6919593513 l3.82481783628,3.34122925997 2.12583661079,1.6230635345 m6.51275575161,-0.279968194664 l2.16979637742,-2.34968453646 2.77429848909,-2.58650630713 l0.205477848649,1.43967524171 -1.08173727989,5.9408980608 m-10.6093835831,4.07513856888 l0.932473391294,0.808329880238 0.574619062245,0.133969085291 l0.743488669395,-0.704671740532 m-4.65568900108,-3.93489062786 l-0.630978047848,-1.87348023057 1.16954371333,1.61750435829 l0.710313618183,0.911031961441 \" fill=\"none\" stroke=\"black\" stroke-width=\"1\"/></svg>"
      ],
      "text/plain": [
       "<IPython.core.display.SVG object>"
      ]
     },
     "metadata": {},
     "output_type": "display_data"
    },
    {
     "name": "stdout",
     "output_type": "stream",
     "text": [
      "877\n",
      "INFO:tensorflow:Loading model /home/calpeyser/checkpoints/dog/vector-41500.\n",
      "INFO:tensorflow:Restoring parameters from /home/calpeyser/checkpoints/dog/vector-41500\n"
     ]
    },
    {
     "data": {
      "image/svg+xml": [
       "<svg baseProfile=\"full\" height=\"68.1943941116\" version=\"1.1\" width=\"67.6745541394\" xmlns=\"http://www.w3.org/2000/svg\" xmlns:ev=\"http://www.w3.org/2001/xml-events\" xmlns:xlink=\"http://www.w3.org/1999/xlink\"><defs/><rect fill=\"white\" height=\"68.1943941116\" width=\"67.6745541394\" x=\"0\" y=\"0\"/><path d=\"M31.238078028,27.079359144 m-2.85911917686,1.81943938136 l-2.59919911623,3.11903893948 -0.779759734869,1.55951946974 l0.259919911623,2.85911917686 2.33927920461,5.71823835373 l1.55951946974,1.03967964649 4.15871858597,0.0 l3.63887876272,-1.03967964649 1.55951946974,-1.03967964649 l2.07935929298,-3.89879882336 0.519839823246,-2.07935929298 l-0.259919911623,-3.11903893948 -2.07935929298,-2.33927920461 l-1.29959955812,-0.779759734869 -4.15871858597,-1.55951946974 l-2.33927920461,0.0 m-4.67855840921,2.33927920461 l0.0,-3.89879882336 2.33927920461,-0.779759734869 l1.55951946974,1.55951946974 m8.31743717194,1.81943938136 l3.89879882336,-0.259919911623 0.259919911623,1.55951946974 l-0.779759734869,1.55951946974 -0.519839823246,0.259919911623 m-7.01783776283,0.0 l0.0,0.0 m1.81943938136,1.29959955812 l0.0,0.519839823246 m-4.93847846985,-1.29959955812 l0.259919911623,1.29959955812 m1.03967964649,2.85911917686 l0.0,0.779759734869 1.29959955812,1.29959955812 l0.779759734869,0.0 0.519839823246,-0.779759734869 l-0.259919911623,-0.779759734869 -2.07935929298,-0.259919911623 m0.519839823246,1.55951946974 l-0.779759734869,0.779759734869 -1.29959955812,0.0 \" fill=\"none\" stroke=\"black\" stroke-width=\"1\"/></svg>"
      ],
      "text/plain": [
       "<IPython.core.display.SVG object>"
      ]
     },
     "metadata": {},
     "output_type": "display_data"
    },
    {
     "name": "stdout",
     "output_type": "stream",
     "text": [
      "INFO:tensorflow:Loading model /home/calpeyser/checkpoints/cat/vector-47500.\n",
      "INFO:tensorflow:Restoring parameters from /home/calpeyser/checkpoints/cat/vector-47500\n"
     ]
    },
    {
     "data": {
      "image/svg+xml": [
       "<svg baseProfile=\"full\" height=\"68.1640194809\" version=\"1.1\" width=\"67.5276881736\" xmlns=\"http://www.w3.org/2000/svg\" xmlns:ev=\"http://www.w3.org/2001/xml-events\" xmlns:xlink=\"http://www.w3.org/1999/xlink\"><defs/><rect fill=\"white\" height=\"68.1640194809\" width=\"67.5276881736\" x=\"0\" y=\"0\"/><path d=\"M30.2057481091,32.6211796222 m-1.14879198372,-0.541729368269 l-1.05725862086,0.26296807453 -0.900285467505,0.961581319571 l-0.544503256679,3.10589820147 0.698826089501,2.40872099996 l2.7816042304,2.91649281979 2.7766802907,1.42890781164 l2.50209510326,-4.33330887972e-05 3.01805645227,-1.28702685237 l2.66528069973,-2.4940751493 0.851917490363,-1.62670075893 l0.505261048675,-2.97748595476 -1.39228716493,-2.86651074886 l-1.15696258843,-0.849170833826 -5.37919282913,-1.18869386613 l-3.88865768909,0.648983418941 -0.798970907927,0.72708517313 m8.8577824831,-1.39650583267 l1.02664105594,-1.99784725904 2.45582506061,-2.85602748394 l0.448880568147,0.519644916058 -0.115986289456,5.93053221703 l-0.259961616248,1.66958749294 m-13.3470332623,-2.87918776274 l-3.5803347826,-3.91848355532 -0.22437222302,2.29429662228 l1.06480658054,4.30372804403 1.08770251274,2.29041650891 m5.46995341778,1.4166598022 l1.96722328663,0.321388505399 -0.347139164805,0.267864447087 m-1.41642868519,-0.567337796092 l1.14408046007,0.735034197569 0.449916347861,0.374747850001 l0.294887181371,-1.27545624971 \" fill=\"none\" stroke=\"black\" stroke-width=\"1\"/></svg>"
      ],
      "text/plain": [
       "<IPython.core.display.SVG object>"
      ]
     },
     "metadata": {},
     "output_type": "display_data"
    }
   ],
   "source": [
    "# Now, \"features\"\n",
    "for i in DOG_FEATURES_IND:\n",
    "    print(i)\n",
    "    convert(i)\n"
   ]
  },
  {
   "cell_type": "code",
   "execution_count": 43,
   "metadata": {},
   "outputs": [
    {
     "name": "stdout",
     "output_type": "stream",
     "text": [
      "0\n",
      "INFO:tensorflow:Loading model /home/calpeyser/checkpoints/dog/vector-41500.\n",
      "INFO:tensorflow:Restoring parameters from /home/calpeyser/checkpoints/dog/vector-41500\n"
     ]
    },
    {
     "data": {
      "image/svg+xml": [
       "<svg baseProfile=\"full\" height=\"65.9850747138\" version=\"1.1\" width=\"76.1219518632\" xmlns=\"http://www.w3.org/2000/svg\" xmlns:ev=\"http://www.w3.org/2001/xml-events\" xmlns:xlink=\"http://www.w3.org/1999/xlink\"><defs/><rect fill=\"white\" height=\"65.9850747138\" width=\"76.1219518632\" x=\"0\" y=\"0\"/><path d=\"M26.9493993372,30.1983980834 m-1.1696396023,3.24899882078 l0.0,2.59919911623 3.50891888142,1.29959955812 l2.07935929298,-0.259919911623 0.649799779058,-0.779759734869 l0.259919911623,-3.24899882078 -1.29959955812,-2.59919911623 l-0.649799779058,-0.519839823246 -2.46923923492,-0.129959955812 l-0.909719690681,0.909719690681 m-1.03967964649,2.72915899754 l-0.909719690681,-5.97815811634 0.649799779058,-0.389879867435 l0.649799779058,0.389879867435 0.649799779058,1.68947950006 m2.98907905817,0.259919911623 l1.29959955812,-0.649799779058 0.519839823246,-1.68947950006 l0.909719690681,-0.259919911623 0.779759734869,1.55951946974 l0.0,3.89879882336 -0.909719690681,1.55951946974 m0.0,0.0 l0.779759734869,-0.649799779058 3.89879882336,-1.1696396023 l6.10811829567,0.0 0.649799779058,0.259919911623 l2.46923923492,2.85911917686 0.779759734869,4.2886787653 l-2.59919911623,0.129959955812 -2.59919911623,1.29959955812 l-4.4186386466,0.129959955812 -7.27775752544,-3.63887876272 m13.6457955837,-5.45831799507 l1.81943938136,-5.71823835373 0.909719690681,-1.03967964649 l2.59919911623,-0.129959955812 1.29959955812,0.649799779058 l0.519839823246,1.29959955812 0.0,2.72915899754 \" fill=\"none\" stroke=\"black\" stroke-width=\"1\"/></svg>"
      ],
      "text/plain": [
       "<IPython.core.display.SVG object>"
      ]
     },
     "metadata": {},
     "output_type": "display_data"
    },
    {
     "name": "stdout",
     "output_type": "stream",
     "text": [
      "INFO:tensorflow:Loading model /home/calpeyser/checkpoints/cat/vector-47500.\n",
      "INFO:tensorflow:Restoring parameters from /home/calpeyser/checkpoints/cat/vector-47500\n"
     ]
    },
    {
     "data": {
      "image/svg+xml": [
       "<svg baseProfile=\"full\" height=\"68.6049531028\" version=\"1.1\" width=\"68.8228202239\" xmlns=\"http://www.w3.org/2000/svg\" xmlns:ev=\"http://www.w3.org/2001/xml-events\" xmlns:xlink=\"http://www.w3.org/1999/xlink\"><defs/><rect fill=\"white\" height=\"68.6049531028\" width=\"68.8228202239\" x=\"0\" y=\"0\"/><path d=\"M28.7030466087,33.7154586124 m-0.65973430872,-0.852381587029 l-0.765470862389,0.0118860066868 -0.720178261399,0.812655761838 l-0.20603409037,3.18544745445 1.26609757543,3.18561702967 l2.96371042728,2.32507735491 2.69311457872,1.09344139695 l2.66706198454,0.127751072869 2.65050500631,-1.37249857187 l2.56204068661,-2.74308234453 0.969581007957,-2.49961897731 l0.199621301144,-3.18966925144 -0.433993674815,-1.00949428976 l-2.25513100624,-1.50311499834 -9.61679458618,-1.07574597001 l-1.48944735527,0.570946671069 -0.918102785945,1.23185291886 m0.189103204757,-0.450881794095 l-1.72840252519,-4.19853240252 -1.07059292495,-1.88217580318 l3.87152165174,3.11717987061 2.41939917207,1.84101164341 m7.16579020023,-0.409668982029 l2.23875120282,-2.53016233444 2.80774861574,-2.50129848719 l0.319609381258,1.35926023126 -0.987118780613,5.75661957264 l-1.11320994794,3.15775305033 m-10.8179104328,1.90360620618 l1.54681563377,0.727072283626 0.489213764668,0.215177293867 m-3.1937456131,-3.39481830597 l-0.364677943289,0.369725562632 -0.0241620186716,0.689648613334 l1.49549841881,0.720081552863 \" fill=\"none\" stroke=\"black\" stroke-width=\"1\"/></svg>"
      ],
      "text/plain": [
       "<IPython.core.display.SVG object>"
      ]
     },
     "metadata": {},
     "output_type": "display_data"
    },
    {
     "name": "stdout",
     "output_type": "stream",
     "text": [
      "------------------\n",
      "1\n",
      "INFO:tensorflow:Loading model /home/calpeyser/checkpoints/dog/vector-41500.\n",
      "INFO:tensorflow:Restoring parameters from /home/calpeyser/checkpoints/dog/vector-41500\n"
     ]
    },
    {
     "data": {
      "image/svg+xml": [
       "<svg baseProfile=\"full\" height=\"74.6923917532\" version=\"1.1\" width=\"87.0385885239\" xmlns=\"http://www.w3.org/2000/svg\" xmlns:ev=\"http://www.w3.org/2001/xml-events\" xmlns:xlink=\"http://www.w3.org/1999/xlink\"><defs/><rect fill=\"white\" height=\"74.6923917532\" width=\"87.0385885239\" x=\"0\" y=\"0\"/><path d=\"M38.5158362985,31.6279579699 m5.97815811634,1.03967964649 l5.84819793701,-0.909719690681 2.59919911623,-0.909719690681 l9.09719705582,-4.93847846985 0.0,1.29959955812 l-1.1696396023,1.94939941168 -2.33927920461,1.81943938136 m-19.6239542961,1.1696396023 l-3.24899882078,-1.68947950006 -3.76883894205,-3.89879882336 l-1.29959955812,0.129959955812 -0.649799779058,0.519839823246 l-1.1696396023,2.85911917686 -3.63887876272,1.94939941168 l-0.129959955812,0.649799779058 0.519839823246,0.649799779058 l4.02875870466,1.68947950006 2.2093193233,1.42955958843 l2.2093193233,2.98907905817 -2.2093193233,7.66763746738 l0.649799779058,0.389879867435 2.59919911623,-0.649799779058 l1.42955958843,-3.37895900011 0.389879867435,-4.2886787653 m0.0,0.0 l13.3858752251,3.11903893948 4.93847846985,-0.779759734869 l1.1696396023,3.63887876272 -0.779759734869,4.54859852791 l1.94939941168,-0.129959955812 0.649799779058,-0.259919911623 l1.81943938136,-3.89879882336 -0.129959955812,-2.07935929298 l-1.29959955812,-4.15871858597 -0.519839823246,-3.24899882078 l-0.129959955812,-2.72915899754 0.519839823246,-1.1696396023 m-26.6417908669,-5.5882781744 l4.15871858597,-1.42955958843 -0.909719690681,4.54859852791 \" fill=\"none\" stroke=\"black\" stroke-width=\"1\"/></svg>"
      ],
      "text/plain": [
       "<IPython.core.display.SVG object>"
      ]
     },
     "metadata": {},
     "output_type": "display_data"
    },
    {
     "name": "stdout",
     "output_type": "stream",
     "text": [
      "INFO:tensorflow:Loading model /home/calpeyser/checkpoints/cat/vector-47500.\n",
      "INFO:tensorflow:Restoring parameters from /home/calpeyser/checkpoints/cat/vector-47500\n"
     ]
    },
    {
     "data": {
      "image/svg+xml": [
       "<svg baseProfile=\"full\" height=\"68.1582437158\" version=\"1.1\" width=\"68.0657589436\" xmlns=\"http://www.w3.org/2000/svg\" xmlns:ev=\"http://www.w3.org/2001/xml-events\" xmlns:xlink=\"http://www.w3.org/1999/xlink\"><defs/><rect fill=\"white\" height=\"68.1582437158\" width=\"68.0657589436\" x=\"0\" y=\"0\"/><path d=\"M28.8056531176,33.0524825379 m-0.659730732441,-0.835542678833 l-0.781444311142,0.12010153383 -0.723665058613,0.959815084934 l-0.232016220689,3.30590993166 1.26837745309,3.22400927544 l2.77421027422,2.20640182495 2.62847781181,1.12506620586 l2.55077332258,-0.000139147032314 2.85011291504,-1.53480872512 l2.8163921833,-2.85849392414 0.719504132867,-1.65342733264 l0.249272808433,-2.93775647879 -1.81637272239,-2.98585921526 l-1.34616076946,-0.773831680417 -5.92885196209,-0.737259835005 l-3.76792281866,0.943479090929 -0.739523917437,0.680489465594 m10.3167819977,-1.88217312098 l1.24308653176,-1.80339545012 2.43216618896,-2.61506736279 l0.406638719141,1.52070969343 -0.52188385278,4.95808690786 l-0.282087065279,1.11029103398 m-13.6874461174,-2.89644777775 l-3.34490001202,-4.22111213207 -0.229441896081,2.49862030149 l0.807442143559,4.3517318368 0.821918100119,1.2899787724 m5.98833799362,2.80797362328 l2.45787769556,0.554424710572 2.48156160116,-0.549903437495 m-4.59078222513,-0.968318209052 l0.528145693243,1.2190836668 0.550979711115,0.163293294609 l0.428456440568,-1.20457045734 \" fill=\"none\" stroke=\"black\" stroke-width=\"1\"/></svg>"
      ],
      "text/plain": [
       "<IPython.core.display.SVG object>"
      ]
     },
     "metadata": {},
     "output_type": "display_data"
    },
    {
     "name": "stdout",
     "output_type": "stream",
     "text": [
      "------------------\n",
      "2\n",
      "INFO:tensorflow:Loading model /home/calpeyser/checkpoints/dog/vector-41500.\n",
      "INFO:tensorflow:Restoring parameters from /home/calpeyser/checkpoints/dog/vector-41500\n"
     ]
    },
    {
     "data": {
      "image/svg+xml": [
       "<svg baseProfile=\"full\" height=\"66.7648350447\" version=\"1.1\" width=\"84.179469049\" xmlns=\"http://www.w3.org/2000/svg\" xmlns:ev=\"http://www.w3.org/2001/xml-events\" xmlns:xlink=\"http://www.w3.org/1999/xlink\"><defs/><rect fill=\"white\" height=\"66.7648350447\" width=\"84.179469049\" x=\"0\" y=\"0\"/><path d=\"M31.7579178512,25.2599197626 m-4.54859852791,5.06843864918 l-2.2093193233,1.68947950006 0.0,1.03967964649 l0.649799779058,1.42955958843 1.55951946974,0.0 l2.98907905817,-0.779759734869 2.85911917686,-1.94939941168 m0.129959955812,-6.75791800022 l1.1696396023,9.61703717709 0.779759734869,1.03967964649 l0.649799779058,0.0 1.42955958843,-1.42955958843 l0.649799779058,-3.89879882336 -0.129959955812,-1.55951946974 l-2.2093193233,-3.11903893948 -1.42955958843,-0.519839823246 l-0.909719690681,0.0 m3.63887876272,0.779759734869 l0.519839823246,-0.129959955812 1.1696396023,0.649799779058 l1.42955958843,10.1368772984 0.519839823246,1.55951946974 l0.389879867435,0.129959955812 m-1.29959955812,-4.80851858854 l5.97815811634,-0.129959955812 8.83727729321,-1.1696396023 l3.63887876272,0.779759734869 1.1696396023,1.03967964649 l-0.389879867435,0.389879867435 m-26.6417908669,-0.389879867435 l0.909719690681,3.24899882078 1.42955958843,2.98907905817 l1.29959955812,1.1696396023 1.1696396023,0.389879867435 l10.1368772984,-0.909719690681 10.3967964649,-2.07935929298 l0.649799779058,-0.259919911623 0.0,-1.1696396023 l-0.259919911623,-0.649799779058 -1.68947950006,-0.389879867435 \" fill=\"none\" stroke=\"black\" stroke-width=\"1\"/></svg>"
      ],
      "text/plain": [
       "<IPython.core.display.SVG object>"
      ]
     },
     "metadata": {},
     "output_type": "display_data"
    },
    {
     "name": "stdout",
     "output_type": "stream",
     "text": [
      "INFO:tensorflow:Loading model /home/calpeyser/checkpoints/cat/vector-47500.\n",
      "INFO:tensorflow:Restoring parameters from /home/calpeyser/checkpoints/cat/vector-47500\n"
     ]
    },
    {
     "data": {
      "image/svg+xml": [
       "<svg baseProfile=\"full\" height=\"68.0138829087\" version=\"1.1\" width=\"67.4769166007\" xmlns=\"http://www.w3.org/2000/svg\" xmlns:ev=\"http://www.w3.org/2001/xml-events\" xmlns:xlink=\"http://www.w3.org/1999/xlink\"><defs/><rect fill=\"white\" height=\"68.0138829087\" width=\"67.4769166007\" x=\"0\" y=\"0\"/><path d=\"M29.6277946502,32.6607610907 m-0.84626339376,-0.750117152929 l-0.907238796353,0.0583809474483 -0.870005637407,0.847558006644 l-0.468257702887,3.1640163064 1.19962856174,3.5063496232 l2.54903614521,2.3838762939 2.61928826571,1.14305779338 l2.63927727938,-3.60344938599e-05 2.91658163071,-1.3227455318 l2.66756415367,-2.46160343289 0.867660790682,-1.64386987686 l0.481850653887,-3.03135722876 -1.42040029168,-3.00799697638 l-1.23011402786,-0.904620215297 -3.43868046999,-0.823807418346 l-8.86211156845,0.651968717575 -0.774552077055,0.671998932958 m12.0613002777,-1.7401689291 l0.825328230858,-1.850784868 1.97621688247,-2.55086004734 l0.631211772561,1.28105327487 0.0105351500679,4.70180869102 l-0.255190823227,1.70096844435 m-13.5983598232,-3.20426106453 l-2.90648072958,-3.97410601377 -0.495619103312,2.29005917907 l0.795399546623,4.16678249836 0.766209959984,2.29442968965 m5.73048591614,2.56049990654 l2.13540524244,0.427764952183 2.51090675592,-0.568258464336 l1.48635387421,-1.1626906693 m-6.45089745522,-0.511198677123 l-0.518690049648,1.06221951544 0.632535144687,-0.14528372325 l0.212495643646,-0.649154186249 \" fill=\"none\" stroke=\"black\" stroke-width=\"1\"/></svg>"
      ],
      "text/plain": [
       "<IPython.core.display.SVG object>"
      ]
     },
     "metadata": {},
     "output_type": "display_data"
    },
    {
     "name": "stdout",
     "output_type": "stream",
     "text": [
      "------------------\n",
      "8\n",
      "INFO:tensorflow:Loading model /home/calpeyser/checkpoints/dog/vector-41500.\n",
      "INFO:tensorflow:Restoring parameters from /home/calpeyser/checkpoints/dog/vector-41500\n"
     ]
    },
    {
     "data": {
      "image/svg+xml": [
       "<svg baseProfile=\"full\" height=\"63.3858760446\" version=\"1.1\" width=\"75.0822708011\" xmlns=\"http://www.w3.org/2000/svg\" xmlns:ev=\"http://www.w3.org/2001/xml-events\" xmlns:xlink=\"http://www.w3.org/1999/xlink\"><defs/><rect fill=\"white\" height=\"63.3858760446\" width=\"75.0822708011\" x=\"0\" y=\"0\"/><path d=\"M49.3025110662,29.158718586 m-0.649799779058,0.649799779058 l-1.29959955812,0.129959955812 -1.1696396023,-1.03967964649 l-0.779759734869,-2.59919911623 0.519839823246,-1.29959955812 l0.649799779058,0.0 1.29959955812,0.779759734869 l1.81943938136,2.59919911623 0.389879867435,1.29959955812 l-1.94939941168,0.259919911623 -0.909719690681,-1.03967964649 m-0.389879867435,-1.81943938136 l0.129959955812,2.59919911623 0.649799779058,-0.259919911623 l0.389879867435,-1.29959955812 0.0,-1.29959955812 l-0.389879867435,-0.389879867435 m-2.46923923492,2.33927920461 l-10.7866764069,-1.81943938136 -2.59919911623,0.0 l-1.81943938136,1.29959955812 -0.519839823246,1.94939941168 l0.389879867435,0.649799779058 1.29959955812,0.519839823246 l10.5267572403,1.68947950006 1.29959955812,-0.519839823246 l1.68947950006,-1.81943938136 1.1696396023,-2.59919911623 l-0.779759734869,-0.129959955812 m-12.3461961746,2.98907905817 l-1.42955958843,2.98907905817 -0.129959955812,2.2093193233 m10.6567168236,-4.15871858597 l0.0,6.36803805828 m-8.18747758865,-6.23807787895 l0.259919911623,3.11903893948 m7.14779794216,-2.33927920461 l-0.389879867435,3.24899882078 m-11.3065159321,-6.62795782089 l-4.2886787653,2.72915899754 \" fill=\"none\" stroke=\"black\" stroke-width=\"1\"/></svg>"
      ],
      "text/plain": [
       "<IPython.core.display.SVG object>"
      ]
     },
     "metadata": {},
     "output_type": "display_data"
    },
    {
     "name": "stdout",
     "output_type": "stream",
     "text": [
      "INFO:tensorflow:Loading model /home/calpeyser/checkpoints/cat/vector-47500.\n",
      "INFO:tensorflow:Restoring parameters from /home/calpeyser/checkpoints/cat/vector-47500\n"
     ]
    },
    {
     "data": {
      "image/svg+xml": [
       "<svg baseProfile=\"full\" height=\"67.4520029801\" version=\"1.1\" width=\"67.7297609299\" xmlns=\"http://www.w3.org/2000/svg\" xmlns:ev=\"http://www.w3.org/2001/xml-events\" xmlns:xlink=\"http://www.w3.org/1999/xlink\"><defs/><rect fill=\"white\" height=\"67.4520029801\" width=\"67.7297609299\" x=\"0\" y=\"0\"/><path d=\"M29.2017521011,32.9214161889 m-0.638558641076,-0.846393629909 l-0.798725038767,-0.0241153268144 -0.75874529779,0.682265013456 l-0.468208566308,3.09283584356 1.1425485462,3.4028545022 l2.63727664948,2.30289548635 2.36085757613,0.920244902372 l2.62421488762,-0.000228800163313 2.98993736506,-1.27068594098 l2.59586006403,-2.4896620214 0.753596946597,-1.65716931224 l0.336900092661,-3.06114345789 -1.55969113111,-2.78129935265 l-1.28713950515,-0.842718034983 -5.84226548672,-0.912577435374 l-3.92365962267,0.793578252196 -0.70410810411,0.725910812616 m10.2545595169,-1.41793355346 l1.31827443838,-1.99258804321 2.4452842772,-2.54548609257 l0.0497998623177,3.8954153657 -0.634391084313,3.39561372995 m-13.0692601204,-2.58136361837 l-3.0646777153,-4.00466740131 -0.961432009935,-0.628010556102 l0.0324541376904,3.60189020634 0.920715406537,4.02878493071 m5.98713040352,3.36219877005 l2.18443989754,0.931669920683 2.16420188546,-0.343289263546 l1.85992464423,-1.47550821304 m-5.78090310097,-0.500411018729 l0.168558508158,1.21511362493 0.269327946007,0.115156453103 l-0.0929515063763,-2.24336266518 \" fill=\"none\" stroke=\"black\" stroke-width=\"1\"/></svg>"
      ],
      "text/plain": [
       "<IPython.core.display.SVG object>"
      ]
     },
     "metadata": {},
     "output_type": "display_data"
    },
    {
     "name": "stdout",
     "output_type": "stream",
     "text": [
      "------------------\n",
      "9\n",
      "INFO:tensorflow:Loading model /home/calpeyser/checkpoints/dog/vector-41500.\n",
      "INFO:tensorflow:Restoring parameters from /home/calpeyser/checkpoints/dog/vector-41500\n"
     ]
    },
    {
     "data": {
      "image/svg+xml": [
       "<svg baseProfile=\"full\" height=\"71.4433927089\" version=\"1.1\" width=\"87.94830814\" xmlns=\"http://www.w3.org/2000/svg\" xmlns:ev=\"http://www.w3.org/2001/xml-events\" xmlns:xlink=\"http://www.w3.org/1999/xlink\"><defs/><rect fill=\"white\" height=\"71.4433927089\" width=\"87.94830814\" x=\"0\" y=\"0\"/><path d=\"M45.1437942684,28.6388789862 m0.0,4.54859852791 l0.649799779058,4.80851858854 1.03967964649,2.59919911623 l1.29959955812,1.03967964649 2.59919911623,-1.42955958843 l1.42955958843,-1.94939941168 0.519839823246,-2.07935929298 l-0.259919911623,-5.97815811634 0.0,2.59919911623 l0.909719690681,1.1696396023 6.49799764156,0.129959955812 l2.59919911623,-0.909719690681 0.519839823246,-1.29959955812 l0.0,-1.94939941168 -0.389879867435,-0.649799779058 l-4.54859852791,-0.259919911623 -3.11903893948,-2.85911917686 l-1.94939941168,-1.1696396023 -4.54859852791,0.129959955812 l-2.46923923492,1.81943938136 -1.42955958843,2.72915899754 m0.779759734869,4.2886787653 l-3.63887876272,-0.129959955812 -6.10811829567,-1.42955958843 l-4.93847846985,-0.129959955812 -3.37895900011,1.03967964649 l-1.29959955812,1.03967964649 -0.649799779058,1.29959955812 l-0.259919911623,2.72915899754 0.389879867435,2.07935929298 l1.68947950006,2.59919911623 2.2093193233,2.07935929298 l1.29959955812,0.649799779058 5.5882781744,0.649799779058 l10.6567168236,-0.129959955812 4.02875870466,-0.779759734869 l4.15871858597,-2.72915899754 2.59919911623,-2.46923923492 l0.909719690681,-1.94939941168 -0.129959955812,-3.89879882336 \" fill=\"none\" stroke=\"black\" stroke-width=\"1\"/></svg>"
      ],
      "text/plain": [
       "<IPython.core.display.SVG object>"
      ]
     },
     "metadata": {},
     "output_type": "display_data"
    },
    {
     "name": "stdout",
     "output_type": "stream",
     "text": [
      "INFO:tensorflow:Loading model /home/calpeyser/checkpoints/cat/vector-47500.\n",
      "INFO:tensorflow:Restoring parameters from /home/calpeyser/checkpoints/cat/vector-47500\n"
     ]
    },
    {
     "data": {
      "image/svg+xml": [
       "<svg baseProfile=\"full\" height=\"69.0790587538\" version=\"1.1\" width=\"69.1917897761\" xmlns=\"http://www.w3.org/2000/svg\" xmlns:ev=\"http://www.w3.org/2001/xml-events\" xmlns:xlink=\"http://www.w3.org/1999/xlink\"><defs/><rect fill=\"white\" height=\"69.0790587538\" width=\"69.1917897761\" x=\"0\" y=\"0\"/><path d=\"M29.4073601067,34.355625451 m-0.71473672986,-0.783601328731 l-0.818118751049,0.0777851510793 -0.738275125623,0.914842188358 l-0.350112877786,3.25217008591 1.20353467762,3.23634922504 l2.76269286871,2.33941704035 1.54541432858,0.686470940709 l3.23760211468,-0.000181111008715 3.16605865955,-1.19997128844 l2.68049091101,-2.31499835849 0.823024734855,-1.50875717402 l0.508860424161,-3.10808509588 -1.23764388263,-3.3031886816 l-1.11290358007,-0.941243395209 -9.14299190044,-1.16712078452 l-1.54316291213,0.498098172247 -0.988935679197,1.08346827328 m-0.562580339611,-0.320094749331 l-1.9754602015,-4.17421102524 -1.15011684597,-1.70330271125 l4.05234992504,3.17445933819 2.34786450863,1.68649852276 m7.14624285698,-0.61559189111 l2.41356521845,-2.49537095428 2.87934541702,-2.66946583986 l0.352421849966,0.670001134276 -0.897205919027,6.26347064972 l-0.899195373058,3.33397001028 m-11.3890719414,2.35773995519 l1.10731624067,0.913980305195 0.378974564373,0.0392198609188 m-1.96114182472,-2.95369267464 l0.454368144274,0.931215658784 0.327938832343,0.285644959658 l1.57312676311,-0.678247287869 \" fill=\"none\" stroke=\"black\" stroke-width=\"1\"/></svg>"
      ],
      "text/plain": [
       "<IPython.core.display.SVG object>"
      ]
     },
     "metadata": {},
     "output_type": "display_data"
    },
    {
     "name": "stdout",
     "output_type": "stream",
     "text": [
      "------------------\n",
      "11\n",
      "INFO:tensorflow:Loading model /home/calpeyser/checkpoints/dog/vector-41500.\n",
      "INFO:tensorflow:Restoring parameters from /home/calpeyser/checkpoints/dog/vector-41500\n"
     ]
    },
    {
     "data": {
      "image/svg+xml": [
       "<svg baseProfile=\"full\" height=\"73.0029127002\" version=\"1.1\" width=\"86.5187481046\" xmlns=\"http://www.w3.org/2000/svg\" xmlns:ev=\"http://www.w3.org/2001/xml-events\" xmlns:xlink=\"http://www.w3.org/1999/xlink\"><defs/><rect fill=\"white\" height=\"73.0029127002\" width=\"86.5187481046\" x=\"0\" y=\"0\"/><path d=\"M25,37.7360759676 m1.68947950006,-0.779759734869 l5.32835841179,-0.649799779058 8.18747758865,0.0 l3.50891888142,0.389879867435 3.11903893948,2.07935929298 l1.94939941168,2.2093193233 0.389879867435,2.98907905817 l-0.129959955812,1.94939941168 -0.519839823246,0.779759734869 l-1.68947950006,0.519839823246 -5.45831799507,0.519839823246 l-6.8878775835,0.259919911623 -1.42955958843,-0.129959955812 l-4.93847846985,-1.68947950006 -0.519839823246,-0.649799779058 l-0.389879867435,-1.81943938136 -1.03967964649,-6.75791800022 m20.9235525131,0.779759734869 l2.07935929298,-4.80851858854 1.94939941168,-3.11903893948 l2.33927920461,-3.24899882078 2.07935929298,-1.55951946974 l1.1696396023,0.389879867435 0.519839823246,0.909719690681 l0.0,1.94939941168 -0.649799779058,2.46923923492 l4.54859852791,1.81943938136 0.389879867435,0.649799779058 l-1.1696396023,1.94939941168 -4.67855840921,2.46923923492 l-6.36803805828,0.0 -2.07935929298,1.94939941168 m10.1368772984,-8.31743717194 l-0.259919911623,-3.89879882336 m2.98907905817,7.27775752544 l0.0,1.94939941168 -0.649799779058,0.259919911623 l-1.94939941168,-0.389879867435 m-1.03967964649,-3.37895900011 l0.0,0.259919911623 \" fill=\"none\" stroke=\"black\" stroke-width=\"1\"/></svg>"
      ],
      "text/plain": [
       "<IPython.core.display.SVG object>"
      ]
     },
     "metadata": {},
     "output_type": "display_data"
    },
    {
     "name": "stdout",
     "output_type": "stream",
     "text": [
      "INFO:tensorflow:Loading model /home/calpeyser/checkpoints/cat/vector-47500.\n",
      "INFO:tensorflow:Restoring parameters from /home/calpeyser/checkpoints/cat/vector-47500\n"
     ]
    },
    {
     "data": {
      "image/svg+xml": [
       "<svg baseProfile=\"full\" height=\"67.7220339882\" version=\"1.1\" width=\"67.5495026726\" xmlns=\"http://www.w3.org/2000/svg\" xmlns:ev=\"http://www.w3.org/2001/xml-events\" xmlns:xlink=\"http://www.w3.org/1999/xlink\"><defs/><rect fill=\"white\" height=\"67.7220339882\" width=\"67.5495026726\" x=\"0\" y=\"0\"/><path d=\"M28.8162613194,33.3418031312 m-0.507892854512,-0.92083953321 l-0.646805167198,-0.0781511235982 -0.666669458151,0.68587064743 l-0.278364475816,2.9216915369 1.32260501385,3.3079624176 l3.00437957048,2.34984487295 2.70002514124,1.11385203898 l2.24964424968,-0.00026544508728 2.83504188061,-1.49225801229 l2.62297540903,-2.76189237833 0.76654791832,-1.70802339911 l0.331754125655,-2.87233233452 -1.76455229521,-2.9949042201 l-1.28234803677,-0.765439420938 -8.63172411919,-0.686414018273 l-2.81510412693,1.13842137158 -0.413183532655,0.779916420579 m10.9888339043,-2.40190312266 l0.620759129524,-1.61262065172 1.83657944202,-2.34431877732 l0.477922894061,0.425922721624 0.238931346685,5.22818684578 l-0.0713902059942,1.48638576269 m-13.3219265938,-2.71598756313 l-3.21135640144,-3.82694989443 -0.200944077224,2.31708705425 l1.08294457197,4.22428369522 0.945810675621,1.96433588862 m5.88951289654,1.99930608273 l2.28029742837,0.348293893039 -0.413709320128,0.357292890549 m-1.45524650812,-1.72237575054 l1.07174642384,0.880118235946 0.541954152286,0.333160310984 l0.147024346516,-1.05226874352 \" fill=\"none\" stroke=\"black\" stroke-width=\"1\"/></svg>"
      ],
      "text/plain": [
       "<IPython.core.display.SVG object>"
      ]
     },
     "metadata": {},
     "output_type": "display_data"
    },
    {
     "name": "stdout",
     "output_type": "stream",
     "text": [
      "------------------\n",
      "337\n",
      "INFO:tensorflow:Loading model /home/calpeyser/checkpoints/dog/vector-41500.\n",
      "INFO:tensorflow:Restoring parameters from /home/calpeyser/checkpoints/dog/vector-41500\n"
     ]
    },
    {
     "data": {
      "image/svg+xml": [
       "<svg baseProfile=\"full\" height=\"82.4899894744\" version=\"1.1\" width=\"99.9046249688\" xmlns=\"http://www.w3.org/2000/svg\" xmlns:ev=\"http://www.w3.org/2001/xml-events\" xmlns:xlink=\"http://www.w3.org/1999/xlink\"><defs/><rect fill=\"white\" height=\"82.4899894744\" width=\"99.9046249688\" x=\"0\" y=\"0\"/><path d=\"M69.4463068247,39.1656354815 m-6.75791800022,0.0 l-1.55951946974,-0.649799779058 -0.909719690681,-1.55951946974 l-0.129959955812,-4.2886787653 1.55951946974,-4.54859852791 l3.24899882078,-2.59919911623 3.37895900011,-0.519839823246 l1.68947950006,0.129959955812 2.98907905817,2.85911917686 l1.94939941168,3.76883894205 -0.519839823246,3.89879882336 l-2.07935929298,2.98907905817 -2.07935929298,0.649799779058 l-1.29959955812,-0.129959955812 m-9.48707699776,-6.49799764156 l-3.63887876272,2.07935929298 -2.59919911623,0.909719690681 l-27.1616315842,0.0 -0.909719690681,2.85911917686 l0.0,4.67855840921 0.389879867435,0.649799779058 l2.98907905817,0.909719690681 4.67855840921,0.779759734869 l8.18747758865,-0.259919911623 5.19839823246,-0.649799779058 l14.5555150509,-0.259919911623 0.389879867435,-0.649799779058 l-0.389879867435,-5.06843864918 m-36.1288690567,5.84819793701 l0.389879867435,0.649799779058 0.129959955812,3.76883894205 l0.909719690681,3.11903893948 0.389879867435,5.45831799507 m7.40771770477,-11.8263566494 l1.42955958843,10.9166359901 m10.9166359901,-12.6061165333 l1.29959955812,8.31743717194 0.0,3.11903893948 m10.7866764069,-10.006916523 l0.259919911623,3.76883894205 \" fill=\"none\" stroke=\"black\" stroke-width=\"1\"/></svg>"
      ],
      "text/plain": [
       "<IPython.core.display.SVG object>"
      ]
     },
     "metadata": {},
     "output_type": "display_data"
    },
    {
     "name": "stdout",
     "output_type": "stream",
     "text": [
      "INFO:tensorflow:Loading model /home/calpeyser/checkpoints/cat/vector-47500.\n",
      "INFO:tensorflow:Restoring parameters from /home/calpeyser/checkpoints/cat/vector-47500\n"
     ]
    },
    {
     "data": {
      "image/svg+xml": [
       "<svg baseProfile=\"full\" height=\"67.759626841\" version=\"1.1\" width=\"67.977408357\" xmlns=\"http://www.w3.org/2000/svg\" xmlns:ev=\"http://www.w3.org/2001/xml-events\" xmlns:xlink=\"http://www.w3.org/1999/xlink\"><defs/><rect fill=\"white\" height=\"67.759626841\" width=\"67.977408357\" x=\"0\" y=\"0\"/><path d=\"M28.8014508784,32.7372180783 m-0.565965361893,-0.890684202313 l-0.717986598611,0.00241237299633 -0.70240072906,0.772079974413 l-0.275620557368,3.56983989477 1.26170739532,3.11099261045 l2.67055034637,2.3033747077 2.84634292126,1.15439340472 l2.42380619049,-0.000183692027349 2.76760488749,-1.43672689795 l2.66214132309,-2.78242886066 0.751404240727,-1.65483474731 l0.374811552465,-3.0095615983 -1.744530797,-3.05297374725 l-1.38567775488,-0.839445963502 -6.12866163254,-0.728648006916 l-3.55262666941,0.758400782943 -0.696784779429,0.714455917478 m10.1672005653,-1.46532833576 l1.3055101037,-1.83907136321 2.35509127378,-2.42328032851 l0.360041558743,1.34650483727 -0.460558459163,5.08431971073 l-0.445020422339,1.49605408311 m-13.5613667965,-3.40633869171 l-3.13643753529,-4.3712541461 -0.374025143683,2.34003603458 l0.887435004115,4.39351856709 0.999425947666,2.47839555144 m5.09186208248,1.81333035231 l2.4631421268,0.322873592377 2.50107496977,-0.463246032596 m-4.78386491537,-0.00948372238781 l0.558744035661,0.995551347733 0.555641166866,0.323106870055 l0.866993367672,-1.18178613484 \" fill=\"none\" stroke=\"black\" stroke-width=\"1\"/></svg>"
      ],
      "text/plain": [
       "<IPython.core.display.SVG object>"
      ]
     },
     "metadata": {},
     "output_type": "display_data"
    },
    {
     "name": "stdout",
     "output_type": "stream",
     "text": [
      "------------------\n",
      "343\n",
      "INFO:tensorflow:Loading model /home/calpeyser/checkpoints/dog/vector-41500.\n",
      "INFO:tensorflow:Restoring parameters from /home/calpeyser/checkpoints/dog/vector-41500\n"
     ]
    },
    {
     "data": {
      "image/svg+xml": [
       "<svg baseProfile=\"full\" height=\"66.5049143881\" version=\"1.1\" width=\"82.6199501753\" xmlns=\"http://www.w3.org/2000/svg\" xmlns:ev=\"http://www.w3.org/2001/xml-events\" xmlns:xlink=\"http://www.w3.org/1999/xlink\"><defs/><rect fill=\"white\" height=\"66.5049143881\" width=\"82.6199501753\" x=\"0\" y=\"0\"/><path d=\"M49.3025127798,25.3898801655 m-3.24899882078,1.29959955812 l-1.1696396023,2.59919911623 0.0,1.94939941168 l1.03967964649,3.24899882078 1.94939941168,0.779759734869 l1.29959955812,-0.649799779058 1.1696396023,-1.81943938136 m-0.909719690681,-7.79759764671 l1.94939941168,0.519839823246 1.03967964649,2.59919911623 l0.649799779058,0.519839823246 2.59919911623,0.519839823246 l1.29959955812,0.519839823246 0.389879867435,0.649799779058 l0.259919911623,0.649799779058 -0.519839823246,1.29959955812 l-3.89879882336,1.03967964649 m-8.83727729321,-2.33927920461 l-2.59919911623,0.259919911623 -14.2955958843,-1.03967964649 l-1.94939941168,0.389879867435 -0.519839823246,0.649799779058 l1.29959955812,0.649799779058 3.89879882336,0.649799779058 l0.519839823246,1.94939941168 0.259919911623,5.84819793701 l1.1696396023,1.03967964649 0.649799779058,0.129959955812 l0.909719690681,-1.94939941168 0.519839823246,-3.24899882078 l1.03967964649,-1.03967964649 0.389879867435,0.649799779058 l0.0,3.89879882336 0.909719690681,1.03967964649 l0.649799779058,-0.129959955812 1.1696396023,-5.19839823246 l0.649799779058,-0.389879867435 5.32835841179,0.519839823246 l0.389879867435,0.649799779058 -0.259919911623,2.59919911623 \" fill=\"none\" stroke=\"black\" stroke-width=\"1\"/></svg>"
      ],
      "text/plain": [
       "<IPython.core.display.SVG object>"
      ]
     },
     "metadata": {},
     "output_type": "display_data"
    },
    {
     "name": "stdout",
     "output_type": "stream",
     "text": [
      "INFO:tensorflow:Loading model /home/calpeyser/checkpoints/cat/vector-47500.\n",
      "INFO:tensorflow:Restoring parameters from /home/calpeyser/checkpoints/cat/vector-47500\n"
     ]
    },
    {
     "data": {
      "image/svg+xml": [
       "<svg baseProfile=\"full\" height=\"68.0598744775\" version=\"1.1\" width=\"68.2614082098\" xmlns=\"http://www.w3.org/2000/svg\" xmlns:ev=\"http://www.w3.org/2001/xml-events\" xmlns:xlink=\"http://www.w3.org/1999/xlink\"><defs/><rect fill=\"white\" height=\"68.0598744775\" width=\"68.2614082098\" x=\"0\" y=\"0\"/><path d=\"M28.8070502877,33.3435156943 m-0.62040425837,-0.874525308609 l-0.760699287057,0.0356180244125 -0.712324753404,0.933815166354 l-0.267669893801,3.13532233238 1.70952618122,2.7139249444 l2.57087290287,2.39099100232 2.71699756384,1.38121262193 l2.5973251462,-8.10275923868e-05 2.76547551155,-1.52413547039 l2.62857407331,-2.80346304178 0.78330822289,-1.70500710607 l0.352837145329,-2.94251173735 -1.85295924544,-2.70370215178 l-1.31974443793,-0.698697417974 -8.33528161049,-1.04289405048 l-1.43775597215,0.572220794857 -0.420974679291,0.735668167472 m10.0148868561,-1.41473963857 l1.32175058126,-2.10240498185 2.2915135324,-2.43012681603 l0.429104343057,0.552967898548 -0.270605608821,5.54689526558 l-0.37246696651,1.75904482603 m-13.7213230133,-3.10410529375 l-3.5900041461,-3.94007861614 -0.307008475065,1.90115734935 l1.23009540141,4.59709048271 0.969914346933,2.53393799067 m5.92467725277,1.4208163321 l2.08349108696,0.635713860393 0.251697897911,0.165626052767 m-1.81044653058,-1.47249042988 l1.05185978115,0.886996909976 0.453421846032,0.327752232552 l0.211033113301,-1.39350771904 \" fill=\"none\" stroke=\"black\" stroke-width=\"1\"/></svg>"
      ],
      "text/plain": [
       "<IPython.core.display.SVG object>"
      ]
     },
     "metadata": {},
     "output_type": "display_data"
    },
    {
     "name": "stdout",
     "output_type": "stream",
     "text": [
      "------------------\n",
      "352\n",
      "INFO:tensorflow:Loading model /home/calpeyser/checkpoints/dog/vector-41500.\n",
      "INFO:tensorflow:Restoring parameters from /home/calpeyser/checkpoints/dog/vector-41500\n"
     ]
    },
    {
     "data": {
      "image/svg+xml": [
       "<svg baseProfile=\"full\" height=\"70.7935924083\" version=\"1.1\" width=\"102.893703729\" xmlns=\"http://www.w3.org/2000/svg\" xmlns:ev=\"http://www.w3.org/2001/xml-events\" xmlns:xlink=\"http://www.w3.org/1999/xlink\"><defs/><rect fill=\"white\" height=\"70.7935924083\" width=\"102.893703729\" x=\"0\" y=\"0\"/><path d=\"M41.5049147606,36.9563151151 m0.0,6.10811829567 l0.779759734869,2.72915899754 m4.4186386466,-7.66763746738 l-1.1696396023,0.129959955812 m-1.94939941168,-0.909719690681 l0.909719690681,6.10811829567 m-3.50891888142,-6.8878775835 l3.89879882336,0.129959955812 3.89879882336,1.55951946974 l3.63887876272,0.909719690681 4.93847846985,0.519839823246 l3.24899882078,0.0 0.779759734869,-0.389879867435 m-7.92755723,1.29959955812 l0.389879867435,4.15871858597 m2.85911917686,-4.2886787653 l0.129959955812,5.06843864918 m5.32835841179,-6.62795782089 l0.519839823246,-1.29959955812 0.0,-3.24899882078 l-2.85911917686,-2.2093193233 12.7360761166,4.80851858854 l1.55951946974,1.42955958843 3.76883894205,4.93847846985 m-18.8441944122,-11.5664362907 l-2.46923923492,0.649799779058 -7.66763746738,0.519839823246 l-9.61703717709,0.0 -1.03967964649,-2.46923923492 l0.389879867435,-3.11903893948 -1.55951946974,-0.909719690681 l-4.54859852791,-1.42955958843 -1.68947950006,0.779759734869 l-0.519839823246,2.2093193233 0.909719690681,6.62795782089 l-5.97815811634,-0.389879867435 -0.259919911623,0.649799779058 l0.779759734869,1.68947950006 5.97815811634,1.29959955812 l2.2093193233,-2.07935929298 \" fill=\"none\" stroke=\"black\" stroke-width=\"1\"/></svg>"
      ],
      "text/plain": [
       "<IPython.core.display.SVG object>"
      ]
     },
     "metadata": {},
     "output_type": "display_data"
    },
    {
     "name": "stdout",
     "output_type": "stream",
     "text": [
      "INFO:tensorflow:Loading model /home/calpeyser/checkpoints/cat/vector-47500.\n",
      "INFO:tensorflow:Restoring parameters from /home/calpeyser/checkpoints/cat/vector-47500\n"
     ]
    },
    {
     "data": {
      "image/svg+xml": [
       "<svg baseProfile=\"full\" height=\"68.1181800365\" version=\"1.1\" width=\"68.4651990375\" xmlns=\"http://www.w3.org/2000/svg\" xmlns:ev=\"http://www.w3.org/2001/xml-events\" xmlns:xlink=\"http://www.w3.org/1999/xlink\"><defs/><rect fill=\"white\" height=\"68.1181800365\" width=\"68.4651990375\" x=\"0\" y=\"0\"/><path d=\"M30.7002667477,31.9782700948 m-1.17935113609,-0.697564184666 l-1.11998356879,0.157568585128 -1.00073233247,0.916346386075 l-0.483247190714,3.09561699629 1.23032346368,3.57152104378 l0.995870009065,1.20556637645 3.88882160187,2.38999098539 l3.05316507816,0.500863753259 1.51443958282,-0.322606302798 l3.49427014589,-2.75450855494 1.52608633041,-2.31300383806 l0.845270305872,-3.29964637756 -0.498414449394,-1.84408724308 l-1.3480950892,-1.24125599861 -3.55979382992,-1.21729895473 l-9.00820612907,-0.0913030281663 -0.984796136618,0.710158273578 m10.9187793732,-1.40197053552 l0.889994800091,-1.87505140901 1.93856969476,-2.46760606766 l0.467603057623,0.437011756003 0.168451070786,5.19558370113 l0.0530941644683,1.95047363639 m-13.9921069145,-2.87817984819 l-3.23308378458,-3.94595086575 -0.277194865048,2.29979783297 l0.972981080413,4.28122937679 0.864902511239,1.2511920929 m5.89782714844,2.36389160156 l2.02038571239,0.510960035026 2.33912631869,-0.431858412921 m-4.38604831696,-0.184244662523 l0.565792731941,1.0583692044 0.548214949667,0.00687650404871 l0.75724132359,-1.50081038475 \" fill=\"none\" stroke=\"black\" stroke-width=\"1\"/></svg>"
      ],
      "text/plain": [
       "<IPython.core.display.SVG object>"
      ]
     },
     "metadata": {},
     "output_type": "display_data"
    },
    {
     "name": "stdout",
     "output_type": "stream",
     "text": [
      "------------------\n",
      "364\n",
      "INFO:tensorflow:Loading model /home/calpeyser/checkpoints/dog/vector-41500.\n",
      "INFO:tensorflow:Restoring parameters from /home/calpeyser/checkpoints/dog/vector-41500\n"
     ]
    },
    {
     "data": {
      "image/svg+xml": [
       "<svg baseProfile=\"full\" height=\"85.4790687561\" version=\"1.1\" width=\"112.120859027\" xmlns=\"http://www.w3.org/2000/svg\" xmlns:ev=\"http://www.w3.org/2001/xml-events\" xmlns:xlink=\"http://www.w3.org/1999/xlink\"><defs/><rect fill=\"white\" height=\"85.4790687561\" width=\"112.120859027\" x=\"0\" y=\"0\"/><path d=\"M33.5773575306,34.3571162969 m-8.57735753059,8.83727729321 l7.79759764671,1.94939941168 4.54859852791,0.389879867435 m-3.50891888142,-11.3065159321 l1.42955958843,-5.19839823246 1.81943938136,-4.02875870466 l3.11903893948,9.48707699776 0.649799779058,0.519839823246 l1.94939941168,0.389879867435 24.3025112152,0.0 l8.44739735126,-0.129959955812 0.0,-0.779759734869 m-0.129959955812,0.259919911623 l0.259919911623,5.5882781744 0.779759734869,-0.259919911623 l3.50891888142,-2.98907905817 3.63887876272,-3.76883894205 l3.24899882078,-1.55951946974 0.259919911623,5.06843864918 l-2.72915899754,1.03967964649 -2.33927920461,2.07935929298 l-2.33927920461,1.1696396023 -0.779759734869,1.29959955812 l0.0,4.15871858597 -5.84819793701,0.0 l1.03967964649,5.32835841179 0.129959955812,5.5882781744 m0.0,-11.5664362907 l-10.2668368816,0.259919911623 -13.2559156418,-0.389879867435 l-3.50891888142,0.519839823246 -12.4761557579,-0.259919911623 m1.94939941168,0.259919911623 l-0.259919911623,11.9563162327 m7.01783776283,-11.9563162327 l-0.129959955812,12.3461961746 0.389879867435,1.81943938136 m25.6021118164,-12.4761557579 l-2.72915899754,8.57735753059 -0.259919911623,2.07935929298 \" fill=\"none\" stroke=\"black\" stroke-width=\"1\"/></svg>"
      ],
      "text/plain": [
       "<IPython.core.display.SVG object>"
      ]
     },
     "metadata": {},
     "output_type": "display_data"
    },
    {
     "name": "stdout",
     "output_type": "stream",
     "text": [
      "INFO:tensorflow:Loading model /home/calpeyser/checkpoints/cat/vector-47500.\n",
      "INFO:tensorflow:Restoring parameters from /home/calpeyser/checkpoints/cat/vector-47500\n"
     ]
    },
    {
     "data": {
      "image/svg+xml": [
       "<svg baseProfile=\"full\" height=\"67.7589097247\" version=\"1.1\" width=\"67.3201985378\" xmlns=\"http://www.w3.org/2000/svg\" xmlns:ev=\"http://www.w3.org/2001/xml-events\" xmlns:xlink=\"http://www.w3.org/1999/xlink\"><defs/><rect fill=\"white\" height=\"67.7589097247\" width=\"67.3201985378\" x=\"0\" y=\"0\"/><path d=\"M29.4770286512,32.8743699718 m-0.81829354167,-0.757989287376 l-0.890531092882,0.188752189279 -0.822761356831,0.980681926012 l-0.299834888428,3.51708501577 1.67978838086,2.79525220394 l2.37621903419,2.19499275088 2.3315089941,0.965642631054 l3.01358550787,0.00012232327208 2.96781718731,-1.56367063522 l2.53136903048,-2.72982478142 0.774302631617,-2.33301535249 l-0.0356294494122,-2.96255946159 -0.576700307429,-1.03595592082 l-2.55632400513,-1.49762824178 -9.12457227707,-0.788941010833 l-1.32060796022,0.5352159217 -0.60415700078,1.02754577994 m10.3999781609,-1.90050840378 l0.889024883509,-1.79189443588 2.2493545711,-2.71767318249 l0.44630818069,0.478338897228 0.0933494605124,5.5784869194 l-0.158949512988,1.73236995935 m-13.1757295132,-3.22420865297 l-3.53933662176,-3.75000178814 -0.306207146496,2.15975120664 l0.876761972904,4.28716987371 1.03126585484,2.45429173112 m5.50128340721,2.03301504254 l2.30630576611,0.456094369292 2.50103622675,-0.436938405037 l1.48505687714,-1.08403764665 m-6.35721206665,-0.883932486176 l-0.682290643454,0.987603738904 -0.86213953793,1.44693866372 l0.356618799269,-0.168646499515 \" fill=\"none\" stroke=\"black\" stroke-width=\"1\"/></svg>"
      ],
      "text/plain": [
       "<IPython.core.display.SVG object>"
      ]
     },
     "metadata": {},
     "output_type": "display_data"
    },
    {
     "name": "stdout",
     "output_type": "stream",
     "text": [
      "------------------\n",
      "367\n",
      "INFO:tensorflow:Loading model /home/calpeyser/checkpoints/dog/vector-41500.\n",
      "INFO:tensorflow:Restoring parameters from /home/calpeyser/checkpoints/dog/vector-41500\n"
     ]
    },
    {
     "data": {
      "image/svg+xml": [
       "<svg baseProfile=\"full\" height=\"74.5624317229\" version=\"1.1\" width=\"87.8183481097\" xmlns=\"http://www.w3.org/2000/svg\" xmlns:ev=\"http://www.w3.org/2001/xml-events\" xmlns:xlink=\"http://www.w3.org/1999/xlink\"><defs/><rect fill=\"white\" height=\"74.5624317229\" width=\"87.8183481097\" x=\"0\" y=\"0\"/><path d=\"M35.1368766278,25.1299586147 m-4.15871858597,1.55951946974 l-2.2093193233,1.68947950006 -3.11903893948,3.76883894205 l-0.649799779058,2.07935929298 0.0,2.2093193233 l0.389879867435,0.649799779058 1.94939941168,0.779759734869 l4.4186386466,0.129959955812 3.37895900011,-2.46923923492 l2.2093193233,-0.389879867435 0.519839823246,0.649799779058 l-0.779759734869,2.98907905817 0.0,7.40771770477 l1.1696396023,2.46923923492 1.29959955812,0.649799779058 l1.94939941168,-3.11903893948 0.519839823246,-2.85911917686 l0.0,-5.84819793701 14.4255554676,-0.259919911623 l-0.259919911623,10.5267572403 0.519839823246,1.29959955812 l0.649799779058,0.519839823246 1.55951946974,0.0 l1.03967964649,-3.24899882078 0.0,-3.89879882336 l-0.779759734869,-5.97815811634 1.29959955812,-0.519839823246 l1.68947950006,-2.72915899754 0.649799779058,-2.07935929298 l-0.259919911623,-0.649799779058 -4.02875870466,-3.24899882078 l-3.76883894205,-1.55951946974 -2.85911917686,-0.649799779058 l-17.2846746445,0.259919911623 -0.649799779058,0.389879867435 l0.129959955812,6.49799764156 1.94939941168,1.81943938136 l0.909719690681,0.259919911623 1.55951946974,-1.03967964649 l0.0,-0.649799779058 \" fill=\"none\" stroke=\"black\" stroke-width=\"1\"/></svg>"
      ],
      "text/plain": [
       "<IPython.core.display.SVG object>"
      ]
     },
     "metadata": {},
     "output_type": "display_data"
    },
    {
     "name": "stdout",
     "output_type": "stream",
     "text": [
      "INFO:tensorflow:Loading model /home/calpeyser/checkpoints/cat/vector-47500.\n",
      "INFO:tensorflow:Restoring parameters from /home/calpeyser/checkpoints/cat/vector-47500\n"
     ]
    },
    {
     "data": {
      "image/svg+xml": [
       "<svg baseProfile=\"full\" height=\"68.2747191492\" version=\"1.1\" width=\"67.6071318239\" xmlns=\"http://www.w3.org/2000/svg\" xmlns:ev=\"http://www.w3.org/2001/xml-events\" xmlns:xlink=\"http://www.w3.org/1999/xlink\"><defs/><rect fill=\"white\" height=\"68.2747191492\" width=\"67.6071318239\" x=\"0\" y=\"0\"/><path d=\"M28.8895418926,32.803961525 m-0.776796638966,-0.72252959013 l-0.854371115565,0.102121373639 -0.831821337342,0.999440476298 l-0.202830713242,3.11546117067 1.46526172757,3.44039708376 l2.44213998318,2.31214702129 2.6482462883,1.2237200886 l2.6437485218,-9.64406171988e-05 2.93047457933,-1.37396201491 l2.67130613327,-2.59241074324 0.817643851042,-1.67398676276 l0.416626818478,-3.03041338921 -1.57737448812,-3.13184499741 l-1.18483431637,-0.834763422608 -5.60423314571,-1.07775911689 l-4.24238473177,0.736736431718 -0.815784335136,0.717578530312 m9.98947501183,-1.41137614846 l1.10609665513,-2.03832402825 2.23028108478,-2.56409704685 l0.433670841157,0.560955107212 0.0130492576864,5.25787234306 l-0.320281721652,2.11501047015 m-13.6127638817,-3.38131666183 l-3.24475347996,-3.74880999327 -0.429332740605,1.90634399652 l0.768695995212,4.27933096886 0.905381217599,2.40361481905 m5.6770336628,2.42800697684 l2.41327658296,0.296868290752 2.26310819387,-0.533178560436 m-3.96207869053,-1.02995529771 l0.332520790398,1.39308571815 0.408014766872,0.150080071762 l0.34938454628,-2.73407369852 \" fill=\"none\" stroke=\"black\" stroke-width=\"1\"/></svg>"
      ],
      "text/plain": [
       "<IPython.core.display.SVG object>"
      ]
     },
     "metadata": {},
     "output_type": "display_data"
    },
    {
     "name": "stdout",
     "output_type": "stream",
     "text": [
      "------------------\n",
      "388\n",
      "INFO:tensorflow:Loading model /home/calpeyser/checkpoints/dog/vector-41500.\n",
      "INFO:tensorflow:Restoring parameters from /home/calpeyser/checkpoints/dog/vector-41500\n"
     ]
    },
    {
     "data": {
      "image/svg+xml": [
       "<svg baseProfile=\"full\" height=\"71.1834733933\" version=\"1.1\" width=\"95.485984832\" xmlns=\"http://www.w3.org/2000/svg\" xmlns:ev=\"http://www.w3.org/2001/xml-events\" xmlns:xlink=\"http://www.w3.org/1999/xlink\"><defs/><rect fill=\"white\" height=\"71.1834733933\" width=\"95.485984832\" x=\"0\" y=\"0\"/><path d=\"M25,38.775755465 m2.98907905817,-0.259919911623 l2.59919911623,-1.29959955812 2.59919911623,-1.81943938136 l1.29959955812,-2.07935929298 16.6348743439,0.389879867435 l4.02875870466,-1.03967964649 0.519839823246,-0.649799779058 l0.0,-1.29959955812 -1.81943938136,-4.93847846985 m-0.389879867435,-0.779759734869 l0.649799779058,0.389879867435 1.94939941168,3.24899882078 l5.84819793701,-0.779759734869 0.649799779058,1.29959955812 l0.259919911623,1.94939941168 1.94939941168,0.129959955812 l0.649799779058,-0.519839823246 4.54859852791,-0.649799779058 l0.389879867435,0.649799779058 0.129959955812,1.94939941168 l-0.649799779058,0.519839823246 -5.84819793701,0.519839823246 l-3.24899882078,0.909719690681 -4.67855840921,2.2093193233 l-0.649799779058,2.07935929298 0.389879867435,7.14779794216 l-1.29959955812,-1.03967964649 -1.94939941168,-3.37895900011 l-1.29959955812,-0.519839823246 -1.29959955812,-2.59919911623 l-1.29959955812,-0.779759734869 -9.74699676037,0.0 l-2.98907905817,3.89879882336 -2.59919911623,4.54859852791 l-1.1696396023,-4.67855840921 0.0,-1.94939941168 l1.68947950006,-3.24899882078 -0.909719690681,-0.129959955812 l-4.15871858597,1.94939941168 -2.2093193233,0.519839823246 \" fill=\"none\" stroke=\"black\" stroke-width=\"1\"/></svg>"
      ],
      "text/plain": [
       "<IPython.core.display.SVG object>"
      ]
     },
     "metadata": {},
     "output_type": "display_data"
    },
    {
     "name": "stdout",
     "output_type": "stream",
     "text": [
      "INFO:tensorflow:Loading model /home/calpeyser/checkpoints/cat/vector-47500.\n",
      "INFO:tensorflow:Restoring parameters from /home/calpeyser/checkpoints/cat/vector-47500\n"
     ]
    },
    {
     "data": {
      "image/svg+xml": [
       "<svg baseProfile=\"full\" height=\"68.5852785194\" version=\"1.1\" width=\"68.4906989709\" xmlns=\"http://www.w3.org/2000/svg\" xmlns:ev=\"http://www.w3.org/2001/xml-events\" xmlns:xlink=\"http://www.w3.org/1999/xlink\"><defs/><rect fill=\"white\" height=\"68.5852785194\" width=\"68.4906989709\" x=\"0\" y=\"0\"/><path d=\"M28.8807482645,34.1611251673 m-0.673275217414,-0.832888484001 l-0.752192139626,-0.0829634349793 -0.715549737215,0.536543242633 l-0.363815538585,3.04103851318 1.27360001206,3.26621770859 l2.71482110023,2.35666960478 2.67335236073,1.13953620195 l2.47841536999,-0.000222601920541 2.87385165691,-1.39430448413 l2.71260529757,-2.73850619793 0.764403417706,-1.68441668153 l0.33602103591,-2.99212425947 -1.63289308548,-2.76866167784 l-1.32363110781,-0.79678222537 -8.64899039268,-0.803538858891 l-2.49320700765,1.04422338307 -0.513457432389,0.868614912033 m0.212049931288,-0.701673775911 l-1.58236563206,-3.95842343569 -1.22049115598,-2.30111092329 l4.25745874643,3.35905075073 2.37127274275,1.65346577764 m6.481153965,-0.412357375026 l1.8492628634,-2.14831605554 3.17632228136,-2.81019479036 l0.355228371918,0.66905759275 -0.754556506872,5.23547828197 l-0.803701505065,3.27152609825 m-11.1303210258,2.29442819953 l1.30448788404,1.06666959822 m-1.85690015554,-0.366347357631 l0.513527542353,0.742388293147 1.39796733856,0.408156216145 l2.14314594865,-0.939939618111 1.43809854984,-2.28185519576 \" fill=\"none\" stroke=\"black\" stroke-width=\"1\"/></svg>"
      ],
      "text/plain": [
       "<IPython.core.display.SVG object>"
      ]
     },
     "metadata": {},
     "output_type": "display_data"
    },
    {
     "name": "stdout",
     "output_type": "stream",
     "text": [
      "------------------\n",
      "446\n",
      "INFO:tensorflow:Loading model /home/calpeyser/checkpoints/dog/vector-41500.\n",
      "INFO:tensorflow:Restoring parameters from /home/calpeyser/checkpoints/dog/vector-41500\n"
     ]
    },
    {
     "data": {
      "image/svg+xml": [
       "<svg baseProfile=\"full\" height=\"79.7608312964\" version=\"1.1\" width=\"98.3451045305\" xmlns=\"http://www.w3.org/2000/svg\" xmlns:ev=\"http://www.w3.org/2001/xml-events\" xmlns:xlink=\"http://www.w3.org/1999/xlink\"><defs/><rect fill=\"white\" height=\"79.7608312964\" width=\"98.3451045305\" x=\"0\" y=\"0\"/><path d=\"M67.1070263535,25.7797597349 m-3.11903893948,0.0 l-2.2093193233,0.909719690681 -3.63887876272,2.72915899754 l-0.649799779058,1.42955958843 0.0,5.45831799507 l0.389879867435,0.649799779058 6.10811829567,2.85911917686 l2.07935929298,0.519839823246 3.24899882078,-0.259919911623 l1.55951946974,-1.03967964649 2.46923923492,-2.59919911623 l0.0,-7.66763746738 -1.29959955812,-3.24899882078 l-0.649799779058,-0.519839823246 -3.24899882078,0.129959955812 l-1.03967964649,0.909719690681 m-9.22715723515,6.62795782089 l-3.37895900011,1.81943938136 -4.80851858854,0.909719690681 l-3.76883894205,0.0 -5.5882781744,0.649799779058 l-12.4761557579,0.0 -1.1696396023,1.42955958843 l-1.55951946974,4.54859852791 -0.129959955812,3.76883894205 l0.519839823246,1.68947950006 2.98907905817,1.55951946974 l5.97815811634,0.129959955812 8.44739735126,-1.81943938136 l7.79759764671,-3.24899882078 6.36803805828,-5.5882781744 l3.50891888142,-2.07935929298 m-4.93847846985,4.80851858854 l1.29959955812,5.97815811634 m-7.66763746738,-5.45831799507 l-2.98907905817,8.83727729321 -0.909719690681,0.909719690681 m-10.7866764069,-3.63887876272 l1.68947950006,5.19839823246 0.129959955812,1.68947950006 \" fill=\"none\" stroke=\"black\" stroke-width=\"1\"/></svg>"
      ],
      "text/plain": [
       "<IPython.core.display.SVG object>"
      ]
     },
     "metadata": {},
     "output_type": "display_data"
    },
    {
     "name": "stdout",
     "output_type": "stream",
     "text": [
      "INFO:tensorflow:Loading model /home/calpeyser/checkpoints/cat/vector-47500.\n",
      "INFO:tensorflow:Restoring parameters from /home/calpeyser/checkpoints/cat/vector-47500\n"
     ]
    },
    {
     "data": {
      "image/svg+xml": [
       "<svg baseProfile=\"full\" height=\"68.1041412789\" version=\"1.1\" width=\"68.4576134384\" xmlns=\"http://www.w3.org/2000/svg\" xmlns:ev=\"http://www.w3.org/2001/xml-events\" xmlns:xlink=\"http://www.w3.org/1999/xlink\"><defs/><rect fill=\"white\" height=\"68.1041412789\" width=\"68.4576134384\" x=\"0\" y=\"0\"/><path d=\"M28.8535505906,33.6141020514 m-0.348104871809,-0.865060687065 l-0.594362281263,-0.0901655573398 -0.601231567562,0.587635710835 l-0.256598778069,2.99777388573 1.12128652632,3.42567592859 l3.15335839987,2.36999467015 2.75055617094,1.06418527663 l2.39591687918,-0.00035252305679 2.69188284874,-1.42267435789 l2.57666200399,-2.57389456034 0.809546262026,-1.75447136164 l0.388199388981,-3.13315689564 -1.88537478447,-2.90617078543 l-1.43506541848,-0.798431113362 -9.10858333111,-0.949329286814 l-1.50024607778,0.563229061663 -0.921562165022,1.12433381379 l-0.536240786314,2.35746964812 m12.1493506432,-4.18017327785 l1.18022434413,-2.00091511011 2.12850138545,-2.32590287924 l0.445948056877,1.65744453669 -0.417478233576,5.05446195602 m-13.3285737038,-2.09921568632 l-2.71254986525,-3.50456237793 -1.99901163578,-1.21183007956 l0.371023528278,3.97656738758 1.23538762331,4.16043192148 m6.92707002163,3.8444185257 l2.36797347665,0.851590633392 2.05693840981,-0.157895702869 l1.51073217392,-1.48659914732 m-5.52402555943,-0.555649474263 l0.206479523331,1.0605031997 0.354378372431,0.106272520497 l0.754669085145,-1.22856400907 \" fill=\"none\" stroke=\"black\" stroke-width=\"1\"/></svg>"
      ],
      "text/plain": [
       "<IPython.core.display.SVG object>"
      ]
     },
     "metadata": {},
     "output_type": "display_data"
    },
    {
     "name": "stdout",
     "output_type": "stream",
     "text": [
      "------------------\n",
      "467\n",
      "INFO:tensorflow:Loading model /home/calpeyser/checkpoints/dog/vector-41500.\n",
      "INFO:tensorflow:Restoring parameters from /home/calpeyser/checkpoints/dog/vector-41500\n"
     ]
    },
    {
     "data": {
      "image/svg+xml": [
       "<svg baseProfile=\"full\" height=\"74.3025123328\" version=\"1.1\" width=\"105.752821416\" xmlns=\"http://www.w3.org/2000/svg\" xmlns:ev=\"http://www.w3.org/2001/xml-events\" xmlns:xlink=\"http://www.w3.org/1999/xlink\"><defs/><rect fill=\"white\" height=\"74.3025123328\" width=\"105.752821416\" x=\"0\" y=\"0\"/><path d=\"M42.6745537668,41.1150347441 m0.129959955812,8.18747758865 l3.11903893948,-4.15871858597 1.68947950006,-3.37895900011 l4.2886787653,-1.94939941168 7.40771770477,-0.129959955812 l5.45831799507,0.389879867435 1.81943938136,5.84819793701 l1.42955958843,0.909719690681 1.29959955812,-0.389879867435 l1.42955958843,-1.55951946974 1.42955958843,-3.37895900011 l0.129959955812,-1.42955958843 m0.649799779058,-1.03967964649 l0.0,-2.07935929298 0.779759734869,-2.07935929298 l2.07935929298,-1.81943938136 2.59919911623,-1.42955958843 l2.33927920461,-2.72915899754 -0.259919911623,-1.94939941168 l-1.29959955812,-1.29959955812 -2.07935929298,-0.649799779058 l-2.98907905817,0.0 -1.42955958843,0.779759734869 l-0.519839823246,0.779759734869 0.0,1.94939941168 l-0.779759734869,1.29959955812 -2.07935929298,0.779759734869 l-11.9563162327,0.259919911623 -5.84819793701,1.03967964649 l-5.84819793701,0.259919911623 -5.45831799507,0.779759734869 l-4.54859852791,1.94939941168 -3.89879882336,3.24899882078 l-4.02875870466,6.10811829567 -2.72915899754,2.85911917686 l0.779759734869,-1.55951946974 7.14779794216,-6.75791800022 l2.07935929298,-1.03967964649 6.23807787895,0.259919911623 l2.07935929298,3.24899882078 \" fill=\"none\" stroke=\"black\" stroke-width=\"1\"/></svg>"
      ],
      "text/plain": [
       "<IPython.core.display.SVG object>"
      ]
     },
     "metadata": {},
     "output_type": "display_data"
    },
    {
     "name": "stdout",
     "output_type": "stream",
     "text": [
      "INFO:tensorflow:Loading model /home/calpeyser/checkpoints/cat/vector-47500.\n",
      "INFO:tensorflow:Restoring parameters from /home/calpeyser/checkpoints/cat/vector-47500\n"
     ]
    },
    {
     "data": {
      "image/svg+xml": [
       "<svg baseProfile=\"full\" height=\"68.0264865551\" version=\"1.1\" width=\"67.9471280705\" xmlns=\"http://www.w3.org/2000/svg\" xmlns:ev=\"http://www.w3.org/2001/xml-events\" xmlns:xlink=\"http://www.w3.org/1999/xlink\"><defs/><rect fill=\"white\" height=\"68.0264865551\" width=\"67.9471280705\" x=\"0\" y=\"0\"/><path d=\"M28.8625901472,33.5420626998 m-0.451576896012,-0.913510918617 l-0.603868737817,-0.125047182664 -0.615837089717,0.555195882916 l-0.208804346621,2.90453135967 1.26273646951,3.3633133769 l2.79437541962,2.42249459028 2.75760382414,1.27744674683 l2.1499709785,-0.000182906151167 2.73710161448,-1.36903345585 l2.81469106674,-2.7755728364 0.795382559299,-1.67747303843 l0.365164466202,-2.96371638775 -1.35209009051,-2.69038528204 l-1.22462242842,-0.845910459757 -6.07091486454,-1.06019690633 l-4.10068452358,0.755123794079 -0.845506563783,0.778804272413 m10.101082325,-1.7400225997 l0.986276194453,-1.82740062475 2.31586992741,-2.61052012444 l0.478188619018,1.55014455318 -0.236559100449,4.93646919727 l-0.498459339142,1.63317963481 m-13.679047823,-3.33015054464 l-3.41190159321,-4.13961619139 -0.121160214767,3.00942957401 l0.92797793448,4.13686931133 m6.40366733074,3.5677972436 l1.89161211252,0.61373539269 2.09769308567,-0.242341142148 l1.55461743474,-1.02789521217 m-5.24195313454,-1.06882110238 l0.0185191619676,1.40245765448 0.293490700424,0.0367718189955 l0.140762198716,-2.31633767486 \" fill=\"none\" stroke=\"black\" stroke-width=\"1\"/></svg>"
      ],
      "text/plain": [
       "<IPython.core.display.SVG object>"
      ]
     },
     "metadata": {},
     "output_type": "display_data"
    },
    {
     "name": "stdout",
     "output_type": "stream",
     "text": [
      "------------------\n",
      "479\n",
      "INFO:tensorflow:Loading model /home/calpeyser/checkpoints/dog/vector-41500.\n",
      "INFO:tensorflow:Restoring parameters from /home/calpeyser/checkpoints/dog/vector-41500\n"
     ]
    },
    {
     "data": {
      "image/svg+xml": [
       "<svg baseProfile=\"full\" height=\"76.5118312836\" version=\"1.1\" width=\"86.518747732\" xmlns=\"http://www.w3.org/2000/svg\" xmlns:ev=\"http://www.w3.org/2001/xml-events\" xmlns:xlink=\"http://www.w3.org/1999/xlink\"><defs/><rect fill=\"white\" height=\"76.5118312836\" width=\"86.518747732\" x=\"0\" y=\"0\"/><path d=\"M61.1288678646,36.696396172 m0.389879867435,-1.68947950006 l-0.909719690681,-1.1696396023 -4.54859852791,-2.46923923492 l-5.19839823246,-1.94939941168 -16.6348743439,3.24899882078 l-2.33927920461,0.0 -2.46923923492,-1.68947950006 m-0.519839823246,-0.389879867435 l-2.59919911623,0.259919911623 -0.649799779058,0.389879867435 l-0.649799779058,1.55951946974 1.03967964649,1.29959955812 l4.2886787653,0.389879867435 0.0,2.72915899754 l1.55951946974,6.75791800022 0.519839823246,5.06843864918 l3.50891888142,0.389879867435 -0.649799779058,-1.94939941168 l-1.03967964649,-1.29959955812 -0.259919911623,-7.14779794216 l1.68947950006,1.1696396023 2.33927920461,0.909719690681 l3.50891888142,0.649799779058 1.81943938136,0.0 l3.50891888142,-1.42955958843 2.59919911623,0.0 l0.649799779058,6.10811829567 1.1696396023,4.54859852791 l0.649799779058,0.519839823246 3.76883894205,-0.129959955812 l-3.24899882078,-2.46923923492 -0.909719690681,-2.33927920461 l0.519839823246,-6.10811829567 0.259919911623,-0.779759734869 l0.909719690681,-0.519839823246 5.19839823246,0.389879867435 m0.0,-7.27775752544 l0.0,-5.45831799507 0.779759734869,-1.81943938136 l0.129959955812,2.33927920461 \" fill=\"none\" stroke=\"black\" stroke-width=\"1\"/></svg>"
      ],
      "text/plain": [
       "<IPython.core.display.SVG object>"
      ]
     },
     "metadata": {},
     "output_type": "display_data"
    },
    {
     "name": "stdout",
     "output_type": "stream",
     "text": [
      "INFO:tensorflow:Loading model /home/calpeyser/checkpoints/cat/vector-47500.\n",
      "INFO:tensorflow:Restoring parameters from /home/calpeyser/checkpoints/cat/vector-47500\n"
     ]
    },
    {
     "data": {
      "image/svg+xml": [
       "<svg baseProfile=\"full\" height=\"68.2958918065\" version=\"1.1\" width=\"69.3815695308\" xmlns=\"http://www.w3.org/2000/svg\" xmlns:ev=\"http://www.w3.org/2001/xml-events\" xmlns:xlink=\"http://www.w3.org/1999/xlink\"><defs/><rect fill=\"white\" height=\"68.2958918065\" width=\"69.3815695308\" x=\"0\" y=\"0\"/><path d=\"M30.7928489894,32.8298624771 m-0.894724354148,-0.72549469769 l-0.968544632196,0.305174235255 -0.822828412056,1.17933914065 l-0.223015565425,3.54696452618 1.16585463285,2.27493852377 l2.71932095289,2.53638416529 2.73633092642,1.34867444634 l2.60742008686,4.89895683131e-05 3.03290903568,-1.5261760354 l2.60601609945,-2.60590195656 0.821055620909,-1.70323237777 l0.362761989236,-3.09725254774 -1.77314445376,-2.90915995836 l-1.28706380725,-0.75032889843 -8.69233071804,-0.817980393767 l-1.36457487941,0.5731651932 -0.76251141727,1.08319431543 m10.5037426949,-1.64656221867 l1.0431419313,-1.78438976407 2.34930455685,-2.63366818428 l0.429600253701,0.524081289768 -0.174270551652,5.121717453 l-0.485755577683,2.27669075131 m-13.4252083302,-3.35276514292 l-3.30615311861,-4.04455780983 -1.99018195271,-1.00276552141 l0.500052757561,4.74076420069 1.2384467572,4.19048786163 m6.87295436859,3.5198110342 l1.97010427713,0.800460577011 2.48325049877,-0.121530285105 l1.63740038872,-1.36782631278 m-4.525385499,-0.754274502397 l-0.258687715977,1.04975067079 0.183511860669,0.354312248528 l1.0502576828,-0.418815612793 \" fill=\"none\" stroke=\"black\" stroke-width=\"1\"/></svg>"
      ],
      "text/plain": [
       "<IPython.core.display.SVG object>"
      ]
     },
     "metadata": {},
     "output_type": "display_data"
    },
    {
     "name": "stdout",
     "output_type": "stream",
     "text": [
      "------------------\n",
      "492\n",
      "INFO:tensorflow:Loading model /home/calpeyser/checkpoints/dog/vector-41500.\n",
      "INFO:tensorflow:Restoring parameters from /home/calpeyser/checkpoints/dog/vector-41500\n"
     ]
    },
    {
     "data": {
      "image/svg+xml": [
       "<svg baseProfile=\"full\" height=\"70.1437936723\" version=\"1.1\" width=\"94.5762660354\" xmlns=\"http://www.w3.org/2000/svg\" xmlns:ev=\"http://www.w3.org/2001/xml-events\" xmlns:xlink=\"http://www.w3.org/1999/xlink\"><defs/><rect fill=\"white\" height=\"70.1437936723\" width=\"94.5762660354\" x=\"0\" y=\"0\"/><path d=\"M35.39679721,35.1368771493 m0.389879867435,1.29959955812 l-0.129959955812,3.11903893948 0.389879867435,2.72915899754 l0.649799779058,1.29959955812 1.29959955812,1.1696396023 l1.42955958843,0.389879867435 0.649799779058,-0.259919911623 l0.129959955812,-0.649799779058 -1.29959955812,-3.37895900011 l-0.129959955812,-1.42955958843 0.779759734869,-4.80851858854 l14.0356755257,0.389879867435 0.259919911623,4.80851858854 l1.81943938136,3.24899882078 1.29959955812,0.519839823246 l0.129959955812,-1.29959955812 -0.909719690681,-1.94939941168 l0.259919911623,-4.02875870466 0.649799779058,-0.649799779058 l4.02875870466,-0.519839823246 1.1696396023,-2.72915899754 l5.84819793701,-2.46923923492 1.42955958843,-2.33927920461 l-0.779759734869,-1.94939941168 -1.42955958843,-0.649799779058 l-3.89879882336,0.519839823246 -2.59919911623,1.29959955812 l-0.389879867435,0.649799779058 -4.15871858597,-0.649799779058 l-6.8878775835,-0.129959955812 -16.7648351192,1.29959955812 l-2.07935929298,1.1696396023 -1.68947950006,4.02875870466 l-3.89879882336,1.94939941168 0.519839823246,0.649799779058 l1.29959955812,0.129959955812 1.29959955812,-0.519839823246 l4.4186386466,-3.24899882078 1.29959955812,0.389879867435 l0.519839823246,1.94939941168 \" fill=\"none\" stroke=\"black\" stroke-width=\"1\"/></svg>"
      ],
      "text/plain": [
       "<IPython.core.display.SVG object>"
      ]
     },
     "metadata": {},
     "output_type": "display_data"
    },
    {
     "name": "stdout",
     "output_type": "stream",
     "text": [
      "INFO:tensorflow:Loading model /home/calpeyser/checkpoints/cat/vector-47500.\n",
      "INFO:tensorflow:Restoring parameters from /home/calpeyser/checkpoints/cat/vector-47500\n"
     ]
    },
    {
     "data": {
      "image/svg+xml": [
       "<svg baseProfile=\"full\" height=\"67.4967931956\" version=\"1.1\" width=\"67.8983698692\" xmlns=\"http://www.w3.org/2000/svg\" xmlns:ev=\"http://www.w3.org/2001/xml-events\" xmlns:xlink=\"http://www.w3.org/1999/xlink\"><defs/><rect fill=\"white\" height=\"67.4967931956\" width=\"67.8983698692\" x=\"0\" y=\"0\"/><path d=\"M29.4606097694,32.3056210577 m-0.887881442904,-0.793501958251 l-0.892734974623,0.0697997165844 -0.805345773697,0.805191770196 l-0.390976369381,3.17570656538 1.22938714921,3.41172873974 l2.57852137089,2.39106297493 2.68558144569,1.13112524152 l2.49074235559,5.90877834838e-05 2.94279813766,-1.3749115169 l2.62832373381,-2.58901745081 0.788345858455,-1.62296101451 l0.377794094384,-2.87871390581 -1.63774356246,-2.96865552664 l-1.2674933672,-0.805023834109 -5.74123740196,-0.98963752389 l-3.6220702529,0.839848518372 -0.762604400516,0.682888031006 m9.8405611515,-1.43866106868 l1.09279714525,-1.81692779064 2.45129987597,-2.53502011299 l0.339695326984,1.62837043405 -0.533039905131,4.94386464357 l-0.366593450308,1.18588790298 m-13.6264276505,-3.23548913002 l-3.28963637352,-3.89782398939 -0.082672489807,2.31483504176 l0.872561186552,4.15445625782 0.759829804301,1.1751640588 m6.04201197624,2.53524273634 l2.32217684388,0.393185988069 2.28214845061,-0.580731742084 m-5.05400121212,-0.74141189456 l0.48976611346,1.36359587312 0.514234267175,-0.119203012437 l0.413349457085,-2.40765705705 \" fill=\"none\" stroke=\"black\" stroke-width=\"1\"/></svg>"
      ],
      "text/plain": [
       "<IPython.core.display.SVG object>"
      ]
     },
     "metadata": {},
     "output_type": "display_data"
    },
    {
     "name": "stdout",
     "output_type": "stream",
     "text": [
      "------------------\n",
      "494\n",
      "INFO:tensorflow:Loading model /home/calpeyser/checkpoints/dog/vector-41500.\n",
      "INFO:tensorflow:Restoring parameters from /home/calpeyser/checkpoints/dog/vector-41500\n"
     ]
    },
    {
     "data": {
      "image/svg+xml": [
       "<svg baseProfile=\"full\" height=\"76.7717514187\" version=\"1.1\" width=\"88.7280677259\" xmlns=\"http://www.w3.org/2000/svg\" xmlns:ev=\"http://www.w3.org/2001/xml-events\" xmlns:xlink=\"http://www.w3.org/1999/xlink\"><defs/><rect fill=\"white\" height=\"76.7717514187\" width=\"88.7280677259\" x=\"0\" y=\"0\"/><path d=\"M33.4473971277,34.7469969094 m-3.11903893948,-1.42955958843 l-3.11903893948,-0.519839823246 -1.29959955812,0.649799779058 l-0.909719690681,1.29959955812 0.129959955812,1.29959955812 l0.649799779058,0.909719690681 1.1696396023,1.42955958843 l2.33927920461,1.42955958843 3.11903893948,0.129959955812 l1.29959955812,-0.649799779058 0.909719690681,-2.33927920461 l-1.1696396023,-2.59919911623 -0.519839823246,-0.259919911623 m0.129959955812,0.0 l12.3461961746,-1.03967964649 7.14779794216,0.0 l4.15871858597,0.649799779058 0.129959955812,0.649799779058 l-0.519839823246,2.07935929298 -1.42955958843,2.07935929298 l-5.84819793701,2.59919911623 -7.14779794216,0.649799779058 l-5.45831799507,-0.259919911623 -1.29959955812,-0.259919911623 l-1.81943938136,-1.94939941168 m7.27775752544,1.03967964649 l-0.389879867435,9.48707699776 m8.96723687649,-8.83727729321 l-0.519839823246,7.01783776283 -0.909719690681,3.76883894205 m8.57735753059,-18.0644345284 l3.11903893948,-6.49799764156 1.1696396023,-1.29959955812 l2.07935929298,-0.909719690681 0.649799779058,0.129959955812 l0.389879867435,1.29959955812 -0.259919911623,2.07935929298 l-0.779759734869,1.29959955812 -4.67855840921,4.02875870466 l-1.55951946974,0.779759734869 \" fill=\"none\" stroke=\"black\" stroke-width=\"1\"/></svg>"
      ],
      "text/plain": [
       "<IPython.core.display.SVG object>"
      ]
     },
     "metadata": {},
     "output_type": "display_data"
    },
    {
     "name": "stdout",
     "output_type": "stream",
     "text": [
      "INFO:tensorflow:Loading model /home/calpeyser/checkpoints/cat/vector-47500.\n",
      "INFO:tensorflow:Restoring parameters from /home/calpeyser/checkpoints/cat/vector-47500\n"
     ]
    },
    {
     "data": {
      "image/svg+xml": [
       "<svg baseProfile=\"full\" height=\"68.5004232591\" version=\"1.1\" width=\"68.0674013495\" xmlns=\"http://www.w3.org/2000/svg\" xmlns:ev=\"http://www.w3.org/2001/xml-events\" xmlns:xlink=\"http://www.w3.org/1999/xlink\"><defs/><rect fill=\"white\" height=\"68.5004232591\" width=\"68.0674013495\" x=\"0\" y=\"0\"/><path d=\"M29.6281613037,34.1566255456 m-0.660106092691,-0.856866165996 l-0.747294649482,-0.0785544514656 -0.742310285568,0.69766484201 l-0.266815945506,2.99391329288 1.36561349034,3.20761293173 l2.78745472431,2.24797904491 2.73177564144,1.13204821944 l2.59480983019,-0.0001196703397 2.67896711826,-1.45182147622 l2.70811825991,-2.92006969452 0.690328553319,-1.79166510701 l0.157062057406,-2.89464890957 -1.99453786016,-2.63890117407 l-1.40463456511,-0.65101929009 -8.75058948994,-0.717768445611 l-1.37935310602,0.606935285032 -0.714944303036,1.11432515085 m10.9459030628,-2.24956437945 l0.760228857398,-1.66837900877 2.3770147562,-2.68534481525 l0.302549991757,3.64961415529 -0.294731110334,3.1918078661 m-13.2873165607,-2.15810254216 l-2.60949492455,-3.90909552574 -1.87585875392,-1.3266056776 l0.221326611936,3.97545188665 1.11717730761,4.52796548605 m6.92739844322,3.37785422802 l2.49525263906,0.868200734258 1.79163694382,-0.360521972179 l1.25382170081,-1.44730821252 m-5.17155766487,-0.470108389854 l-0.25758376345,0.981148406863 0.326240174472,0.334903299809 l0.951306149364,-1.13013267517 \" fill=\"none\" stroke=\"black\" stroke-width=\"1\"/></svg>"
      ],
      "text/plain": [
       "<IPython.core.display.SVG object>"
      ]
     },
     "metadata": {},
     "output_type": "display_data"
    },
    {
     "name": "stdout",
     "output_type": "stream",
     "text": [
      "------------------\n",
      "504\n",
      "INFO:tensorflow:Loading model /home/calpeyser/checkpoints/dog/vector-41500.\n",
      "INFO:tensorflow:Restoring parameters from /home/calpeyser/checkpoints/dog/vector-41500\n"
     ]
    },
    {
     "data": {
      "image/svg+xml": [
       "<svg baseProfile=\"full\" height=\"70.9235530347\" version=\"1.1\" width=\"87.0385885239\" xmlns=\"http://www.w3.org/2000/svg\" xmlns:ev=\"http://www.w3.org/2001/xml-events\" xmlns:xlink=\"http://www.w3.org/1999/xlink\"><defs/><rect fill=\"white\" height=\"70.9235530347\" width=\"87.0385885239\" x=\"0\" y=\"0\"/><path d=\"M28.2489997894,27.9890790582 m0.129959955812,4.4186386466 l1.03967964649,1.1696396023 15.4652345181,-0.129959955812 l1.55951946974,-0.909719690681 1.03967964649,-1.29959955812 l1.68947950006,-4.2886787653 1.94939941168,-1.81943938136 l0.779759734869,-0.129959955812 3.37895900011,0.0 l2.59919911623,1.03967964649 0.779759734869,1.94939941168 l3.37895900011,0.779759734869 0.0,1.42955958843 l-0.389879867435,0.649799779058 -0.779759734869,0.259919911623 l-4.80851858854,0.0 -1.42955958843,0.779759734869 l-0.909719690681,1.29959955812 -1.29959955812,6.8878775835 l-1.68947950006,3.50891888142 -1.03967964649,1.29959955812 l-0.909719690681,-1.29959955812 0.0,-2.59919911623 l-0.649799779058,-0.129959955812 -1.1696396023,2.72915899754 l-1.1696396023,1.29959955812 -7.5376778841,0.0 l-2.33927920461,-0.519839823246 -4.4186386466,0.0 l-2.2093193233,-0.259919911623 0.0,-0.649799779058 l-1.81943938136,2.46923923492 -1.42955958843,0.0 l-1.03967964649,-1.03967964649 0.0,-2.07935929298 l1.03967964649,-1.29959955812 0.519839823246,-2.2093193233 l0.389879867435,-2.59919911623 -0.389879867435,-7.01783776283 l0.909719690681,-1.94939941168 \" fill=\"none\" stroke=\"black\" stroke-width=\"1\"/></svg>"
      ],
      "text/plain": [
       "<IPython.core.display.SVG object>"
      ]
     },
     "metadata": {},
     "output_type": "display_data"
    },
    {
     "name": "stdout",
     "output_type": "stream",
     "text": [
      "INFO:tensorflow:Loading model /home/calpeyser/checkpoints/cat/vector-47500.\n",
      "INFO:tensorflow:Restoring parameters from /home/calpeyser/checkpoints/cat/vector-47500\n"
     ]
    },
    {
     "data": {
      "image/svg+xml": [
       "<svg baseProfile=\"full\" height=\"67.9395905852\" version=\"1.1\" width=\"68.1099412777\" xmlns=\"http://www.w3.org/2000/svg\" xmlns:ev=\"http://www.w3.org/2001/xml-events\" xmlns:xlink=\"http://www.w3.org/1999/xlink\"><defs/><rect fill=\"white\" height=\"67.9395905852\" width=\"68.1099412777\" x=\"0\" y=\"0\"/><path d=\"M29.2333404534,32.6246243395 m-0.888513475657,-0.718700885773 l-0.868403464556,-0.00480812857859 -0.819781497121,0.731902047992 l-0.43455787003,3.12731593847 1.11906029284,3.42329084873 l2.42993608117,2.40547016263 2.867012918,1.35049626231 l2.49908000231,-0.00011112244465 2.92883753777,-1.1783888191 l2.78940171003,-2.41678521037 0.882220044732,-1.63952037692 l0.536081120372,-3.0952334404 -1.18594266474,-3.03343564272 l-1.11274413764,-0.854700356722 -5.49312591553,-1.15376792848 l-4.33668553829,0.440859608352 -0.875898823142,0.6277885288 m9.59190368652,-1.12854987383 l1.33716031909,-1.99344858527 2.48169928789,-2.51429736614 l0.429861210287,0.55031567812 -0.386147610843,5.67153036594 l-0.474315658212,1.81984275579 m-13.5380768776,-3.37337613106 l-3.42812359333,-3.7868848443 -0.283277537674,1.89810752869 l1.14203520119,4.3338984251 1.03080913424,2.42126047611 m5.48091113567,1.79671123624 l2.1467231214,0.215036775917 -0.286657437682,0.344167463481 m-1.46887004375,-0.393962748349 l1.08770921826,0.767826810479 0.436826050282,0.33313639462 l-0.340133011341,-0.771245360374 \" fill=\"none\" stroke=\"black\" stroke-width=\"1\"/></svg>"
      ],
      "text/plain": [
       "<IPython.core.display.SVG object>"
      ]
     },
     "metadata": {},
     "output_type": "display_data"
    },
    {
     "name": "stdout",
     "output_type": "stream",
     "text": [
      "------------------\n",
      "518\n",
      "INFO:tensorflow:Loading model /home/calpeyser/checkpoints/dog/vector-41500.\n",
      "INFO:tensorflow:Restoring parameters from /home/calpeyser/checkpoints/dog/vector-41500\n"
     ]
    },
    {
     "data": {
      "image/svg+xml": [
       "<svg baseProfile=\"full\" height=\"81.4503100514\" version=\"1.1\" width=\"104.193302244\" xmlns=\"http://www.w3.org/2000/svg\" xmlns:ev=\"http://www.w3.org/2001/xml-events\" xmlns:xlink=\"http://www.w3.org/1999/xlink\"><defs/><rect fill=\"white\" height=\"81.4503100514\" width=\"104.193302244\" x=\"0\" y=\"0\"/><path d=\"M29.0287582576,38.7757555395 m-0.649799779058,3.50891888142 l0.0,12.7360761166 0.259919911623,0.909719690681 l0.649799779058,0.519839823246 0.649799779058,-0.389879867435 l1.42955958843,-5.06843864918 0.779759734869,-9.8769569397 l7.01783776283,0.0 8.31743717194,1.42955958843 l2.46923923492,0.909719690681 2.2093193233,2.98907905817 l2.85911917686,9.09719705582 0.389879867435,0.649799779058 l0.649799779058,0.129959955812 0.779759734869,-0.909719690681 l0.779759734869,-2.46923923492 -1.1696396023,-9.74699676037 l1.29959955812,-0.779759734869 4.54859852791,-0.259919911623 l2.33927920461,0.389879867435 1.81943938136,0.909719690681 l5.71823835373,3.76883894205 2.98907905817,2.98907905817 l1.81943938136,2.46923923492 1.42955958843,-0.779759734869 l0.779759734869,-2.46923923492 -7.27775752544,-3.24899882078 l-5.06843864918,-3.76883894205 -5.84819793701,-3.37895900011 l-3.63887876272,-3.11903893948 -2.33927920461,-3.76883894205 l-1.81943938136,-1.1696396023 -4.54859852791,0.129959955812 l-6.8878775835,1.03967964649 -6.75791800022,-0.129959955812 l-4.67855840921,-1.55951946974 -1.29959955812,-1.1696396023 l-1.1696396023,-3.11903893948 m-2.46923923492,-1.1696396023 l-0.389879867435,0.0 \" fill=\"none\" stroke=\"black\" stroke-width=\"1\"/></svg>"
      ],
      "text/plain": [
       "<IPython.core.display.SVG object>"
      ]
     },
     "metadata": {},
     "output_type": "display_data"
    },
    {
     "name": "stdout",
     "output_type": "stream",
     "text": [
      "INFO:tensorflow:Loading model /home/calpeyser/checkpoints/cat/vector-47500.\n",
      "INFO:tensorflow:Restoring parameters from /home/calpeyser/checkpoints/cat/vector-47500\n"
     ]
    },
    {
     "data": {
      "image/svg+xml": [
       "<svg baseProfile=\"full\" height=\"68.7303234462\" version=\"1.1\" width=\"68.8010915741\" xmlns=\"http://www.w3.org/2000/svg\" xmlns:ev=\"http://www.w3.org/2001/xml-events\" xmlns:xlink=\"http://www.w3.org/1999/xlink\"><defs/><rect fill=\"white\" height=\"68.7303234462\" width=\"68.8010915741\" x=\"0\" y=\"0\"/><path d=\"M30.2574611828,32.8532976483 m-1.29402920604,-0.571504086256 l-1.20513595641,0.250423252583 -1.03618837893,1.06525696814 l-0.489948950708,3.444006145 0.381684266031,1.42067551613 l2.85934239626,3.70426863432 1.24913610518,0.852372571826 l3.69123280048,0.711526796222 3.08765441179,-0.611199773848 l2.72063910961,-2.03816458583 1.1661002785,-1.59038022161 l0.980899780989,-3.12462836504 -0.466995984316,-3.52283030748 l-0.868850871921,-0.996993556619 -3.0196917057,-1.13308496773 l-9.39724743366,0.0080194871407 -1.04174681008,0.661732256413 m0.401469953358,0.28395999223 l-1.87626287341,-3.88487309217 -1.0995221138,-1.83617025614 l3.27604651451,2.47025519609 2.50428140163,2.19905242324 m7.66019463539,-0.495975576341 l2.20182240009,-2.56860494614 2.79443621635,-2.55043715239 l0.364310406148,0.652832537889 -0.809144154191,6.34869635105 l-0.599119141698,2.27375417948 m-11.3850939274,2.51753419638 l1.08679190278,1.18602596223 0.476468801498,-0.205193944275 m-2.3363865912,-2.98090130091 l0.340828560293,0.762405544519 0.389220826328,0.256570186466 l1.46798610687,-0.723713338375 \" fill=\"none\" stroke=\"black\" stroke-width=\"1\"/></svg>"
      ],
      "text/plain": [
       "<IPython.core.display.SVG object>"
      ]
     },
     "metadata": {},
     "output_type": "display_data"
    },
    {
     "name": "stdout",
     "output_type": "stream",
     "text": [
      "------------------\n",
      "552\n",
      "INFO:tensorflow:Loading model /home/calpeyser/checkpoints/dog/vector-41500.\n",
      "INFO:tensorflow:Restoring parameters from /home/calpeyser/checkpoints/dog/vector-41500\n"
     ]
    },
    {
     "data": {
      "image/svg+xml": [
       "<svg baseProfile=\"full\" height=\"90.0276666135\" version=\"1.1\" width=\"100.034584403\" xmlns=\"http://www.w3.org/2000/svg\" xmlns:ev=\"http://www.w3.org/2001/xml-events\" xmlns:xlink=\"http://www.w3.org/1999/xlink\"><defs/><rect fill=\"white\" height=\"90.0276666135\" width=\"100.034584403\" x=\"0\" y=\"0\"/><path d=\"M65.677466169,36.8263556808 m-8.70731711388,0.909719690681 l-23.5227513313,-0.129959955812 -1.81943938136,1.03967964649 l-3.37895900011,4.54859852791 0.129959955812,2.72915899754 l1.29959955812,2.85911917686 2.98907905817,2.46923923492 l4.4186386466,1.29959955812 17.4146342278,0.0 l4.80851858854,-1.55951946974 3.50891888142,-0.649799779058 l1.55951946974,-0.649799779058 2.85911917686,-5.32835841179 l4.15871858597,-4.67855840921 m-13.1259560585,11.1765563488 l1.03967964649,2.07935929298 0.519839823246,2.2093193233 l-0.129959955812,9.8769569397 m-9.74699676037,-12.086275816 l-4.93847846985,7.66763746738 -0.389879867435,0.0 m-5.97815811634,-6.36803805828 l-1.81943938136,3.89879882336 -2.33927920461,3.11903893948 m-5.06843864918,-10.9166359901 l-0.779759734869,1.81943938136 -3.63887876272,3.76883894205 m38.5981082916,-19.8838734627 l3.50891888142,2.59919911623 5.19839823246,0.649799779058 l2.72915899754,-5.06843864918 0.0,-2.2093193233 l-2.33927920461,-3.11903893948 -4.93847846985,-2.85911917686 l-4.15871858597,-1.03967964649 -6.36803805828,0.0 l-1.42955958843,2.2093193233 0.0,0.909719690681 l1.42955958843,2.98907905817 3.76883894205,4.54859852791 l3.11903893948,2.2093193233 \" fill=\"none\" stroke=\"black\" stroke-width=\"1\"/></svg>"
      ],
      "text/plain": [
       "<IPython.core.display.SVG object>"
      ]
     },
     "metadata": {},
     "output_type": "display_data"
    },
    {
     "name": "stdout",
     "output_type": "stream",
     "text": [
      "INFO:tensorflow:Loading model /home/calpeyser/checkpoints/cat/vector-47500.\n",
      "INFO:tensorflow:Restoring parameters from /home/calpeyser/checkpoints/cat/vector-47500\n"
     ]
    },
    {
     "data": {
      "image/svg+xml": [
       "<svg baseProfile=\"full\" height=\"67.9037021846\" version=\"1.1\" width=\"67.8472694382\" xmlns=\"http://www.w3.org/2000/svg\" xmlns:ev=\"http://www.w3.org/2001/xml-events\" xmlns:xlink=\"http://www.w3.org/1999/xlink\"><defs/><rect fill=\"white\" height=\"67.9037021846\" width=\"67.8472694382\" x=\"0\" y=\"0\"/><path d=\"M29.9811864644,32.4789231643 m-1.05695053935,-0.65236851573 l-1.03700384498,0.08545152843 -1.00313469768,0.91667458415 l-0.465207844973,2.94518917799 0.864899903536,2.36766993999 l2.59064376354,2.85068780184 2.73536652327,1.62771582603 l2.88414508104,0.283758677542 2.9115152359,-1.32639408112 l2.70540416241,-2.68233567476 0.877585038543,-1.67330175638 l0.489848330617,-2.97337561846 -1.33431941271,-2.785551548 l-1.20856836438,-0.882426574826 -5.81377089024,-1.12288065255 l-3.95555108786,0.772402212024 -0.691495388746,0.778427571058 m9.69913482666,-1.53623059392 l1.08379356563,-1.95897787809 2.15914532542,-2.51305758953 l0.430603288114,0.581044591963 -0.219832714647,5.70256590843 l-0.292571652681,1.78868561983 m-13.6987257004,-3.11035275459 l-3.33250284195,-3.88225853443 -0.303636528552,2.0024818182 l1.13409236073,4.4885712862 m6.0189729929,3.39968562126 l1.87811344862,0.611236430705 0.444033928216,0.109316520393 l0.211253296584,-0.345964133739 m-1.39332607388,-1.48638010025 l1.29870086908,0.863544046879 0.104479147121,0.249391887337 l-1.75823315978,-1.2018866837 \" fill=\"none\" stroke=\"black\" stroke-width=\"1\"/></svg>"
      ],
      "text/plain": [
       "<IPython.core.display.SVG object>"
      ]
     },
     "metadata": {},
     "output_type": "display_data"
    },
    {
     "name": "stdout",
     "output_type": "stream",
     "text": [
      "------------------\n"
     ]
    }
   ],
   "source": [
    "# Now, \"body\"\n",
    "for i in DOG_BODY_IND:\n",
    "    print(i)\n",
    "    convert(i)"
   ]
  },
  {
   "cell_type": "code",
   "execution_count": null,
   "metadata": {},
   "outputs": [],
   "source": []
  }
 ],
 "metadata": {
  "kernelspec": {
   "display_name": "Python 2",
   "language": "python",
   "name": "python2"
  },
  "language_info": {
   "codemirror_mode": {
    "name": "ipython",
    "version": 2
   },
   "file_extension": ".py",
   "mimetype": "text/x-python",
   "name": "python",
   "nbconvert_exporter": "python",
   "pygments_lexer": "ipython2",
   "version": "2.7.14"
  }
 },
 "nbformat": 4,
 "nbformat_minor": 2
}
