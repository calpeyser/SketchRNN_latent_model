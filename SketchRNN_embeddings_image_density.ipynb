{
 "cells": [
  {
   "cell_type": "code",
   "execution_count": 36,
   "metadata": {},
   "outputs": [],
   "source": [
    "# import the required libraries\n",
    "import numpy as np\n",
    "import time\n",
    "import random\n",
    "import cPickle\n",
    "import codecs\n",
    "import collections\n",
    "import os\n",
    "import math\n",
    "import json\n",
    "import tensorflow as tf\n",
    "from six.moves import xrange\n",
    "import pickle\n",
    "from scipy import stats\n",
    "\n",
    "# libraries required for visualisation:\n",
    "from IPython.display import SVG, display\n",
    "import svgwrite # conda install -c omnia svgwrite=1.1.6\n",
    "import PIL\n",
    "from PIL import Image\n",
    "import matplotlib.pyplot as plt\n",
    "from svgpathtools import svg2paths, wsvg\n",
    "\n",
    "# set numpy output to something sensible\n",
    "np.set_printoptions(precision=8, edgeitems=6, linewidth=200, suppress=True)\n",
    "\n",
    "from magenta.models.sketch_rnn.sketch_rnn_train import *\n",
    "from magenta.models.sketch_rnn.model import *\n",
    "from magenta.models.sketch_rnn.utils import *\n",
    "from magenta.models.sketch_rnn.rnn import *"
   ]
  },
  {
   "cell_type": "code",
   "execution_count": 45,
   "metadata": {},
   "outputs": [
    {
     "name": "stdout",
     "output_type": "stream",
     "text": [
      "INFO:tensorflow:TensorFlow Version: 1.2.1\n"
     ]
    }
   ],
   "source": [
    "tf.logging.info(\"TensorFlow Version: %s\", tf.__version__)\n",
    "# little function that displays vector images and saves them to .svg\n",
    "def draw_strokes(data, factor=0.2, svg_filename = 'home/calpeyser/sketch/svg/sample.svg'):\n",
    "  tf.gfile.MakeDirs(os.path.dirname(svg_filename))\n",
    "  min_x, max_x, min_y, max_y = get_bounds(data, factor)\n",
    "  dims = (50 + max_x - min_x, 50 + max_y - min_y)\n",
    "  dwg = svgwrite.Drawing(svg_filename, size=dims)\n",
    "  dwg.add(dwg.rect(insert=(0, 0), size=dims,fill='white'))\n",
    "  lift_pen = 1\n",
    "  abs_x = 25 - min_x \n",
    "  abs_y = 25 - min_y\n",
    "  p = \"M%s,%s \" % (abs_x, abs_y)\n",
    "  command = \"m\"\n",
    "  for i in xrange(len(data)):\n",
    "    if (lift_pen == 1):\n",
    "      command = \"m\"\n",
    "    elif (command != \"l\"):\n",
    "      command = \"l\"\n",
    "    else:\n",
    "      command = \"\"\n",
    "    x = float(data[i,0])/factor\n",
    "    y = float(data[i,1])/factor\n",
    "    lift_pen = data[i, 2]\n",
    "    p += command+str(x)+\",\"+str(y)+\" \"\n",
    "  the_color = \"black\"\n",
    "  stroke_width = 1\n",
    "  dwg.add(dwg.path(p).stroke(the_color,stroke_width).fill(\"none\"))\n",
    "  dwg.save()\n",
    "  display(SVG(dwg.tostring()))\n",
    "\n",
    "# generate a 2D grid of many vector drawings\n",
    "def make_grid_svg(s_list, grid_space=10.0, grid_space_x=16.0):\n",
    "  def get_start_and_end(x):\n",
    "    x = np.array(x)\n",
    "    x = x[:, 0:2]\n",
    "    x_start = x[0]\n",
    "    x_end = x.sum(axis=0)\n",
    "    x = x.cumsum(axis=0)\n",
    "    x_max = x.max(axis=0)\n",
    "    x_min = x.min(axis=0)\n",
    "    center_loc = (x_max+x_min)*0.5\n",
    "    return x_start-center_loc, x_end\n",
    "  x_pos = 0.0\n",
    "  y_pos = 0.0\n",
    "  result = [[x_pos, y_pos, 1]]\n",
    "  for sample in s_list:\n",
    "    s = sample[0]\n",
    "    grid_loc = sample[1]\n",
    "    grid_y = grid_loc[0]*grid_space+grid_space*0.5\n",
    "    grid_x = grid_loc[1]*grid_space_x+grid_space_x*0.5\n",
    "    start_loc, delta_pos = get_start_and_end(s)\n",
    "\n",
    "    loc_x = start_loc[0]\n",
    "    loc_y = start_loc[1]\n",
    "    new_x_pos = grid_x+loc_x\n",
    "    new_y_pos = grid_y+loc_y\n",
    "    result.append([new_x_pos-x_pos, new_y_pos-y_pos, 0])\n",
    "\n",
    "    result += s.tolist()\n",
    "    result[-1][2] = 1\n",
    "    x_pos = new_x_pos+delta_pos[0]\n",
    "    y_pos = new_y_pos+delta_pos[1]\n",
    "  return np.array(result)\n",
    "\n",
    "sheep_model_dir = \"/home/calpeyser/sketch/models/aaron_sheep/lstm\"\n",
    "sheep_data_dir = \"http://github.com/hardmaru/sketch-rnn-datasets/raw/master/aaron_sheep/\"\n",
    "owl_model_dir = \"/home/calpeyser/sketch/models/owl/lstm\"\n",
    "owl_data_dir = \"/home/calpeyser/sketch/data/owl/\"\n",
    "flam_model_dir = \"/home/calpeyser/sketch/models/flamingo/lstm_uncond\"\n",
    "flam_data_dir = \"/home/calpeyser/sketch/data/flamingo/\"\n",
    "\n"
   ]
  },
  {
   "cell_type": "code",
   "execution_count": 3,
   "metadata": {},
   "outputs": [
    {
     "name": "stdout",
     "output_type": "stream",
     "text": [
      "INFO:tensorflow:Downloading http://github.com/hardmaru/sketch-rnn-datasets/raw/master/aaron_sheep/aaron_sheep.npz\n",
      "INFO:tensorflow:Loaded 7400/300/300 from aaron_sheep.npz\n",
      "INFO:tensorflow:Dataset combined: 8000 (7400/300/300), avg len 125\n",
      "INFO:tensorflow:model_params.max_seq_len 250.\n",
      "total images <= max_seq_len is 7400\n",
      "total images <= max_seq_len is 300\n",
      "total images <= max_seq_len is 300\n",
      "INFO:tensorflow:normalizing_scale_factor 18.5198.\n",
      "INFO:tensorflow:Model using gpu.\n",
      "INFO:tensorflow:Input dropout mode = 0.\n",
      "INFO:tensorflow:Output dropout mode = 0.\n",
      "INFO:tensorflow:Recurrent dropout mode = 0.\n",
      "INFO:tensorflow:Model using gpu.\n",
      "INFO:tensorflow:Input dropout mode = 0.\n",
      "INFO:tensorflow:Output dropout mode = 0.\n",
      "INFO:tensorflow:Recurrent dropout mode = 0.\n",
      "INFO:tensorflow:Loaded 70000/2500/2500 from extended_owl.npz\n",
      "INFO:tensorflow:Dataset combined: 75000 (70000/2500/2500), avg len 85\n",
      "INFO:tensorflow:model_params.max_seq_len 148.\n",
      "total images <= max_seq_len is 70000\n",
      "total images <= max_seq_len is 2500\n",
      "total images <= max_seq_len is 2500\n",
      "INFO:tensorflow:normalizing_scale_factor 42.7029.\n",
      "INFO:tensorflow:Model using gpu.\n",
      "INFO:tensorflow:Input dropout mode = 0.\n",
      "INFO:tensorflow:Output dropout mode = 0.\n",
      "INFO:tensorflow:Recurrent dropout mode = 0.\n",
      "INFO:tensorflow:Model using gpu.\n",
      "INFO:tensorflow:Input dropout mode = 0.\n",
      "INFO:tensorflow:Output dropout mode = 0.\n",
      "INFO:tensorflow:Recurrent dropout mode = 0.\n"
     ]
    }
   ],
   "source": [
    "[sheep_train_set, sheep_valid_set, sheep_test_set, sheep_hps_model, sheep_eval_hps_model, sheep_sample_hps_model] = load_env(sheep_data_dir, sheep_model_dir)\n",
    "sheep_eval_model = Model(sheep_eval_hps_model, reuse=False)\n",
    "sheep_sample_model = Model(sheep_sample_hps_model, reuse=True)\n",
    "\n",
    "[owl_train_set, owl_valid_set, owl_test_set, owl_hps_model, owl_eval_hps_model, owl_sample_hps_model] = load_env(owl_data_dir, owl_model_dir)\n",
    "owl_eval_model = Model(owl_eval_hps_model, reuse=True)\n",
    "owl_sample_model = Model(owl_sample_hps_model, reuse=True)\n",
    "\n",
    "\n",
    "#[flam_train_set, flam_valid_set, flam_test_set, flam_hps_model, flam_eval_hps_model, flam_sample_hps_model] = load_env(flam_data_dir, flam_model_dir)\n",
    "#flam_eval_model = Model(flam_eval_hps_model, reuse=True)\n",
    "#flam_sample_model = Model(flam_sample_hps_model, reuse=True)\n",
    "\n",
    "sess = tf.Session()\n",
    "sess.run(tf.global_variables_initializer())"
   ]
  },
  {
   "cell_type": "code",
   "execution_count": 4,
   "metadata": {},
   "outputs": [],
   "source": [
    "def encode(eval_model, input_strokes, max_len=129):\n",
    "  strokes = to_big_strokes(input_strokes, max_len=max_len).tolist()\n",
    "  strokes.insert(0, [0, 0, 1, 0, 0])\n",
    "  seq_len = [len(input_strokes)]\n",
    "  #draw_strokes(to_normal_strokes(np.array(strokes)))\n",
    "  return sess.run(eval_model.batch_z, feed_dict={eval_model.input_data: [strokes], eval_model.sequence_lengths: seq_len})[0]\n",
    "def decode(eval_model, sample_model, z_input=None, draw_mode=True, temperature=0.1, factor=0.2):\n",
    "  z = None\n",
    "  if z_input is not None:\n",
    "    z = [z_input]\n",
    "  sample_strokes, m = sample(sess, sample_model, seq_len=eval_model.hps.max_seq_len, temperature=temperature, z=z)\n",
    "  strokes = to_normal_strokes(sample_strokes)\n",
    "  return strokes"
   ]
  },
  {
   "cell_type": "code",
   "execution_count": null,
   "metadata": {},
   "outputs": [],
   "source": [
    "load_checkpoint(sess, cat_model_dir)\n",
    "cat = cat_test_set.random_sample()\n",
    "print(cat.shape)\n",
    "encoding = encode(cat_eval_model, cat)\n",
    "decoding = decode(cat_eval_model, cat_sample_model, encoding)\n",
    "\n",
    "draw_strokes(cat)\n",
    "print(encoding)\n",
    "draw_strokes(decoding)\n",
    " "
   ]
  },
  {
   "cell_type": "code",
   "execution_count": 8,
   "metadata": {},
   "outputs": [
    {
     "name": "stdout",
     "output_type": "stream",
     "text": [
      "0\n",
      "100\n",
      "200\n",
      "300\n",
      "400\n",
      "500\n",
      "600\n",
      "700\n",
      "800\n",
      "900\n"
     ]
    }
   ],
   "source": [
    "# Generate dataset\n",
    "for i in range(1000):\n",
    "    draw_strokes(owl_train_set.strokes[i], svg_filename=\"/home/calpeyser/sketch/sketches/owl/\" + str(i) + \".svg\")\n",
    "    if (i % 100 == 0):\n",
    "        print(i)"
   ]
  },
  {
   "cell_type": "code",
   "execution_count": 42,
   "metadata": {},
   "outputs": [
    {
     "name": "stdout",
     "output_type": "stream",
     "text": [
      "INFO:tensorflow:Loading model /home/calpeyser/sketch/models/aaron_sheep/lstm/vector.\n",
      "INFO:tensorflow:Restoring parameters from /home/calpeyser/sketch/models/aaron_sheep/lstm/vector\n",
      "INFO:tensorflow:Loading model /home/calpeyser/sketch/models/owl/lstm/vector.\n",
      "INFO:tensorflow:Restoring parameters from /home/calpeyser/sketch/models/owl/lstm/vector\n"
     ]
    }
   ],
   "source": [
    "# Sort samples by size\n",
    "def svg_len(paths):\n",
    "    out = 0\n",
    "    for line in paths:\n",
    "        out += line.length()\n",
    "    return out\n",
    "\n",
    "def sort_category(category):\n",
    "    sorted_svgs = []\n",
    "    for i in range(1000):\n",
    "        paths, attributes = svg2paths('/home/calpeyser/sketch/sketches/' + category + '/' + str(i) + '.svg')\n",
    "        sorted_svgs.append((i, svg_len(paths)))\n",
    "    sorted_svgs = sorted(sorted_svgs, key=lambda tup:tup[1])\n",
    "    return [sorted_svgs[i][0] for i in range(1000)]\n",
    "\n",
    "sheep_by_size_ind = sort_category(\"sheep\")\n",
    "owl_by_size_ind = sort_category(\"owl\")\n",
    "\n",
    "# load sheep model, map sketches onto embeddings\n",
    "load_checkpoint(sess, sheep_model_dir)\n",
    "sheep_by_size = [encode(sheep_eval_model, sheep_train_set.strokes[i], max_len=250) for i in sheep_by_size_ind]\n",
    "\n",
    "\n",
    "# load owl model, map sketches onto embeddings\n",
    "load_checkpoint(sess, owl_model_dir)\n",
    "owl_by_size = [encode(owl_eval_model, owl_train_set.strokes[i], max_len=148) for i in owl_by_size_ind]\n",
    "\n"
   ]
  },
  {
   "cell_type": "code",
   "execution_count": 43,
   "metadata": {},
   "outputs": [],
   "source": [
    "# Save to pkl\n",
    "PKL_path = '/home/calpeyser/sketch/labels/'\n",
    "f = open(PKL_path + 'sheep', 'wb')\n",
    "pickle.dump(sheep_by_size, f)\n",
    "f.close()\n",
    "\n",
    "f = open(PKL_path + 'sheep_ind', 'wb')\n",
    "pickle.dump(sheep_by_size_ind, f)\n",
    "f.close()\n",
    "\n",
    "f = open(PKL_path + 'owl', 'wb')\n",
    "pickle.dump(owl_by_size, f)\n",
    "f.close()\n",
    "\n",
    "f = open(PKL_path + 'owl_ind', 'wb')\n",
    "pickle.dump(owl_by_size_ind, f)\n",
    "f.close()"
   ]
  },
  {
   "cell_type": "code",
   "execution_count": 5,
   "metadata": {},
   "outputs": [],
   "source": [
    "# Load from pkl\n",
    "PKL_path = '/home/calpeyser/sketch/labels/'\n",
    "sheep_by_size = pickle.load(open('/home/calpeyser/sketch/labels/sheep', 'rb'))\n",
    "sheep_by_size_ind = pickle.load(open('/home/calpeyser/sketch/labels/sheep_ind', 'rb')) \n",
    "owl_by_size = pickle.load(open('/home/calpeyser/sketch/labels/owl', 'rb'))\n",
    "owl_by_size_ind = pickle.load(open('/home/calpeyser/sketch/labels/owl_ind', 'rb'))"
   ]
  },
  {
   "cell_type": "code",
   "execution_count": 48,
   "metadata": {},
   "outputs": [
    {
     "name": "stdout",
     "output_type": "stream",
     "text": [
      "INFO:tensorflow:Loading model /home/calpeyser/sketch/models/aaron_sheep/lstm/vector.\n",
      "INFO:tensorflow:Restoring parameters from /home/calpeyser/sketch/models/aaron_sheep/lstm/vector\n",
      "INFO:tensorflow:Loading model /home/calpeyser/sketch/models/owl/lstm/vector.\n",
      "INFO:tensorflow:Restoring parameters from /home/calpeyser/sketch/models/owl/lstm/vector\n"
     ]
    },
    {
     "data": {
      "image/svg+xml": [
       "<svg baseProfile=\"full\" height=\"54.3196954951\" version=\"1.1\" width=\"55.3996194899\" xmlns=\"http://www.w3.org/2000/svg\" xmlns:ev=\"http://www.w3.org/2001/xml-events\" xmlns:xlink=\"http://www.w3.org/1999/xlink\"><defs/><rect fill=\"white\" height=\"54.3196954951\" width=\"55.3996194899\" x=\"0\" y=\"0\"/><path d=\"M28.5097527131,25.539962016 m-0.809942930937,0.269980989397 l0.269980989397,2.42982879281 1.34990483522,0.0 l0.809942930937,-0.809942930937 -0.269980989397,-1.88986688852 l-1.34990483522,-0.539961978793 m-1.34990483522,1.34990483522 l-0.539961978793,-0.539961978793 -1.34990483522,0.269980989397 l0.269980989397,0.539961978793 1.34990483522,0.0 l0.0,-1.07992395759 -1.88986688852,0.269980989397 m3.23977172375,2.42982879281 l-0.539961978793,0.0 -0.269980989397,0.809942930937 m1.34990483522,-0.269980989397 l0.0,-0.539961978793 -0.269980989397,0.809942930937 m1.07992395759,-1.07992395759 l0.0,0.539961978793 m0.809942930937,-1.07992395759 l0.0,1.07992395759 m-0.539961978793,0.0 l-0.539961978793,0.0 0.0,0.809942930937 \" fill=\"none\" stroke=\"black\" stroke-width=\"1\"/></svg>"
      ],
      "text/plain": [
       "<IPython.core.display.SVG object>"
      ]
     },
     "metadata": {},
     "output_type": "display_data"
    },
    {
     "data": {
      "image/svg+xml": [
       "<svg baseProfile=\"full\" height=\"56.4173260287\" version=\"1.1\" width=\"54.5129311498\" xmlns=\"http://www.w3.org/2000/svg\" xmlns:ev=\"http://www.w3.org/2001/xml-events\" xmlns:xlink=\"http://www.w3.org/1999/xlink\"><defs/><rect fill=\"white\" height=\"56.4173260287\" width=\"54.5129311498\" x=\"0\" y=\"0\"/><path d=\"M26.1044695564,28.4702447118 m-0.911357551813,0.327533408999 l0.112644759938,2.30764552951 0.810541063547,-0.00234511549934 l0.108719803393,-1.17776915431 -0.122608644888,-0.624684803188 l-0.285322163254,9.27607470658e-05 -0.400768183172,-2.02221326617e-05 m0.351397618651,0.203278791159 l0.0191134540364,0.000343404353771 0.272222850472,-9.45441206568e-05 l-0.171087197959,-0.000204082716664 -0.222205240279,-0.000170781968336 l0.0949218962342,-0.000236196610786 m-0.145622687414,1.91371232271 l1.20767317712,-0.000178357022378 0.000548282077943,-1.27438366413 m-0.0096303538885,0.907491967082 l1.1205291748,-0.000206753684324 0.000585227608099,-0.914010256529 m0.515815019608,0.309802293777 l1.06183998287,-0.000196371947823 0.000511305661348,-0.65210364759 m-4.20989662409,-3.17195951939 l0.000365931227861,0.412280075252 0.974159538746,-0.000663616738166 m-1.27755999565,-2.03319817781 l1.39483213425,0.000121857656268 \" fill=\"none\" stroke=\"black\" stroke-width=\"1\"/></svg>"
      ],
      "text/plain": [
       "<IPython.core.display.SVG object>"
      ]
     },
     "metadata": {},
     "output_type": "display_data"
    },
    {
     "data": {
      "image/svg+xml": [
       "<svg baseProfile=\"full\" height=\"66.743602939\" version=\"1.1\" width=\"58.3132574521\" xmlns=\"http://www.w3.org/2000/svg\" xmlns:ev=\"http://www.w3.org/2001/xml-events\" xmlns:xlink=\"http://www.w3.org/1999/xlink\"><defs/><rect fill=\"white\" height=\"66.743602939\" width=\"58.3132574521\" x=\"0\" y=\"0\"/><path d=\"M25.5854408257,30.8544063941 m-0.35126440227,-0.93670502305 l0.0,-1.99049815536 0.585440658033,-1.99049815536 l0.93670502305,0.702528804541 0.93670502305,-0.468352511525 l2.81011521816,0.234176255763 0.702528804541,-1.40505760908 l0.468352511525,1.40505760908 -0.234176255763,3.86390835047 l0.819616913795,2.6930269599 -0.234176255763,4.44934904575 l-1.99049815536,1.05379313231 -1.99049815536,0.0 l-2.34176263213,-4.91770148277 -0.234176255763,-2.81011521816 m1.8734100461,8.07908117771 l-0.702528804541,1.63923382759 -0.468352511525,0.35126440227 l-0.35126440227,-0.234176255763 m5.38605391979,-1.99049815536 l0.93670502305,1.52214571834 1.17088131607,0.234176255763 m-0.702528804541,0.234176255763 l-0.468352511525,0.585440658033 m0.468352511525,-0.234176255763 l0.585440658033,0.234176255763 m-7.25946426392,0.0 l-0.234176255763,0.585440658033 m0.117088127881,-0.819616913795 l-0.819616913795,0.0 m0.819616913795,-8.78160953522 l0.468352511525,0.234176255763 0.468352511525,0.93670502305 l0.0,2.81011521816 m4.91770148277,-4.566437006 l-0.468352511525,1.05379313231 0.0,1.8734100461 l0.702528804541,1.52214571834 m-4.68352526426,-3.98099631071 l2.57593870163,-0.234176255763 0.468352511525,0.93670502305 m-3.51264387369,-4.33226078749 l0.0,0.0 m2.22467452288,0.0 l0.0,0.0 m-2.22467452288,0.35126440227 l0.0,0.0 \" fill=\"none\" stroke=\"black\" stroke-width=\"1\"/></svg>"
      ],
      "text/plain": [
       "<IPython.core.display.SVG object>"
      ]
     },
     "metadata": {},
     "output_type": "display_data"
    },
    {
     "data": {
      "image/svg+xml": [
       "<svg baseProfile=\"full\" height=\"81.1450265013\" version=\"1.1\" width=\"63.5436482506\" xmlns=\"http://www.w3.org/2000/svg\" xmlns:ev=\"http://www.w3.org/2001/xml-events\" xmlns:xlink=\"http://www.w3.org/1999/xlink\"><defs/><rect fill=\"white\" height=\"81.1450265013\" width=\"63.5436482506\" x=\"0\" y=\"0\"/><path d=\"M29.2437611897,30.1386252046 m-0.378137119114,-0.928367227316 l-7.26557686903e-06,-2.03236103058 0.237505976111,-1.48826345801 l0.717009678483,-0.689633488655 0.582841560245,0.556908026338 l0.918763354421,2.50121325254 0.660786256194,1.39250606298 m2.91569560766,0.0457000965253 l0.745608881116,-2.02564179897 0.717930421233,-1.74618795514 l0.737925693393,-0.246457196772 0.490429997444,1.06956854463 l0.00020338307877,2.49905005097 m-8.70208859444,1.00435249507 l-0.742724686861,-0.104884225875 -1.522654742,0.191430747509 l-1.31777510047,1.14266775548 -0.305074490607,0.953261777759 l0.000324429056491,2.99930423498 0.31241780147,0.916563421488 l0.556362010539,0.928424969316 1.35195314884,1.193863675 l2.08498224616,0.985797345638 2.71864563227,0.000598864717176 l3.62926661968,0.000567600764043 0.897838324308,-0.662794709206 l0.652378872037,-0.868736952543 0.471730008721,-0.913141220808 l0.000295503050438,-3.20429563522 -0.860357806087,-1.63531318307 l-1.19570434093,-1.06821991503 -1.43308505416,-0.706303715706 l-1.45651444793,-0.00186868710443 m-4.43293809891,2.23102420568 l0.000386833307857,0.219777543098 0.000409305102949,0.34254565835 l0.000505356947542,0.285967942327 0.479618161917,0.00402695382945 m4.866284132,-1.31084546447 l0.000429416759289,0.479707308114 0.0245470553637,-0.060151363723 l0.000364491970686,-0.139924464747 m-5.69685697556,6.44062876701 l0.000269589527306,2.53685832024 -0.517108403146,2.95515567064 l0.000463758224214,3.88773918152 0.244440548122,0.899569615722 m10.3664779663,-11.848089695 l0.475822165608,3.31393748522 -0.040543009527,4.4750764966 l-0.696090683341,3.18988889456 -0.610422901809,1.58333018422 m-8.45447778702,1.40674471855 l0.000436117843492,2.25075721741 -0.177250541747,1.60690590739 l-0.448954962194,1.19646169245 m6.40864908695,-5.97959518433 l0.695098862052,2.81809866428 0.464977324009,1.73937603831 \" fill=\"none\" stroke=\"black\" stroke-width=\"1\"/></svg>"
      ],
      "text/plain": [
       "<IPython.core.display.SVG object>"
      ]
     },
     "metadata": {},
     "output_type": "display_data"
    },
    {
     "name": "stdout",
     "output_type": "stream",
     "text": [
      "---------\n"
     ]
    },
    {
     "data": {
      "image/svg+xml": [
       "<svg baseProfile=\"full\" height=\"57.2894863412\" version=\"1.1\" width=\"60.5292578414\" xmlns=\"http://www.w3.org/2000/svg\" xmlns:ev=\"http://www.w3.org/2001/xml-events\" xmlns:xlink=\"http://www.w3.org/1999/xlink\"><defs/><rect fill=\"white\" height=\"57.2894863412\" width=\"60.5292578414\" x=\"0\" y=\"0\"/><path d=\"M29.8596573994,29.5896766707 m-0.269980989397,2.69980967045 m1.34990483522,-2.69980967045 l0.269980989397,2.42982879281 m2.69980967045,-2.15984791517 l0.0,2.15984791517 m1.07992395759,-1.88986688852 l0.539961978793,0.269980989397 0.0,1.34990483522 m-0.809942930937,-5.3996193409 l-4.58967655897,1.34990483522 5.12963891029,0.0 m-7.01950550079,-2.15984791517 l-2.42982879281,-0.539961978793 -0.539961978793,0.539961978793 l-0.269980989397,1.34990483522 m0.0,0.269980989397 l1.07992395759,-0.269980989397 0.269980989397,-0.539961978793 l1.61988586187,0.0 m-1.88986688852,-0.269980989397 l-0.269980989397,-0.269980989397 \" fill=\"none\" stroke=\"black\" stroke-width=\"1\"/></svg>"
      ],
      "text/plain": [
       "<IPython.core.display.SVG object>"
      ]
     },
     "metadata": {},
     "output_type": "display_data"
    },
    {
     "data": {
      "image/svg+xml": [
       "<svg baseProfile=\"full\" height=\"56.5240859434\" version=\"1.1\" width=\"62.5921112272\" xmlns=\"http://www.w3.org/2000/svg\" xmlns:ev=\"http://www.w3.org/2001/xml-events\" xmlns:xlink=\"http://www.w3.org/1999/xlink\"><defs/><rect fill=\"white\" height=\"56.5240859434\" width=\"62.5921112272\" x=\"0\" y=\"0\"/><path d=\"M28.3164258617,28.350341861 m-0.338473804295,2.69429028034 m3.10840964317,-2.75143533945 l0.00689512584358,3.23088914156 m1.48187741637,-3.03041219711 l0.00117510986456,2.2728921473 m2.7654287219,-1.92575052381 l0.000319815881085,2.57835626602 m2.24993318319,-2.97335714102 l0.000120153517855,2.16857537627 m-9.8780554533,-3.7501001358 l-0.000354942967533,-0.359431952238 0.473932661116,-0.00131366425194 l1.19264654815,-0.0010166051652 -0.425390489399,0.806441828609 l0.813428461552,-0.00106939041871 0.829126089811,-0.00118117044622 l0.480922199786,-0.00122867466416 m-3.35583209991,-1.16617925465 l0.325458981097,-0.000232929924096 m-3.04799318314,-1.13873943686 l0.0106721196789,-0.000338485260727 \" fill=\"none\" stroke=\"black\" stroke-width=\"1\"/></svg>"
      ],
      "text/plain": [
       "<IPython.core.display.SVG object>"
      ]
     },
     "metadata": {},
     "output_type": "display_data"
    },
    {
     "data": {
      "image/svg+xml": [
       "<svg baseProfile=\"full\" height=\"65.9239857644\" version=\"1.1\" width=\"61.5917248838\" xmlns=\"http://www.w3.org/2000/svg\" xmlns:ev=\"http://www.w3.org/2001/xml-events\" xmlns:xlink=\"http://www.w3.org/1999/xlink\"><defs/><rect fill=\"white\" height=\"65.9239857644\" width=\"61.5917248838\" x=\"0\" y=\"0\"/><path d=\"M31.2056704983,26.8734100461 m0.819616913795,-1.8734100461 l1.40505760908,3.51264387369 m-2.57593870163,-1.63923382759 l-3.16137939692,-0.117088127881 -1.17088131607,1.17088131607 l-0.234176255763,1.17088131607 m0.0,0.0 l-1.28796935081,-0.117088127881 0.234176255763,1.05379313231 l1.52214571834,2.22467452288 0.234176255763,1.17088131607 l1.28796935081,0.35126440227 0.702528804541,-1.05379313231 l0.585440658033,0.234176255763 0.35126440227,-0.585440658033 l0.35126440227,0.234176255763 m2.92720317841,-5.38605391979 l1.28796935081,4.566437006 m-1.05379313231,-2.45885074139 l0.585440658033,2.6930269599 -0.585440658033,0.117088127881 l-0.585440658033,-0.468352511525 -2.45885074139,0.702528804541 m-1.17088131607,0.468352511525 l0.117088127881,1.52214571834 -1.28796935081,2.45885074139 l0.585440658033,0.117088127881 0.585440658033,2.6930269599 l0.585440658033,-0.234176255763 0.702528804541,1.52214571834 l0.35126440227,-0.117088127881 m2.81011521816,-9.24996197224 l2.92720317841,5.97149431705 -0.117088127881,0.585440658033 l-1.05379313231,0.93670502305 -1.75632193685,0.0 l-1.75632193685,0.93670502305 -1.17088131607,0.0 m-2.34176263213,-10.1866674423 l0.468352511525,1.17088131607 0.117088127881,-0.819616913795 l0.0,0.585440658033 m1.75632193685,-2.34176263213 l0.468352511525,1.63923382759 m-0.702528804541,0.585440658033 l0.585440658033,0.35126440227 -0.819616913795,0.117088127881 m-1.8734100461,3.86390835047 \" fill=\"none\" stroke=\"black\" stroke-width=\"1\"/></svg>"
      ],
      "text/plain": [
       "<IPython.core.display.SVG object>"
      ]
     },
     "metadata": {},
     "output_type": "display_data"
    },
    {
     "data": {
      "image/svg+xml": [
       "<svg baseProfile=\"full\" height=\"91.6728417264\" version=\"1.1\" width=\"62.2688533776\" xmlns=\"http://www.w3.org/2000/svg\" xmlns:ev=\"http://www.w3.org/2001/xml-events\" xmlns:xlink=\"http://www.w3.org/1999/xlink\"><defs/><rect fill=\"white\" height=\"91.6728417264\" width=\"62.2688533776\" x=\"0\" y=\"0\"/><path d=\"M28.9133591646,56.098196941 m0.801050290465,-1.47509247065 m4.84958291054,3.80614548922 l-0.000471066923637,0.167140159756 0.000356276905222,-0.283705033362 l0.000309127608489,-0.058098915033 -1.92696711565e-05,-0.164174567908 l0.000227534001169,0.0537488376722 0.000312897427648,0.459481738508 l0.000241229317908,1.62967339158 -0.124786356464,1.21943868697 l-0.252789203078,1.16289943457 4.626027021e-05,1.18371486664 l-0.539387911558,1.03179782629 -0.678774267435,1.03244386613 l-0.982887819409,0.809231474996 -0.178541783243,-0.0832680147141 l-7.38915241527e-05,-0.68083666265 0.000123749414342,-1.25631779432 l0.000169994200405,-1.92570626736 0.000247711832344,-2.16294795275 l0.000304733748635,-1.80152967572 0.00029832994187,-1.81884586811 l-0.103717129678,-0.75832284987 0.000276050341199,-0.927123054862 m-4.06161725521,-5.04977166653 l-0.440570265055,-0.238154791296 -1.41428008676,-1.73823177814 l-0.788877382874,-2.5701880455 -0.000112571751743,-4.22894954681 l0.000128155179482,-4.27362948656 0.37129599601,-2.31747224927 l0.366765186191,-1.88045889139 0.474117994308,-1.31577372551 l0.503930523992,-0.704099163413 0.906064063311,-0.980277359486 l1.08872443438,-0.48571318388 2.15347588062,0.00186267425306 l2.34217271209,0.00223437527893 1.73927083611,1.33038014174 l1.4333191514,1.99738368392 0.381006933749,0.818102657795 l0.508288182318,0.825921669602 0.000293327957479,5.29574155807 l-0.100161125883,0.810868814588 0.000356933160219,4.44601148367 l-0.199228469282,0.747059583664 0.000334458381985,3.12170028687 l-0.612144097686,1.17385797203 m-8.89134585857,-18.9401078224 l0.00013859757928,0.0478547252715 0.000165762776305,-0.116336010396 l0.0002171363667,-1.04412451386 8.93613378139e-05,-1.51406094432 l4.50392326456e-05,-1.27309605479 0.000175193090399,-1.03209726512 l0.000223272309086,-0.326892100275 0.000203009858524,-0.0336228031665 l0.000223061852012,0.721220523119 5.09530354975e-05,1.90350487828 l7.44155295251e-05,1.62483498454 m5.78667521477,-0.617300271988 l0.416589081287,-1.29273846745 0.579001232982,-2.03058257699 l0.471645928919,-0.655879974365 0.583462715149,-0.466924905777 l0.000370531270164,1.36048927903 0.00018048182028,2.65389561653 l-0.371554121375,1.20993502438 m-6.43884658813,5.12282013893 l0.000239777364186,1.01102806628 0.779084414244,0.440247729421 l0.696927085519,0.0506018660963 0.461211390793,-1.27353087068 m-3.47835659981,3.0000731349 l0.000222694270633,1.69044300914 0.682118684053,0.698563158512 l0.667253881693,0.405261032283 2.40581199527,0.00226272488362 \" fill=\"none\" stroke=\"black\" stroke-width=\"1\"/></svg>"
      ],
      "text/plain": [
       "<IPython.core.display.SVG object>"
      ]
     },
     "metadata": {},
     "output_type": "display_data"
    },
    {
     "name": "stdout",
     "output_type": "stream",
     "text": [
      "---------\n"
     ]
    },
    {
     "data": {
      "image/svg+xml": [
       "<svg baseProfile=\"full\" height=\"54.8596575856\" version=\"1.1\" width=\"61.0692200065\" xmlns=\"http://www.w3.org/2000/svg\" xmlns:ev=\"http://www.w3.org/2001/xml-events\" xmlns:xlink=\"http://www.w3.org/1999/xlink\"><defs/><rect fill=\"white\" height=\"54.8596575856\" width=\"61.0692200065\" x=\"0\" y=\"0\"/><path d=\"M27.4298289791,25.8099430427 m0.0,1.88986688852 l0.809942930937,0.0 0.269980989397,0.809942930937 l0.809942930937,0.0 0.269980989397,-1.07992395759 l1.34990483522,0.0 0.0,0.539961978793 l0.809942930937,0.0 0.269980989397,-0.539961978793 l1.61988586187,0.0 0.269980989397,0.809942930937 l0.539961978793,0.0 0.0,-2.15984791517 l-0.809942930937,0.269980989397 0.0,-0.809942930937 l-1.88986688852,0.0 -0.269980989397,-0.539961978793 l-1.07992395759,0.0 -0.809942930937,1.34990483522 l0.0,-1.07992395759 -1.07992395759,0.0 l-0.539961978793,0.539961978793 0.539961978793,0.539961978793 l2.9697906971,0.0 m-3.5097527504,2.42982879281 l0.0,1.07992395759 m1.34990483522,-1.34990483522 l0.0,1.07992395759 m2.9697906971,-1.34990483522 l0.0,1.07992395759 m1.07992395759,-1.07992395759 l0.539961978793,0.539961978793 m1.61988586187,-3.23977172375 l0.539961978793,0.0 m-8.90937209129,0.269980989397 l-2.15984791517,0.0 0.0,1.07992395759 l1.61988586187,0.0 \" fill=\"none\" stroke=\"black\" stroke-width=\"1\"/></svg>"
      ],
      "text/plain": [
       "<IPython.core.display.SVG object>"
      ]
     },
     "metadata": {},
     "output_type": "display_data"
    },
    {
     "data": {
      "image/svg+xml": [
       "<svg baseProfile=\"full\" height=\"55.7169923498\" version=\"1.1\" width=\"60.7237660075\" xmlns=\"http://www.w3.org/2000/svg\" xmlns:ev=\"http://www.w3.org/2001/xml-events\" xmlns:xlink=\"http://www.w3.org/1999/xlink\"><defs/><rect fill=\"white\" height=\"55.7169923498\" width=\"60.7237660075\" x=\"0\" y=\"0\"/><path d=\"M25,25.4416085592 m0.00181421433808,1.8851236999 l0.694735124707,-0.0781529955566 1.17219358683,-0.994531288743 l0.204242505133,0.000903625550563 0.000230359237321,0.978867188096 l0.826023444533,-0.000132364139063 0.637837573886,-1.54979079962 l0.677430555224,1.37138620019 1.16871267557,-8.50341984915e-05 l0.436446033418,-1.43572956324 0.82794316113,1.04561306536 l0.685297250748,-9.44573821471e-05 0.202669389546,-1.66494086385 l0.0685546873137,-4.49716026196e-05 -0.277601070702,3.64148650078e-05 l-0.57592369616,0.000123872578115 -0.689502954483,9.05072647583e-05 l-0.678705126047,0.000168163260241 -0.694485455751,0.000206501481443 l-0.916247591376,0.0003014455433 -1.16714477539,0.000292869353871 l-0.000201552447834,0.336721166968 -0.289786774665,0.000229808083532 l-0.341944694519,0.000208888886846 -0.0736446026713,0.000175520253833 m0.608585402369,4.04631704092 l-5.67208826396e-05,1.33212015033 m2.16682702303,-1.23822316527 l-8.08782533568e-05,1.16265021265 m4.74140375853,-1.47557765245 l-6.78842695834e-06,1.36232495308 m1.30813077092,-1.6611687839 l2.11728115573e-05,1.0249850899 m-8.23348224163,-4.47834283113 l-0.312639996409,0.000199845235329 -0.265854373574,0.000221008922381 l-0.217591430992,6.89879925631e-05 m-0.483946315944,1.39695480466 l-0.0284990039654,0.000313226191793 \" fill=\"none\" stroke=\"black\" stroke-width=\"1\"/></svg>"
      ],
      "text/plain": [
       "<IPython.core.display.SVG object>"
      ]
     },
     "metadata": {},
     "output_type": "display_data"
    },
    {
     "data": {
      "image/svg+xml": [
       "<svg baseProfile=\"full\" height=\"62.0600772277\" version=\"1.1\" width=\"57.4936403893\" xmlns=\"http://www.w3.org/2000/svg\" xmlns:ev=\"http://www.w3.org/2001/xml-events\" xmlns:xlink=\"http://www.w3.org/1999/xlink\"><defs/><rect fill=\"white\" height=\"62.0600772277\" width=\"57.4936403893\" x=\"0\" y=\"0\"/><path d=\"M28.1613795832,25 m-0.702528804541,0.0 l-1.17088131607,0.819616913795 -0.117088127881,1.40505760908 l0.819616913795,1.99049815536 0.93670502305,1.8734100461 l1.17088131607,0.35126440227 2.81011521816,-2.22467452288 l0.117088127881,-1.75632193685 -0.468352511525,-0.702528804541 l-2.34176263213,-1.52214571834 -0.819616913795,0.234176255763 m0.234176255763,5.03478944302 l-3.62973213196,-0.234176255763 1.52214571834,1.75632193685 l0.819616913795,3.51264387369 0.702528804541,1.17088131607 l1.28796935081,0.117088127881 1.28796935081,-0.585440658033 l0.93670502305,-1.17088131607 0.0,-1.28796935081 l-0.585440658033,-0.234176255763 -1.8734100461,-3.04429143667 l-1.28796935081,-0.585440658033 m2.34176263213,1.28796935081 l1.40505760908,0.819616913795 m-0.234176255763,0.0 l0.468352511525,0.702528804541 0.117088127881,1.75632193685 l0.585440658033,1.40505760908 -0.234176255763,0.585440658033 l-0.468352511525,-0.117088127881 m-5.73731839657,-6.55693531036 l-0.585440658033,0.585440658033 0.702528804541,3.62973213196 l-0.819616913795,3.04429143667 0.468352511525,-0.117088127881 m2.10758626461,-9.48413848877 l0.0,0.585440658033 0.585440658033,0.117088127881 l0.585440658033,-0.35126440227 -0.93670502305,-0.35126440227 m2.45885074139,0.35126440227 l-0.35126440227,0.585440658033 -0.35126440227,-0.468352511525 m-1.8734100461,0.93670502305 l0.35126440227,0.585440658033 1.75632193685,0.0 \" fill=\"none\" stroke=\"black\" stroke-width=\"1\"/></svg>"
      ],
      "text/plain": [
       "<IPython.core.display.SVG object>"
      ]
     },
     "metadata": {},
     "output_type": "display_data"
    },
    {
     "data": {
      "image/svg+xml": [
       "<svg baseProfile=\"full\" height=\"77.728819328\" version=\"1.1\" width=\"63.7491199012\" xmlns=\"http://www.w3.org/2000/svg\" xmlns:ev=\"http://www.w3.org/2001/xml-events\" xmlns:xlink=\"http://www.w3.org/1999/xlink\"><defs/><rect fill=\"white\" height=\"77.728819328\" width=\"63.7491199012\" x=\"0\" y=\"0\"/><path d=\"M29.2081590075,43.2735322377 m-0.707611963153,-0.0527176260948 l-1.26961708069,0.715757086873 -0.26815675199,0.801028013229 l0.000113747883006,1.79500669241 0.87662473321,1.54252424836 l1.05803400278,1.1924919486 1.00753523409,0.806289985776 l0.857119932771,-0.367777682841 0.0558710983023,-3.09540748596 l-0.960298627615,-2.70280689001 -0.99442102015,-1.23669527471 m0.176940839738,-2.1768720448 l-0.422001332045,-0.716712847352 -0.911109820008,-1.98434978724 l-0.554780624807,-1.6943064332 -0.6454090029,-2.87577033043 l-0.0180349720176,-1.07790626585 0.662652775645,-1.92604571581 l1.34555146098,-1.68991789222 0.851416885853,-0.584080256522 l1.6255325079,0.0044488615822 2.08705037832,0.00309726718115 l1.87202677131,0.536545291543 1.56985774636,1.05982407928 l1.24941289425,1.56088426709 0.848707556725,2.01580181718 l0.000211045335163,3.29027950764 -0.382545255125,1.30463480949 l-1.5355977416,2.22601205111 -1.56283438206,1.30841612816 l-1.68594688177,0.763266757131 -0.406444408,-0.000631315488135 m-5.58999955654,-9.83600854874 l-0.605417490005,-1.63336500525 -3.31621640726e-05,-3.01640629768 l0.554851852357,-1.6282954812 0.574629418552,-0.480622686446 l1.48048967123,-0.423145182431 1.0235042125,0.00165634293808 l1.40130117536,0.001259821438 1.37325391173,0.38570869714 l1.62141814828,1.12567357719 0.621301531792,0.64804635942 l0.726530179381,1.41442403197 0.268316473812,1.01016335189 l0.000210529906326,1.68446570635 m-7.06759691238,-0.296332780272 l0.000152955690282,0.236455146223 0.765579938889,0.069748996757 l0.17137542367,-0.876088142395 0.000310816431011,-0.639885962009 m2.77346134186,0.243273433298 l0.000393388436351,0.13025328517 0.748139768839,0.118684582412 l0.323928259313,-0.687666684389 -0.640693753958,-0.318633615971 m-5.99864006042,11.8900382519 l-0.85651896894,1.93479716778 -1.27456560731,2.78914541006 l-0.423692241311,1.54000818729 4.17140654463e-05,2.85078912973 l0.889519006014,1.58930286765 m10.1525831223,-11.3241672516 l0.997732505202,2.4380107224 1.23523287475,3.28911602497 l0.4738509655,2.37761825323 0.000159713436005,2.40270018578 l-0.646752342582,1.70025423169 \" fill=\"none\" stroke=\"black\" stroke-width=\"1\"/></svg>"
      ],
      "text/plain": [
       "<IPython.core.display.SVG object>"
      ]
     },
     "metadata": {},
     "output_type": "display_data"
    },
    {
     "name": "stdout",
     "output_type": "stream",
     "text": [
      "---------\n"
     ]
    },
    {
     "data": {
      "image/svg+xml": [
       "<svg baseProfile=\"full\" height=\"60.2592774481\" version=\"1.1\" width=\"60.5292582884\" xmlns=\"http://www.w3.org/2000/svg\" xmlns:ev=\"http://www.w3.org/2001/xml-events\" xmlns:xlink=\"http://www.w3.org/1999/xlink\"><defs/><rect fill=\"white\" height=\"60.2592774481\" width=\"60.5292582884\" x=\"0\" y=\"0\"/><path d=\"M25.8099429682,28.2397717983 m-0.539961978793,1.34990483522 l-0.269980989397,-1.07992395759 0.539961978793,-1.88986688852 l0.809942930937,-0.809942930937 1.61988586187,0.0 l0.269980989397,1.07992395759 1.34990483522,-1.34990483522 l4.31969583035,-0.539961978793 1.61988586187,2.42982879281 l0.0,1.07992395759 -0.809942930937,0.809942930937 l-1.07992395759,0.0 -0.539961978793,-2.42982879281 m-5.66960036755,0.539961978793 l-0.809942930937,5.12963891029 0.0,2.69980967045 l1.07992395759,0.0 4.0497148037,-2.69980967045 l0.539961978793,-1.07992395759 0.0,-3.23977172375 m-3.77973377705,0.809942930937 l0.539961978793,-0.539961978793 m-0.269980989397,2.42982879281 l1.61988586187,-0.269980989397 m-0.269980989397,-2.69980967045 l0.809942930937,0.0 \" fill=\"none\" stroke=\"black\" stroke-width=\"1\"/></svg>"
      ],
      "text/plain": [
       "<IPython.core.display.SVG object>"
      ]
     },
     "metadata": {},
     "output_type": "display_data"
    },
    {
     "data": {
      "image/svg+xml": [
       "<svg baseProfile=\"full\" height=\"54.3998837725\" version=\"1.1\" width=\"55.8098786146\" xmlns=\"http://www.w3.org/2000/svg\" xmlns:ev=\"http://www.w3.org/2001/xml-events\" xmlns:xlink=\"http://www.w3.org/1999/xlink\"><defs/><rect fill=\"white\" height=\"54.3998837725\" width=\"55.8098786146\" x=\"0\" y=\"0\"/><path d=\"M25.9351463988,27.9501749829 m-0.480644516647,1.44970878959 l-0.454501882195,-1.14813916385 0.442079380155,-0.820562615991 l0.819671750069,-0.820822566748 1.15065775812,-1.61035388708 l1.34419754148,-5.53881477572e-06 0.000114597769425,0.139092970639 l0.000189516558748,0.461846962571 1.2234184891,5.46296462289e-06 l0.000397265539505,0.783649161458 0.829152315855,8.28926715712e-06 l-0.287678781897,1.25551655889 -0.502559430897,-0.000116902892842 l-0.798972547054,-4.62083244201e-05 -1.14365801215,-0.000112982106657 m-0.381769910455,-0.720657780766 l0.0002151692388,1.224418208 -0.0389935891144,-0.000259476200881 l0.548682026565,-0.00025591620215 m-0.0117276783567,-1.42066553235 l0.000147283399201,1.65291145444 0.423904284835,-0.000289869458356 l-2.10687858271e-05,0.482146888971 m-1.73288568854,-2.42961764336 l-0.000103102092908,1.61470785737 m0.298272334039,-2.35125541687 l-0.000361521852028,1.51001989841 \" fill=\"none\" stroke=\"black\" stroke-width=\"1\"/></svg>"
      ],
      "text/plain": [
       "<IPython.core.display.SVG object>"
      ]
     },
     "metadata": {},
     "output_type": "display_data"
    },
    {
     "data": {
      "image/svg+xml": [
       "<svg baseProfile=\"full\" height=\"63.5822232068\" version=\"1.1\" width=\"56.7911114357\" xmlns=\"http://www.w3.org/2000/svg\" xmlns:ev=\"http://www.w3.org/2001/xml-events\" xmlns:xlink=\"http://www.w3.org/1999/xlink\"><defs/><rect fill=\"white\" height=\"63.5822232068\" width=\"56.7911114357\" x=\"0\" y=\"0\"/><path d=\"M26.8734101206,27.8101151064 m-1.17088131607,0.0 l-0.702528804541,1.28796935081 1.40505760908,1.75632193685 l1.28796935081,0.585440658033 2.6930269599,0.0 l0.702528804541,-0.702528804541 0.0,-3.16137939692 l-1.05379313231,-1.75632193685 -2.45885074139,-0.819616913795 l-1.75632193685,0.234176255763 -0.468352511525,1.17088131607 l1.8734100461,0.702528804541 m0.234176255763,3.86390835047 l-1.17088131607,0.35126440227 -0.35126440227,0.585440658033 l-0.702528804541,3.27846765518 0.117088127881,1.40505760908 l1.17088131607,1.05379313231 2.45885074139,0.93670502305 l0.585440658033,0.0 0.468352511525,-0.585440658033 l1.17088131607,-2.81011521816 0.0,-2.45885074139 l-0.234176255763,-0.585440658033 -0.93670502305,0.0 m-2.92720317841,-0.702528804541 l-0.702528804541,2.92720317841 -1.17088131607,2.10758626461 m3.98099631071,-4.09808456898 l0.234176255763,3.39555561543 1.75632193685,0.234176255763 l0.585440658033,-1.75632193685 0.0,-1.52214571834 l-0.35126440227,-0.585440658033 -1.05379313231,-0.35126440227 m-2.22467452288,-2.92720317841 l0.0,0.702528804541 0.702528804541,0.35126440227 l-0.585440658033,-0.585440658033 m-0.585440658033,-3.27846765518 l0.0,0.0 m1.40505760908,1.05379313231 l0.0,0.0 m-2.81011521816,-1.28796935081 l-0.819616913795,2.10758626461 0.0,0.93670502305 m3.39555561543,-1.99049815536 l0.0,0.0 \" fill=\"none\" stroke=\"black\" stroke-width=\"1\"/></svg>"
      ],
      "text/plain": [
       "<IPython.core.display.SVG object>"
      ]
     },
     "metadata": {},
     "output_type": "display_data"
    },
    {
     "data": {
      "image/svg+xml": [
       "<svg baseProfile=\"full\" height=\"80.5453128649\" version=\"1.1\" width=\"65.6236349254\" xmlns=\"http://www.w3.org/2000/svg\" xmlns:ev=\"http://www.w3.org/2001/xml-events\" xmlns:xlink=\"http://www.w3.org/1999/xlink\"><defs/><rect fill=\"white\" height=\"80.5453128649\" width=\"65.6236349254\" x=\"0\" y=\"0\"/><path d=\"M30.2080861276,36.1547603268 m-1.18372790515,-0.0241604004987 l-1.10891796649,1.09023794532 0.87668851018,2.16877773404 l1.55193343759,0.780625492334 2.24218294024,-0.00177203532076 l0.411792658269,-0.5484418571 0.000271228727797,-1.78388118744 l-1.01560540497,-1.2532132864 -1.88392296433,-0.876269340515 l-0.283945016563,-0.00261449575191 m3.02408099174,0.585188530385 l-0.11164650321,0.135491807014 0.000395308597945,0.753914341331 l0.741705000401,2.02814906836 0.582512877882,0.360458083451 l1.66815921664,-0.000415149115724 0.419045612216,-0.585657991469 l0.000253741418419,-1.57875552773 -1.92077025771,-1.82652264833 l-0.927199795842,-0.233127437532 -0.918620452285,-0.000134149740916 m-5.52561283112,-2.42858231068 l-0.500762611628,-1.24361000955 -1.00337252021,-3.18476617336 l-0.343003422022,-1.7218093574 0.000169138802448,-1.76386997104 l0.77315106988,0.530368611217 1.53735682368,2.73226767778 l1.20496697724,1.75151050091 1.1589384824,1.46826848388 l0.952995792031,1.16623215377 1.40101611614,-0.0407523382455 l1.24062478542,-1.70177847147 1.12759247422,-2.12807744741 l1.00015513599,-1.91377401352 0.732829868793,-0.75187265873 l0.581579878926,0.291392020881 0.267775971442,0.718261674047 l0.000514923849551,3.08837532997 -0.178329795599,1.975671947 l-0.285863131285,1.76571726799 -0.356316789985,1.61943167448 l0.000175144668901,2.08274275064 -0.494620911777,1.39429554343 l-0.78711129725,1.27209052444 -0.756397098303,0.609288811684 l-0.92205375433,0.0043452475802 -1.44801005721,0.00241470479523 l-1.80104970932,-0.000245201808866 -2.22299441695,-1.60156041384 l-0.914300084114,-1.4123108983 -1.06709033251,-3.21989387274 l-0.323456525803,-1.56600937247 0.000330148141074,-1.69712290168 m1.31405293941,7.10672140121 l-3.74871979147e-05,2.34065055847 -0.751867443323,3.12246203423 l0.000381309218938,4.15170669556 -0.259394068271,1.37802526355 l0.000296893013001,4.0360045433 m12.4790596962,-15.1311075687 l0.823277011514,3.40452611446 1.2411916256,4.39312666655 l0.353849083185,2.01685279608 0.000246538875217,5.16263008118 l-0.573414675891,2.12443694472 \" fill=\"none\" stroke=\"black\" stroke-width=\"1\"/></svg>"
      ],
      "text/plain": [
       "<IPython.core.display.SVG object>"
      ]
     },
     "metadata": {},
     "output_type": "display_data"
    },
    {
     "name": "stdout",
     "output_type": "stream",
     "text": [
      "---------\n"
     ]
    },
    {
     "data": {
      "image/svg+xml": [
       "<svg baseProfile=\"full\" height=\"59.4493345171\" version=\"1.1\" width=\"62.1491442248\" xmlns=\"http://www.w3.org/2000/svg\" xmlns:ev=\"http://www.w3.org/2001/xml-events\" xmlns:xlink=\"http://www.w3.org/1999/xlink\"><defs/><rect fill=\"white\" height=\"59.4493345171\" width=\"62.1491442248\" x=\"0\" y=\"0\"/><path d=\"M33.3694105223,27.4298291653 m-4.0497148037,-1.34990483522 l0.269980989397,2.15984791517 -0.809942930937,1.34990483522 l-3.77973377705,0.0 0.269980989397,2.69980967045 l2.9697906971,0.0 1.07992395759,-0.809942930937 l-2.9697906971,2.9697906971 7.28948652744,-0.539961978793 l1.07992395759,-1.34990483522 2.42982879281,0.0 m-5.12963891029,-5.12963891029 l0.539961978793,-2.42982879281 0.539961978793,1.07992395759 l0.0,1.61988586187 m0.809942930937,0.0 l0.539961978793,-0.269980989397 1.07992395759,-2.15984791517 l-0.269980989397,1.34990483522 -1.07992395759,1.34990483522 m-4.0497148037,2.69980967045 l0.809942930937,-0.269980989397 -0.269980989397,-0.809942930937 l-0.539961978793,0.0 0.0,0.809942930937 l0.809942930937,-0.539961978793 \" fill=\"none\" stroke=\"black\" stroke-width=\"1\"/></svg>"
      ],
      "text/plain": [
       "<IPython.core.display.SVG object>"
      ]
     },
     "metadata": {},
     "output_type": "display_data"
    },
    {
     "data": {
      "image/svg+xml": [
       "<svg baseProfile=\"full\" height=\"61.3239616445\" version=\"1.1\" width=\"58.6675077511\" xmlns=\"http://www.w3.org/2000/svg\" xmlns:ev=\"http://www.w3.org/2001/xml-events\" xmlns:xlink=\"http://www.w3.org/1999/xlink\"><defs/><rect fill=\"white\" height=\"61.3239616445\" width=\"58.6675077511\" x=\"0\" y=\"0\"/><path d=\"M32.0296856435,26.3904997706 m-4.04512882233,-1.39049977064 l0.0604097126052,2.36550480127 -2.26359561086,1.12551108003 l-0.781370922923,2.32240572572 2.07147151232,2.07546323538 l3.50988179445,-0.000410692482546 0.69598570466,-0.531578063965 l6.99711108609e-05,0.515705421567 m-0.802960693836,-3.78974527121 l0.000649377325317,1.16655662656 0.59230607003,-0.000300744704873 l0.000410990178352,-0.58964394033 -0.279588457197,-0.0004104772961 l-0.156232584268,-0.000266944207397 m-1.07335783541,0.387926064432 l0.621077157557,-0.000600247512921 0.00011057233678,0.127243380994 l-0.677102729678,-0.000540644105058 0.0494593940675,-0.000327899397234 l0.000157765625772,-0.370657816529 m2.13187009096,0.911721438169 l0.000362066057278,0.548618137836 0.355797819793,-0.000499198395119 l-0.182224176824,-0.000466297024104 m1.33770495653,1.86030134559 l0.000386591236747,2.64789134264 0.471272394061,-0.000177918100235 l-0.000552688070456,0.554739199579 \" fill=\"none\" stroke=\"black\" stroke-width=\"1\"/></svg>"
      ],
      "text/plain": [
       "<IPython.core.display.SVG object>"
      ]
     },
     "metadata": {},
     "output_type": "display_data"
    },
    {
     "data": {
      "image/svg+xml": [
       "<svg baseProfile=\"full\" height=\"71.4271277934\" version=\"1.1\" width=\"61.9429893233\" xmlns=\"http://www.w3.org/2000/svg\" xmlns:ev=\"http://www.w3.org/2001/xml-events\" xmlns:xlink=\"http://www.w3.org/1999/xlink\"><defs/><rect fill=\"white\" height=\"71.4271277934\" width=\"61.9429893233\" x=\"0\" y=\"0\"/><path d=\"M30.2689661831,42.5632195175 m0.702528804541,1.17088131607 l3.7468200922,2.6930269599 0.234176255763,-2.81011521816 l-1.17088131607,-2.57593870163 m-6.20567083359,-5.85440635681 l0.234176255763,2.45885074139 0.468352511525,1.17088131607 l0.585440658033,0.468352511525 1.17088131607,-0.234176255763 l0.585440658033,-0.585440658033 0.702528804541,-1.28796935081 l0.117088127881,-1.8734100461 -1.40505760908,-1.52214571834 l-1.8734100461,-0.702528804541 -1.05379313231,0.0 m6.79111123085,-0.35126440227 l1.75632193685,0.819616913795 0.93670502305,1.05379313231 l0.35126440227,1.75632193685 -0.819616913795,1.8734100461 l-2.81011521816,-2.45885074139 -1.28796935081,-2.10758626461 l0.0,-0.585440658033 1.05379313231,-1.05379313231 l0.585440658033,-0.234176255763 1.17088131607,0.234176255763 m-0.819616913795,3.51264387369 l0.0,0.0 m1.28796935081,0.0 l0.0,0.0 m-6.79111123085,0.234176255763 l0.0,0.0 m-3.04429143667,-6.43984735012 l0.0,0.0 m0.0,0.0 l1.8734100461,0.35126440227 3.04429143667,-0.702528804541 l1.05379313231,-0.93670502305 1.28796935081,-3.04429143667 l1.40505760908,0.0 1.17088131607,0.35126440227 l0.585440658033,0.585440658033 0.93670502305,3.7468200922 l-0.35126440227,-0.234176255763 m-10.1866674423,-1.05379313231 l-1.17088131607,0.117088127881 -0.117088127881,2.45885074139 l0.35126440227,1.75632193685 \" fill=\"none\" stroke=\"black\" stroke-width=\"1\"/></svg>"
      ],
      "text/plain": [
       "<IPython.core.display.SVG object>"
      ]
     },
     "metadata": {},
     "output_type": "display_data"
    },
    {
     "data": {
      "image/svg+xml": [
       "<svg baseProfile=\"full\" height=\"88.322996414\" version=\"1.1\" width=\"69.7622448758\" xmlns=\"http://www.w3.org/2000/svg\" xmlns:ev=\"http://www.w3.org/2001/xml-events\" xmlns:xlink=\"http://www.w3.org/1999/xlink\"><defs/><rect fill=\"white\" height=\"88.322996414\" width=\"69.7622448758\" x=\"0\" y=\"0\"/><path d=\"M32.9687235371,41.7431873456 m0.652602463961,1.11214980483 l4.24812316895,3.67601692677 -1.57823324203,-6.22515261173 l-0.334275737405,-0.630712136626 m-5.36305785179,-6.45751953125 l-0.921259298921,0.329214781523 -0.797973945737,1.05067782104 l-0.332167334855,0.93331374228 0.000101908926808,1.44580423832 l0.761333703995,0.678838640451 0.781364440918,0.196026600897 l1.47096514702,-0.221700016409 0.906949564815,-1.35521367192 l0.0678255548701,-0.737246349454 -0.465225018561,-1.43691346049 l-0.993160307407,-0.628335252404 m7.76797890663,-0.159979686141 l-1.21580570936,0.482755452394 -0.851539969444,1.00554145873 l-0.189826190472,0.76565079391 6.40972120891e-05,1.17816977203 l0.756296589971,0.670957490802 0.787625908852,0.217006541789 l0.786258503795,-0.0965753383934 0.541679859161,-0.706584304571 l4.96626898894e-05,-1.57369017601 -0.732448846102,-0.965595841408 l-0.798394903541,-0.413731485605 m-10.3181707859,-4.51312184334 l-0.74713177979,-0.85862763226 -0.667800009251,-1.1772929132 l-0.851735696197,-1.6609980166 -0.339650176466,-0.666321143508 l-8.6215641204e-05,0.55745754391 1.09774015844,3.14414709806 l0.965998247266,1.79745301604 0.653713792562,0.941686034203 m11.0255646706,-0.569156035781 l0.714913532138,-1.66631385684 1.77755787969,-3.13770830631 l0.610012598336,-0.363626070321 0.296362135559,0.818219184875 l1.0322722801e-05,2.59799718857 -0.281652379781,2.01068490744 m-14.1472327709,0.724869892001 l-0.0108105165418,0.502167604864 -0.00010576672139,1.62882581353 l-0.383142270148,2.84223675728 -7.49038281356e-05,3.87838125229 l0.351749062538,1.6720969975 0.956113785505,1.96224063635 l1.56534180045,1.80913075805 1.97830408812,1.26466944814 l1.05349227786,0.362810790539 2.66167193651,-0.000803106740932 l1.06936000288,-0.289244093001 1.56804263592,-0.931541696191 l1.71128585935,-1.78277909756 1.366071105,-2.53101587296 l0.780275687575,-2.90645390749 0.000162808282766,-3.51505964994 l-0.661520287395,-1.91750377417 -0.870858058333,-1.14832609892 m-10.5897259712,12.6428067684 l-1.10522538424,2.81019896269 -0.457755029202,1.96317493916 l-0.354499220848,4.47343140841 2.24249311032e-05,5.99639832973 l0.178272370249,1.27557620406 0.627320855856,1.40586644411 m12.87348032,-18.3334743977 l1.03548556566,2.70596593618 1.31957799196,4.83021974564 l0.386943519115,3.88238638639 -0.000104246719275,4.67477917671 l-0.352420173585,1.76780223846 \" fill=\"none\" stroke=\"black\" stroke-width=\"1\"/></svg>"
      ],
      "text/plain": [
       "<IPython.core.display.SVG object>"
      ]
     },
     "metadata": {},
     "output_type": "display_data"
    },
    {
     "name": "stdout",
     "output_type": "stream",
     "text": [
      "---------\n"
     ]
    },
    {
     "data": {
      "image/svg+xml": [
       "<svg baseProfile=\"full\" height=\"63.2290678844\" version=\"1.1\" width=\"63.4990492836\" xmlns=\"http://www.w3.org/2000/svg\" xmlns:ev=\"http://www.w3.org/2001/xml-events\" xmlns:xlink=\"http://www.w3.org/1999/xlink\"><defs/><rect fill=\"white\" height=\"63.2290678844\" width=\"63.4990492836\" x=\"0\" y=\"0\"/><path d=\"M25.8099427074,33.369410336 m0.539961978793,-1.07992395759 l2.42982879281,-0.539961978793 2.15984791517,-1.34990483522 l3.23977172375,-0.269980989397 m-9.17935311794,3.77973377705 l0.0,2.69980967045 0.809942930937,0.809942930937 l4.31969583035,0.809942930937 5.3996193409,0.0 m-5.66960036755,-4.85965758562 l2.15984791517,-0.269980989397 -0.269980989397,0.539961978793 l-2.15984791517,0.269980989397 0.539961978793,-1.61988586187 m2.42982879281,-2.15984791517 l4.0497148037,0.0 m-1.34990483522,0.269980989397 l0.0,-2.9697906971 0.809942930937,-2.42982879281 l0.539961978793,0.0 0.809942930937,0.539961978793 l1.07992395759,2.15984791517 0.0,1.34990483522 l-0.809942930937,2.42982879281 \" fill=\"none\" stroke=\"black\" stroke-width=\"1\"/></svg>"
      ],
      "text/plain": [
       "<IPython.core.display.SVG object>"
      ]
     },
     "metadata": {},
     "output_type": "display_data"
    },
    {
     "data": {
      "image/svg+xml": [
       "<svg baseProfile=\"full\" height=\"57.8863417869\" version=\"1.1\" width=\"61.7573073125\" xmlns=\"http://www.w3.org/2000/svg\" xmlns:ev=\"http://www.w3.org/2001/xml-events\" xmlns:xlink=\"http://www.w3.org/1999/xlink\"><defs/><rect fill=\"white\" height=\"57.8863417869\" width=\"61.7573073125\" x=\"0\" y=\"0\"/><path d=\"M25,31.2990174206 m0.520609244704,-1.12443104386 l2.38708794117,-0.598188154399 4.75146114826,-1.79663404822 l2.41335853934,-0.000497714354424 m-8.67512285709,2.15768530965 l0.000722908080206,2.94749319553 1.70096695423,0.00189682192286 l0.000473897889606,-0.197938904166 -0.000479173759231,-0.28225209564 m3.40304583311,-1.7856515944 l0.000348715802829,2.05697268248 1.30115047097,0.000390947789128 l0.000388854641642,-1.18310004473 m2.93665319681,-0.0175009691156 l0.000113940932351,1.33356541395 1.01608365774,0.000446783888037 l0.000444039651484,-1.43519937992 m-5.91231286526,-5.37239193916 l0.000296694961435,-1.00368268788 1.01197116077,0.00104148151877 l0.000591228781559,0.357845127583 -0.302737876773,-0.000220196634473 l-0.248830914497,-4.91928449264e-05 \" fill=\"none\" stroke=\"black\" stroke-width=\"1\"/></svg>"
      ],
      "text/plain": [
       "<IPython.core.display.SVG object>"
      ]
     },
     "metadata": {},
     "output_type": "display_data"
    },
    {
     "data": {
      "image/svg+xml": [
       "<svg baseProfile=\"full\" height=\"68.3828362823\" version=\"1.1\" width=\"59.7183147818\" xmlns=\"http://www.w3.org/2000/svg\" xmlns:ev=\"http://www.w3.org/2001/xml-events\" xmlns:xlink=\"http://www.w3.org/1999/xlink\"><defs/><rect fill=\"white\" height=\"68.3828362823\" width=\"59.7183147818\" x=\"0\" y=\"0\"/><path d=\"M34.7183147818,33.7816098891 m-0.468352511525,-1.17088131607 l-2.22467452288,-1.63923382759 -2.34176263213,-0.93670502305 l-1.75632193685,0.117088127881 m-1.8734100461,2.45885074139 l-1.05379313231,3.16137939692 0.117088127881,2.92720317841 l2.45885074139,3.98099631071 1.75632193685,0.702528804541 l1.63923382759,0.0 1.52214571834,-1.63923382759 l1.05379313231,-1.8734100461 0.117088127881,-2.34176263213 l0.585440658033,-1.28796935081 0.35126440227,-2.34176263213 m-2.57593870163,-6.67402327061 l-0.234176255763,-0.702528804541 -2.45885074139,-1.52214571834 l-1.28796935081,0.0 -1.28796935081,0.819616913795 l-1.05379313231,1.99049815536 0.0,1.8734100461 l1.75632193685,1.75632193685 1.40505760908,0.819616913795 l2.10758626461,0.0 1.8734100461,-0.819616913795 l0.819616913795,-1.28796935081 0.0,-1.17088131607 l-1.52214571834,-2.22467452288 m-3.98099631071,-0.819616913795 l-0.585440658033,0.117088127881 -0.234176255763,1.75632193685 l1.40505760908,0.0 0.468352511525,-0.702528804541 l-0.93670502305,-0.93670502305 m-0.117088127881,0.702528804541 l0.0,0.0 m3.7468200922,0.234176255763 l-1.17088131607,-0.468352511525 -0.468352511525,1.40505760908 l0.234176255763,0.585440658033 1.75632193685,0.702528804541 l0.35126440227,-1.17088131607 -0.234176255763,-0.702528804541 l-0.35126440227,0.117088127881 m-0.819616913795,0.468352511525 l0.0,0.0 \" fill=\"none\" stroke=\"black\" stroke-width=\"1\"/></svg>"
      ],
      "text/plain": [
       "<IPython.core.display.SVG object>"
      ]
     },
     "metadata": {},
     "output_type": "display_data"
    },
    {
     "data": {
      "image/svg+xml": [
       "<svg baseProfile=\"full\" height=\"84.2911784584\" version=\"1.1\" width=\"71.5734681504\" xmlns=\"http://www.w3.org/2000/svg\" xmlns:ev=\"http://www.w3.org/2001/xml-events\" xmlns:xlink=\"http://www.w3.org/1999/xlink\"><defs/><rect fill=\"white\" height=\"84.2911784584\" width=\"71.5734681504\" x=\"0\" y=\"0\"/><path d=\"M39.7924746114,30.8927352912 m-0.456079207361,-1.19858503342 l-1.76093369722,-1.09359480441 -2.78530180454,-0.42547609657 l-3.23280900717,-0.00120392061945 -2.11911231279,1.37126490474 l-1.03618346155,2.23166823387 m9.17133390903,-2.60805308819 l1.12805634737,-0.629900768399 1.45150288939,-1.33729755878 l2.45814323425,-2.20155715942 0.68495683372,1.32365509868 l0.000391190551454,3.28231364489 -0.513818860054,2.36286744475 m-10.7344424725,-0.834209024906 l-1.95167005062,-1.12769164145 -1.49985134602,-0.976789668202 l-1.08028188348,-0.650243461132 -0.76872870326,-0.112305590883 l-0.459601841867,0.823530629277 0.000253091893683,2.49369546771 l0.288120359182,0.806765258312 m6.18704497814,0.931007042527 l-0.826903954148,-0.0573224388063 -1.18108347058,1.23741433024 l-0.167433768511,0.840599089861 0.816342607141,0.506106875837 l0.879630297422,0.00553568592295 0.534858033061,-0.755276978016 l0.000387960863009,-1.08466953039 -0.64532622695,-0.408100411296 m6.23789548874,-0.343706421554 l-1.233580634,0.587084889412 -0.290217306465,0.819074288011 l0.84690362215,0.522678866982 0.84397636354,-0.0248920940794 l0.393049418926,-0.849252566695 0.000320921135426,-0.836223214865 l-0.802543461323,-0.377426594496 m-3.55392843485,4.52669560909 l0.196382254362,1.90227136016 0.647381767631,0.529014281929 l0.647221803665,-0.843423753977 0.718160867691,-1.59735888243 m-7.63138830662,-1.94368496537 l-1.20856165886,2.10062175989 -1.47317633033,2.68141359091 l-1.11533105373,3.52743625641 -0.396499596536,2.78193295002 l0.000213629518839,5.04955351353 0.350978896022,1.80038228631 l0.57341478765,1.09332993627 1.18795119226,1.30820542574 m14.8198139668,-20.7288336754 l1.48076415062,2.47654929757 1.90513834357,3.90224337578 l0.918821245432,3.44117760658 0.336171500385,3.28132510185 l0.000200438171305,4.33537960052 -0.364353172481,1.83047950268 l-0.903763473034,2.00462847948 -1.23131766915,1.52999415994 l-1.68440341949,1.19762666523 \" fill=\"none\" stroke=\"black\" stroke-width=\"1\"/></svg>"
      ],
      "text/plain": [
       "<IPython.core.display.SVG object>"
      ]
     },
     "metadata": {},
     "output_type": "display_data"
    },
    {
     "name": "stdout",
     "output_type": "stream",
     "text": [
      "---------\n"
     ]
    },
    {
     "data": {
      "image/svg+xml": [
       "<svg baseProfile=\"full\" height=\"61.3392012939\" version=\"1.1\" width=\"67.2787827998\" xmlns=\"http://www.w3.org/2000/svg\" xmlns:ev=\"http://www.w3.org/2001/xml-events\" xmlns:xlink=\"http://www.w3.org/1999/xlink\"><defs/><rect fill=\"white\" height=\"61.3392012939\" width=\"67.2787827998\" x=\"0\" y=\"0\"/><path d=\"M41.1988588423,29.8596575856 m1.07992395759,-1.88986688852 l0.0,-1.34990483522 -0.539961978793,-0.539961978793 l-2.15984791517,0.0 -0.809942930937,0.809942930937 l0.0,1.07992395759 0.0,-1.34990483522 l-0.539961978793,-1.07992395759 -0.539961978793,-0.539961978793 l-1.07992395759,0.0 -0.809942930937,0.539961978793 l0.0,1.88986688852 0.269980989397,0.809942930937 l0.539961978793,0.269980989397 0.0,0.809942930937 l-1.88986688852,-0.539961978793 -5.9395813942,-0.269980989397 l-0.809942930937,0.269980989397 -0.539961978793,1.07992395759 l1.34990483522,1.07992395759 1.34990483522,0.269980989397 l-4.85965758562,0.0 -0.269980989397,1.61988586187 l1.34990483522,1.07992395759 7.01950550079,1.61988586187 l0.539961978793,0.539961978793 3.23977172375,0.269980989397 \" fill=\"none\" stroke=\"black\" stroke-width=\"1\"/></svg>"
      ],
      "text/plain": [
       "<IPython.core.display.SVG object>"
      ]
     },
     "metadata": {},
     "output_type": "display_data"
    },
    {
     "data": {
      "image/svg+xml": [
       "<svg baseProfile=\"full\" height=\"65.8254453059\" version=\"1.1\" width=\"61.8088920787\" xmlns=\"http://www.w3.org/2000/svg\" xmlns:ev=\"http://www.w3.org/2001/xml-events\" xmlns:xlink=\"http://www.w3.org/1999/xlink\"><defs/><rect fill=\"white\" height=\"65.8254453059\" width=\"61.8088920787\" x=\"0\" y=\"0\"/><path d=\"M35.6834158674,27.9507044836 m1.12547621131,-1.73978686333 l-0.330738648772,-1.04723356664 -1.41081377864,-0.00230823119637 l-1.04781009257,0.82989834249 -0.342578813434,0.913898125291 l-1.36873558164,-1.28587678075 -1.21105194092,-0.619111135602 l-2.4064040184,-0.000184373893717 -1.13560862839,0.726613178849 l-0.711154639721,1.5433318913 0.317631401122,1.57682925463 l-0.38324188441,0.000108993026515 -0.775789022446,0.232106298208 l-0.808246433735,0.945923030376 -0.119025018066,1.46209776402 l1.36202678084,1.28512680531 3.06170195341,0.000100212701 l2.64858454466,0.000141149939736 0.864195972681,-0.468848347664 l1.22143030167,0.00012471977243 1.37115105987,-1.46881133318 l0.26802668348,-1.59098103642 -0.81173107028,-0.687601640821 m-6.44877612591,4.29415106773 l-2.89882987738,3.20511192083 -0.713105201721,2.51385509968 l1.17087908089,1.65781110525 1.5492336452,0.598255172372 l2.87052422762,-0.541134849191 1.21046736836,-0.858388021588 l0.606881529093,-1.04414917529 \" fill=\"none\" stroke=\"black\" stroke-width=\"1\"/></svg>"
      ],
      "text/plain": [
       "<IPython.core.display.SVG object>"
      ]
     },
     "metadata": {},
     "output_type": "display_data"
    },
    {
     "data": {
      "image/svg+xml": [
       "<svg baseProfile=\"full\" height=\"65.8068973757\" version=\"1.1\" width=\"58.3132573962\" xmlns=\"http://www.w3.org/2000/svg\" xmlns:ev=\"http://www.w3.org/2001/xml-events\" xmlns:xlink=\"http://www.w3.org/1999/xlink\"><defs/><rect fill=\"white\" height=\"65.8068973757\" width=\"58.3132573962\" x=\"0\" y=\"0\"/><path d=\"M25.8196169138,35.5379317142 m-0.819616913795,-0.819616913795 l0.0,-2.6930269599 0.93670502305,-2.57593870163 l1.40505760908,-1.75632193685 1.40505760908,-0.819616913795 l2.81011521816,-0.468352511525 0.93670502305,2.10758626461 l0.819616913795,4.91770148277 0.0,1.99049815536 l-0.35126440227,0.819616913795 -0.819616913795,0.468352511525 m-5.38605391979,-5.38605391979 l0.468352511525,-0.702528804541 1.99049815536,-0.819616913795 l-1.52214571834,-0.468352511525 -0.819616913795,0.468352511525 l-0.234176255763,1.05379313231 m4.68352526426,0.117088127881 l-0.585440658033,-1.05379313231 0.468352511525,-0.702528804541 l0.93670502305,-0.585440658033 0.702528804541,0.0 l0.117088127881,0.585440658033 -0.234176255763,0.702528804541 l-1.52214571834,0.0 m-1.8734100461,1.05379313231 l-0.702528804541,0.117088127881 -0.702528804541,1.28796935081 l1.40505760908,-0.585440658033 m-2.92720317841,3.98099631071 l-0.819616913795,0.468352511525 -0.234176255763,4.566437006 l0.234176255763,-3.98099631071 1.05379313231,2.10758626461 l0.702528804541,-0.234176255763 0.35126440227,-1.28796935081 m3.98099631071,-0.117088127881 l-0.35126440227,0.585440658033 1.17088131607,1.75632193685 l0.35126440227,-1.52214571834 -0.234176255763,-3.62973213196 l0.35126440227,3.39555561543 m-6.43984735012,-10.069578886 l0.234176255763,0.702528804541 m5.15187740326,-2.22467452288 l0.468352511525,-1.28796935081 0.35126440227,2.22467452288 \" fill=\"none\" stroke=\"black\" stroke-width=\"1\"/></svg>"
      ],
      "text/plain": [
       "<IPython.core.display.SVG object>"
      ]
     },
     "metadata": {},
     "output_type": "display_data"
    },
    {
     "data": {
      "image/svg+xml": [
       "<svg baseProfile=\"full\" height=\"80.6345946921\" version=\"1.1\" width=\"67.6075456972\" xmlns=\"http://www.w3.org/2000/svg\" xmlns:ev=\"http://www.w3.org/2001/xml-events\" xmlns:xlink=\"http://www.w3.org/1999/xlink\"><defs/><rect fill=\"white\" height=\"80.6345946921\" width=\"67.6075456972\" x=\"0\" y=\"0\"/><path d=\"M27.7015987408,40.744128818 m-0.803704932332,-0.831856131554 l-0.0005131609214,-3.59078526497 1.34247377515,-2.85582453012 l0.762283876538,-0.915964543819 1.47131487727,-0.938009768724 l1.86062186956,-0.415122024715 2.2621524334,0.001730327931 l0.698437616229,0.246059969068 1.3158737123,2.72850930691 l0.200437530875,2.47377291322 -0.735963732004,2.91279256344 l-1.07272066176,1.53840824962 m-6.3473212719,-5.63545942307 l-0.659913271666,-0.148894721642 -0.656263902783,-0.587737672031 l-0.528731718659,-0.695665106177 0.000295362769975,-0.623807795346 l1.02759964764,-0.587605722249 1.13676443696,-0.00263979309238 l1.22191660106,0.00281424465356 0.58328974992,0.611822716892 l0.000318076563417,0.959881693125 -0.583484321833,0.714476406574 l-0.71758851409,0.222541689873 -1.01999662817,0.0015568586241 m6.03205263615,-0.437331870198 l-0.537975803018,-0.981492698193 0.00030774033803,-1.70387834311 l1.20248109102,-0.597226656973 0.833317115903,-0.14316868037 l1.12677015364,0.417229086161 0.274454466999,0.702244713902 l0.000180983824976,1.28219038248 -1.34617909789,0.55268034339 l-0.72368517518,0.03242055187 m-9.61988627911,0.0320822815411 l-0.366754718125,-0.590863637626 6.10308870819e-05,-1.06271743774 l0.624483451247,-3.95633429289 0.73884986341,-1.27234637737 l1.66912838817,-1.63376301527 0.927501395345,-0.532325431705 l1.44193321466,-0.436522178352 2.05718576908,0.00552649667952 l2.58183509111,0.00383648235584 1.79359614849,0.433779358864 l1.40462696552,0.917419940233 1.06669582427,1.35919839144 l1.16751119494,2.81832814217 0.428382158279,2.3833617568 l0.000190802129509,4.16562706232 m-13.8461279869,1.57880172133 l-0.862265378237,2.44505956769 -1.1567222327,3.44827950001 l-0.371125005186,1.98766067624 0.000233567152463,5.00753939152 l1.00635685027,2.67929166555 0.526847094297,0.703833252192 m13.1326961517,-16.8659114838 l1.39697372913,2.64514297247 0.711596980691,1.96323096752 l0.619649142027,3.02356421947 0.212964210659,3.20015221834 l0.000227971231652,4.61604714394 -0.764814987779,2.11482524872 \" fill=\"none\" stroke=\"black\" stroke-width=\"1\"/></svg>"
      ],
      "text/plain": [
       "<IPython.core.display.SVG object>"
      ]
     },
     "metadata": {},
     "output_type": "display_data"
    },
    {
     "name": "stdout",
     "output_type": "stream",
     "text": [
      "---------\n"
     ]
    },
    {
     "data": {
      "image/svg+xml": [
       "<svg baseProfile=\"full\" height=\"61.0692207143\" version=\"1.1\" width=\"68.3587069809\" xmlns=\"http://www.w3.org/2000/svg\" xmlns:ev=\"http://www.w3.org/2001/xml-events\" xmlns:xlink=\"http://www.w3.org/1999/xlink\"><defs/><rect fill=\"white\" height=\"61.0692207143\" width=\"68.3587069809\" x=\"0\" y=\"0\"/><path d=\"M34.1793533415,32.0195054635 m1.88986688852,0.269980989397 l0.269980989397,-0.539961978793 -1.34990483522,0.0 l0.0,0.809942930937 0.0,-0.809942930937 m-5.3996193409,-3.77973377705 l0.0,-1.61988586187 0.809942930937,-1.07992395759 l1.61988586187,0.539961978793 0.0,1.07992395759 l1.61988586187,-1.34990483522 4.85965758562,-0.539961978793 l0.809942930937,0.269980989397 -0.269980989397,0.269980989397 l2.15984791517,0.0 0.539961978793,0.539961978793 l0.539961978793,1.34990483522 0.0,1.07992395759 l-0.539961978793,0.0 m0.0,3.77973377705 l1.61988586187,0.0 0.0,1.61988586187 l-0.539961978793,0.539961978793 -0.809942930937,0.0 l-0.539961978793,-0.539961978793 m-0.269980989397,-5.66960036755 l-0.539961978793,0.269980989397 0.0,2.15984791517 m-0.809942930937,4.31969583035 l-0.269980989397,1.07992395759 -8.09942960739,-0.269980989397 l-0.809942930937,-0.539961978793 -4.0497148037,-0.269980989397 l-1.61988586187,-1.07992395759 0.0,-0.539961978793 \" fill=\"none\" stroke=\"black\" stroke-width=\"1\"/></svg>"
      ],
      "text/plain": [
       "<IPython.core.display.SVG object>"
      ]
     },
     "metadata": {},
     "output_type": "display_data"
    },
    {
     "data": {
      "image/svg+xml": [
       "<svg baseProfile=\"full\" height=\"55.0492676752\" version=\"1.1\" width=\"62.2825041072\" xmlns=\"http://www.w3.org/2000/svg\" xmlns:ev=\"http://www.w3.org/2001/xml-events\" xmlns:xlink=\"http://www.w3.org/1999/xlink\"><defs/><rect fill=\"white\" height=\"55.0492676752\" width=\"62.2825041072\" x=\"0\" y=\"0\"/><path d=\"M25,27.2720311161 m1.83531492949,0.289670247585 l0.265603847802,-0.66326700151 -0.458897836506,-0.963036119938 l-0.924785733223,0.000793781800894 8.32954629004e-05,0.253039505333 l0.197735391557,3.05253524857e-05 0.852404683828,0.000111155331979 l-4.40022949988e-05,-1.18937321007 1.52546167374,0.000162594260473 l-0.000114545009637,0.00562236178666 2.68498241901,7.64324795455e-05 l2.92446702719,-5.37009145773e-05 -4.73158706882e-05,0.493728332222 l2.70984977484,0.000183078736882 7.46035038901e-05,0.772738158703 l0.670389309525,0.000105294502646 2.65841435976e-05,1.12671948969 l-0.390876606107,0.000185238332051 -1.05074755847,0.000216151220229 l5.32610602022e-05,0.676414519548 -1.50018557906,0.000421019503847 l-2.27121813623e-05,0.333441309631 -1.9563113153,0.000453285174444 l-1.90266177924e-05,-0.201042927802 m3.99245947599,-0.213899035007 l-0.00037480462197,1.99097290635 -0.837215185165,7.49543687562e-05 l-2.02091996471e-05,0.0627482123673 -0.621532909572,-4.1857792894e-05 m-2.08416730165,-3.1415116787 l-0.000488918340125,1.9142024219 -0.574156865478,0.000423117999162 l-3.28573833031e-05,-0.449263043702 \" fill=\"none\" stroke=\"black\" stroke-width=\"1\"/></svg>"
      ],
      "text/plain": [
       "<IPython.core.display.SVG object>"
      ]
     },
     "metadata": {},
     "output_type": "display_data"
    },
    {
     "data": {
      "image/svg+xml": [
       "<svg baseProfile=\"full\" height=\"69.202453196\" version=\"1.1\" width=\"64.7531046532\" xmlns=\"http://www.w3.org/2000/svg\" xmlns:ev=\"http://www.w3.org/2001/xml-events\" xmlns:xlink=\"http://www.w3.org/1999/xlink\"><defs/><rect fill=\"white\" height=\"69.202453196\" width=\"64.7531046532\" x=\"0\" y=\"0\"/><path d=\"M27.810114827,26.8734100834 m3.04429143667,-0.468352511525 l3.27846765518,0.117088127881 m0.819616913795,0.117088127881 l1.63923382759,-1.63923382759 0.35126440227,2.34176263213 m-10.4208433628,-0.468352511525 l0.234176255763,-0.585440658033 -0.35126440227,-0.585440658033 l0.0,1.99049815536 0.468352511525,1.05379313231 m-0.117088127881,0.93670502305 l-0.702528804541,1.17088131607 -1.05379313231,8.19616913795 l0.0,3.98099631071 0.117088127881,0.702528804541 l0.585440658033,0.468352511525 m12.5284302235,-16.1581623554 l-0.585440658033,0.0 -0.35126440227,1.8734100461 l1.17088131607,1.75632193685 1.05379313231,2.57593870163 l0.234176255763,3.7468200922 -0.35126440227,2.45885074139 l-1.52214571834,3.27846765518 m-8.07908117771,-13.3480465412 l-0.585440658033,-0.117088127881 -0.585440658033,0.468352511525 l0.0,2.10758626461 0.468352511525,0.585440658033 l2.45885074139,0.585440658033 1.17088131607,-1.05379313231 l0.117088127881,-0.585440658033 -0.234176255763,-1.99049815536 l-1.28796935081,-0.468352511525 -1.52214571834,0.234176255763 m5.38605391979,-0.234176255763 l-0.468352511525,2.34176263213 0.234176255763,0.585440658033 l0.585440658033,0.234176255763 1.17088131607,0.234176255763 l0.468352511525,-3.27846765518 -1.28796935081,-0.819616913795 l-0.585440658033,0.0 -0.468352511525,0.585440658033 m-1.05379313231,5.03478944302 l-0.234176255763,0.585440658033 0.117088127881,-0.702528804541 \" fill=\"none\" stroke=\"black\" stroke-width=\"1\"/></svg>"
      ],
      "text/plain": [
       "<IPython.core.display.SVG object>"
      ]
     },
     "metadata": {},
     "output_type": "display_data"
    },
    {
     "data": {
      "image/svg+xml": [
       "<svg baseProfile=\"full\" height=\"91.2037130654\" version=\"1.1\" width=\"69.7794266312\" xmlns=\"http://www.w3.org/2000/svg\" xmlns:ev=\"http://www.w3.org/2001/xml-events\" xmlns:xlink=\"http://www.w3.org/1999/xlink\"><defs/><rect fill=\"white\" height=\"91.2037130654\" width=\"69.7794266312\" x=\"0\" y=\"0\"/><path d=\"M28.8937045715,27.9813732835 m3.01267206669,-0.434465520084 l2.90493696928,-0.0149541313294 2.66434282064,-0.00241815228947 l3.78536432981,0.56578617543 1.60299733281,-2.30791404843 l1.12402677536,-0.78740760684 0.697739198804,0.983549803495 l0.0936425663531,6.7225009203 m-15.6927108765,-4.70700323582 l-1.66778415442,-0.988190099597 -1.16713263094,-1.1446801573 l-0.866066962481,-0.413460619748 -0.1245247107,0.692835301161 l6.88038426233e-05,3.9520418644 -0.253442358226,2.61010080576 l3.78885079044e-05,3.6920401454 -0.00787163036875,2.77831763029 l0.000105004482975,4.04650688171 0.293657928705,1.50121018291 l0.848830863833,1.64443328977 1.43788307905,1.5493914485 l2.03299403191,1.22348837554 2.60746926069,0.785369127989 l3.73348623514,0.000200646500161 1.00989818573,-0.278779249638 l1.65832951665,-0.892393067479 1.68789282441,-1.55552089214 l1.40759631991,-2.13776066899 1.0530591011,-2.70918011665 l0.916965529323,-2.91482418776 0.000399129057769,-3.7446847558 l-0.454980544746,-1.5327231586 -0.393783524632,-0.490034371614 m-11.8327665329,2.12774395943 l0.000207610064535,0.641713663936 0.179917924106,0.634483546019 l0.597255639732,0.237772017717 1.13198958337,-0.000707445360604 l0.285321939737,-0.609124489129 0.00026547419111,-0.876781195402 l-0.605933368206,-0.399639010429 m4.58327263594,0.244366843253 l-0.276556126773,-0.00196409542696 0.000186376291822,0.524313189089 l0.585111193359,0.386068895459 0.559447854757,0.053687361069 l0.236497726291,-0.590374656022 0.000302627940982,-0.719457268715 m-9.44826126099,14.1748297215 l-1.11998081207,2.67780929804 -0.770132988691,2.40038439631 l-0.509236566722,4.19994205236 2.84970883513e-05,4.56976175308 l0.190498866141,0.976551026106 0.347498059273,0.637487769127 m13.540173769,-16.6688871384 l1.31313726306,2.90785551071 0.568867847323,2.18885734677 l1.19187362492,4.20521557331 0.405874252319,3.16342175007 l9.17494890018e-05,3.75053793192 -0.56491792202,1.69509291649 \" fill=\"none\" stroke=\"black\" stroke-width=\"1\"/></svg>"
      ],
      "text/plain": [
       "<IPython.core.display.SVG object>"
      ]
     },
     "metadata": {},
     "output_type": "display_data"
    },
    {
     "name": "stdout",
     "output_type": "stream",
     "text": [
      "---------\n"
     ]
    },
    {
     "data": {
      "image/svg+xml": [
       "<svg baseProfile=\"full\" height=\"60.5292581022\" version=\"1.1\" width=\"80.2378699556\" xmlns=\"http://www.w3.org/2000/svg\" xmlns:ev=\"http://www.w3.org/2001/xml-events\" xmlns:xlink=\"http://www.w3.org/1999/xlink\"><defs/><rect fill=\"white\" height=\"60.5292581022\" width=\"80.2378699556\" x=\"0\" y=\"0\"/><path d=\"M31.2095625699,25.5399619788 m0.809942930937,-0.539961978793 l-2.15984791517,0.0 -1.88986688852,0.539961978793 l-1.34990483522,1.34990483522 -0.809942930937,1.34990483522 l-0.809942930937,4.58967655897 3.23977172375,0.0 l4.85965758562,-2.42982879281 0.809942930937,-0.809942930937 m-2.9697906971,-1.07992395759 l0.269980989397,0.539961978793 0.269980989397,-0.269980989397 l-0.809942930937,-0.269980989397 m2.9697906971,-1.61988586187 l2.42982879281,-0.539961978793 1.34990483522,1.34990483522 l0.0,1.07992395759 -1.07992395759,1.07992395759 l-2.15984791517,0.0 -0.269980989397,-1.07992395759 m0.269980989397,2.42982879281 l0.0,3.5097527504 1.88986688852,0.269980989397 l0.809942930937,-1.07992395759 0.0,-1.34990483522 m16.1988592148,0.269980989397 l0.0,2.15984791517 0.809942930937,0.539961978793 l1.07992395759,0.0 0.269980989397,-3.23977172375 \" fill=\"none\" stroke=\"black\" stroke-width=\"1\"/></svg>"
      ],
      "text/plain": [
       "<IPython.core.display.SVG object>"
      ]
     },
     "metadata": {},
     "output_type": "display_data"
    },
    {
     "data": {
      "image/svg+xml": [
       "<svg baseProfile=\"full\" height=\"56.5342289349\" version=\"1.1\" width=\"65.7734041237\" xmlns=\"http://www.w3.org/2000/svg\" xmlns:ev=\"http://www.w3.org/2001/xml-events\" xmlns:xlink=\"http://www.w3.org/1999/xlink\"><defs/><rect fill=\"white\" height=\"56.5342289349\" width=\"65.7734041237\" x=\"0\" y=\"0\"/><path d=\"M30.1052250836,25.4900098592 m0.802435651422,-0.490009859204 l-2.32521981001,0.0536263128743 -2.24716424942,1.29277095199 l-1.33487537503,2.08667084575 -0.000401300567319,2.07563906908 l0.772374421358,1.02552175522 3.0061095953,-3.84345685234e-05 l1.22324995697,-0.968682691455 -0.00068980109063,-2.56195247173 m-1.02022580802,0.597611889243 l3.1708377719e-05,1.61397114396 1.30036234856,-0.000631066141068 l0.000359473997378,-1.01533643901 -0.512741282582,-0.752032026649 l0.000115637294584,-0.443966723979 m-2.00767114758,0.0684256944805 l0.000435705114796,1.26398384571 1.15061163902,-0.00036488949263 l0.000585745619901,-0.87363652885 m1.17503710091,-0.440527833998 l0.000237854601437,1.58907666802 2.43880882859,-0.000285869555228 l0.000315923680319,-0.0673113157973 1.23039528728,-0.000479587397422 m-3.10691654682,-0.531389638782 l2.67288327217,1.85103260719e-05 2.87639528513,-1.09335832298 l2.52803742886,-1.20515495539 2.04530149698,-1.18765026331 \" fill=\"none\" stroke=\"black\" stroke-width=\"1\"/></svg>"
      ],
      "text/plain": [
       "<IPython.core.display.SVG object>"
      ]
     },
     "metadata": {},
     "output_type": "display_data"
    },
    {
     "data": {
      "image/svg+xml": [
       "<svg baseProfile=\"full\" height=\"66.0410733148\" version=\"1.1\" width=\"61.357548479\" xmlns=\"http://www.w3.org/2000/svg\" xmlns:ev=\"http://www.w3.org/2001/xml-events\" xmlns:xlink=\"http://www.w3.org/1999/xlink\"><defs/><rect fill=\"white\" height=\"66.0410733148\" width=\"61.357548479\" x=\"0\" y=\"0\"/><path d=\"M28.9809966087,27.9272033647 m-0.93670502305,1.17088131607 l0.0,0.702528804541 0.35126440227,0.585440658033 l1.17088131607,0.0 0.468352511525,-0.585440658033 l-0.117088127881,-1.17088131607 -0.819616913795,-0.234176255763 m3.16137939692,-0.35126440227 l-0.702528804541,1.05379313231 0.585440658033,0.468352511525 l1.17088131607,0.0 0.234176255763,-0.585440658033 l-0.234176255763,-0.585440658033 -1.17088131607,0.234176255763 m0.117088127881,0.234176255763 l0.585440658033,0.0 m-4.44934904575,0.234176255763 l0.819616913795,0.117088127881 m-0.468352511525,-2.92720317841 l-0.585440658033,0.0 -1.17088131607,0.819616913795 l-1.8734100461,3.62973213196 -0.117088127881,8.3132570982 l0.585440658033,0.35126440227 3.98099631071,-0.93670502305 l6.20567083359,-0.234176255763 0.35126440227,-0.585440658033 l0.234176255763,-7.72781670094 -0.702528804541,-1.75632193685 l-3.51264387369,-1.75632193685 -2.34176263213,-0.702528804541 l-0.93670502305,0.117088127881 m4.68352526426,0.35126440227 l1.40505760908,-1.17088131607 -0.117088127881,1.8734100461 m-8.66452157497,0.0 l-0.819616913795,-1.05379313231 -0.35126440227,0.585440658033 l0.35126440227,2.34176263213 m1.63923382759,10.6550192833 l-0.585440658033,0.468352511525 -0.117088127881,1.17088131607 l1.05379313231,-0.93670502305 0.468352511525,0.585440658033 l1.17088131607,-0.468352511525 0.35126440227,0.585440658033 l-0.234176255763,-0.819616913795 m3.16137939692,-1.63923382759 l-0.702528804541,1.17088131607 \" fill=\"none\" stroke=\"black\" stroke-width=\"1\"/></svg>"
      ],
      "text/plain": [
       "<IPython.core.display.SVG object>"
      ]
     },
     "metadata": {},
     "output_type": "display_data"
    },
    {
     "data": {
      "image/svg+xml": [
       "<svg baseProfile=\"full\" height=\"83.0916257826\" version=\"1.1\" width=\"69.379602084\" xmlns=\"http://www.w3.org/2000/svg\" xmlns:ev=\"http://www.w3.org/2001/xml-events\" xmlns:xlink=\"http://www.w3.org/1999/xlink\"><defs/><rect fill=\"white\" height=\"83.0916257826\" width=\"69.379602084\" x=\"0\" y=\"0\"/><path d=\"M32.2285468519,31.0753293118 m-0.944350734353,1.20977386832 l-0.000420183496317,0.941662862897 0.580377429724,0.474911294878 l0.803927928209,0.156489145011 1.43301978707,0.00170880026417 l0.621783658862,-0.744205489755 0.000181221912499,-1.51126429439 l-0.763368085027,-0.664322152734 -0.898073092103,-0.000214836836676 m4.72651571035,-0.114415735006 l-0.359506569803,0.00024957327696 0.000123586223708,0.98103903234 l0.350662097335,0.831908732653 0.842279791832,0.379958711565 l0.826218649745,-0.0979853048921 0.340490788221,-0.846314951777 l2.98481654681e-05,-1.1483488977 -0.788485258818,-0.542282611132 l-1.01953275502,-8.01029545983e-05 m-3.10309052467,5.04232883453 l4.80597327623e-05,0.80530911684 0.289473738521,0.850246250629 l0.952299907804,0.0397511804476 0.65471984446,-1.41344636679 l0.236244928092,-0.80647520721 m-5.12105286121,-9.57605481148 l-1.30574017763,-0.325255952775 -1.89812242985,0.0883211754262 l-1.07009530067,0.518648661673 -1.22451558709,1.27488136292 l-0.680474787951,1.87079399824 -9.37756431085e-05,3.6091697216 l1.26710310578,2.56235659122 1.01918838918,1.08983285725 l1.93119049072,1.5795019269 2.32094630599,1.03905983269 l3.61540615559,-0.000388180051232 3.76305043697,-0.000543260975974 l2.03528255224,-0.93658298254 1.40561699867,-1.47861540318 l0.46653535217,-0.885562673211 -3.37152619068e-05,-3.02408337593 l-0.973927974701,-2.00904890895 -1.60739406943,-1.8843844533 l-3.26398551464,-2.35298499465 -1.9521266222,-0.717283859849 l-2.71707385778,-5.41419149158e-05 -2.65482485294,3.60128774446e-05 m-4.17617201805,10.2896809578 l0.00022068470571,2.48334437609 -0.881719589233,3.77707123756 l0.000114855974971,5.32597959042 -0.307315997779,2.16114908457 l-0.000102820813481,5.06996810436 0.544151552022,1.25215739012 l0.543316528201,0.554637648165 m16.9522511959,-20.1209783554 l0.741991624236,3.10391873121 0.597803778946,2.43373855948 l8.74046872923e-05,6.42594814301 -0.726223513484,4.64175760746 l-0.730577632785,3.51473808289 -0.705011561513,1.8354447186 \" fill=\"none\" stroke=\"black\" stroke-width=\"1\"/></svg>"
      ],
      "text/plain": [
       "<IPython.core.display.SVG object>"
      ]
     },
     "metadata": {},
     "output_type": "display_data"
    },
    {
     "name": "stdout",
     "output_type": "stream",
     "text": [
      "---------\n"
     ]
    },
    {
     "data": {
      "image/svg+xml": [
       "<svg baseProfile=\"full\" height=\"61.3392012939\" version=\"1.1\" width=\"61.3392011076\" xmlns=\"http://www.w3.org/2000/svg\" xmlns:ev=\"http://www.w3.org/2001/xml-events\" xmlns:xlink=\"http://www.w3.org/1999/xlink\"><defs/><rect fill=\"white\" height=\"61.3392012939\" width=\"61.3392011076\" x=\"0\" y=\"0\"/><path d=\"M29.0497147292,26.8898667023 m-0.539961978793,1.07992395759 l0.0,1.61988586187 1.34990483522,1.61988586187 l0.539961978793,0.0 -0.539961978793,-0.539961978793 l1.34990483522,1.34990483522 1.34990483522,-0.269980989397 l0.0,-1.88986688852 2.15984791517,1.61988586187 l0.809942930937,0.0 0.269980989397,-1.61988586187 l0.0,-2.69980967045 -1.34990483522,0.0 l-0.809942930937,0.539961978793 -1.07992395759,-1.88986688852 l-0.539961978793,-0.269980989397 -1.34990483522,0.539961978793 l-0.539961978793,0.809942930937 -1.07992395759,0.269980989397 m-0.809942930937,1.07992395759 l-2.9697906971,-1.61988586187 -0.269980989397,0.539961978793 l0.539961978793,0.539961978793 1.88986688852,0.539961978793 m-1.34990483522,-3.23977172375 l0.0,2.15984791517 m1.34990483522,-1.61988586187 l-1.07992395759,1.34990483522 m3.5097527504,4.0497148037 l-1.88986688852,3.23977172375 m3.5097527504,-2.15984791517 l0.539961978793,0.269980989397 1.07992395759,4.0497148037 m1.34990483522,-5.3996193409 l0.539961978793,0.269980989397 1.34990483522,2.42982879281 l0.0,1.07992395759 \" fill=\"none\" stroke=\"black\" stroke-width=\"1\"/></svg>"
      ],
      "text/plain": [
       "<IPython.core.display.SVG object>"
      ]
     },
     "metadata": {},
     "output_type": "display_data"
    },
    {
     "data": {
      "image/svg+xml": [
       "<svg baseProfile=\"full\" height=\"57.3817869431\" version=\"1.1\" width=\"57.4460738217\" xmlns=\"http://www.w3.org/2000/svg\" xmlns:ev=\"http://www.w3.org/2001/xml-events\" xmlns:xlink=\"http://www.w3.org/1999/xlink\"><defs/><rect fill=\"white\" height=\"57.3817869431\" width=\"57.4460738217\" x=\"0\" y=\"0\"/><path d=\"M25.554577522,26.2406019377 m-0.55457752198,1.11508511007 l0.199649967253,1.57865926623 2.31902718544,1.46810486913 l-0.0691977934912,0.00239038068685 -0.000659262150293,0.373896434903 l1.08227558434,-1.08225151507e-05 2.23194777966,0.0573196308687 l0.712697803974,-0.872753486037 -0.000439128561993,-1.67240425944 l0.670954212546,-0.000436728914792 0.299817472696,-2.49728128314 l-0.595596842468,-0.792759135365 -1.29348665476,-0.000411914188589 l-1.05467163026,0.724580809474 -0.909980684519,-0.000121354405564 l0.000257463998423,-0.112861283123 -0.901226997375,9.75515922619e-05 l-1.11518897116,-9.29370457925e-06 0.00050902046496,0.601997971535 l-0.163838118315,9.91160732156e-06 m-0.513699389994,2.18626454473 l-0.0612598331645,3.3331425584e-05 m0.0227049132809,-0.448651611805 l-0.0377559033222,-0.000493011721119 m0.290372371674,-0.882124602795 l0.0684656295925,-0.000305636312987 m0.152188576758,2.17937752604 l-7.55360997573e-05,1.44614249468 m1.73206865788,-2.08400711417 l-0.000335448821716,2.18150779605 0.364450998604,-0.000264957780018 m2.52738595009,-2.15013071895 l-0.000589556293562,2.31748536229 -0.000622689112788,1.42325922847 l0.34290060401,-0.000505496573169 \" fill=\"none\" stroke=\"black\" stroke-width=\"1\"/></svg>"
      ],
      "text/plain": [
       "<IPython.core.display.SVG object>"
      ]
     },
     "metadata": {},
     "output_type": "display_data"
    },
    {
     "data": {
      "image/svg+xml": [
       "<svg baseProfile=\"full\" height=\"67.2119555064\" version=\"1.1\" width=\"60.8891960047\" xmlns=\"http://www.w3.org/2000/svg\" xmlns:ev=\"http://www.w3.org/2001/xml-events\" xmlns:xlink=\"http://www.w3.org/1999/xlink\"><defs/><rect fill=\"white\" height=\"67.2119555064\" width=\"60.8891960047\" x=\"0\" y=\"0\"/><path d=\"M29.9177012406,25 m-1.40505760908,2.57593870163 l-0.93670502305,3.27846765518 0.0,1.17088131607 l0.468352511525,0.585440658033 1.17088131607,0.468352511525 l1.8734100461,0.0 1.17088131607,-0.93670502305 l0.585440658033,-1.8734100461 0.0,-2.81011521816 l-2.10758626461,-0.819616913795 m-2.6930269599,5.50314188004 l-0.819616913795,4.91770148277 0.0,2.34176263213 l0.234176255763,0.585440658033 1.17088131607,0.702528804541 l2.34176263213,-0.117088127881 1.52214571834,-1.40505760908 l0.702528804541,-3.16137939692 -0.35126440227,-4.21517252922 l0.0,1.17088131607 1.05379313231,3.86390835047 l1.17088131607,0.234176255763 0.819616913795,-1.05379313231 l-0.35126440227,-0.585440658033 -3.7468200922,-2.6930269599 m-3.51264387369,0.35126440227 l-0.93670502305,2.34176263213 -1.63923382759,1.63923382759 l-0.585440658033,0.117088127881 -0.117088127881,-1.8734100461 l0.35126440227,-1.17088131607 1.28796935081,-1.8734100461 l1.17088131607,-0.702528804541 0.702528804541,0.0 m1.17088131607,-1.40505760908 l0.585440658033,0.0 0.468352511525,1.17088131607 l-0.585440658033,0.468352511525 -0.585440658033,-0.468352511525 l0.0,-0.819616913795 m0.0,-2.10758626461 l-0.468352511525,-0.585440658033 m1.99049815536,0.702528804541 l-0.117088127881,-0.234176255763 m-2.22467452288,12.1771657467 l-0.468352511525,1.17088131607 -0.585440658033,0.468352511525 l1.75632193685,0.117088127881 \" fill=\"none\" stroke=\"black\" stroke-width=\"1\"/></svg>"
      ],
      "text/plain": [
       "<IPython.core.display.SVG object>"
      ]
     },
     "metadata": {},
     "output_type": "display_data"
    },
    {
     "data": {
      "image/svg+xml": [
       "<svg baseProfile=\"full\" height=\"84.7707053274\" version=\"1.1\" width=\"65.1588155756\" xmlns=\"http://www.w3.org/2000/svg\" xmlns:ev=\"http://www.w3.org/2001/xml-events\" xmlns:xlink=\"http://www.w3.org/1999/xlink\"><defs/><rect fill=\"white\" height=\"84.7707053274\" width=\"65.1588155756\" x=\"0\" y=\"0\"/><path d=\"M30.0353788822,30.7251418461 m-1.44387766719,2.58850604296 l-0.578963086009,1.99303537607 0.000386172832805,2.74623304605 l0.878473222256,0.504714995623 1.79052129388,0.00161829113495 l0.696646943688,-0.702977702022 0.34339748323,-0.864797756076 l0.000136176759042,-2.59858369827 -0.657245144248,-1.6424447298 l-0.89158423245,-0.885433331132 -0.535832419991,-0.528787747025 m4.35689479113,0.147177856416 l-0.543786548078,0.831859409809 3.08520702674e-05,2.79312521219 l0.316495709121,0.847564861178 0.732608661056,0.481608621776 l0.739409774542,-0.0126458436716 0.500013642013,-0.827094614506 l0.000168713122548,-2.19660684466 -0.759402960539,-1.22848622501 l-0.88154412806,-0.467814095318 m-2.42536753416,6.66419625282 l0.000156242749654,1.14205621183 0.868094116449,0.678584575653 l0.519676916301,-0.779783129692 0.188096500933,-1.23119316995 m-3.60088139772,-9.94371294975 l-1.3020978868,-0.44516839087 -1.42975315452,-0.942184776068 l-1.04567833245,-0.686444714665 -0.576146692038,-0.319164134562 l-0.294424910098,0.300332922488 3.47049734728e-06,1.65624663234 l0.226093865931,2.49795004725 0.06435028743,1.99062585831 l0.0470297550783,2.1316434443 0.000129079726321,2.93301552534 l0.143333058804,2.01551318169 0.646410807967,1.83488294482 l1.13328047097,1.44952461123 0.694690942764,0.444750599563 l2.02013641596,-0.000319589235005 m1.28877192736,-15.9428775311 l1.94363340735,-0.387983359396 1.78790599108,-0.914032906294 l1.41441270709,-0.847690701485 0.936792716384,-0.00368042645277 l0.321930684149,0.910421609879 0.000174170472746,3.748087883 l-0.489131063223,3.39092165232 -0.617049261928,3.3044397831 l-0.737897083163,3.0076649785 -0.621280819178,2.27512568235 l-0.581317283213,1.6465125978 -0.525513775647,0.713836252689 m-6.42709195614,-0.634358823299 l-1.45812958479,2.92966783047 -0.538810379803,1.82493075728 l-0.240825396031,1.66319087148 9.32686180022e-05,5.12979090214 l0.668802186847,2.78586089611 0.555070526898,0.979746282101 l1.1299854517,1.09486617148 m9.59629297256,-17.8767168522 l1.43877193332,2.38922044635 0.72356492281,1.78051456809 l0.61407469213,2.82226234674 0.000126464792629,4.58706647158 l-0.933879241347,3.71064633131 \" fill=\"none\" stroke=\"black\" stroke-width=\"1\"/></svg>"
      ],
      "text/plain": [
       "<IPython.core.display.SVG object>"
      ]
     },
     "metadata": {},
     "output_type": "display_data"
    },
    {
     "name": "stdout",
     "output_type": "stream",
     "text": [
      "---------\n"
     ]
    }
   ],
   "source": [
    "# Sanity check encodings\n",
    "sheep = []\n",
    "real_sheep = []\n",
    "owl = []\n",
    "real_owl = []\n",
    "\n",
    "# Decode sheep\n",
    "load_checkpoint(sess, sheep_model_dir)\n",
    "for i, s in enumerate(sheep_by_size[:10]):\n",
    "    decoding = decode(sheep_eval_model, sheep_sample_model, s)\n",
    "    sheep.append(decoding)\n",
    "    real_sheep.append(sheep_train_set.strokes[sheep_by_size_ind[i]])\n",
    "    \n",
    "# Decode owls\n",
    "load_checkpoint(sess, owl_model_dir)\n",
    "for i, o in enumerate(owl_by_size[:10]):\n",
    "    decoding = decode(owl_eval_model, owl_sample_model, o)\n",
    "    owl.append(decoding)\n",
    "    real_owl.append(owl_train_set.strokes[owl_by_size_ind[i]])\n",
    "    \n",
    "for d, s, r, o in zip(real_sheep, sheep, real_owl, owl):\n",
    "    draw_strokes(d)\n",
    "    draw_strokes(s)\n",
    "    draw_strokes(r)\n",
    "    draw_strokes(o)\n",
    "    print(\"---------\")\n"
   ]
  },
  {
   "cell_type": "code",
   "execution_count": 25,
   "metadata": {},
   "outputs": [],
   "source": [
    "# Compute average variance across data\n",
    "sheep_variences = np.var(np.array(sheep_by_size), axis=0)\n",
    "owl_variences = np.var(np.array(owl_by_size), axis=0)\n",
    "variances = np.mean([sheep_variences, owl_variences], axis=0)\n"
   ]
  },
  {
   "cell_type": "code",
   "execution_count": 27,
   "metadata": {},
   "outputs": [
    {
     "name": "stdout",
     "output_type": "stream",
     "text": [
      "Epoch: 0, Cost: 3.1570823192596436 \n",
      "Epoch: 1000, Cost: 2.4624000724554063 \n",
      "Epoch: 2000, Cost: 1.9445832495689392 \n",
      "Epoch: 3000, Cost: 1.7798336666822434 \n",
      "Epoch: 4000, Cost: 1.7191688611507416 \n",
      "Epoch: 5000, Cost: 1.698323509812355 \n",
      "Epoch: 6000, Cost: 1.6938283579349518 \n",
      "Epoch: 7000, Cost: 1.6872623255252839 \n",
      "Epoch: 8000, Cost: 1.6913840568065643 \n",
      "Epoch: 9000, Cost: 1.6729024924039841 \n",
      "Epoch: 10000, Cost: 1.6879310840368271 \n",
      "Epoch: 11000, Cost: 1.6778217817544938 \n",
      "Epoch: 12000, Cost: 1.6973604875802994 \n",
      "Epoch: 13000, Cost: 1.697398478269577 \n",
      "Epoch: 14000, Cost: 1.6910751707553864 \n"
     ]
    }
   ],
   "source": [
    "# Train a linear model on the sketch labels\n",
    "STARTER_LEARNING_RATE = 0.04\n",
    "EPOCH_COUNT = 15000\n",
    "\n",
    "linear_graph = tf.Graph()\n",
    "with linear_graph.as_default():\n",
    "    global_step = tf.Variable(0, trainable=False)\n",
    "    learning_rate = tf.train.exponential_decay(STARTER_LEARNING_RATE, global_step, 10000, 0.96, staircase=True)\n",
    "\n",
    "    # Constants: MSE weights\n",
    "    VAR_x_to_y = tf.constant(variances)\n",
    "\n",
    "    # TF graph input\n",
    "    X = tf.placeholder(\"float64\")\n",
    "    Y = tf.placeholder(\"float64\")\n",
    "\n",
    "    # TF weights\n",
    "    #W = tf.Variable(np.random.rand(128, 128), name = \"linear_model_weight\")\n",
    "    W_x_to_y = tf.Variable(np.random.rand(128), name = \"linear_model_weight_x_to_y\")\n",
    "    b_x_to_y = tf.Variable(np.random.rand(128), name = \"linear_model_bias_x_to_y\")\n",
    "    W_y_to_x = tf.Variable(np.random.rand(128), name = \"linear_model_weight_y_to_x\")\n",
    "    b_y_to_x = tf.Variable(np.random.rand(128), name = \"linear_model_weight_y_to_x\")\n",
    "\n",
    "    # Linear prediction\n",
    "    #prediction = tf.squeeze(tf.add(tf.matmul(tf.expand_dims(X, 0), W), b))\n",
    "    prediction_x_to_y = tf.add(tf.multiply(X, W_x_to_y), b_x_to_y)\n",
    "    prediction_y_to_x = tf.add(tf.multiply(Y, W_y_to_x), b_y_to_x)\n",
    "    \n",
    "    \n",
    "    #cost = tf.reduce_sum(tf.pow(prediction - Y, 2)/(2*len(labels)))\n",
    "    cost = tf.losses.mean_squared_error(Y, prediction_x_to_y, weights=VAR_x_to_y) + tf.losses.mean_squared_error(X, prediction_y_to_x, weights=VAR_x_to_y)\n",
    "    optimizer = tf.train.GradientDescentOptimizer(learning_rate).minimize(cost, global_step=global_step)\n",
    "\n",
    "    init = tf.variables_initializer([W_x_to_y, W_y_to_x, b_x_to_y, b_y_to_x, global_step])\n",
    "\n",
    "linear_model_sess = tf.Session(graph=linear_graph)\n",
    "linear_model_sess.run(init)\n",
    "costs = []\n",
    "for epoch in range(EPOCH_COUNT):\n",
    "    indexes = range(1000)\n",
    "    random.shuffle(indexes)\n",
    "    for i in indexes:\n",
    "        sheep = sheep_by_size[i]\n",
    "        owl = owl_by_size[i]\n",
    "    \n",
    "    _, cost_ = linear_model_sess.run([optimizer, cost], feed_dict={X: sheep, Y: owl})\n",
    "    costs.append(cost_)\n",
    "    \n",
    "    if (epoch % 1000) == 0:\n",
    "        cost_computed = sum(costs)/len(costs)\n",
    "        costs = []\n",
    "        print(\"Epoch: %s, Cost: %s \" % (epoch, cost_computed))\n",
    "\n"
   ]
  },
  {
   "cell_type": "code",
   "execution_count": 28,
   "metadata": {},
   "outputs": [
    {
     "name": "stdout",
     "output_type": "stream",
     "text": [
      "INFO:tensorflow:Loading model /home/calpeyser/sketch/models/owl/lstm/vector.\n",
      "INFO:tensorflow:Restoring parameters from /home/calpeyser/sketch/models/owl/lstm/vector\n",
      "INFO:tensorflow:Loading model /home/calpeyser/sketch/models/aaron_sheep/lstm/vector.\n",
      "INFO:tensorflow:Restoring parameters from /home/calpeyser/sketch/models/aaron_sheep/lstm/vector\n"
     ]
    }
   ],
   "source": [
    "# Lets do some predictions\n",
    "def svg_len(paths):\n",
    "    out = 0\n",
    "    for line in paths:\n",
    "        out += line.length()\n",
    "    return out\n",
    "\n",
    "def predict_for_indexes(indexes):\n",
    "    load_checkpoint(sess, owl_model_dir)\n",
    "    owls = [owl_train_set.strokes[i] for i in indexes]\n",
    "    encodings = [encode(owl_eval_model, owl, max_len=148) for owl in owls]\n",
    "    predictions = [linear_model_sess.run(prediction_y_to_x, feed_dict = {Y: encoding}) for encoding in encodings]\n",
    "    load_checkpoint(sess, sheep_model_dir)\n",
    "    decodings = [decode(sheep_eval_model, sheep_sample_model, prediction) for prediction in predictions]\n",
    "    \n",
    "    res = []\n",
    "    for owl, sheep in zip(owls, decodings):   \n",
    "        draw_strokes(owl, svg_filename='/home/calpeyser/sketch/sketches/in.svg')\n",
    "        draw_strokes(sheep, svg_filename = '/home/calpeyser/sketch/sketches/out.svg')      \n",
    "        in_paths, _ = svg2paths('/home/calpeyser/sketch/sketches/in.svg')\n",
    "        out_paths, _ = svg2paths('/home/calpeyser/sketch/sketches/out.svg')\n",
    "        in_length = svg_len(in_paths)\n",
    "        out_length = svg_len(out_paths)\n",
    "        res.append((in_length, out_length))\n",
    "    return res\n",
    "    \n",
    "lens_for_owl_transforms = predict_for_indexes(range(1000))\n"
   ]
  },
  {
   "cell_type": "code",
   "execution_count": 29,
   "metadata": {},
   "outputs": [],
   "source": [
    "PKL_path = '/home/calpeyser/sketch/labels/lens_for_owl_transforms'\n",
    "f = open(PKL_path, 'wb')\n",
    "pickle.dump(lens_for_owl_transforms, f)"
   ]
  },
  {
   "cell_type": "code",
   "execution_count": 40,
   "metadata": {},
   "outputs": [
    {
     "name": "stdout",
     "output_type": "stream",
     "text": [
      "0.024539923695106703\n",
      "151.16593752309535\n",
      "0.006381755772784301\n"
     ]
    }
   ],
   "source": [
    "X = [a[0] for a in lens_for_owl_transforms]\n",
    "Y = [a[1] for a in lens_for_owl_transforms]\n",
    "\n",
    "slope, intercept, r_value, p_value, std_err = stats.linregress(X,Y)\n",
    "print(slope)\n",
    "print(intercept)\n",
    "print(r_value ** 2)"
   ]
  },
  {
   "cell_type": "code",
   "execution_count": null,
   "metadata": {},
   "outputs": [],
   "source": []
  }
 ],
 "metadata": {
  "kernelspec": {
   "display_name": "Python 2",
   "language": "python",
   "name": "python2"
  },
  "language_info": {
   "codemirror_mode": {
    "name": "ipython",
    "version": 2
   },
   "file_extension": ".py",
   "mimetype": "text/x-python",
   "name": "python",
   "nbconvert_exporter": "python",
   "pygments_lexer": "ipython2",
   "version": "2.7.14"
  }
 },
 "nbformat": 4,
 "nbformat_minor": 2
}
